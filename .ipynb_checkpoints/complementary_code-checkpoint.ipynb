{
 "cells": [
  {
   "cell_type": "code",
   "execution_count": null,
   "metadata": {
    "_cell_guid": "b1076dfc-b9ad-4769-8c92-a6c4dae69d19",
    "_uuid": "8f2839f25d086af736a60e9eeb907d3b93b6e0e5",
    "execution": {
     "iopub.execute_input": "2022-11-25T21:38:21.817213Z",
     "iopub.status.busy": "2022-11-25T21:38:21.816379Z",
     "iopub.status.idle": "2022-11-25T21:38:21.831076Z",
     "shell.execute_reply": "2022-11-25T21:38:21.829711Z"
    },
    "id": "1836bdda",
    "papermill": {
     "duration": 0.069606,
     "end_time": "2022-11-25T21:38:21.835055",
     "exception": false,
     "start_time": "2022-11-25T21:38:21.765449",
     "status": "completed"
    },
    "tags": []
   },
   "outputs": [],
   "source": [
    "# This Python 3 environment comes with many helpful analytics libraries installed\n",
    "# It is defined by the kaggle/python Docker image: https://github.com/kaggle/docker-python\n",
    "# For example, here's several helpful packages to load\n",
    "\n",
    "import numpy as np # linear algebra\n",
    "import pandas as pd # data processing, CSV file I/O (e.g. pd.read_csv)\n",
    "\n",
    "# Input data files are available in the read-only \"../input/\" directory\n",
    "# For example, running this (by clicking run or pressing Shift+Enter) will list all files under the input directory\n",
    "\n",
    "import os\n",
    "for dirname, _, filenames in os.walk('/kaggle/input'):\n",
    "    for filename in filenames:\n",
    "        print(os.path.join(dirname, filename))\n",
    "\n",
    "# You can write up to 20GB to the current directory (/kaggle/working/) that gets preserved as output when you create a version using \"Save & Run All\" \n",
    "# You can also write temporary files to /kaggle/temp/, but they won't be saved outside of the current session\n"
   ]
  },
  {
   "cell_type": "code",
   "execution_count": null,
   "metadata": {
    "id": "SH6KA7wsgHzm"
   },
   "outputs": [],
   "source": [
    "repository_path = '/kaggle/input/inf8245e-fall-2022/'\n",
    "train_file_name = 'train.csv'\n",
    "test_file_name = 'test.csv'\n",
    "sample_submission_file_name = 'sample_submission.csv'\n",
    "\n",
    "train_path = repository_path + train_file_name\n",
    "test_path = repository_path + test_file_name\n",
    "sample_submission_path = repository_path + sample_submission_file_name"
   ]
  },
  {
   "cell_type": "code",
   "execution_count": null,
   "metadata": {
    "colab": {
     "base_uri": "https://localhost:8080/"
    },
    "id": "G25ZAdKKXVTn",
    "outputId": "5cab9619-6c05-44ee-bd04-8285870eda2f",
    "papermill": {
     "duration": null,
     "end_time": null,
     "exception": null,
     "start_time": null,
     "status": "pending"
    },
    "tags": []
   },
   "outputs": [
    {
     "name": "stdout",
     "output_type": "stream",
     "text": [
      "Looking in indexes: https://pypi.org/simple, https://us-python.pkg.dev/colab-wheels/public/simple/\n",
      "Collecting catboost\n",
      "  Downloading catboost-1.1.1-cp38-none-manylinux1_x86_64.whl (76.6 MB)\n",
      "\u001b[K     |████████████████████████████████| 76.6 MB 21 kB/s \n",
      "\u001b[?25hRequirement already satisfied: numpy>=1.16.0 in /usr/local/lib/python3.8/dist-packages (from catboost) (1.21.6)\n",
      "Requirement already satisfied: plotly in /usr/local/lib/python3.8/dist-packages (from catboost) (5.5.0)\n",
      "Requirement already satisfied: matplotlib in /usr/local/lib/python3.8/dist-packages (from catboost) (3.2.2)\n",
      "Requirement already satisfied: pandas>=0.24.0 in /usr/local/lib/python3.8/dist-packages (from catboost) (1.3.5)\n",
      "Requirement already satisfied: graphviz in /usr/local/lib/python3.8/dist-packages (from catboost) (0.10.1)\n",
      "Requirement already satisfied: six in /usr/local/lib/python3.8/dist-packages (from catboost) (1.15.0)\n",
      "Requirement already satisfied: scipy in /usr/local/lib/python3.8/dist-packages (from catboost) (1.7.3)\n",
      "Requirement already satisfied: python-dateutil>=2.7.3 in /usr/local/lib/python3.8/dist-packages (from pandas>=0.24.0->catboost) (2.8.2)\n",
      "Requirement already satisfied: pytz>=2017.3 in /usr/local/lib/python3.8/dist-packages (from pandas>=0.24.0->catboost) (2022.6)\n",
      "Requirement already satisfied: cycler>=0.10 in /usr/local/lib/python3.8/dist-packages (from matplotlib->catboost) (0.11.0)\n",
      "Requirement already satisfied: pyparsing!=2.0.4,!=2.1.2,!=2.1.6,>=2.0.1 in /usr/local/lib/python3.8/dist-packages (from matplotlib->catboost) (3.0.9)\n",
      "Requirement already satisfied: kiwisolver>=1.0.1 in /usr/local/lib/python3.8/dist-packages (from matplotlib->catboost) (1.4.4)\n",
      "Requirement already satisfied: tenacity>=6.2.0 in /usr/local/lib/python3.8/dist-packages (from plotly->catboost) (8.1.0)\n",
      "Installing collected packages: catboost\n",
      "Successfully installed catboost-1.1.1\n"
     ]
    }
   ],
   "source": [
    "!pip install catboost"
   ]
  },
  {
   "cell_type": "markdown",
   "metadata": {
    "id": "c3df49db",
    "papermill": {
     "duration": 0.045097,
     "end_time": "2022-11-25T21:38:21.926276",
     "exception": false,
     "start_time": "2022-11-25T21:38:21.881179",
     "status": "completed"
    },
    "tags": []
   },
   "source": [
    "# 1- Load and prepare dataset"
   ]
  },
  {
   "cell_type": "markdown",
   "metadata": {
    "id": "ed175c14",
    "papermill": {
     "duration": 0.047062,
     "end_time": "2022-11-25T21:38:22.319972",
     "exception": false,
     "start_time": "2022-11-25T21:38:22.272910",
     "status": "completed"
    },
    "tags": []
   },
   "source": [
    "when using Kaggle:"
   ]
  },
  {
   "cell_type": "code",
   "execution_count": null,
   "metadata": {
    "id": "N_Cv60XAgsYB"
   },
   "outputs": [],
   "source": [
    "raw_data = pd.read_csv(train_path)\n",
    "data = raw_data.copy()\n",
    "\n",
    "raw_test_data = pd.read_csv(test_path)\n",
    "test_data = raw_test_data.copy()\n",
    "\n",
    "sample_submission = pd.read_csv(sample_submission_path)"
   ]
  },
  {
   "cell_type": "markdown",
   "metadata": {
    "id": "f6808d41",
    "papermill": {
     "duration": 0.044712,
     "end_time": "2022-11-25T21:38:24.188561",
     "exception": false,
     "start_time": "2022-11-25T21:38:24.143849",
     "status": "completed"
    },
    "tags": []
   },
   "source": [
    "## 1.1- Data exploration"
   ]
  },
  {
   "cell_type": "code",
   "execution_count": null,
   "metadata": {
    "colab": {
     "base_uri": "https://localhost:8080/"
    },
    "execution": {
     "iopub.execute_input": "2022-11-25T21:38:24.282243Z",
     "iopub.status.busy": "2022-11-25T21:38:24.281818Z",
     "iopub.status.idle": "2022-11-25T21:38:24.341016Z",
     "shell.execute_reply": "2022-11-25T21:38:24.339614Z"
    },
    "id": "6b88004b",
    "outputId": "3f296142-efaa-4e36-d61d-57c6837ba8dd",
    "papermill": {
     "duration": 0.110477,
     "end_time": "2022-11-25T21:38:24.344375",
     "exception": false,
     "start_time": "2022-11-25T21:38:24.233898",
     "status": "completed"
    },
    "tags": []
   },
   "outputs": [
    {
     "data": {
      "text/html": [
       "\n",
       "  <div id=\"df-ce9a91fd-cb0d-478b-b521-dcd36fa2b025\">\n",
       "    <div class=\"colab-df-container\">\n",
       "      <div>\n",
       "<style scoped>\n",
       "    .dataframe tbody tr th:only-of-type {\n",
       "        vertical-align: middle;\n",
       "    }\n",
       "\n",
       "    .dataframe tbody tr th {\n",
       "        vertical-align: top;\n",
       "    }\n",
       "\n",
       "    .dataframe thead th {\n",
       "        text-align: right;\n",
       "    }\n",
       "</style>\n",
       "<table border=\"1\" class=\"dataframe\">\n",
       "  <thead>\n",
       "    <tr style=\"text-align: right;\">\n",
       "      <th></th>\n",
       "      <th>Id</th>\n",
       "      <th>Band Name</th>\n",
       "      <th>Band Genre</th>\n",
       "      <th>Band Country of Origin</th>\n",
       "      <th>Band Debut</th>\n",
       "      <th>Concert ID</th>\n",
       "      <th>Concert Attendance</th>\n",
       "      <th>Inside Venue</th>\n",
       "      <th>Rain</th>\n",
       "      <th>Seated</th>\n",
       "      <th>Personnality Trait 1</th>\n",
       "      <th>Personnality Trait 2</th>\n",
       "      <th>Personnality Trait 3</th>\n",
       "      <th>Personnality Trait 4</th>\n",
       "      <th>Concert Goer Age</th>\n",
       "      <th>Concert Goer ID</th>\n",
       "      <th>Height (cm)</th>\n",
       "      <th>Concert Goer Country of Origin</th>\n",
       "      <th>Concert Enjoyment</th>\n",
       "    </tr>\n",
       "  </thead>\n",
       "  <tbody>\n",
       "    <tr>\n",
       "      <th>0</th>\n",
       "      <td>ConcertExperience_180106</td>\n",
       "      <td>Teenage Crazy Blue Knickers</td>\n",
       "      <td>Indie/Alt Rock</td>\n",
       "      <td>United States of America (USA)</td>\n",
       "      <td>1976.0</td>\n",
       "      <td>900.0</td>\n",
       "      <td>2980.0</td>\n",
       "      <td>False</td>\n",
       "      <td>False</td>\n",
       "      <td>NaN</td>\n",
       "      <td>0.330843</td>\n",
       "      <td>-0.958408</td>\n",
       "      <td>-0.943548</td>\n",
       "      <td>-1.636806</td>\n",
       "      <td>29.0</td>\n",
       "      <td>concert_goer_1985</td>\n",
       "      <td>140.0</td>\n",
       "      <td>Paraguay</td>\n",
       "      <td>Did Not Enjoy</td>\n",
       "    </tr>\n",
       "    <tr>\n",
       "      <th>1</th>\n",
       "      <td>ConcertExperience_146268</td>\n",
       "      <td>Beyond Devon</td>\n",
       "      <td>Pop Music</td>\n",
       "      <td>United States of America (USA)</td>\n",
       "      <td>1968.0</td>\n",
       "      <td>731.0</td>\n",
       "      <td>54.0</td>\n",
       "      <td>True</td>\n",
       "      <td>False</td>\n",
       "      <td>True</td>\n",
       "      <td>-2.069449</td>\n",
       "      <td>0.017777</td>\n",
       "      <td>-1.910675</td>\n",
       "      <td>0.610265</td>\n",
       "      <td>43.0</td>\n",
       "      <td>concert_goer_1874</td>\n",
       "      <td>158.0</td>\n",
       "      <td>United Kingdom (UK)</td>\n",
       "      <td>Enjoyed</td>\n",
       "    </tr>\n",
       "    <tr>\n",
       "      <th>2</th>\n",
       "      <td>ConcertExperience_128743</td>\n",
       "      <td>Ron Talent</td>\n",
       "      <td>Rock n Roll</td>\n",
       "      <td>Canada</td>\n",
       "      <td>1955.0</td>\n",
       "      <td>NaN</td>\n",
       "      <td>162754.0</td>\n",
       "      <td>False</td>\n",
       "      <td>False</td>\n",
       "      <td>True</td>\n",
       "      <td>-0.484268</td>\n",
       "      <td>1.968772</td>\n",
       "      <td>-0.064167</td>\n",
       "      <td>-1.260871</td>\n",
       "      <td>68.0</td>\n",
       "      <td>concert_goer_442</td>\n",
       "      <td>159.0</td>\n",
       "      <td>United States of America (USA)</td>\n",
       "      <td>Did Not Enjoy</td>\n",
       "    </tr>\n",
       "    <tr>\n",
       "      <th>3</th>\n",
       "      <td>ConcertExperience_140839</td>\n",
       "      <td>Devon Revival</td>\n",
       "      <td>RnB</td>\n",
       "      <td>United States of America (USA)</td>\n",
       "      <td>1992.0</td>\n",
       "      <td>704.0</td>\n",
       "      <td>8103.0</td>\n",
       "      <td>False</td>\n",
       "      <td>True</td>\n",
       "      <td>False</td>\n",
       "      <td>-0.858054</td>\n",
       "      <td>1.022827</td>\n",
       "      <td>-0.348389</td>\n",
       "      <td>-1.147251</td>\n",
       "      <td>17.0</td>\n",
       "      <td>concert_goer_1149</td>\n",
       "      <td>150.0</td>\n",
       "      <td>Canada</td>\n",
       "      <td>Worst Concert Ever</td>\n",
       "    </tr>\n",
       "    <tr>\n",
       "      <th>4</th>\n",
       "      <td>ConcertExperience_19149</td>\n",
       "      <td>Beyond Devon</td>\n",
       "      <td>Pop Music</td>\n",
       "      <td>United States of America (USA)</td>\n",
       "      <td>1968.0</td>\n",
       "      <td>95.0</td>\n",
       "      <td>54.0</td>\n",
       "      <td>False</td>\n",
       "      <td>False</td>\n",
       "      <td>False</td>\n",
       "      <td>-0.793029</td>\n",
       "      <td>-1.166528</td>\n",
       "      <td>-0.043766</td>\n",
       "      <td>0.969661</td>\n",
       "      <td>59.0</td>\n",
       "      <td>concert_goer_930</td>\n",
       "      <td>166.0</td>\n",
       "      <td>United Kingdom (UK)</td>\n",
       "      <td>Did Not Enjoy</td>\n",
       "    </tr>\n",
       "    <tr>\n",
       "      <th>...</th>\n",
       "      <td>...</td>\n",
       "      <td>...</td>\n",
       "      <td>...</td>\n",
       "      <td>...</td>\n",
       "      <td>...</td>\n",
       "      <td>...</td>\n",
       "      <td>...</td>\n",
       "      <td>...</td>\n",
       "      <td>...</td>\n",
       "      <td>...</td>\n",
       "      <td>...</td>\n",
       "      <td>...</td>\n",
       "      <td>...</td>\n",
       "      <td>...</td>\n",
       "      <td>...</td>\n",
       "      <td>...</td>\n",
       "      <td>...</td>\n",
       "      <td>...</td>\n",
       "      <td>...</td>\n",
       "    </tr>\n",
       "    <tr>\n",
       "      <th>169995</th>\n",
       "      <td>ConcertExperience_14055</td>\n",
       "      <td>Crazy Joystick Cult</td>\n",
       "      <td>RnB</td>\n",
       "      <td>Canada</td>\n",
       "      <td>1985.0</td>\n",
       "      <td>70.0</td>\n",
       "      <td>162754.0</td>\n",
       "      <td>True</td>\n",
       "      <td>False</td>\n",
       "      <td>False</td>\n",
       "      <td>-0.095021</td>\n",
       "      <td>0.175175</td>\n",
       "      <td>0.914245</td>\n",
       "      <td>0.357359</td>\n",
       "      <td>50.0</td>\n",
       "      <td>concert_goer_707</td>\n",
       "      <td>180.0</td>\n",
       "      <td>United States of America (USA)</td>\n",
       "      <td>Did Not Enjoy</td>\n",
       "    </tr>\n",
       "    <tr>\n",
       "      <th>169996</th>\n",
       "      <td>ConcertExperience_192792</td>\n",
       "      <td>Crazy Joystick Cult</td>\n",
       "      <td>RnB</td>\n",
       "      <td>Canada</td>\n",
       "      <td>1985.0</td>\n",
       "      <td>963.0</td>\n",
       "      <td>54.0</td>\n",
       "      <td>False</td>\n",
       "      <td>False</td>\n",
       "      <td>False</td>\n",
       "      <td>-0.733719</td>\n",
       "      <td>-0.285776</td>\n",
       "      <td>-0.323312</td>\n",
       "      <td>0.641180</td>\n",
       "      <td>71.0</td>\n",
       "      <td>concert_goer_1373</td>\n",
       "      <td>143.0</td>\n",
       "      <td>Bulgaria</td>\n",
       "      <td>Worst Concert Ever</td>\n",
       "    </tr>\n",
       "    <tr>\n",
       "      <th>169997</th>\n",
       "      <td>ConcertExperience_152942</td>\n",
       "      <td>Why Frogs, Why?</td>\n",
       "      <td>Heavy Metal</td>\n",
       "      <td>Canada</td>\n",
       "      <td>2005.0</td>\n",
       "      <td>764.0</td>\n",
       "      <td>54.0</td>\n",
       "      <td>False</td>\n",
       "      <td>False</td>\n",
       "      <td>False</td>\n",
       "      <td>0.744969</td>\n",
       "      <td>-0.965547</td>\n",
       "      <td>1.020598</td>\n",
       "      <td>1.027389</td>\n",
       "      <td>27.0</td>\n",
       "      <td>concert_goer_1286</td>\n",
       "      <td>176.0</td>\n",
       "      <td>Canada</td>\n",
       "      <td>Did Not Enjoy</td>\n",
       "    </tr>\n",
       "    <tr>\n",
       "      <th>169998</th>\n",
       "      <td>ConcertExperience_138957</td>\n",
       "      <td>Twilight of the Joystick Gods</td>\n",
       "      <td>Hip Hop/Rap</td>\n",
       "      <td>United States of America (USA)</td>\n",
       "      <td>1995.0</td>\n",
       "      <td>694.0</td>\n",
       "      <td>22026.0</td>\n",
       "      <td>False</td>\n",
       "      <td>True</td>\n",
       "      <td>True</td>\n",
       "      <td>0.821976</td>\n",
       "      <td>0.351411</td>\n",
       "      <td>0.175762</td>\n",
       "      <td>1.455654</td>\n",
       "      <td>39.0</td>\n",
       "      <td>concert_goer_1845</td>\n",
       "      <td>176.0</td>\n",
       "      <td>Canada</td>\n",
       "      <td>Did Not Enjoy</td>\n",
       "    </tr>\n",
       "    <tr>\n",
       "      <th>169999</th>\n",
       "      <td>ConcertExperience_132336</td>\n",
       "      <td>Joystick Attack</td>\n",
       "      <td>Heavy Metal</td>\n",
       "      <td>United Kingdom (UK)</td>\n",
       "      <td>2008.0</td>\n",
       "      <td>661.0</td>\n",
       "      <td>2980.0</td>\n",
       "      <td>True</td>\n",
       "      <td>False</td>\n",
       "      <td>False</td>\n",
       "      <td>-1.017410</td>\n",
       "      <td>0.883248</td>\n",
       "      <td>-0.184107</td>\n",
       "      <td>0.631731</td>\n",
       "      <td>46.0</td>\n",
       "      <td>concert_goer_1281</td>\n",
       "      <td>146.0</td>\n",
       "      <td>Canada</td>\n",
       "      <td>Best Concert Ever</td>\n",
       "    </tr>\n",
       "  </tbody>\n",
       "</table>\n",
       "<p>170000 rows × 19 columns</p>\n",
       "</div>\n",
       "      <button class=\"colab-df-convert\" onclick=\"convertToInteractive('df-ce9a91fd-cb0d-478b-b521-dcd36fa2b025')\"\n",
       "              title=\"Convert this dataframe to an interactive table.\"\n",
       "              style=\"display:none;\">\n",
       "        \n",
       "  <svg xmlns=\"http://www.w3.org/2000/svg\" height=\"24px\"viewBox=\"0 0 24 24\"\n",
       "       width=\"24px\">\n",
       "    <path d=\"M0 0h24v24H0V0z\" fill=\"none\"/>\n",
       "    <path d=\"M18.56 5.44l.94 2.06.94-2.06 2.06-.94-2.06-.94-.94-2.06-.94 2.06-2.06.94zm-11 1L8.5 8.5l.94-2.06 2.06-.94-2.06-.94L8.5 2.5l-.94 2.06-2.06.94zm10 10l.94 2.06.94-2.06 2.06-.94-2.06-.94-.94-2.06-.94 2.06-2.06.94z\"/><path d=\"M17.41 7.96l-1.37-1.37c-.4-.4-.92-.59-1.43-.59-.52 0-1.04.2-1.43.59L10.3 9.45l-7.72 7.72c-.78.78-.78 2.05 0 2.83L4 21.41c.39.39.9.59 1.41.59.51 0 1.02-.2 1.41-.59l7.78-7.78 2.81-2.81c.8-.78.8-2.07 0-2.86zM5.41 20L4 18.59l7.72-7.72 1.47 1.35L5.41 20z\"/>\n",
       "  </svg>\n",
       "      </button>\n",
       "      \n",
       "  <style>\n",
       "    .colab-df-container {\n",
       "      display:flex;\n",
       "      flex-wrap:wrap;\n",
       "      gap: 12px;\n",
       "    }\n",
       "\n",
       "    .colab-df-convert {\n",
       "      background-color: #E8F0FE;\n",
       "      border: none;\n",
       "      border-radius: 50%;\n",
       "      cursor: pointer;\n",
       "      display: none;\n",
       "      fill: #1967D2;\n",
       "      height: 32px;\n",
       "      padding: 0 0 0 0;\n",
       "      width: 32px;\n",
       "    }\n",
       "\n",
       "    .colab-df-convert:hover {\n",
       "      background-color: #E2EBFA;\n",
       "      box-shadow: 0px 1px 2px rgba(60, 64, 67, 0.3), 0px 1px 3px 1px rgba(60, 64, 67, 0.15);\n",
       "      fill: #174EA6;\n",
       "    }\n",
       "\n",
       "    [theme=dark] .colab-df-convert {\n",
       "      background-color: #3B4455;\n",
       "      fill: #D2E3FC;\n",
       "    }\n",
       "\n",
       "    [theme=dark] .colab-df-convert:hover {\n",
       "      background-color: #434B5C;\n",
       "      box-shadow: 0px 1px 3px 1px rgba(0, 0, 0, 0.15);\n",
       "      filter: drop-shadow(0px 1px 2px rgba(0, 0, 0, 0.3));\n",
       "      fill: #FFFFFF;\n",
       "    }\n",
       "  </style>\n",
       "\n",
       "      <script>\n",
       "        const buttonEl =\n",
       "          document.querySelector('#df-ce9a91fd-cb0d-478b-b521-dcd36fa2b025 button.colab-df-convert');\n",
       "        buttonEl.style.display =\n",
       "          google.colab.kernel.accessAllowed ? 'block' : 'none';\n",
       "\n",
       "        async function convertToInteractive(key) {\n",
       "          const element = document.querySelector('#df-ce9a91fd-cb0d-478b-b521-dcd36fa2b025');\n",
       "          const dataTable =\n",
       "            await google.colab.kernel.invokeFunction('convertToInteractive',\n",
       "                                                     [key], {});\n",
       "          if (!dataTable) return;\n",
       "\n",
       "          const docLinkHtml = 'Like what you see? Visit the ' +\n",
       "            '<a target=\"_blank\" href=https://colab.research.google.com/notebooks/data_table.ipynb>data table notebook</a>'\n",
       "            + ' to learn more about interactive tables.';\n",
       "          element.innerHTML = '';\n",
       "          dataTable['output_type'] = 'display_data';\n",
       "          await google.colab.output.renderOutput(dataTable, element);\n",
       "          const docLink = document.createElement('div');\n",
       "          docLink.innerHTML = docLinkHtml;\n",
       "          element.appendChild(docLink);\n",
       "        }\n",
       "      </script>\n",
       "    </div>\n",
       "  </div>\n",
       "  "
      ],
      "text/plain": [
       "                              Id                      Band Name  \\\n",
       "0       ConcertExperience_180106    Teenage Crazy Blue Knickers   \n",
       "1       ConcertExperience_146268                   Beyond Devon   \n",
       "2       ConcertExperience_128743                     Ron Talent   \n",
       "3       ConcertExperience_140839                  Devon Revival   \n",
       "4        ConcertExperience_19149                   Beyond Devon   \n",
       "...                          ...                            ...   \n",
       "169995   ConcertExperience_14055            Crazy Joystick Cult   \n",
       "169996  ConcertExperience_192792            Crazy Joystick Cult   \n",
       "169997  ConcertExperience_152942                Why Frogs, Why?   \n",
       "169998  ConcertExperience_138957  Twilight of the Joystick Gods   \n",
       "169999  ConcertExperience_132336                Joystick Attack   \n",
       "\n",
       "            Band Genre          Band Country of Origin  Band Debut  \\\n",
       "0       Indie/Alt Rock  United States of America (USA)      1976.0   \n",
       "1            Pop Music  United States of America (USA)      1968.0   \n",
       "2          Rock n Roll                          Canada      1955.0   \n",
       "3                  RnB  United States of America (USA)      1992.0   \n",
       "4            Pop Music  United States of America (USA)      1968.0   \n",
       "...                ...                             ...         ...   \n",
       "169995             RnB                          Canada      1985.0   \n",
       "169996             RnB                          Canada      1985.0   \n",
       "169997     Heavy Metal                          Canada      2005.0   \n",
       "169998     Hip Hop/Rap  United States of America (USA)      1995.0   \n",
       "169999     Heavy Metal             United Kingdom (UK)      2008.0   \n",
       "\n",
       "        Concert ID  Concert Attendance Inside Venue   Rain Seated  \\\n",
       "0            900.0              2980.0        False  False    NaN   \n",
       "1            731.0                54.0         True  False   True   \n",
       "2              NaN            162754.0        False  False   True   \n",
       "3            704.0              8103.0        False   True  False   \n",
       "4             95.0                54.0        False  False  False   \n",
       "...            ...                 ...          ...    ...    ...   \n",
       "169995        70.0            162754.0         True  False  False   \n",
       "169996       963.0                54.0        False  False  False   \n",
       "169997       764.0                54.0        False  False  False   \n",
       "169998       694.0             22026.0        False   True   True   \n",
       "169999       661.0              2980.0         True  False  False   \n",
       "\n",
       "        Personnality Trait 1  Personnality Trait 2  Personnality Trait 3  \\\n",
       "0                   0.330843             -0.958408             -0.943548   \n",
       "1                  -2.069449              0.017777             -1.910675   \n",
       "2                  -0.484268              1.968772             -0.064167   \n",
       "3                  -0.858054              1.022827             -0.348389   \n",
       "4                  -0.793029             -1.166528             -0.043766   \n",
       "...                      ...                   ...                   ...   \n",
       "169995             -0.095021              0.175175              0.914245   \n",
       "169996             -0.733719             -0.285776             -0.323312   \n",
       "169997              0.744969             -0.965547              1.020598   \n",
       "169998              0.821976              0.351411              0.175762   \n",
       "169999             -1.017410              0.883248             -0.184107   \n",
       "\n",
       "        Personnality Trait 4  Concert Goer Age    Concert Goer ID  \\\n",
       "0                  -1.636806              29.0  concert_goer_1985   \n",
       "1                   0.610265              43.0  concert_goer_1874   \n",
       "2                  -1.260871              68.0   concert_goer_442   \n",
       "3                  -1.147251              17.0  concert_goer_1149   \n",
       "4                   0.969661              59.0   concert_goer_930   \n",
       "...                      ...               ...                ...   \n",
       "169995              0.357359              50.0   concert_goer_707   \n",
       "169996              0.641180              71.0  concert_goer_1373   \n",
       "169997              1.027389              27.0  concert_goer_1286   \n",
       "169998              1.455654              39.0  concert_goer_1845   \n",
       "169999              0.631731              46.0  concert_goer_1281   \n",
       "\n",
       "        Height (cm)  Concert Goer Country of Origin   Concert Enjoyment  \n",
       "0             140.0                        Paraguay       Did Not Enjoy  \n",
       "1             158.0             United Kingdom (UK)             Enjoyed  \n",
       "2             159.0  United States of America (USA)       Did Not Enjoy  \n",
       "3             150.0                          Canada  Worst Concert Ever  \n",
       "4             166.0             United Kingdom (UK)       Did Not Enjoy  \n",
       "...             ...                             ...                 ...  \n",
       "169995        180.0  United States of America (USA)       Did Not Enjoy  \n",
       "169996        143.0                        Bulgaria  Worst Concert Ever  \n",
       "169997        176.0                          Canada       Did Not Enjoy  \n",
       "169998        176.0                          Canada       Did Not Enjoy  \n",
       "169999        146.0                          Canada   Best Concert Ever  \n",
       "\n",
       "[170000 rows x 19 columns]"
      ]
     },
     "execution_count": 5,
     "metadata": {},
     "output_type": "execute_result"
    }
   ],
   "source": [
    "data"
   ]
  },
  {
   "cell_type": "code",
   "execution_count": null,
   "metadata": {
    "colab": {
     "base_uri": "https://localhost:8080/"
    },
    "execution": {
     "iopub.execute_input": "2022-11-25T21:38:24.439015Z",
     "iopub.status.busy": "2022-11-25T21:38:24.437810Z",
     "iopub.status.idle": "2022-11-25T21:38:24.539817Z",
     "shell.execute_reply": "2022-11-25T21:38:24.538461Z"
    },
    "id": "d621d1d3",
    "outputId": "87f2cccf-6eff-4c85-f8c3-fc18190bd279",
    "papermill": {
     "duration": 0.152444,
     "end_time": "2022-11-25T21:38:24.542651",
     "exception": false,
     "start_time": "2022-11-25T21:38:24.390207",
     "status": "completed"
    },
    "tags": []
   },
   "outputs": [
    {
     "name": "stdout",
     "output_type": "stream",
     "text": [
      "<class 'pandas.core.frame.DataFrame'>\n",
      "RangeIndex: 170000 entries, 0 to 169999\n",
      "Data columns (total 19 columns):\n",
      " #   Column                          Non-Null Count   Dtype  \n",
      "---  ------                          --------------   -----  \n",
      " 0   Id                              170000 non-null  object \n",
      " 1   Band Name                       169141 non-null  object \n",
      " 2   Band Genre                      169116 non-null  object \n",
      " 3   Band Country of Origin          169210 non-null  object \n",
      " 4   Band Debut                      169143 non-null  float64\n",
      " 5   Concert ID                      169130 non-null  float64\n",
      " 6   Concert Attendance              169105 non-null  float64\n",
      " 7   Inside Venue                    169162 non-null  object \n",
      " 8   Rain                            169139 non-null  object \n",
      " 9   Seated                          169168 non-null  object \n",
      " 10  Personnality Trait 1            169148 non-null  float64\n",
      " 11  Personnality Trait 2            169151 non-null  float64\n",
      " 12  Personnality Trait 3            169107 non-null  float64\n",
      " 13  Personnality Trait 4            169135 non-null  float64\n",
      " 14  Concert Goer Age                169147 non-null  float64\n",
      " 15  Concert Goer ID                 169185 non-null  object \n",
      " 16  Height (cm)                     169153 non-null  float64\n",
      " 17  Concert Goer Country of Origin  169141 non-null  object \n",
      " 18  Concert Enjoyment               170000 non-null  object \n",
      "dtypes: float64(9), object(10)\n",
      "memory usage: 24.6+ MB\n"
     ]
    }
   ],
   "source": [
    "data.info() # to check the datatype and if there are null-values. "
   ]
  },
  {
   "cell_type": "code",
   "execution_count": null,
   "metadata": {
    "colab": {
     "base_uri": "https://localhost:8080/"
    },
    "execution": {
     "iopub.execute_input": "2022-11-25T21:38:24.635966Z",
     "iopub.status.busy": "2022-11-25T21:38:24.635244Z",
     "iopub.status.idle": "2022-11-25T21:38:24.769734Z",
     "shell.execute_reply": "2022-11-25T21:38:24.768776Z"
    },
    "id": "b761bbda",
    "outputId": "00adaeec-b08e-4a98-e2a3-57df99964f96",
    "papermill": {
     "duration": 0.183771,
     "end_time": "2022-11-25T21:38:24.772224",
     "exception": false,
     "start_time": "2022-11-25T21:38:24.588453",
     "status": "completed"
    },
    "tags": []
   },
   "outputs": [
    {
     "data": {
      "text/html": [
       "\n",
       "  <div id=\"df-7dcb879a-93b1-473f-a735-e10c0b5a52c5\">\n",
       "    <div class=\"colab-df-container\">\n",
       "      <div>\n",
       "<style scoped>\n",
       "    .dataframe tbody tr th:only-of-type {\n",
       "        vertical-align: middle;\n",
       "    }\n",
       "\n",
       "    .dataframe tbody tr th {\n",
       "        vertical-align: top;\n",
       "    }\n",
       "\n",
       "    .dataframe thead th {\n",
       "        text-align: right;\n",
       "    }\n",
       "</style>\n",
       "<table border=\"1\" class=\"dataframe\">\n",
       "  <thead>\n",
       "    <tr style=\"text-align: right;\">\n",
       "      <th></th>\n",
       "      <th>Band Debut</th>\n",
       "      <th>Concert ID</th>\n",
       "      <th>Concert Attendance</th>\n",
       "      <th>Personnality Trait 1</th>\n",
       "      <th>Personnality Trait 2</th>\n",
       "      <th>Personnality Trait 3</th>\n",
       "      <th>Personnality Trait 4</th>\n",
       "      <th>Concert Goer Age</th>\n",
       "      <th>Height (cm)</th>\n",
       "    </tr>\n",
       "  </thead>\n",
       "  <tbody>\n",
       "    <tr>\n",
       "      <th>count</th>\n",
       "      <td>169143.000000</td>\n",
       "      <td>169130.000000</td>\n",
       "      <td>1.691050e+05</td>\n",
       "      <td>169148.000000</td>\n",
       "      <td>169151.000000</td>\n",
       "      <td>169107.000000</td>\n",
       "      <td>169135.000000</td>\n",
       "      <td>169147.000000</td>\n",
       "      <td>169153.000000</td>\n",
       "    </tr>\n",
       "    <tr>\n",
       "      <th>mean</th>\n",
       "      <td>1985.895053</td>\n",
       "      <td>499.360587</td>\n",
       "      <td>2.727906e+05</td>\n",
       "      <td>0.030190</td>\n",
       "      <td>-7.776188</td>\n",
       "      <td>-0.017279</td>\n",
       "      <td>0.003432</td>\n",
       "      <td>46.979822</td>\n",
       "      <td>164.660680</td>\n",
       "    </tr>\n",
       "    <tr>\n",
       "      <th>std</th>\n",
       "      <td>16.365288</td>\n",
       "      <td>288.640600</td>\n",
       "      <td>1.641506e+07</td>\n",
       "      <td>0.992067</td>\n",
       "      <td>3237.713866</td>\n",
       "      <td>1.004774</td>\n",
       "      <td>1.006310</td>\n",
       "      <td>17.470503</td>\n",
       "      <td>14.365046</td>\n",
       "    </tr>\n",
       "    <tr>\n",
       "      <th>min</th>\n",
       "      <td>1955.000000</td>\n",
       "      <td>0.000000</td>\n",
       "      <td>5.400000e+01</td>\n",
       "      <td>-3.124408</td>\n",
       "      <td>-293861.500146</td>\n",
       "      <td>-3.275108</td>\n",
       "      <td>-3.287787</td>\n",
       "      <td>16.000000</td>\n",
       "      <td>140.000000</td>\n",
       "    </tr>\n",
       "    <tr>\n",
       "      <th>25%</th>\n",
       "      <td>1976.000000</td>\n",
       "      <td>249.000000</td>\n",
       "      <td>4.030000e+02</td>\n",
       "      <td>-0.638873</td>\n",
       "      <td>-0.689943</td>\n",
       "      <td>-0.711015</td>\n",
       "      <td>-0.698374</td>\n",
       "      <td>32.000000</td>\n",
       "      <td>152.000000</td>\n",
       "    </tr>\n",
       "    <tr>\n",
       "      <th>50%</th>\n",
       "      <td>1988.000000</td>\n",
       "      <td>500.000000</td>\n",
       "      <td>2.980000e+03</td>\n",
       "      <td>0.022664</td>\n",
       "      <td>-0.021836</td>\n",
       "      <td>0.010071</td>\n",
       "      <td>0.015264</td>\n",
       "      <td>47.000000</td>\n",
       "      <td>164.000000</td>\n",
       "    </tr>\n",
       "    <tr>\n",
       "      <th>75%</th>\n",
       "      <td>1998.000000</td>\n",
       "      <td>749.750000</td>\n",
       "      <td>2.202600e+04</td>\n",
       "      <td>0.698236</td>\n",
       "      <td>0.648032</td>\n",
       "      <td>0.680300</td>\n",
       "      <td>0.700369</td>\n",
       "      <td>63.000000</td>\n",
       "      <td>177.000000</td>\n",
       "    </tr>\n",
       "    <tr>\n",
       "      <th>max</th>\n",
       "      <td>2014.000000</td>\n",
       "      <td>999.000000</td>\n",
       "      <td>1.627540e+09</td>\n",
       "      <td>3.628828</td>\n",
       "      <td>325834.016795</td>\n",
       "      <td>3.308810</td>\n",
       "      <td>3.830923</td>\n",
       "      <td>76.000000</td>\n",
       "      <td>190.000000</td>\n",
       "    </tr>\n",
       "  </tbody>\n",
       "</table>\n",
       "</div>\n",
       "      <button class=\"colab-df-convert\" onclick=\"convertToInteractive('df-7dcb879a-93b1-473f-a735-e10c0b5a52c5')\"\n",
       "              title=\"Convert this dataframe to an interactive table.\"\n",
       "              style=\"display:none;\">\n",
       "        \n",
       "  <svg xmlns=\"http://www.w3.org/2000/svg\" height=\"24px\"viewBox=\"0 0 24 24\"\n",
       "       width=\"24px\">\n",
       "    <path d=\"M0 0h24v24H0V0z\" fill=\"none\"/>\n",
       "    <path d=\"M18.56 5.44l.94 2.06.94-2.06 2.06-.94-2.06-.94-.94-2.06-.94 2.06-2.06.94zm-11 1L8.5 8.5l.94-2.06 2.06-.94-2.06-.94L8.5 2.5l-.94 2.06-2.06.94zm10 10l.94 2.06.94-2.06 2.06-.94-2.06-.94-.94-2.06-.94 2.06-2.06.94z\"/><path d=\"M17.41 7.96l-1.37-1.37c-.4-.4-.92-.59-1.43-.59-.52 0-1.04.2-1.43.59L10.3 9.45l-7.72 7.72c-.78.78-.78 2.05 0 2.83L4 21.41c.39.39.9.59 1.41.59.51 0 1.02-.2 1.41-.59l7.78-7.78 2.81-2.81c.8-.78.8-2.07 0-2.86zM5.41 20L4 18.59l7.72-7.72 1.47 1.35L5.41 20z\"/>\n",
       "  </svg>\n",
       "      </button>\n",
       "      \n",
       "  <style>\n",
       "    .colab-df-container {\n",
       "      display:flex;\n",
       "      flex-wrap:wrap;\n",
       "      gap: 12px;\n",
       "    }\n",
       "\n",
       "    .colab-df-convert {\n",
       "      background-color: #E8F0FE;\n",
       "      border: none;\n",
       "      border-radius: 50%;\n",
       "      cursor: pointer;\n",
       "      display: none;\n",
       "      fill: #1967D2;\n",
       "      height: 32px;\n",
       "      padding: 0 0 0 0;\n",
       "      width: 32px;\n",
       "    }\n",
       "\n",
       "    .colab-df-convert:hover {\n",
       "      background-color: #E2EBFA;\n",
       "      box-shadow: 0px 1px 2px rgba(60, 64, 67, 0.3), 0px 1px 3px 1px rgba(60, 64, 67, 0.15);\n",
       "      fill: #174EA6;\n",
       "    }\n",
       "\n",
       "    [theme=dark] .colab-df-convert {\n",
       "      background-color: #3B4455;\n",
       "      fill: #D2E3FC;\n",
       "    }\n",
       "\n",
       "    [theme=dark] .colab-df-convert:hover {\n",
       "      background-color: #434B5C;\n",
       "      box-shadow: 0px 1px 3px 1px rgba(0, 0, 0, 0.15);\n",
       "      filter: drop-shadow(0px 1px 2px rgba(0, 0, 0, 0.3));\n",
       "      fill: #FFFFFF;\n",
       "    }\n",
       "  </style>\n",
       "\n",
       "      <script>\n",
       "        const buttonEl =\n",
       "          document.querySelector('#df-7dcb879a-93b1-473f-a735-e10c0b5a52c5 button.colab-df-convert');\n",
       "        buttonEl.style.display =\n",
       "          google.colab.kernel.accessAllowed ? 'block' : 'none';\n",
       "\n",
       "        async function convertToInteractive(key) {\n",
       "          const element = document.querySelector('#df-7dcb879a-93b1-473f-a735-e10c0b5a52c5');\n",
       "          const dataTable =\n",
       "            await google.colab.kernel.invokeFunction('convertToInteractive',\n",
       "                                                     [key], {});\n",
       "          if (!dataTable) return;\n",
       "\n",
       "          const docLinkHtml = 'Like what you see? Visit the ' +\n",
       "            '<a target=\"_blank\" href=https://colab.research.google.com/notebooks/data_table.ipynb>data table notebook</a>'\n",
       "            + ' to learn more about interactive tables.';\n",
       "          element.innerHTML = '';\n",
       "          dataTable['output_type'] = 'display_data';\n",
       "          await google.colab.output.renderOutput(dataTable, element);\n",
       "          const docLink = document.createElement('div');\n",
       "          docLink.innerHTML = docLinkHtml;\n",
       "          element.appendChild(docLink);\n",
       "        }\n",
       "      </script>\n",
       "    </div>\n",
       "  </div>\n",
       "  "
      ],
      "text/plain": [
       "          Band Debut     Concert ID  Concert Attendance  Personnality Trait 1  \\\n",
       "count  169143.000000  169130.000000        1.691050e+05         169148.000000   \n",
       "mean     1985.895053     499.360587        2.727906e+05              0.030190   \n",
       "std        16.365288     288.640600        1.641506e+07              0.992067   \n",
       "min      1955.000000       0.000000        5.400000e+01             -3.124408   \n",
       "25%      1976.000000     249.000000        4.030000e+02             -0.638873   \n",
       "50%      1988.000000     500.000000        2.980000e+03              0.022664   \n",
       "75%      1998.000000     749.750000        2.202600e+04              0.698236   \n",
       "max      2014.000000     999.000000        1.627540e+09              3.628828   \n",
       "\n",
       "       Personnality Trait 2  Personnality Trait 3  Personnality Trait 4  \\\n",
       "count         169151.000000         169107.000000         169135.000000   \n",
       "mean              -7.776188             -0.017279              0.003432   \n",
       "std             3237.713866              1.004774              1.006310   \n",
       "min          -293861.500146             -3.275108             -3.287787   \n",
       "25%               -0.689943             -0.711015             -0.698374   \n",
       "50%               -0.021836              0.010071              0.015264   \n",
       "75%                0.648032              0.680300              0.700369   \n",
       "max           325834.016795              3.308810              3.830923   \n",
       "\n",
       "       Concert Goer Age    Height (cm)  \n",
       "count     169147.000000  169153.000000  \n",
       "mean          46.979822     164.660680  \n",
       "std           17.470503      14.365046  \n",
       "min           16.000000     140.000000  \n",
       "25%           32.000000     152.000000  \n",
       "50%           47.000000     164.000000  \n",
       "75%           63.000000     177.000000  \n",
       "max           76.000000     190.000000  "
      ]
     },
     "execution_count": 7,
     "metadata": {},
     "output_type": "execute_result"
    }
   ],
   "source": [
    "data.describe()  # mathematically evaluate numerical features"
   ]
  },
  {
   "cell_type": "code",
   "execution_count": null,
   "metadata": {
    "colab": {
     "base_uri": "https://localhost:8080/"
    },
    "execution": {
     "iopub.execute_input": "2022-11-25T21:38:24.958565Z",
     "iopub.status.busy": "2022-11-25T21:38:24.957887Z",
     "iopub.status.idle": "2022-11-25T21:38:25.023667Z",
     "shell.execute_reply": "2022-11-25T21:38:25.022159Z"
    },
    "id": "97ff16bb",
    "outputId": "4b6c0afb-c7b2-46e3-f5db-7c6010ba76b1",
    "papermill": {
     "duration": 0.116546,
     "end_time": "2022-11-25T21:38:25.027182",
     "exception": false,
     "start_time": "2022-11-25T21:38:24.910636",
     "status": "completed"
    },
    "tags": []
   },
   "outputs": [
    {
     "name": "stdout",
     "output_type": "stream",
     "text": [
      "Number of concert goers : 2001\n",
      "Number of concert goers' countries of origin : 153\n",
      "Number of concerts (concert ID ): 1001\n",
      "Number of bands : 55\n",
      "Number of band genres: 9\n",
      "Number of band debut years : 35\n",
      "Number of bands' country of origin : 5\n",
      "these resuls incluse null values: NaN\n"
     ]
    }
   ],
   "source": [
    "print(\"Number of concert goers :\", len(data['Concert Goer ID'].unique()))\n",
    "print(\"Number of concert goers' countries of origin :\", len(data['Concert Goer Country of Origin'].unique()))\n",
    "print(\"Number of concerts (concert ID ):\", len(data['Concert ID'].unique()))\n",
    "print(\"Number of bands :\", len(data['Band Name'].unique()))\n",
    "print(\"Number of band genres:\", len(data['Band Genre'].unique()))\n",
    "print(\"Number of band debut years :\", len(data['Band Debut'].unique()))\n",
    "print(\"Number of bands' country of origin :\", len(data['Band Country of Origin'].unique()))\n",
    "print(\"these resuls incluse null values: NaN\")"
   ]
  },
  {
   "cell_type": "markdown",
   "metadata": {
    "id": "e7cdbcc5",
    "papermill": {
     "duration": 0.046042,
     "end_time": "2022-11-25T21:38:25.119043",
     "exception": false,
     "start_time": "2022-11-25T21:38:25.073001",
     "status": "completed"
    },
    "tags": []
   },
   "source": [
    "## 1.2- Helper functions"
   ]
  },
  {
   "cell_type": "code",
   "execution_count": null,
   "metadata": {
    "execution": {
     "iopub.execute_input": "2022-11-25T21:38:25.212067Z",
     "iopub.status.busy": "2022-11-25T21:38:25.211634Z",
     "iopub.status.idle": "2022-11-25T21:38:25.216679Z",
     "shell.execute_reply": "2022-11-25T21:38:25.215834Z"
    },
    "id": "6e7338a2",
    "papermill": {
     "duration": 0.053354,
     "end_time": "2022-11-25T21:38:25.218758",
     "exception": false,
     "start_time": "2022-11-25T21:38:25.165404",
     "status": "completed"
    },
    "tags": []
   },
   "outputs": [],
   "source": [
    "def drop_column (df , columns_list) : \n",
    "    #Inputs:\n",
    "    # df: the dataframe to be modified.\n",
    "    #columns_list: a list containing the names of the columns to be deleted \n",
    "    return df.drop(columns_list, axis=1)"
   ]
  },
  {
   "cell_type": "markdown",
   "metadata": {
    "id": "52d4fa49",
    "papermill": {
     "duration": 0.045576,
     "end_time": "2022-11-25T21:38:25.309241",
     "exception": false,
     "start_time": "2022-11-25T21:38:25.263665",
     "status": "completed"
    },
    "tags": []
   },
   "source": [
    "## 1.3- Data Cleaning"
   ]
  },
  {
   "cell_type": "markdown",
   "metadata": {
    "id": "ef1a9f61",
    "papermill": {
     "duration": 0.046445,
     "end_time": "2022-11-25T21:38:25.400806",
     "exception": false,
     "start_time": "2022-11-25T21:38:25.354361",
     "status": "completed"
    },
    "tags": []
   },
   "source": [
    "### Concert Goer"
   ]
  },
  {
   "cell_type": "markdown",
   "metadata": {
    "id": "27b24cd3",
    "papermill": {
     "duration": 0.045363,
     "end_time": "2022-11-25T21:38:25.492514",
     "exception": false,
     "start_time": "2022-11-25T21:38:25.447151",
     "status": "completed"
    },
    "tags": []
   },
   "source": [
    "First, let's fill the missing data associated with the **concert goers** by mapping Concert Goer ID and filling the other associated features with the mode when the value is Null."
   ]
  },
  {
   "cell_type": "code",
   "execution_count": null,
   "metadata": {
    "execution": {
     "iopub.execute_input": "2022-11-25T21:38:25.586723Z",
     "iopub.status.busy": "2022-11-25T21:38:25.585940Z",
     "iopub.status.idle": "2022-11-25T21:38:25.598660Z",
     "shell.execute_reply": "2022-11-25T21:38:25.597423Z"
    },
    "id": "f1fceb1d",
    "papermill": {
     "duration": 0.062711,
     "end_time": "2022-11-25T21:38:25.601591",
     "exception": false,
     "start_time": "2022-11-25T21:38:25.538880",
     "status": "completed"
    },
    "tags": []
   },
   "outputs": [],
   "source": [
    "def concert_goer_cleaning ( data , concert_goer_columns):\n",
    "    \"\"\" Cleans the data associated with the concert goer\n",
    "\n",
    "      Args:         \n",
    "          data (pd.DataFrame): The features to clean\n",
    "          concert_goer_columns (list of string): The columns to modify\n",
    "\n",
    "      Returns:\n",
    "          data (pd.DataFrame) : The cleaned dataframe \n",
    "      \"\"\"\n",
    "\n",
    "    #concert_goer_columns = ['Concert Goer ID', 'Concert Goer Age', 'Concert Goer Country of Origin', 'Personnality Trait 1', 'Personnality Trait 2', 'Personnality Trait 3', 'Personnality Trait 4', 'Height (cm)']\n",
    "    # lets first remove the rows with missing values in Concert Goer ID\n",
    "    concert_goer_with_id = data[data['Concert Goer ID'].notnull()]\n",
    "    # now we can find the rows with missing values in any of the concert_goer_columns\n",
    "    concert_goer_no_values = concert_goer_with_id[concert_goer_with_id[concert_goer_columns].isnull().any(axis=1)]\n",
    "\n",
    "    # now let's group the data by Concert Goer ID\n",
    "    concert_goer_grouped = concert_goer_with_id.groupby('Concert Goer ID', group_keys=False)\n",
    "    # since for a same Concert Goer ID we should have the same values for the concert_goer_columns we can take the first non null value for each column to replace the missing values\n",
    "    # so let's replace the missing values of each column with the first non null value of that column on the group\n",
    "    for column in concert_goer_columns[1:]:\n",
    "        concert_goer_with_id = concert_goer_with_id.assign(**{column: concert_goer_grouped[column].transform(lambda x: x.fillna(x[x.first_valid_index()]))})\n",
    "\n",
    "    # we can fill the missing values in the original data\n",
    "    # we can first drop the rows in data that are present in concert_goer_with_id on the Id column ('Id' is a column in both data and concert_goer_with_id that is unique for each row)\n",
    "    data = data[~data['Id'].isin(concert_goer_with_id['Id'])]\n",
    "    # now we can concatenate (because append is deprecated) the rows in concert_goer_with_id to data\n",
    "    data = pd.concat([data, concert_goer_with_id], ignore_index=False)\n",
    "    \n",
    "    # now we need to add the missing values in the rows that have a missing value in the Concert Goer ID column\n",
    "    # let's first get the rows with missing values in the Concert Goer ID column\n",
    "    concert_goer_no_id = data[data['Concert Goer ID'].isnull()]\n",
    "    # let's now drop the rows that don't have a missing values in the other cols\n",
    "    concert_goer_no_id_no_values = concert_goer_no_id[concert_goer_no_id[concert_goer_columns[1:]].isnull().any(axis=1)]\n",
    "\n",
    "    # let's get the most similar row in concert_goer_with_id for each row in concert_goer_no_id_no_values and fill the missing values in concert_goer_no_id_no_values with the values of the most similar row in concert_goer_with_id\n",
    "    import scipy.spatial.distance as distance\n",
    "    numerical_columns = ['Concert Goer Age', 'Height (cm)', 'Personnality Trait 1', 'Personnality Trait 2', 'Personnality Trait 3', 'Personnality Trait 4']\n",
    "    for index, row in concert_goer_no_id_no_values.iterrows():\n",
    "        distance_matrix = distance.cdist(pd.DataFrame([row[numerical_columns]]), concert_goer_with_id[numerical_columns], 'euclidean')\n",
    "        most_similar_row = concert_goer_with_id.iloc[distance_matrix.argmin()]\n",
    "\n",
    "        # now lets fill the missing values \n",
    "        concert_goer_no_id_no_values.loc[index] = concert_goer_no_id_no_values.loc[index].fillna(most_similar_row)\n",
    "\n",
    "    # now lets fill data with the rows in concert_goer_no_id_no_values\n",
    "    data = data[~data['Id'].isin(concert_goer_no_id_no_values['Id'])]\n",
    "    data = pd.concat([data, concert_goer_no_id_no_values], ignore_index=False)\n",
    "    \n",
    "    # reorder the data \n",
    "    data = data.sort_index()\n",
    "    return data\n"
   ]
  },
  {
   "cell_type": "code",
   "execution_count": null,
   "metadata": {
    "colab": {
     "base_uri": "https://localhost:8080/"
    },
    "id": "HvkzUSTgcSWp",
    "outputId": "0854bdd0-4c22-4f36-df2a-0b8da5bf871f"
   },
   "outputs": [
    {
     "data": {
      "text/plain": [
       "0         1985\n",
       "1         1874\n",
       "2          442\n",
       "3         1149\n",
       "4          930\n",
       "          ... \n",
       "169995     707\n",
       "169996    1373\n",
       "169997    1286\n",
       "169998    1845\n",
       "169999    1281\n",
       "Name: Concert Goer ID, Length: 170000, dtype: object"
      ]
     },
     "execution_count": 11,
     "metadata": {},
     "output_type": "execute_result"
    }
   ],
   "source": [
    "#Here we keep only the number in the \"Concert Goer ID\": the original one had \"concert_goer_number\" we will keep\n",
    "#Only the number\n",
    "data[\"Concert Goer ID\"] = data[\"Concert Goer ID\"].str.split(\"_\").str[2]\n",
    "data[\"Concert Goer ID\"]"
   ]
  },
  {
   "cell_type": "code",
   "execution_count": null,
   "metadata": {
    "colab": {
     "base_uri": "https://localhost:8080/"
    },
    "id": "Sr2Hd_nOjZAH",
    "outputId": "b36185fd-4490-499e-a59b-26d34afb6985"
   },
   "outputs": [
    {
     "data": {
      "text/plain": [
       "0        1587\n",
       "1         293\n",
       "2        1068\n",
       "3        1315\n",
       "4        1777\n",
       "         ... \n",
       "29995    1710\n",
       "29996    1758\n",
       "29997    1481\n",
       "29998    1461\n",
       "29999    1617\n",
       "Name: Concert Goer ID, Length: 30000, dtype: object"
      ]
     },
     "execution_count": 12,
     "metadata": {},
     "output_type": "execute_result"
    }
   ],
   "source": [
    "#Here we keep only the number in the \"Concert Goer ID\": the original one had \"concert_goer_number\" we will keep\n",
    "#Only the number\n",
    "test_data[\"Concert Goer ID\"] = test_data[\"Concert Goer ID\"].str.split(\"_\").str[2]\n",
    "test_data[\"Concert Goer ID\"]"
   ]
  },
  {
   "cell_type": "code",
   "execution_count": null,
   "metadata": {
    "colab": {
     "base_uri": "https://localhost:8080/"
    },
    "execution": {
     "iopub.execute_input": "2022-11-25T21:38:25.698853Z",
     "iopub.status.busy": "2022-11-25T21:38:25.698427Z",
     "iopub.status.idle": "2022-11-25T21:38:30.841633Z",
     "shell.execute_reply": "2022-11-25T21:38:30.840355Z"
    },
    "id": "d66342ec",
    "outputId": "49193cc7-18e4-4301-daa4-b52175da27ab",
    "papermill": {
     "duration": 5.193993,
     "end_time": "2022-11-25T21:38:30.844391",
     "exception": false,
     "start_time": "2022-11-25T21:38:25.650398",
     "status": "completed"
    },
    "tags": []
   },
   "outputs": [
    {
     "name": "stderr",
     "output_type": "stream",
     "text": [
      "/usr/local/lib/python3.8/dist-packages/pandas/core/indexing.py:1797: SettingWithCopyWarning: \n",
      "A value is trying to be set on a copy of a slice from a DataFrame.\n",
      "Try using .loc[row_indexer,col_indexer] = value instead\n",
      "\n",
      "See the caveats in the documentation: https://pandas.pydata.org/pandas-docs/stable/user_guide/indexing.html#returning-a-view-versus-a-copy\n",
      "  self._setitem_single_column(loc, v, pi)\n"
     ]
    }
   ],
   "source": [
    "# Let's correct the concert goer missing data in the training data\n",
    "data = concert_goer_cleaning (data , ['Concert Goer ID', 'Concert Goer Age', 'Concert Goer Country of Origin', 'Personnality Trait 1', 'Personnality Trait 2', 'Personnality Trait 3', 'Personnality Trait 4', 'Height (cm)'])\n",
    "# Let's do the same with the testing data\n",
    "test_data = concert_goer_cleaning (test_data , ['Concert Goer ID', 'Concert Goer Age', 'Concert Goer Country of Origin', 'Personnality Trait 1', 'Personnality Trait 2', 'Personnality Trait 3', 'Personnality Trait 4', 'Height (cm)'])"
   ]
  },
  {
   "cell_type": "code",
   "execution_count": null,
   "metadata": {
    "colab": {
     "base_uri": "https://localhost:8080/"
    },
    "id": "Jizv075XEAZ0",
    "outputId": "4dd7343b-fbed-4185-96be-7d33bd487e02"
   },
   "outputs": [
    {
     "name": "stdout",
     "output_type": "stream",
     "text": [
      "<class 'pandas.core.frame.DataFrame'>\n",
      "Int64Index: 170000 entries, 0 to 169999\n",
      "Data columns (total 19 columns):\n",
      " #   Column                          Non-Null Count   Dtype  \n",
      "---  ------                          --------------   -----  \n",
      " 0   Id                              170000 non-null  object \n",
      " 1   Band Name                       169141 non-null  object \n",
      " 2   Band Genre                      169117 non-null  object \n",
      " 3   Band Country of Origin          169210 non-null  object \n",
      " 4   Band Debut                      169143 non-null  float64\n",
      " 5   Concert ID                      169130 non-null  float64\n",
      " 6   Concert Attendance              169105 non-null  float64\n",
      " 7   Inside Venue                    169163 non-null  object \n",
      " 8   Rain                            169139 non-null  object \n",
      " 9   Seated                          169168 non-null  object \n",
      " 10  Personnality Trait 1            170000 non-null  float64\n",
      " 11  Personnality Trait 2            170000 non-null  float64\n",
      " 12  Personnality Trait 3            170000 non-null  float64\n",
      " 13  Personnality Trait 4            170000 non-null  float64\n",
      " 14  Concert Goer Age                170000 non-null  float64\n",
      " 15  Concert Goer ID                 169218 non-null  object \n",
      " 16  Height (cm)                     170000 non-null  float64\n",
      " 17  Concert Goer Country of Origin  170000 non-null  object \n",
      " 18  Concert Enjoyment               170000 non-null  object \n",
      "dtypes: float64(9), object(10)\n",
      "memory usage: 25.9+ MB\n"
     ]
    }
   ],
   "source": [
    "data.info()"
   ]
  },
  {
   "cell_type": "code",
   "execution_count": null,
   "metadata": {
    "colab": {
     "base_uri": "https://localhost:8080/"
    },
    "id": "D8M7KdoQEElI",
    "outputId": "6ebe9e08-96de-41b7-e908-24ddfc1a663b"
   },
   "outputs": [
    {
     "name": "stdout",
     "output_type": "stream",
     "text": [
      "<class 'pandas.core.frame.DataFrame'>\n",
      "Int64Index: 30000 entries, 0 to 29999\n",
      "Data columns (total 18 columns):\n",
      " #   Column                          Non-Null Count  Dtype  \n",
      "---  ------                          --------------  -----  \n",
      " 0   Id                              30000 non-null  object \n",
      " 1   Band Name                       29864 non-null  object \n",
      " 2   Band Genre                      29862 non-null  object \n",
      " 3   Band Country of Origin          29844 non-null  object \n",
      " 4   Band Debut                      29843 non-null  float64\n",
      " 5   Concert ID                      29842 non-null  float64\n",
      " 6   Concert Attendance              29848 non-null  float64\n",
      " 7   Inside Venue                    29834 non-null  object \n",
      " 8   Rain                            29857 non-null  object \n",
      " 9   Seated                          29858 non-null  object \n",
      " 10  Personnality Trait 1            30000 non-null  float64\n",
      " 11  Personnality Trait 2            30000 non-null  float64\n",
      " 12  Personnality Trait 3            30000 non-null  float64\n",
      " 13  Personnality Trait 4            30000 non-null  float64\n",
      " 14  Concert Goer Age                30000 non-null  float64\n",
      " 15  Concert Goer ID                 29863 non-null  object \n",
      " 16  Height (cm)                     30000 non-null  float64\n",
      " 17  Concert Goer Country of Origin  30000 non-null  object \n",
      "dtypes: float64(9), object(9)\n",
      "memory usage: 4.3+ MB\n"
     ]
    }
   ],
   "source": [
    "test_data.info()"
   ]
  },
  {
   "cell_type": "markdown",
   "metadata": {
    "id": "2lhcv047EJK1"
   },
   "source": [
    "Remove the label column from the training features, and remove useless columns from both sets"
   ]
  },
  {
   "cell_type": "code",
   "execution_count": null,
   "metadata": {
    "execution": {
     "iopub.execute_input": "2022-11-25T21:38:35.078885Z",
     "iopub.status.busy": "2022-11-25T21:38:35.078157Z",
     "iopub.status.idle": "2022-11-25T21:38:35.133552Z",
     "shell.execute_reply": "2022-11-25T21:38:35.132217Z"
    },
    "id": "be354914",
    "papermill": {
     "duration": 0.108713,
     "end_time": "2022-11-25T21:38:35.136382",
     "exception": false,
     "start_time": "2022-11-25T21:38:35.027669",
     "status": "completed"
    },
    "tags": []
   },
   "outputs": [],
   "source": [
    "features = drop_column(data ,['Id', 'Concert Enjoyment']) "
   ]
  },
  {
   "cell_type": "code",
   "execution_count": null,
   "metadata": {
    "execution": {
     "iopub.execute_input": "2022-11-25T21:38:35.232248Z",
     "iopub.status.busy": "2022-11-25T21:38:35.231754Z",
     "iopub.status.idle": "2022-11-25T21:38:35.252266Z",
     "shell.execute_reply": "2022-11-25T21:38:35.251011Z"
    },
    "id": "c75f65ad",
    "papermill": {
     "duration": 0.070604,
     "end_time": "2022-11-25T21:38:35.255080",
     "exception": false,
     "start_time": "2022-11-25T21:38:35.184476",
     "status": "completed"
    },
    "tags": []
   },
   "outputs": [],
   "source": [
    "test_ids = test_data[\"Id\"]\n",
    "test_features = drop_column(test_data , [\"Id\"])"
   ]
  },
  {
   "cell_type": "markdown",
   "metadata": {
    "id": "092029c8",
    "papermill": {
     "duration": 0.047275,
     "end_time": "2022-11-25T21:38:35.350611",
     "exception": false,
     "start_time": "2022-11-25T21:38:35.303336",
     "status": "completed"
    },
    "tags": []
   },
   "source": [
    "### Band Name"
   ]
  },
  {
   "cell_type": "markdown",
   "metadata": {
    "id": "1b08d2c6",
    "papermill": {
     "duration": 0.05048,
     "end_time": "2022-11-25T21:38:35.449432",
     "exception": false,
     "start_time": "2022-11-25T21:38:35.398952",
     "status": "completed"
    },
    "tags": []
   },
   "source": [
    "Then, let's fill the missing data associated with the **bands** by mapping Band Name and filling the other associated features with the mode when the value is Null."
   ]
  },
  {
   "cell_type": "code",
   "execution_count": null,
   "metadata": {
    "colab": {
     "base_uri": "https://localhost:8080/"
    },
    "execution": {
     "iopub.execute_input": "2022-11-25T21:38:35.551105Z",
     "iopub.status.busy": "2022-11-25T21:38:35.550494Z",
     "iopub.status.idle": "2022-11-25T21:38:35.568441Z",
     "shell.execute_reply": "2022-11-25T21:38:35.567140Z"
    },
    "id": "60138c82",
    "outputId": "e7fb5c5e-6600-4e0d-863c-f11ce093960e",
    "papermill": {
     "duration": 0.072669,
     "end_time": "2022-11-25T21:38:35.571033",
     "exception": false,
     "start_time": "2022-11-25T21:38:35.498364",
     "status": "completed"
    },
    "tags": []
   },
   "outputs": [
    {
     "data": {
      "text/plain": [
       "55"
      ]
     },
     "execution_count": 18,
     "metadata": {},
     "output_type": "execute_result"
    }
   ],
   "source": [
    "len(features[\"Band Name\"].unique())"
   ]
  },
  {
   "cell_type": "code",
   "execution_count": null,
   "metadata": {
    "colab": {
     "base_uri": "https://localhost:8080/"
    },
    "execution": {
     "iopub.execute_input": "2022-11-25T21:38:35.671152Z",
     "iopub.status.busy": "2022-11-25T21:38:35.670305Z",
     "iopub.status.idle": "2022-11-25T21:38:35.699824Z",
     "shell.execute_reply": "2022-11-25T21:38:35.698720Z"
    },
    "id": "899676a5",
    "outputId": "2f215813-f7c8-437d-92de-e703f84099e1",
    "papermill": {
     "duration": 0.082694,
     "end_time": "2022-11-25T21:38:35.702332",
     "exception": false,
     "start_time": "2022-11-25T21:38:35.619638",
     "status": "completed"
    },
    "tags": []
   },
   "outputs": [
    {
     "name": "stdout",
     "output_type": "stream",
     "text": [
      "Band Genre  883\n",
      "Band Country of Origin  790\n",
      "Band Debut  857\n"
     ]
    }
   ],
   "source": [
    "#Verifying the number of nans\n",
    "print( \"Band Genre \",len(features.loc[features[\"Band Genre\"].isna()]))\n",
    "print( \"Band Country of Origin \",len(features.loc[features[\"Band Country of Origin\"].isna()]))\n",
    "print( \"Band Debut \",len(features.loc[features[\"Band Debut\"].isna()]))"
   ]
  },
  {
   "cell_type": "code",
   "execution_count": null,
   "metadata": {
    "execution": {
     "iopub.execute_input": "2022-11-25T21:38:35.804758Z",
     "iopub.status.busy": "2022-11-25T21:38:35.804260Z",
     "iopub.status.idle": "2022-11-25T21:38:35.871758Z",
     "shell.execute_reply": "2022-11-25T21:38:35.870241Z"
    },
    "id": "a3097648",
    "papermill": {
     "duration": 0.121522,
     "end_time": "2022-11-25T21:38:35.874900",
     "exception": false,
     "start_time": "2022-11-25T21:38:35.753378",
     "status": "completed"
    },
    "tags": []
   },
   "outputs": [],
   "source": [
    "#After examining the unique values of each band column, We can notice that some values have \"Insert band name\"\n",
    "#which can be considered as a missing value.\n",
    "#So let's change these values to np.nan to facilitate their cleaning\n",
    "\n",
    "#Let's correct \"Insert Band Genre\":\n",
    "features.loc[features[\"Band Genre\"] == \"Insert Band Genre\" , \"Band Genre\"] = np.nan\n",
    "test_features.loc[test_features[\"Band Genre\"] == \"Insert Band Genre\" , \"Band Genre\"] = np.nan\n",
    "\n",
    "#Let's correct \"Insert Band Debut\":\n",
    "features.loc[features[\"Band Debut\"] == \"Insert Band Debut\" , \"Band Debut\"] = np.nan\n",
    "test_features.loc[test_features[\"Band Debut\"] == \"Insert Band Debut\" , \"Band Debut\"] = np.nan\n",
    "\n",
    "#Let's correct \"Insert Band Country of origin\":\n",
    "features.loc[features[\"Band Country of Origin\"] == \"Insert Band Country of Origin\" , \"Band Country of Origin\"] = np.nan\n",
    "test_features.loc[test_features[\"Band Country of Origin\"] == \"Insert Band Country of Origin\" , \"Band Country of Origin\"] = np.nan\n",
    "\n",
    "#Let's correct \"Insert Band Name\":\n",
    "features.loc[features[\"Band Name\"] == \"Insert Band Name\" , \"Band Name\"] = np.nan\n",
    "test_features.loc[test_features[\"Band Name\"] == \"Insert Band Name\" , \"Band Name\"] = np.nan"
   ]
  },
  {
   "cell_type": "code",
   "execution_count": null,
   "metadata": {
    "colab": {
     "base_uri": "https://localhost:8080/"
    },
    "execution": {
     "iopub.execute_input": "2022-11-25T21:38:35.974588Z",
     "iopub.status.busy": "2022-11-25T21:38:35.973558Z",
     "iopub.status.idle": "2022-11-25T21:38:36.009207Z",
     "shell.execute_reply": "2022-11-25T21:38:36.007567Z"
    },
    "id": "52caa5b8",
    "outputId": "a29cf50d-9ae2-4d63-8134-19798ae36301",
    "papermill": {
     "duration": 0.087643,
     "end_time": "2022-11-25T21:38:36.012143",
     "exception": false,
     "start_time": "2022-11-25T21:38:35.924500",
     "status": "completed"
    },
    "tags": []
   },
   "outputs": [
    {
     "name": "stdout",
     "output_type": "stream",
     "text": [
      "Band Genre  964\n",
      "Band Genre in test data  157\n",
      "\n",
      "\n",
      "Band Country of Origin  970\n",
      "Band Country of Origin in testing data 182\n",
      "\n",
      "\n",
      "Band Debut  857\n",
      "Band Debut in testing data 157\n"
     ]
    }
   ],
   "source": [
    "#Verifying the number of nans\n",
    "#Let's now check the actual number of nans:\n",
    "print( \"Band Genre \",len(features.loc[features[\"Band Genre\"].isna()]))\n",
    "print( \"Band Genre in test data \",len(test_features.loc[test_features[\"Band Genre\"].isna()]))\n",
    "print(\"\\n\")\n",
    "print( \"Band Country of Origin \",len(features.loc[features[\"Band Country of Origin\"].isna()]))\n",
    "print( \"Band Country of Origin in testing data\",len(test_features.loc[test_features[\"Band Country of Origin\"].isna()]))\n",
    "print(\"\\n\")\n",
    "print( \"Band Debut \",len(features.loc[features[\"Band Debut\"].isna()]))\n",
    "print( \"Band Debut in testing data\",len(test_features.loc[test_features[\"Band Debut\"].isna()]))"
   ]
  },
  {
   "cell_type": "code",
   "execution_count": null,
   "metadata": {
    "execution": {
     "iopub.execute_input": "2022-11-25T21:38:36.123128Z",
     "iopub.status.busy": "2022-11-25T21:38:36.122216Z",
     "iopub.status.idle": "2022-11-25T21:38:36.138924Z",
     "shell.execute_reply": "2022-11-25T21:38:36.136944Z"
    },
    "id": "9bb52cf7",
    "papermill": {
     "duration": 0.076579,
     "end_time": "2022-11-25T21:38:36.143027",
     "exception": false,
     "start_time": "2022-11-25T21:38:36.066448",
     "status": "completed"
    },
    "tags": []
   },
   "outputs": [],
   "source": [
    "band_features = features[[\"Band Name\" , \"Band Genre\" , \"Band Country of Origin\" , \"Band Debut\" , \"Concert ID\"]]\n",
    "test_band_features = test_features[[\"Band Name\" , \"Band Genre\" , \"Band Country of Origin\" , \"Band Debut\" , \"Concert ID\"]]"
   ]
  },
  {
   "cell_type": "code",
   "execution_count": null,
   "metadata": {
    "execution": {
     "iopub.execute_input": "2022-11-25T21:38:36.288915Z",
     "iopub.status.busy": "2022-11-25T21:38:36.288396Z",
     "iopub.status.idle": "2022-11-25T21:38:36.430408Z",
     "shell.execute_reply": "2022-11-25T21:38:36.428984Z"
    },
    "id": "52486c44",
    "papermill": {
     "duration": 0.217862,
     "end_time": "2022-11-25T21:38:36.434060",
     "exception": false,
     "start_time": "2022-11-25T21:38:36.216198",
     "status": "completed"
    },
    "tags": []
   },
   "outputs": [],
   "source": [
    "#Contains complete information about the bands\n",
    "df1 = band_features.loc[(~band_features.isna().any(axis=1))].drop_duplicates()\n",
    "test_df1 = test_band_features.loc[(~test_band_features.isna().any(axis=1))].drop_duplicates()"
   ]
  },
  {
   "cell_type": "code",
   "execution_count": null,
   "metadata": {
    "colab": {
     "base_uri": "https://localhost:8080/",
     "height": 206
    },
    "execution": {
     "iopub.execute_input": "2022-11-25T21:38:36.546474Z",
     "iopub.status.busy": "2022-11-25T21:38:36.545546Z",
     "iopub.status.idle": "2022-11-25T21:38:36.561775Z",
     "shell.execute_reply": "2022-11-25T21:38:36.560689Z"
    },
    "id": "68c8f42f",
    "outputId": "5148796e-f646-49fe-cbcd-4795c5d1fbbb",
    "papermill": {
     "duration": 0.080432,
     "end_time": "2022-11-25T21:38:36.565989",
     "exception": false,
     "start_time": "2022-11-25T21:38:36.485557",
     "status": "completed"
    },
    "tags": []
   },
   "outputs": [
    {
     "data": {
      "text/html": [
       "\n",
       "  <div id=\"df-c8b0d84e-596c-47cd-879f-433bfc45e905\">\n",
       "    <div class=\"colab-df-container\">\n",
       "      <div>\n",
       "<style scoped>\n",
       "    .dataframe tbody tr th:only-of-type {\n",
       "        vertical-align: middle;\n",
       "    }\n",
       "\n",
       "    .dataframe tbody tr th {\n",
       "        vertical-align: top;\n",
       "    }\n",
       "\n",
       "    .dataframe thead th {\n",
       "        text-align: right;\n",
       "    }\n",
       "</style>\n",
       "<table border=\"1\" class=\"dataframe\">\n",
       "  <thead>\n",
       "    <tr style=\"text-align: right;\">\n",
       "      <th></th>\n",
       "      <th>Band Name</th>\n",
       "      <th>Band Genre</th>\n",
       "      <th>Band Country of Origin</th>\n",
       "      <th>Band Debut</th>\n",
       "      <th>Concert ID</th>\n",
       "    </tr>\n",
       "  </thead>\n",
       "  <tbody>\n",
       "    <tr>\n",
       "      <th>0</th>\n",
       "      <td>Teenage Crazy Blue Knickers</td>\n",
       "      <td>Indie/Alt Rock</td>\n",
       "      <td>United States of America (USA)</td>\n",
       "      <td>1976.0</td>\n",
       "      <td>900.0</td>\n",
       "    </tr>\n",
       "    <tr>\n",
       "      <th>1</th>\n",
       "      <td>Beyond Devon</td>\n",
       "      <td>Pop Music</td>\n",
       "      <td>United States of America (USA)</td>\n",
       "      <td>1968.0</td>\n",
       "      <td>731.0</td>\n",
       "    </tr>\n",
       "    <tr>\n",
       "      <th>3</th>\n",
       "      <td>Devon Revival</td>\n",
       "      <td>RnB</td>\n",
       "      <td>United States of America (USA)</td>\n",
       "      <td>1992.0</td>\n",
       "      <td>704.0</td>\n",
       "    </tr>\n",
       "    <tr>\n",
       "      <th>4</th>\n",
       "      <td>Beyond Devon</td>\n",
       "      <td>Pop Music</td>\n",
       "      <td>United States of America (USA)</td>\n",
       "      <td>1968.0</td>\n",
       "      <td>95.0</td>\n",
       "    </tr>\n",
       "    <tr>\n",
       "      <th>5</th>\n",
       "      <td>A Dozen Running Iced Frogs</td>\n",
       "      <td>Pop Music</td>\n",
       "      <td>Canada</td>\n",
       "      <td>1998.0</td>\n",
       "      <td>627.0</td>\n",
       "    </tr>\n",
       "  </tbody>\n",
       "</table>\n",
       "</div>\n",
       "      <button class=\"colab-df-convert\" onclick=\"convertToInteractive('df-c8b0d84e-596c-47cd-879f-433bfc45e905')\"\n",
       "              title=\"Convert this dataframe to an interactive table.\"\n",
       "              style=\"display:none;\">\n",
       "        \n",
       "  <svg xmlns=\"http://www.w3.org/2000/svg\" height=\"24px\"viewBox=\"0 0 24 24\"\n",
       "       width=\"24px\">\n",
       "    <path d=\"M0 0h24v24H0V0z\" fill=\"none\"/>\n",
       "    <path d=\"M18.56 5.44l.94 2.06.94-2.06 2.06-.94-2.06-.94-.94-2.06-.94 2.06-2.06.94zm-11 1L8.5 8.5l.94-2.06 2.06-.94-2.06-.94L8.5 2.5l-.94 2.06-2.06.94zm10 10l.94 2.06.94-2.06 2.06-.94-2.06-.94-.94-2.06-.94 2.06-2.06.94z\"/><path d=\"M17.41 7.96l-1.37-1.37c-.4-.4-.92-.59-1.43-.59-.52 0-1.04.2-1.43.59L10.3 9.45l-7.72 7.72c-.78.78-.78 2.05 0 2.83L4 21.41c.39.39.9.59 1.41.59.51 0 1.02-.2 1.41-.59l7.78-7.78 2.81-2.81c.8-.78.8-2.07 0-2.86zM5.41 20L4 18.59l7.72-7.72 1.47 1.35L5.41 20z\"/>\n",
       "  </svg>\n",
       "      </button>\n",
       "      \n",
       "  <style>\n",
       "    .colab-df-container {\n",
       "      display:flex;\n",
       "      flex-wrap:wrap;\n",
       "      gap: 12px;\n",
       "    }\n",
       "\n",
       "    .colab-df-convert {\n",
       "      background-color: #E8F0FE;\n",
       "      border: none;\n",
       "      border-radius: 50%;\n",
       "      cursor: pointer;\n",
       "      display: none;\n",
       "      fill: #1967D2;\n",
       "      height: 32px;\n",
       "      padding: 0 0 0 0;\n",
       "      width: 32px;\n",
       "    }\n",
       "\n",
       "    .colab-df-convert:hover {\n",
       "      background-color: #E2EBFA;\n",
       "      box-shadow: 0px 1px 2px rgba(60, 64, 67, 0.3), 0px 1px 3px 1px rgba(60, 64, 67, 0.15);\n",
       "      fill: #174EA6;\n",
       "    }\n",
       "\n",
       "    [theme=dark] .colab-df-convert {\n",
       "      background-color: #3B4455;\n",
       "      fill: #D2E3FC;\n",
       "    }\n",
       "\n",
       "    [theme=dark] .colab-df-convert:hover {\n",
       "      background-color: #434B5C;\n",
       "      box-shadow: 0px 1px 3px 1px rgba(0, 0, 0, 0.15);\n",
       "      filter: drop-shadow(0px 1px 2px rgba(0, 0, 0, 0.3));\n",
       "      fill: #FFFFFF;\n",
       "    }\n",
       "  </style>\n",
       "\n",
       "      <script>\n",
       "        const buttonEl =\n",
       "          document.querySelector('#df-c8b0d84e-596c-47cd-879f-433bfc45e905 button.colab-df-convert');\n",
       "        buttonEl.style.display =\n",
       "          google.colab.kernel.accessAllowed ? 'block' : 'none';\n",
       "\n",
       "        async function convertToInteractive(key) {\n",
       "          const element = document.querySelector('#df-c8b0d84e-596c-47cd-879f-433bfc45e905');\n",
       "          const dataTable =\n",
       "            await google.colab.kernel.invokeFunction('convertToInteractive',\n",
       "                                                     [key], {});\n",
       "          if (!dataTable) return;\n",
       "\n",
       "          const docLinkHtml = 'Like what you see? Visit the ' +\n",
       "            '<a target=\"_blank\" href=https://colab.research.google.com/notebooks/data_table.ipynb>data table notebook</a>'\n",
       "            + ' to learn more about interactive tables.';\n",
       "          element.innerHTML = '';\n",
       "          dataTable['output_type'] = 'display_data';\n",
       "          await google.colab.output.renderOutput(dataTable, element);\n",
       "          const docLink = document.createElement('div');\n",
       "          docLink.innerHTML = docLinkHtml;\n",
       "          element.appendChild(docLink);\n",
       "        }\n",
       "      </script>\n",
       "    </div>\n",
       "  </div>\n",
       "  "
      ],
      "text/plain": [
       "                     Band Name      Band Genre  \\\n",
       "0  Teenage Crazy Blue Knickers  Indie/Alt Rock   \n",
       "1                 Beyond Devon       Pop Music   \n",
       "3                Devon Revival             RnB   \n",
       "4                 Beyond Devon       Pop Music   \n",
       "5   A Dozen Running Iced Frogs       Pop Music   \n",
       "\n",
       "           Band Country of Origin  Band Debut  Concert ID  \n",
       "0  United States of America (USA)      1976.0       900.0  \n",
       "1  United States of America (USA)      1968.0       731.0  \n",
       "3  United States of America (USA)      1992.0       704.0  \n",
       "4  United States of America (USA)      1968.0        95.0  \n",
       "5                          Canada      1998.0       627.0  "
      ]
     },
     "execution_count": 24,
     "metadata": {},
     "output_type": "execute_result"
    }
   ],
   "source": [
    "df1.head() "
   ]
  },
  {
   "cell_type": "code",
   "execution_count": null,
   "metadata": {
    "colab": {
     "base_uri": "https://localhost:8080/",
     "height": 206
    },
    "execution": {
     "iopub.execute_input": "2022-11-25T21:38:36.694797Z",
     "iopub.status.busy": "2022-11-25T21:38:36.694379Z",
     "iopub.status.idle": "2022-11-25T21:38:36.709158Z",
     "shell.execute_reply": "2022-11-25T21:38:36.707960Z"
    },
    "id": "e755f168",
    "outputId": "ad04a135-cc73-4fc4-92ab-284886e11443",
    "papermill": {
     "duration": 0.073527,
     "end_time": "2022-11-25T21:38:36.711648",
     "exception": false,
     "start_time": "2022-11-25T21:38:36.638121",
     "status": "completed"
    },
    "tags": []
   },
   "outputs": [
    {
     "data": {
      "text/html": [
       "\n",
       "  <div id=\"df-18ffb273-0e4e-45f1-a6bc-7264955646dc\">\n",
       "    <div class=\"colab-df-container\">\n",
       "      <div>\n",
       "<style scoped>\n",
       "    .dataframe tbody tr th:only-of-type {\n",
       "        vertical-align: middle;\n",
       "    }\n",
       "\n",
       "    .dataframe tbody tr th {\n",
       "        vertical-align: top;\n",
       "    }\n",
       "\n",
       "    .dataframe thead th {\n",
       "        text-align: right;\n",
       "    }\n",
       "</style>\n",
       "<table border=\"1\" class=\"dataframe\">\n",
       "  <thead>\n",
       "    <tr style=\"text-align: right;\">\n",
       "      <th></th>\n",
       "      <th>Band Name</th>\n",
       "      <th>Band Genre</th>\n",
       "      <th>Band Country of Origin</th>\n",
       "      <th>Band Debut</th>\n",
       "      <th>Concert ID</th>\n",
       "    </tr>\n",
       "  </thead>\n",
       "  <tbody>\n",
       "    <tr>\n",
       "      <th>0</th>\n",
       "      <td>The Crazy Heroes of Devon</td>\n",
       "      <td>Rock n Roll</td>\n",
       "      <td>United States of America (USA)</td>\n",
       "      <td>1980.0</td>\n",
       "      <td>350.0</td>\n",
       "    </tr>\n",
       "    <tr>\n",
       "      <th>1</th>\n",
       "      <td>Joystick for the Jockies</td>\n",
       "      <td>Hip Hop/Rap</td>\n",
       "      <td>United States of America (USA)</td>\n",
       "      <td>2014.0</td>\n",
       "      <td>173.0</td>\n",
       "    </tr>\n",
       "    <tr>\n",
       "      <th>2</th>\n",
       "      <td>Puddle of Joystick</td>\n",
       "      <td>Rock n Roll</td>\n",
       "      <td>Canada</td>\n",
       "      <td>2010.0</td>\n",
       "      <td>502.0</td>\n",
       "    </tr>\n",
       "    <tr>\n",
       "      <th>4</th>\n",
       "      <td>Devon Revival</td>\n",
       "      <td>RnB</td>\n",
       "      <td>United States of America (USA)</td>\n",
       "      <td>1992.0</td>\n",
       "      <td>636.0</td>\n",
       "    </tr>\n",
       "    <tr>\n",
       "      <th>5</th>\n",
       "      <td>Crazyplay</td>\n",
       "      <td>Pop Music</td>\n",
       "      <td>United States of America (USA)</td>\n",
       "      <td>1995.0</td>\n",
       "      <td>790.0</td>\n",
       "    </tr>\n",
       "  </tbody>\n",
       "</table>\n",
       "</div>\n",
       "      <button class=\"colab-df-convert\" onclick=\"convertToInteractive('df-18ffb273-0e4e-45f1-a6bc-7264955646dc')\"\n",
       "              title=\"Convert this dataframe to an interactive table.\"\n",
       "              style=\"display:none;\">\n",
       "        \n",
       "  <svg xmlns=\"http://www.w3.org/2000/svg\" height=\"24px\"viewBox=\"0 0 24 24\"\n",
       "       width=\"24px\">\n",
       "    <path d=\"M0 0h24v24H0V0z\" fill=\"none\"/>\n",
       "    <path d=\"M18.56 5.44l.94 2.06.94-2.06 2.06-.94-2.06-.94-.94-2.06-.94 2.06-2.06.94zm-11 1L8.5 8.5l.94-2.06 2.06-.94-2.06-.94L8.5 2.5l-.94 2.06-2.06.94zm10 10l.94 2.06.94-2.06 2.06-.94-2.06-.94-.94-2.06-.94 2.06-2.06.94z\"/><path d=\"M17.41 7.96l-1.37-1.37c-.4-.4-.92-.59-1.43-.59-.52 0-1.04.2-1.43.59L10.3 9.45l-7.72 7.72c-.78.78-.78 2.05 0 2.83L4 21.41c.39.39.9.59 1.41.59.51 0 1.02-.2 1.41-.59l7.78-7.78 2.81-2.81c.8-.78.8-2.07 0-2.86zM5.41 20L4 18.59l7.72-7.72 1.47 1.35L5.41 20z\"/>\n",
       "  </svg>\n",
       "      </button>\n",
       "      \n",
       "  <style>\n",
       "    .colab-df-container {\n",
       "      display:flex;\n",
       "      flex-wrap:wrap;\n",
       "      gap: 12px;\n",
       "    }\n",
       "\n",
       "    .colab-df-convert {\n",
       "      background-color: #E8F0FE;\n",
       "      border: none;\n",
       "      border-radius: 50%;\n",
       "      cursor: pointer;\n",
       "      display: none;\n",
       "      fill: #1967D2;\n",
       "      height: 32px;\n",
       "      padding: 0 0 0 0;\n",
       "      width: 32px;\n",
       "    }\n",
       "\n",
       "    .colab-df-convert:hover {\n",
       "      background-color: #E2EBFA;\n",
       "      box-shadow: 0px 1px 2px rgba(60, 64, 67, 0.3), 0px 1px 3px 1px rgba(60, 64, 67, 0.15);\n",
       "      fill: #174EA6;\n",
       "    }\n",
       "\n",
       "    [theme=dark] .colab-df-convert {\n",
       "      background-color: #3B4455;\n",
       "      fill: #D2E3FC;\n",
       "    }\n",
       "\n",
       "    [theme=dark] .colab-df-convert:hover {\n",
       "      background-color: #434B5C;\n",
       "      box-shadow: 0px 1px 3px 1px rgba(0, 0, 0, 0.15);\n",
       "      filter: drop-shadow(0px 1px 2px rgba(0, 0, 0, 0.3));\n",
       "      fill: #FFFFFF;\n",
       "    }\n",
       "  </style>\n",
       "\n",
       "      <script>\n",
       "        const buttonEl =\n",
       "          document.querySelector('#df-18ffb273-0e4e-45f1-a6bc-7264955646dc button.colab-df-convert');\n",
       "        buttonEl.style.display =\n",
       "          google.colab.kernel.accessAllowed ? 'block' : 'none';\n",
       "\n",
       "        async function convertToInteractive(key) {\n",
       "          const element = document.querySelector('#df-18ffb273-0e4e-45f1-a6bc-7264955646dc');\n",
       "          const dataTable =\n",
       "            await google.colab.kernel.invokeFunction('convertToInteractive',\n",
       "                                                     [key], {});\n",
       "          if (!dataTable) return;\n",
       "\n",
       "          const docLinkHtml = 'Like what you see? Visit the ' +\n",
       "            '<a target=\"_blank\" href=https://colab.research.google.com/notebooks/data_table.ipynb>data table notebook</a>'\n",
       "            + ' to learn more about interactive tables.';\n",
       "          element.innerHTML = '';\n",
       "          dataTable['output_type'] = 'display_data';\n",
       "          await google.colab.output.renderOutput(dataTable, element);\n",
       "          const docLink = document.createElement('div');\n",
       "          docLink.innerHTML = docLinkHtml;\n",
       "          element.appendChild(docLink);\n",
       "        }\n",
       "      </script>\n",
       "    </div>\n",
       "  </div>\n",
       "  "
      ],
      "text/plain": [
       "                   Band Name   Band Genre          Band Country of Origin  \\\n",
       "0  The Crazy Heroes of Devon  Rock n Roll  United States of America (USA)   \n",
       "1   Joystick for the Jockies  Hip Hop/Rap  United States of America (USA)   \n",
       "2         Puddle of Joystick  Rock n Roll                          Canada   \n",
       "4              Devon Revival          RnB  United States of America (USA)   \n",
       "5                  Crazyplay    Pop Music  United States of America (USA)   \n",
       "\n",
       "   Band Debut  Concert ID  \n",
       "0      1980.0       350.0  \n",
       "1      2014.0       173.0  \n",
       "2      2010.0       502.0  \n",
       "4      1992.0       636.0  \n",
       "5      1995.0       790.0  "
      ]
     },
     "execution_count": 25,
     "metadata": {},
     "output_type": "execute_result"
    }
   ],
   "source": [
    "test_df1.head()"
   ]
  },
  {
   "cell_type": "code",
   "execution_count": null,
   "metadata": {
    "colab": {
     "base_uri": "https://localhost:8080/",
     "height": 35
    },
    "execution": {
     "iopub.execute_input": "2022-11-25T21:38:36.808187Z",
     "iopub.status.busy": "2022-11-25T21:38:36.807371Z",
     "iopub.status.idle": "2022-11-25T21:38:36.821760Z",
     "shell.execute_reply": "2022-11-25T21:38:36.820410Z"
    },
    "id": "735d642e",
    "outputId": "c44f6f3d-e971-4572-b982-b7137643342e",
    "papermill": {
     "duration": 0.065189,
     "end_time": "2022-11-25T21:38:36.824400",
     "exception": false,
     "start_time": "2022-11-25T21:38:36.759211",
     "status": "completed"
    },
    "tags": []
   },
   "outputs": [
    {
     "data": {
      "application/vnd.google.colaboratory.intrinsic+json": {
       "type": "string"
      },
      "text/plain": [
       "'Hip Hop/Rap'"
      ]
     },
     "execution_count": 26,
     "metadata": {},
     "output_type": "execute_result"
    }
   ],
   "source": [
    "df2 = df1[[\"Band Name\" , \"Band Genre\"]].drop_duplicates()\n",
    "test_df2 =  test_df1[[\"Band Name\" , \"Band Genre\"]].drop_duplicates()\n",
    "df2.loc[df2[\"Band Name\"] == \"Twilight of the Joystick Gods\"][\"Band Genre\"].to_list()[0]"
   ]
  },
  {
   "cell_type": "code",
   "execution_count": null,
   "metadata": {
    "execution": {
     "iopub.execute_input": "2022-11-25T21:38:36.922841Z",
     "iopub.status.busy": "2022-11-25T21:38:36.921999Z",
     "iopub.status.idle": "2022-11-25T21:38:38.199444Z",
     "shell.execute_reply": "2022-11-25T21:38:38.198096Z"
    },
    "id": "777bb800",
    "papermill": {
     "duration": 1.329799,
     "end_time": "2022-11-25T21:38:38.202493",
     "exception": false,
     "start_time": "2022-11-25T21:38:36.872694",
     "status": "completed"
    },
    "tags": []
   },
   "outputs": [],
   "source": [
    "len(features[\"Band Name\"].unique()) , len(df1[\"Band Name\"].unique())\n",
    "for name in df2[\"Band Name\"].unique():\n",
    "    genre = df2.loc[df2[\"Band Name\"] == name][\"Band Genre\"].to_list()[0]\n",
    "    features.loc[(features[\"Band Name\"] == name ) & (features[\"Band Genre\"].isna()), \"Band Genre\"] = genre"
   ]
  },
  {
   "cell_type": "code",
   "execution_count": null,
   "metadata": {
    "execution": {
     "iopub.execute_input": "2022-11-25T21:38:38.301297Z",
     "iopub.status.busy": "2022-11-25T21:38:38.300440Z",
     "iopub.status.idle": "2022-11-25T21:38:38.586401Z",
     "shell.execute_reply": "2022-11-25T21:38:38.585170Z"
    },
    "id": "45d91b29",
    "papermill": {
     "duration": 0.339718,
     "end_time": "2022-11-25T21:38:38.589313",
     "exception": false,
     "start_time": "2022-11-25T21:38:38.249595",
     "status": "completed"
    },
    "tags": []
   },
   "outputs": [],
   "source": [
    "for name in test_df2[\"Band Name\"].unique():\n",
    "    genre = test_df2.loc[test_df2[\"Band Name\"] == name][\"Band Genre\"].to_list()[0]\n",
    "    test_features.loc[(test_features[\"Band Name\"] == name ) & (test_features[\"Band Genre\"].isna()), \"Band Genre\"] = genre"
   ]
  },
  {
   "cell_type": "code",
   "execution_count": null,
   "metadata": {
    "colab": {
     "base_uri": "https://localhost:8080/"
    },
    "execution": {
     "iopub.execute_input": "2022-11-25T21:38:38.686421Z",
     "iopub.status.busy": "2022-11-25T21:38:38.685726Z",
     "iopub.status.idle": "2022-11-25T21:38:38.696576Z",
     "shell.execute_reply": "2022-11-25T21:38:38.695392Z"
    },
    "id": "cb8066f4",
    "outputId": "e7cfe9a2-93e2-4d19-f784-c61b4abd3952",
    "papermill": {
     "duration": 0.063416,
     "end_time": "2022-11-25T21:38:38.699095",
     "exception": false,
     "start_time": "2022-11-25T21:38:38.635679",
     "status": "completed"
    },
    "tags": []
   },
   "outputs": [
    {
     "data": {
      "text/plain": [
       "(857, 157)"
      ]
     },
     "execution_count": 29,
     "metadata": {},
     "output_type": "execute_result"
    }
   ],
   "source": [
    "len(features.loc[features[\"Band Debut\"].isna()]) , len(test_features.loc[test_features[\"Band Debut\"].isna()])"
   ]
  },
  {
   "cell_type": "code",
   "execution_count": null,
   "metadata": {
    "execution": {
     "iopub.execute_input": "2022-11-25T21:38:38.796273Z",
     "iopub.status.busy": "2022-11-25T21:38:38.795823Z",
     "iopub.status.idle": "2022-11-25T21:38:39.546653Z",
     "shell.execute_reply": "2022-11-25T21:38:39.545027Z"
    },
    "id": "3c691a3a",
    "papermill": {
     "duration": 0.801853,
     "end_time": "2022-11-25T21:38:39.549419",
     "exception": false,
     "start_time": "2022-11-25T21:38:38.747566",
     "status": "completed"
    },
    "tags": []
   },
   "outputs": [],
   "source": [
    "df3 = df1[[\"Band Name\" , \"Band Debut\"]].drop_duplicates()\n",
    "for name in df2[\"Band Name\"].unique():\n",
    "    dod = df3.loc[df3[\"Band Name\"] == name][\"Band Debut\"].to_list()[0]\n",
    "    features.loc[(features[\"Band Name\"] == name ) & (features[\"Band Debut\"].isna()), \"Band Debut\"] = dod"
   ]
  },
  {
   "cell_type": "code",
   "execution_count": null,
   "metadata": {
    "execution": {
     "iopub.execute_input": "2022-11-25T21:38:39.719854Z",
     "iopub.status.busy": "2022-11-25T21:38:39.719423Z",
     "iopub.status.idle": "2022-11-25T21:38:39.917583Z",
     "shell.execute_reply": "2022-11-25T21:38:39.916290Z"
    },
    "id": "d75d1d87",
    "papermill": {
     "duration": 0.324589,
     "end_time": "2022-11-25T21:38:39.920387",
     "exception": false,
     "start_time": "2022-11-25T21:38:39.595798",
     "status": "completed"
    },
    "tags": []
   },
   "outputs": [],
   "source": [
    "test_df3 = test_df1[[\"Band Name\" , \"Band Debut\"]].drop_duplicates()\n",
    "for name in test_df2[\"Band Name\"].unique():\n",
    "    dod = test_df3.loc[test_df3[\"Band Name\"] == name][\"Band Debut\"].to_list()[0]\n",
    "    test_features.loc[(test_features[\"Band Name\"] == name ) & (test_features[\"Band Debut\"].isna()), \"Band Debut\"] = dod"
   ]
  },
  {
   "cell_type": "code",
   "execution_count": null,
   "metadata": {
    "colab": {
     "base_uri": "https://localhost:8080/",
     "height": 278
    },
    "execution": {
     "iopub.execute_input": "2022-11-25T21:38:40.020136Z",
     "iopub.status.busy": "2022-11-25T21:38:40.019022Z",
     "iopub.status.idle": "2022-11-25T21:38:40.039841Z",
     "shell.execute_reply": "2022-11-25T21:38:40.038681Z"
    },
    "id": "4f9e631e",
    "outputId": "e9854f4a-df3c-475e-8748-f4bb27aa6ce1",
    "papermill": {
     "duration": 0.075563,
     "end_time": "2022-11-25T21:38:40.042199",
     "exception": false,
     "start_time": "2022-11-25T21:38:39.966636",
     "status": "completed"
    },
    "tags": []
   },
   "outputs": [
    {
     "data": {
      "text/html": [
       "\n",
       "  <div id=\"df-cbc4539f-6724-4971-982f-d5ac1614680c\">\n",
       "    <div class=\"colab-df-container\">\n",
       "      <div>\n",
       "<style scoped>\n",
       "    .dataframe tbody tr th:only-of-type {\n",
       "        vertical-align: middle;\n",
       "    }\n",
       "\n",
       "    .dataframe tbody tr th {\n",
       "        vertical-align: top;\n",
       "    }\n",
       "\n",
       "    .dataframe thead th {\n",
       "        text-align: right;\n",
       "    }\n",
       "</style>\n",
       "<table border=\"1\" class=\"dataframe\">\n",
       "  <thead>\n",
       "    <tr style=\"text-align: right;\">\n",
       "      <th></th>\n",
       "      <th>Band Name</th>\n",
       "      <th>Band Genre</th>\n",
       "      <th>Band Country of Origin</th>\n",
       "      <th>Band Debut</th>\n",
       "      <th>Concert ID</th>\n",
       "      <th>Concert Attendance</th>\n",
       "      <th>Inside Venue</th>\n",
       "      <th>Rain</th>\n",
       "      <th>Seated</th>\n",
       "      <th>Personnality Trait 1</th>\n",
       "      <th>Personnality Trait 2</th>\n",
       "      <th>Personnality Trait 3</th>\n",
       "      <th>Personnality Trait 4</th>\n",
       "      <th>Concert Goer Age</th>\n",
       "      <th>Concert Goer ID</th>\n",
       "      <th>Height (cm)</th>\n",
       "      <th>Concert Goer Country of Origin</th>\n",
       "    </tr>\n",
       "  </thead>\n",
       "  <tbody>\n",
       "    <tr>\n",
       "      <th>5180</th>\n",
       "      <td>NaN</td>\n",
       "      <td>Heavy Metal</td>\n",
       "      <td>United States of America (USA)</td>\n",
       "      <td>NaN</td>\n",
       "      <td>767.0</td>\n",
       "      <td>2980.0</td>\n",
       "      <td>False</td>\n",
       "      <td>False</td>\n",
       "      <td>True</td>\n",
       "      <td>0.174657</td>\n",
       "      <td>-0.738140</td>\n",
       "      <td>0.727398</td>\n",
       "      <td>-0.668455</td>\n",
       "      <td>71.0</td>\n",
       "      <td>1885</td>\n",
       "      <td>150.0</td>\n",
       "      <td>Canada</td>\n",
       "    </tr>\n",
       "    <tr>\n",
       "      <th>146893</th>\n",
       "      <td>NaN</td>\n",
       "      <td>Hip Hop/Rap</td>\n",
       "      <td>Canada</td>\n",
       "      <td>NaN</td>\n",
       "      <td>125.0</td>\n",
       "      <td>1096.0</td>\n",
       "      <td>False</td>\n",
       "      <td>False</td>\n",
       "      <td>False</td>\n",
       "      <td>0.423639</td>\n",
       "      <td>1.288772</td>\n",
       "      <td>1.441726</td>\n",
       "      <td>-1.544930</td>\n",
       "      <td>33.0</td>\n",
       "      <td>561</td>\n",
       "      <td>179.0</td>\n",
       "      <td>United Kingdom (UK)</td>\n",
       "    </tr>\n",
       "  </tbody>\n",
       "</table>\n",
       "</div>\n",
       "      <button class=\"colab-df-convert\" onclick=\"convertToInteractive('df-cbc4539f-6724-4971-982f-d5ac1614680c')\"\n",
       "              title=\"Convert this dataframe to an interactive table.\"\n",
       "              style=\"display:none;\">\n",
       "        \n",
       "  <svg xmlns=\"http://www.w3.org/2000/svg\" height=\"24px\"viewBox=\"0 0 24 24\"\n",
       "       width=\"24px\">\n",
       "    <path d=\"M0 0h24v24H0V0z\" fill=\"none\"/>\n",
       "    <path d=\"M18.56 5.44l.94 2.06.94-2.06 2.06-.94-2.06-.94-.94-2.06-.94 2.06-2.06.94zm-11 1L8.5 8.5l.94-2.06 2.06-.94-2.06-.94L8.5 2.5l-.94 2.06-2.06.94zm10 10l.94 2.06.94-2.06 2.06-.94-2.06-.94-.94-2.06-.94 2.06-2.06.94z\"/><path d=\"M17.41 7.96l-1.37-1.37c-.4-.4-.92-.59-1.43-.59-.52 0-1.04.2-1.43.59L10.3 9.45l-7.72 7.72c-.78.78-.78 2.05 0 2.83L4 21.41c.39.39.9.59 1.41.59.51 0 1.02-.2 1.41-.59l7.78-7.78 2.81-2.81c.8-.78.8-2.07 0-2.86zM5.41 20L4 18.59l7.72-7.72 1.47 1.35L5.41 20z\"/>\n",
       "  </svg>\n",
       "      </button>\n",
       "      \n",
       "  <style>\n",
       "    .colab-df-container {\n",
       "      display:flex;\n",
       "      flex-wrap:wrap;\n",
       "      gap: 12px;\n",
       "    }\n",
       "\n",
       "    .colab-df-convert {\n",
       "      background-color: #E8F0FE;\n",
       "      border: none;\n",
       "      border-radius: 50%;\n",
       "      cursor: pointer;\n",
       "      display: none;\n",
       "      fill: #1967D2;\n",
       "      height: 32px;\n",
       "      padding: 0 0 0 0;\n",
       "      width: 32px;\n",
       "    }\n",
       "\n",
       "    .colab-df-convert:hover {\n",
       "      background-color: #E2EBFA;\n",
       "      box-shadow: 0px 1px 2px rgba(60, 64, 67, 0.3), 0px 1px 3px 1px rgba(60, 64, 67, 0.15);\n",
       "      fill: #174EA6;\n",
       "    }\n",
       "\n",
       "    [theme=dark] .colab-df-convert {\n",
       "      background-color: #3B4455;\n",
       "      fill: #D2E3FC;\n",
       "    }\n",
       "\n",
       "    [theme=dark] .colab-df-convert:hover {\n",
       "      background-color: #434B5C;\n",
       "      box-shadow: 0px 1px 3px 1px rgba(0, 0, 0, 0.15);\n",
       "      filter: drop-shadow(0px 1px 2px rgba(0, 0, 0, 0.3));\n",
       "      fill: #FFFFFF;\n",
       "    }\n",
       "  </style>\n",
       "\n",
       "      <script>\n",
       "        const buttonEl =\n",
       "          document.querySelector('#df-cbc4539f-6724-4971-982f-d5ac1614680c button.colab-df-convert');\n",
       "        buttonEl.style.display =\n",
       "          google.colab.kernel.accessAllowed ? 'block' : 'none';\n",
       "\n",
       "        async function convertToInteractive(key) {\n",
       "          const element = document.querySelector('#df-cbc4539f-6724-4971-982f-d5ac1614680c');\n",
       "          const dataTable =\n",
       "            await google.colab.kernel.invokeFunction('convertToInteractive',\n",
       "                                                     [key], {});\n",
       "          if (!dataTable) return;\n",
       "\n",
       "          const docLinkHtml = 'Like what you see? Visit the ' +\n",
       "            '<a target=\"_blank\" href=https://colab.research.google.com/notebooks/data_table.ipynb>data table notebook</a>'\n",
       "            + ' to learn more about interactive tables.';\n",
       "          element.innerHTML = '';\n",
       "          dataTable['output_type'] = 'display_data';\n",
       "          await google.colab.output.renderOutput(dataTable, element);\n",
       "          const docLink = document.createElement('div');\n",
       "          docLink.innerHTML = docLinkHtml;\n",
       "          element.appendChild(docLink);\n",
       "        }\n",
       "      </script>\n",
       "    </div>\n",
       "  </div>\n",
       "  "
      ],
      "text/plain": [
       "       Band Name   Band Genre          Band Country of Origin  Band Debut  \\\n",
       "5180         NaN  Heavy Metal  United States of America (USA)         NaN   \n",
       "146893       NaN  Hip Hop/Rap                          Canada         NaN   \n",
       "\n",
       "        Concert ID  Concert Attendance Inside Venue   Rain Seated  \\\n",
       "5180         767.0              2980.0        False  False   True   \n",
       "146893       125.0              1096.0        False  False  False   \n",
       "\n",
       "        Personnality Trait 1  Personnality Trait 2  Personnality Trait 3  \\\n",
       "5180                0.174657             -0.738140              0.727398   \n",
       "146893              0.423639              1.288772              1.441726   \n",
       "\n",
       "        Personnality Trait 4  Concert Goer Age Concert Goer ID  Height (cm)  \\\n",
       "5180               -0.668455              71.0            1885        150.0   \n",
       "146893             -1.544930              33.0             561        179.0   \n",
       "\n",
       "       Concert Goer Country of Origin  \n",
       "5180                           Canada  \n",
       "146893            United Kingdom (UK)  "
      ]
     },
     "execution_count": 32,
     "metadata": {},
     "output_type": "execute_result"
    }
   ],
   "source": [
    "features.loc[features[\"Band Debut\"].isna()]"
   ]
  },
  {
   "cell_type": "code",
   "execution_count": null,
   "metadata": {
    "colab": {
     "base_uri": "https://localhost:8080/",
     "height": 194
    },
    "execution": {
     "iopub.execute_input": "2022-11-25T21:38:40.139619Z",
     "iopub.status.busy": "2022-11-25T21:38:40.138747Z",
     "iopub.status.idle": "2022-11-25T21:38:40.160038Z",
     "shell.execute_reply": "2022-11-25T21:38:40.158807Z"
    },
    "id": "1af00859",
    "outputId": "eda42173-f3ff-4135-a057-735a908013b5",
    "papermill": {
     "duration": 0.0737,
     "end_time": "2022-11-25T21:38:40.162537",
     "exception": false,
     "start_time": "2022-11-25T21:38:40.088837",
     "status": "completed"
    },
    "tags": []
   },
   "outputs": [
    {
     "data": {
      "text/html": [
       "\n",
       "  <div id=\"df-2b5209f1-a269-4b9d-9046-062a5249ba4d\">\n",
       "    <div class=\"colab-df-container\">\n",
       "      <div>\n",
       "<style scoped>\n",
       "    .dataframe tbody tr th:only-of-type {\n",
       "        vertical-align: middle;\n",
       "    }\n",
       "\n",
       "    .dataframe tbody tr th {\n",
       "        vertical-align: top;\n",
       "    }\n",
       "\n",
       "    .dataframe thead th {\n",
       "        text-align: right;\n",
       "    }\n",
       "</style>\n",
       "<table border=\"1\" class=\"dataframe\">\n",
       "  <thead>\n",
       "    <tr style=\"text-align: right;\">\n",
       "      <th></th>\n",
       "      <th>Band Name</th>\n",
       "      <th>Band Genre</th>\n",
       "      <th>Band Country of Origin</th>\n",
       "      <th>Band Debut</th>\n",
       "      <th>Concert ID</th>\n",
       "      <th>Concert Attendance</th>\n",
       "      <th>Inside Venue</th>\n",
       "      <th>Rain</th>\n",
       "      <th>Seated</th>\n",
       "      <th>Personnality Trait 1</th>\n",
       "      <th>Personnality Trait 2</th>\n",
       "      <th>Personnality Trait 3</th>\n",
       "      <th>Personnality Trait 4</th>\n",
       "      <th>Concert Goer Age</th>\n",
       "      <th>Concert Goer ID</th>\n",
       "      <th>Height (cm)</th>\n",
       "      <th>Concert Goer Country of Origin</th>\n",
       "    </tr>\n",
       "  </thead>\n",
       "  <tbody>\n",
       "    <tr>\n",
       "      <th>17478</th>\n",
       "      <td>NaN</td>\n",
       "      <td>RnB</td>\n",
       "      <td>United States of America (USA)</td>\n",
       "      <td>NaN</td>\n",
       "      <td>309.0</td>\n",
       "      <td>8103.0</td>\n",
       "      <td>False</td>\n",
       "      <td>True</td>\n",
       "      <td>True</td>\n",
       "      <td>0.628007</td>\n",
       "      <td>2.279765</td>\n",
       "      <td>-1.832654</td>\n",
       "      <td>0.541213</td>\n",
       "      <td>52.0</td>\n",
       "      <td>511</td>\n",
       "      <td>173.0</td>\n",
       "      <td>Canada</td>\n",
       "    </tr>\n",
       "  </tbody>\n",
       "</table>\n",
       "</div>\n",
       "      <button class=\"colab-df-convert\" onclick=\"convertToInteractive('df-2b5209f1-a269-4b9d-9046-062a5249ba4d')\"\n",
       "              title=\"Convert this dataframe to an interactive table.\"\n",
       "              style=\"display:none;\">\n",
       "        \n",
       "  <svg xmlns=\"http://www.w3.org/2000/svg\" height=\"24px\"viewBox=\"0 0 24 24\"\n",
       "       width=\"24px\">\n",
       "    <path d=\"M0 0h24v24H0V0z\" fill=\"none\"/>\n",
       "    <path d=\"M18.56 5.44l.94 2.06.94-2.06 2.06-.94-2.06-.94-.94-2.06-.94 2.06-2.06.94zm-11 1L8.5 8.5l.94-2.06 2.06-.94-2.06-.94L8.5 2.5l-.94 2.06-2.06.94zm10 10l.94 2.06.94-2.06 2.06-.94-2.06-.94-.94-2.06-.94 2.06-2.06.94z\"/><path d=\"M17.41 7.96l-1.37-1.37c-.4-.4-.92-.59-1.43-.59-.52 0-1.04.2-1.43.59L10.3 9.45l-7.72 7.72c-.78.78-.78 2.05 0 2.83L4 21.41c.39.39.9.59 1.41.59.51 0 1.02-.2 1.41-.59l7.78-7.78 2.81-2.81c.8-.78.8-2.07 0-2.86zM5.41 20L4 18.59l7.72-7.72 1.47 1.35L5.41 20z\"/>\n",
       "  </svg>\n",
       "      </button>\n",
       "      \n",
       "  <style>\n",
       "    .colab-df-container {\n",
       "      display:flex;\n",
       "      flex-wrap:wrap;\n",
       "      gap: 12px;\n",
       "    }\n",
       "\n",
       "    .colab-df-convert {\n",
       "      background-color: #E8F0FE;\n",
       "      border: none;\n",
       "      border-radius: 50%;\n",
       "      cursor: pointer;\n",
       "      display: none;\n",
       "      fill: #1967D2;\n",
       "      height: 32px;\n",
       "      padding: 0 0 0 0;\n",
       "      width: 32px;\n",
       "    }\n",
       "\n",
       "    .colab-df-convert:hover {\n",
       "      background-color: #E2EBFA;\n",
       "      box-shadow: 0px 1px 2px rgba(60, 64, 67, 0.3), 0px 1px 3px 1px rgba(60, 64, 67, 0.15);\n",
       "      fill: #174EA6;\n",
       "    }\n",
       "\n",
       "    [theme=dark] .colab-df-convert {\n",
       "      background-color: #3B4455;\n",
       "      fill: #D2E3FC;\n",
       "    }\n",
       "\n",
       "    [theme=dark] .colab-df-convert:hover {\n",
       "      background-color: #434B5C;\n",
       "      box-shadow: 0px 1px 3px 1px rgba(0, 0, 0, 0.15);\n",
       "      filter: drop-shadow(0px 1px 2px rgba(0, 0, 0, 0.3));\n",
       "      fill: #FFFFFF;\n",
       "    }\n",
       "  </style>\n",
       "\n",
       "      <script>\n",
       "        const buttonEl =\n",
       "          document.querySelector('#df-2b5209f1-a269-4b9d-9046-062a5249ba4d button.colab-df-convert');\n",
       "        buttonEl.style.display =\n",
       "          google.colab.kernel.accessAllowed ? 'block' : 'none';\n",
       "\n",
       "        async function convertToInteractive(key) {\n",
       "          const element = document.querySelector('#df-2b5209f1-a269-4b9d-9046-062a5249ba4d');\n",
       "          const dataTable =\n",
       "            await google.colab.kernel.invokeFunction('convertToInteractive',\n",
       "                                                     [key], {});\n",
       "          if (!dataTable) return;\n",
       "\n",
       "          const docLinkHtml = 'Like what you see? Visit the ' +\n",
       "            '<a target=\"_blank\" href=https://colab.research.google.com/notebooks/data_table.ipynb>data table notebook</a>'\n",
       "            + ' to learn more about interactive tables.';\n",
       "          element.innerHTML = '';\n",
       "          dataTable['output_type'] = 'display_data';\n",
       "          await google.colab.output.renderOutput(dataTable, element);\n",
       "          const docLink = document.createElement('div');\n",
       "          docLink.innerHTML = docLinkHtml;\n",
       "          element.appendChild(docLink);\n",
       "        }\n",
       "      </script>\n",
       "    </div>\n",
       "  </div>\n",
       "  "
      ],
      "text/plain": [
       "      Band Name Band Genre          Band Country of Origin  Band Debut  \\\n",
       "17478       NaN        RnB  United States of America (USA)         NaN   \n",
       "\n",
       "       Concert ID  Concert Attendance Inside Venue  Rain Seated  \\\n",
       "17478       309.0              8103.0        False  True   True   \n",
       "\n",
       "       Personnality Trait 1  Personnality Trait 2  Personnality Trait 3  \\\n",
       "17478              0.628007              2.279765             -1.832654   \n",
       "\n",
       "       Personnality Trait 4  Concert Goer Age Concert Goer ID  Height (cm)  \\\n",
       "17478              0.541213              52.0             511        173.0   \n",
       "\n",
       "      Concert Goer Country of Origin  \n",
       "17478                         Canada  "
      ]
     },
     "execution_count": 33,
     "metadata": {},
     "output_type": "execute_result"
    }
   ],
   "source": [
    "test_features.loc[test_features[\"Band Debut\"].isna()]"
   ]
  },
  {
   "cell_type": "code",
   "execution_count": null,
   "metadata": {
    "execution": {
     "iopub.execute_input": "2022-11-25T21:38:40.260213Z",
     "iopub.status.busy": "2022-11-25T21:38:40.259472Z",
     "iopub.status.idle": "2022-11-25T21:38:40.329978Z",
     "shell.execute_reply": "2022-11-25T21:38:40.328582Z"
    },
    "id": "6015e5c6",
    "papermill": {
     "duration": 0.122398,
     "end_time": "2022-11-25T21:38:40.333060",
     "exception": false,
     "start_time": "2022-11-25T21:38:40.210662",
     "status": "completed"
    },
    "tags": []
   },
   "outputs": [],
   "source": [
    "features.loc[(features[\"Concert ID\"] == 767) & (features.isna().any(axis=1)) , [\"Band Name\" , \"Band Debut\"]] = [\"Disciples Of Devon\" , 1988.0]"
   ]
  },
  {
   "cell_type": "code",
   "execution_count": null,
   "metadata": {
    "execution": {
     "iopub.execute_input": "2022-11-25T21:38:40.430874Z",
     "iopub.status.busy": "2022-11-25T21:38:40.430428Z",
     "iopub.status.idle": "2022-11-25T21:38:40.452640Z",
     "shell.execute_reply": "2022-11-25T21:38:40.451057Z"
    },
    "id": "da5fd9a0",
    "papermill": {
     "duration": 0.075097,
     "end_time": "2022-11-25T21:38:40.455532",
     "exception": false,
     "start_time": "2022-11-25T21:38:40.380435",
     "status": "completed"
    },
    "tags": []
   },
   "outputs": [],
   "source": [
    "t = test_features.loc[test_features[\"Concert ID\"] == 309][['Band Name' , \"Band Debut\"]].iloc[0]\n",
    "test_features.loc[(test_features[\"Concert ID\"] == 309) & (test_features.isna().any(axis=1)) , [\"Band Name\" , \"Band Debut\"]] = [t[\"Band Name\"] , t[\"Band Debut\"]]"
   ]
  },
  {
   "cell_type": "code",
   "execution_count": null,
   "metadata": {
    "execution": {
     "iopub.execute_input": "2022-11-25T21:38:40.552972Z",
     "iopub.status.busy": "2022-11-25T21:38:40.552453Z",
     "iopub.status.idle": "2022-11-25T21:38:41.846665Z",
     "shell.execute_reply": "2022-11-25T21:38:41.845369Z"
    },
    "id": "5e423d1f",
    "papermill": {
     "duration": 1.345656,
     "end_time": "2022-11-25T21:38:41.849329",
     "exception": false,
     "start_time": "2022-11-25T21:38:40.503673",
     "status": "completed"
    },
    "tags": []
   },
   "outputs": [],
   "source": [
    "df4 = df1[[\"Band Name\" , \"Band Country of Origin\"]].drop_duplicates()\n",
    "for name in df4[\"Band Name\"].unique():\n",
    "    coo = df4.loc[df4[\"Band Name\"] == name][\"Band Country of Origin\"].to_list()[0]\n",
    "    features.loc[(features[\"Band Name\"] == name ) & (features[\"Band Country of Origin\"].isna()), \"Band Country of Origin\"] = coo"
   ]
  },
  {
   "cell_type": "code",
   "execution_count": null,
   "metadata": {
    "execution": {
     "iopub.execute_input": "2022-11-25T21:38:41.949666Z",
     "iopub.status.busy": "2022-11-25T21:38:41.949238Z",
     "iopub.status.idle": "2022-11-25T21:38:42.244925Z",
     "shell.execute_reply": "2022-11-25T21:38:42.243922Z"
    },
    "id": "15822052",
    "papermill": {
     "duration": 0.350535,
     "end_time": "2022-11-25T21:38:42.247453",
     "exception": false,
     "start_time": "2022-11-25T21:38:41.896918",
     "status": "completed"
    },
    "tags": []
   },
   "outputs": [],
   "source": [
    "test_df4 = test_df1[[\"Band Name\" , \"Band Country of Origin\"]].drop_duplicates()\n",
    "for name in test_df4[\"Band Name\"].unique():\n",
    "    coo = test_df4.loc[test_df4[\"Band Name\"] == name][\"Band Country of Origin\"].to_list()[0]\n",
    "    test_features.loc[(test_features[\"Band Name\"] == name ) & (test_features[\"Band Country of Origin\"].isna()), \"Band Country of Origin\"] = coo"
   ]
  },
  {
   "cell_type": "code",
   "execution_count": null,
   "metadata": {
    "execution": {
     "iopub.execute_input": "2022-11-25T21:38:42.348337Z",
     "iopub.status.busy": "2022-11-25T21:38:42.347159Z",
     "iopub.status.idle": "2022-11-25T21:38:42.373445Z",
     "shell.execute_reply": "2022-11-25T21:38:42.372141Z"
    },
    "id": "caf69774",
    "papermill": {
     "duration": 0.07942,
     "end_time": "2022-11-25T21:38:42.376105",
     "exception": false,
     "start_time": "2022-11-25T21:38:42.296685",
     "status": "completed"
    },
    "tags": []
   },
   "outputs": [],
   "source": [
    "CID = features.loc[features[\"Band Country of Origin\"].isna()][\"Concert ID\"].values[0]\n",
    "features.loc[(features[\"Concert ID\"] == CID)& (features[\"Band Country of Origin\"].isna()) ,\"Band Country of Origin\" ] = \"United States of America (USA)\" "
   ]
  },
  {
   "cell_type": "code",
   "execution_count": null,
   "metadata": {
    "execution": {
     "iopub.execute_input": "2022-11-25T21:38:42.474661Z",
     "iopub.status.busy": "2022-11-25T21:38:42.474233Z",
     "iopub.status.idle": "2022-11-25T21:38:42.486162Z",
     "shell.execute_reply": "2022-11-25T21:38:42.484931Z"
    },
    "id": "e9017983",
    "papermill": {
     "duration": 0.06413,
     "end_time": "2022-11-25T21:38:42.488975",
     "exception": false,
     "start_time": "2022-11-25T21:38:42.424845",
     "status": "completed"
    },
    "tags": []
   },
   "outputs": [],
   "source": [
    "test_CID = test_features.loc[test_features[\"Band Country of Origin\"].isna()][\"Concert ID\"].values[0]\n",
    "test_features.loc[(test_features[\"Concert ID\"] == CID)& (test_features[\"Band Country of Origin\"].isna()) ,\"Band Country of Origin\" ] = \"United States of America (USA)\" "
   ]
  },
  {
   "cell_type": "code",
   "execution_count": null,
   "metadata": {
    "colab": {
     "base_uri": "https://localhost:8080/"
    },
    "execution": {
     "iopub.execute_input": "2022-11-25T21:38:42.588417Z",
     "iopub.status.busy": "2022-11-25T21:38:42.587988Z",
     "iopub.status.idle": "2022-11-25T21:38:42.617896Z",
     "shell.execute_reply": "2022-11-25T21:38:42.616767Z"
    },
    "id": "36fe5c2b",
    "outputId": "01644c9c-cc5e-410d-c4c2-3535909bbd1f",
    "papermill": {
     "duration": 0.081697,
     "end_time": "2022-11-25T21:38:42.620255",
     "exception": false,
     "start_time": "2022-11-25T21:38:42.538558",
     "status": "completed"
    },
    "tags": []
   },
   "outputs": [
    {
     "data": {
      "text/plain": [
       "(array(['Teenage Crazy Blue Knickers', 'Beyond Devon', 'Ron Talent',\n",
       "        'Devon Revival', 'A Dozen Running Iced Frogs', 'Big Joystick',\n",
       "        \"Ron's Midnight Jockies\", 'Running in Devon', 'Running Twins',\n",
       "        'Ronatron', 'Big Division', 'The Crazy Heroes of Devon',\n",
       "        'My Heart, Your Thighs', nan, 'Joystick Army', 'This Joystick',\n",
       "        'Disciples Of Devon', 'Purely Blue', 'Crazy Crazy', 'King Blue',\n",
       "        'Why Frogs, Why?', 'Twilight of the Joystick Gods',\n",
       "        'Crazy Joystick Cult', 'Joystick of the Big Knickers',\n",
       "        'Joystick for the Jockies', 'Joystick A Dozen', 'Frogsica',\n",
       "        'Rubbish Devon Frogs', 'Running for the Crazy Woman',\n",
       "        'Knickers for the Jockies', 'Knickers A Dozen',\n",
       "        'The Running Crazy Jockies', 'Running at the Disco', 'Big Autumn',\n",
       "        'Crazy Dream and a Pinch of Joystick', 'Puddle of Joystick',\n",
       "        \"It's My Joystick\", 'Joystick Attack', 'Crazyplay',\n",
       "        'Devon Thunder Thighs', 'The Running Knickers',\n",
       "        'Taking Back Autumn', 'Undercover Joystick and the Crazy Knickers',\n",
       "        'Flight of the Knickers', 'Lord of the Crazy Frogs',\n",
       "        'Crazy Frogs of Devon', 'Big Frogs Dream', 'Das Joystick',\n",
       "        'The Crazy R Experience', 'Allo Knickers', 'Ron Nor',\n",
       "        'Super Crazy Frogs', 'The Big Service', 'Crazy Tooth'],\n",
       "       dtype=object),\n",
       " array(['United States of America (USA)', 'Canada', 'United Kingdom (UK)',\n",
       "        nan], dtype=object))"
      ]
     },
     "execution_count": 40,
     "metadata": {},
     "output_type": "execute_result"
    }
   ],
   "source": [
    "features[\"Band Name\"].unique() , features[\"Band Country of Origin\"].unique()"
   ]
  },
  {
   "cell_type": "code",
   "execution_count": null,
   "metadata": {
    "execution": {
     "iopub.execute_input": "2022-11-25T21:38:42.717796Z",
     "iopub.status.busy": "2022-11-25T21:38:42.717302Z",
     "iopub.status.idle": "2022-11-25T21:38:55.148573Z",
     "shell.execute_reply": "2022-11-25T21:38:55.147382Z"
    },
    "id": "7ac62d33",
    "papermill": {
     "duration": 12.484165,
     "end_time": "2022-11-25T21:38:55.151475",
     "exception": false,
     "start_time": "2022-11-25T21:38:42.667310",
     "status": "completed"
    },
    "tags": []
   },
   "outputs": [],
   "source": [
    "for ids in df1[\"Concert ID\"].unique():\n",
    "    Name = df1.loc[df1[\"Concert ID\"] == ids][\"Band Name\"].to_list()[0]\n",
    "    features.loc[(features[\"Concert ID\"] == ids ) &(features[\"Band Name\"].isna()) , \"Band Name\"] = Name"
   ]
  },
  {
   "cell_type": "code",
   "execution_count": null,
   "metadata": {
    "execution": {
     "iopub.execute_input": "2022-11-25T21:38:55.246991Z",
     "iopub.status.busy": "2022-11-25T21:38:55.246541Z",
     "iopub.status.idle": "2022-11-25T21:38:58.482077Z",
     "shell.execute_reply": "2022-11-25T21:38:58.480889Z"
    },
    "id": "03d9d6b6",
    "papermill": {
     "duration": 3.286559,
     "end_time": "2022-11-25T21:38:58.484792",
     "exception": false,
     "start_time": "2022-11-25T21:38:55.198233",
     "status": "completed"
    },
    "tags": []
   },
   "outputs": [],
   "source": [
    "for ids in test_df1[\"Concert ID\"].unique():\n",
    "    test_Name = test_df1.loc[test_df1[\"Concert ID\"] == ids][\"Band Name\"].to_list()[0]\n",
    "    test_features.loc[(test_features[\"Concert ID\"] == ids ) &(test_features[\"Band Name\"].isna()) , \"Band Name\"] = test_Name"
   ]
  },
  {
   "cell_type": "code",
   "execution_count": null,
   "metadata": {
    "colab": {
     "base_uri": "https://localhost:8080/"
    },
    "execution": {
     "iopub.execute_input": "2022-11-25T21:38:58.582822Z",
     "iopub.status.busy": "2022-11-25T21:38:58.582399Z",
     "iopub.status.idle": "2022-11-25T21:38:58.613115Z",
     "shell.execute_reply": "2022-11-25T21:38:58.611631Z"
    },
    "id": "4adf4d25",
    "outputId": "4c1b2234-c29a-4853-9f83-ead30357a9a1",
    "papermill": {
     "duration": 0.082619,
     "end_time": "2022-11-25T21:38:58.615667",
     "exception": false,
     "start_time": "2022-11-25T21:38:58.533048",
     "status": "completed"
    },
    "tags": []
   },
   "outputs": [
    {
     "name": "stdout",
     "output_type": "stream",
     "text": [
      "Band Name  6\n",
      "Band Name  0\n",
      "test Band Name  0\n"
     ]
    }
   ],
   "source": [
    "print( \"Band Name \",len(features.loc[features[\"Band Name\"].isna()]))\n",
    "print( \"Band Name \",len(features.loc[features[\"Band Name\"] == \"Insert Band Name\"]))\n",
    "\n",
    "print( \"test Band Name \",len(test_features.loc[test_features[\"Band Name\"].isna()]))"
   ]
  },
  {
   "cell_type": "code",
   "execution_count": null,
   "metadata": {
    "execution": {
     "iopub.execute_input": "2022-11-25T21:38:58.715502Z",
     "iopub.status.busy": "2022-11-25T21:38:58.714964Z",
     "iopub.status.idle": "2022-11-25T21:38:58.725994Z",
     "shell.execute_reply": "2022-11-25T21:38:58.724591Z"
    },
    "id": "ffeb6f47",
    "papermill": {
     "duration": 0.065557,
     "end_time": "2022-11-25T21:38:58.728820",
     "exception": false,
     "start_time": "2022-11-25T21:38:58.663263",
     "status": "completed"
    },
    "tags": []
   },
   "outputs": [],
   "source": [
    "features.loc[features[\"Concert ID\"] == 844.0  , \"Band Name\"] = \"Running at the Disco\""
   ]
  },
  {
   "cell_type": "code",
   "execution_count": null,
   "metadata": {
    "colab": {
     "base_uri": "https://localhost:8080/"
    },
    "execution": {
     "iopub.execute_input": "2022-11-25T21:38:58.825705Z",
     "iopub.status.busy": "2022-11-25T21:38:58.825295Z",
     "iopub.status.idle": "2022-11-25T21:38:58.866265Z",
     "shell.execute_reply": "2022-11-25T21:38:58.864792Z"
    },
    "id": "adc48bb3",
    "outputId": "e086fa1c-60e3-4bd7-a0a5-9b4949efa0fb",
    "papermill": {
     "duration": 0.092568,
     "end_time": "2022-11-25T21:38:58.868806",
     "exception": false,
     "start_time": "2022-11-25T21:38:58.776238",
     "status": "completed"
    },
    "tags": []
   },
   "outputs": [
    {
     "name": "stdout",
     "output_type": "stream",
     "text": [
      "training features report:\n",
      "Band Genre  8\n",
      "Band Country of Origin  2\n",
      "Band Debut  1\n",
      "Band Name  6\n",
      "\n",
      "\n",
      "test features report:\n",
      "Band Genre  2\n",
      "Band Country of Origin  2\n",
      "Band Debut  0\n",
      "Band Name  0\n"
     ]
    }
   ],
   "source": [
    "#Verifying the number of nans\n",
    "print(\"training features report:\")\n",
    "print( \"Band Genre \",len(features.loc[features[\"Band Genre\"].isna()]))\n",
    "print( \"Band Country of Origin \",len(features.loc[features[\"Band Country of Origin\"].isna()]))\n",
    "print( \"Band Debut \",len(features.loc[features[\"Band Debut\"].isna()]))\n",
    "print( \"Band Name \",len(features.loc[features[\"Band Name\"].isna()]))\n",
    "print(\"\\n\")\n",
    "print(\"test features report:\")\n",
    "print( \"Band Genre \",len(test_features.loc[test_features[\"Band Genre\"].isna()]))\n",
    "print( \"Band Country of Origin \",len(test_features.loc[test_features[\"Band Country of Origin\"].isna()]))\n",
    "print( \"Band Debut \",len(test_features.loc[test_features[\"Band Debut\"].isna()]))\n",
    "print( \"Band Name \",len(test_features.loc[test_features[\"Band Name\"].isna()]))"
   ]
  },
  {
   "cell_type": "code",
   "execution_count": null,
   "metadata": {
    "colab": {
     "base_uri": "https://localhost:8080/",
     "height": 206
    },
    "execution": {
     "iopub.execute_input": "2022-11-25T21:38:58.969189Z",
     "iopub.status.busy": "2022-11-25T21:38:58.968781Z",
     "iopub.status.idle": "2022-11-25T21:38:59.072356Z",
     "shell.execute_reply": "2022-11-25T21:38:59.071055Z"
    },
    "id": "f5c8358b",
    "outputId": "3f4172d7-3752-45e8-c76d-8f49ad9609d5",
    "papermill": {
     "duration": 0.156492,
     "end_time": "2022-11-25T21:38:59.075060",
     "exception": false,
     "start_time": "2022-11-25T21:38:58.918568",
     "status": "completed"
    },
    "tags": []
   },
   "outputs": [
    {
     "data": {
      "text/html": [
       "\n",
       "  <div id=\"df-c7a0dca0-3d08-47c0-8f8c-2901c00d63b4\">\n",
       "    <div class=\"colab-df-container\">\n",
       "      <div>\n",
       "<style scoped>\n",
       "    .dataframe tbody tr th:only-of-type {\n",
       "        vertical-align: middle;\n",
       "    }\n",
       "\n",
       "    .dataframe tbody tr th {\n",
       "        vertical-align: top;\n",
       "    }\n",
       "\n",
       "    .dataframe thead th {\n",
       "        text-align: right;\n",
       "    }\n",
       "</style>\n",
       "<table border=\"1\" class=\"dataframe\">\n",
       "  <thead>\n",
       "    <tr style=\"text-align: right;\">\n",
       "      <th></th>\n",
       "      <th>Band Name</th>\n",
       "      <th>Band Genre</th>\n",
       "      <th>Band Country of Origin</th>\n",
       "      <th>Band Debut</th>\n",
       "      <th>Concert ID</th>\n",
       "    </tr>\n",
       "  </thead>\n",
       "  <tbody>\n",
       "    <tr>\n",
       "      <th>0</th>\n",
       "      <td>Teenage Crazy Blue Knickers</td>\n",
       "      <td>Indie/Alt Rock</td>\n",
       "      <td>United States of America (USA)</td>\n",
       "      <td>1976.0</td>\n",
       "      <td>900.0</td>\n",
       "    </tr>\n",
       "    <tr>\n",
       "      <th>1</th>\n",
       "      <td>Beyond Devon</td>\n",
       "      <td>Pop Music</td>\n",
       "      <td>United States of America (USA)</td>\n",
       "      <td>1968.0</td>\n",
       "      <td>731.0</td>\n",
       "    </tr>\n",
       "    <tr>\n",
       "      <th>3</th>\n",
       "      <td>Devon Revival</td>\n",
       "      <td>RnB</td>\n",
       "      <td>United States of America (USA)</td>\n",
       "      <td>1992.0</td>\n",
       "      <td>704.0</td>\n",
       "    </tr>\n",
       "    <tr>\n",
       "      <th>4</th>\n",
       "      <td>Beyond Devon</td>\n",
       "      <td>Pop Music</td>\n",
       "      <td>United States of America (USA)</td>\n",
       "      <td>1968.0</td>\n",
       "      <td>95.0</td>\n",
       "    </tr>\n",
       "    <tr>\n",
       "      <th>5</th>\n",
       "      <td>A Dozen Running Iced Frogs</td>\n",
       "      <td>Pop Music</td>\n",
       "      <td>Canada</td>\n",
       "      <td>1998.0</td>\n",
       "      <td>627.0</td>\n",
       "    </tr>\n",
       "  </tbody>\n",
       "</table>\n",
       "</div>\n",
       "      <button class=\"colab-df-convert\" onclick=\"convertToInteractive('df-c7a0dca0-3d08-47c0-8f8c-2901c00d63b4')\"\n",
       "              title=\"Convert this dataframe to an interactive table.\"\n",
       "              style=\"display:none;\">\n",
       "        \n",
       "  <svg xmlns=\"http://www.w3.org/2000/svg\" height=\"24px\"viewBox=\"0 0 24 24\"\n",
       "       width=\"24px\">\n",
       "    <path d=\"M0 0h24v24H0V0z\" fill=\"none\"/>\n",
       "    <path d=\"M18.56 5.44l.94 2.06.94-2.06 2.06-.94-2.06-.94-.94-2.06-.94 2.06-2.06.94zm-11 1L8.5 8.5l.94-2.06 2.06-.94-2.06-.94L8.5 2.5l-.94 2.06-2.06.94zm10 10l.94 2.06.94-2.06 2.06-.94-2.06-.94-.94-2.06-.94 2.06-2.06.94z\"/><path d=\"M17.41 7.96l-1.37-1.37c-.4-.4-.92-.59-1.43-.59-.52 0-1.04.2-1.43.59L10.3 9.45l-7.72 7.72c-.78.78-.78 2.05 0 2.83L4 21.41c.39.39.9.59 1.41.59.51 0 1.02-.2 1.41-.59l7.78-7.78 2.81-2.81c.8-.78.8-2.07 0-2.86zM5.41 20L4 18.59l7.72-7.72 1.47 1.35L5.41 20z\"/>\n",
       "  </svg>\n",
       "      </button>\n",
       "      \n",
       "  <style>\n",
       "    .colab-df-container {\n",
       "      display:flex;\n",
       "      flex-wrap:wrap;\n",
       "      gap: 12px;\n",
       "    }\n",
       "\n",
       "    .colab-df-convert {\n",
       "      background-color: #E8F0FE;\n",
       "      border: none;\n",
       "      border-radius: 50%;\n",
       "      cursor: pointer;\n",
       "      display: none;\n",
       "      fill: #1967D2;\n",
       "      height: 32px;\n",
       "      padding: 0 0 0 0;\n",
       "      width: 32px;\n",
       "    }\n",
       "\n",
       "    .colab-df-convert:hover {\n",
       "      background-color: #E2EBFA;\n",
       "      box-shadow: 0px 1px 2px rgba(60, 64, 67, 0.3), 0px 1px 3px 1px rgba(60, 64, 67, 0.15);\n",
       "      fill: #174EA6;\n",
       "    }\n",
       "\n",
       "    [theme=dark] .colab-df-convert {\n",
       "      background-color: #3B4455;\n",
       "      fill: #D2E3FC;\n",
       "    }\n",
       "\n",
       "    [theme=dark] .colab-df-convert:hover {\n",
       "      background-color: #434B5C;\n",
       "      box-shadow: 0px 1px 3px 1px rgba(0, 0, 0, 0.15);\n",
       "      filter: drop-shadow(0px 1px 2px rgba(0, 0, 0, 0.3));\n",
       "      fill: #FFFFFF;\n",
       "    }\n",
       "  </style>\n",
       "\n",
       "      <script>\n",
       "        const buttonEl =\n",
       "          document.querySelector('#df-c7a0dca0-3d08-47c0-8f8c-2901c00d63b4 button.colab-df-convert');\n",
       "        buttonEl.style.display =\n",
       "          google.colab.kernel.accessAllowed ? 'block' : 'none';\n",
       "\n",
       "        async function convertToInteractive(key) {\n",
       "          const element = document.querySelector('#df-c7a0dca0-3d08-47c0-8f8c-2901c00d63b4');\n",
       "          const dataTable =\n",
       "            await google.colab.kernel.invokeFunction('convertToInteractive',\n",
       "                                                     [key], {});\n",
       "          if (!dataTable) return;\n",
       "\n",
       "          const docLinkHtml = 'Like what you see? Visit the ' +\n",
       "            '<a target=\"_blank\" href=https://colab.research.google.com/notebooks/data_table.ipynb>data table notebook</a>'\n",
       "            + ' to learn more about interactive tables.';\n",
       "          element.innerHTML = '';\n",
       "          dataTable['output_type'] = 'display_data';\n",
       "          await google.colab.output.renderOutput(dataTable, element);\n",
       "          const docLink = document.createElement('div');\n",
       "          docLink.innerHTML = docLinkHtml;\n",
       "          element.appendChild(docLink);\n",
       "        }\n",
       "      </script>\n",
       "    </div>\n",
       "  </div>\n",
       "  "
      ],
      "text/plain": [
       "                     Band Name      Band Genre  \\\n",
       "0  Teenage Crazy Blue Knickers  Indie/Alt Rock   \n",
       "1                 Beyond Devon       Pop Music   \n",
       "3                Devon Revival             RnB   \n",
       "4                 Beyond Devon       Pop Music   \n",
       "5   A Dozen Running Iced Frogs       Pop Music   \n",
       "\n",
       "           Band Country of Origin  Band Debut  Concert ID  \n",
       "0  United States of America (USA)      1976.0       900.0  \n",
       "1  United States of America (USA)      1968.0       731.0  \n",
       "3  United States of America (USA)      1992.0       704.0  \n",
       "4  United States of America (USA)      1968.0        95.0  \n",
       "5                          Canada      1998.0       627.0  "
      ]
     },
     "execution_count": 46,
     "metadata": {},
     "output_type": "execute_result"
    }
   ],
   "source": [
    "#A new version of this dataframe\n",
    "df1 = band_features.loc[(~band_features.isna().any(axis=1))].drop_duplicates()\n",
    "df1.head()"
   ]
  },
  {
   "cell_type": "code",
   "execution_count": null,
   "metadata": {
    "colab": {
     "base_uri": "https://localhost:8080/",
     "height": 206
    },
    "execution": {
     "iopub.execute_input": "2022-11-25T21:38:59.174293Z",
     "iopub.status.busy": "2022-11-25T21:38:59.173833Z",
     "iopub.status.idle": "2022-11-25T21:38:59.207625Z",
     "shell.execute_reply": "2022-11-25T21:38:59.206723Z"
    },
    "id": "7c7c2ce9",
    "outputId": "674b9130-41cd-4dc4-d732-cf84d81d9534",
    "papermill": {
     "duration": 0.086867,
     "end_time": "2022-11-25T21:38:59.209876",
     "exception": false,
     "start_time": "2022-11-25T21:38:59.123009",
     "status": "completed"
    },
    "tags": []
   },
   "outputs": [
    {
     "data": {
      "text/html": [
       "\n",
       "  <div id=\"df-c78c732b-e846-414f-9e62-009b6654b24b\">\n",
       "    <div class=\"colab-df-container\">\n",
       "      <div>\n",
       "<style scoped>\n",
       "    .dataframe tbody tr th:only-of-type {\n",
       "        vertical-align: middle;\n",
       "    }\n",
       "\n",
       "    .dataframe tbody tr th {\n",
       "        vertical-align: top;\n",
       "    }\n",
       "\n",
       "    .dataframe thead th {\n",
       "        text-align: right;\n",
       "    }\n",
       "</style>\n",
       "<table border=\"1\" class=\"dataframe\">\n",
       "  <thead>\n",
       "    <tr style=\"text-align: right;\">\n",
       "      <th></th>\n",
       "      <th>Band Name</th>\n",
       "      <th>Band Genre</th>\n",
       "      <th>Band Country of Origin</th>\n",
       "      <th>Band Debut</th>\n",
       "      <th>Concert ID</th>\n",
       "    </tr>\n",
       "  </thead>\n",
       "  <tbody>\n",
       "    <tr>\n",
       "      <th>0</th>\n",
       "      <td>The Crazy Heroes of Devon</td>\n",
       "      <td>Rock n Roll</td>\n",
       "      <td>United States of America (USA)</td>\n",
       "      <td>1980.0</td>\n",
       "      <td>350.0</td>\n",
       "    </tr>\n",
       "    <tr>\n",
       "      <th>1</th>\n",
       "      <td>Joystick for the Jockies</td>\n",
       "      <td>Hip Hop/Rap</td>\n",
       "      <td>United States of America (USA)</td>\n",
       "      <td>2014.0</td>\n",
       "      <td>173.0</td>\n",
       "    </tr>\n",
       "    <tr>\n",
       "      <th>2</th>\n",
       "      <td>Puddle of Joystick</td>\n",
       "      <td>Rock n Roll</td>\n",
       "      <td>Canada</td>\n",
       "      <td>2010.0</td>\n",
       "      <td>502.0</td>\n",
       "    </tr>\n",
       "    <tr>\n",
       "      <th>4</th>\n",
       "      <td>Devon Revival</td>\n",
       "      <td>RnB</td>\n",
       "      <td>United States of America (USA)</td>\n",
       "      <td>1992.0</td>\n",
       "      <td>636.0</td>\n",
       "    </tr>\n",
       "    <tr>\n",
       "      <th>5</th>\n",
       "      <td>Crazyplay</td>\n",
       "      <td>Pop Music</td>\n",
       "      <td>United States of America (USA)</td>\n",
       "      <td>1995.0</td>\n",
       "      <td>790.0</td>\n",
       "    </tr>\n",
       "  </tbody>\n",
       "</table>\n",
       "</div>\n",
       "      <button class=\"colab-df-convert\" onclick=\"convertToInteractive('df-c78c732b-e846-414f-9e62-009b6654b24b')\"\n",
       "              title=\"Convert this dataframe to an interactive table.\"\n",
       "              style=\"display:none;\">\n",
       "        \n",
       "  <svg xmlns=\"http://www.w3.org/2000/svg\" height=\"24px\"viewBox=\"0 0 24 24\"\n",
       "       width=\"24px\">\n",
       "    <path d=\"M0 0h24v24H0V0z\" fill=\"none\"/>\n",
       "    <path d=\"M18.56 5.44l.94 2.06.94-2.06 2.06-.94-2.06-.94-.94-2.06-.94 2.06-2.06.94zm-11 1L8.5 8.5l.94-2.06 2.06-.94-2.06-.94L8.5 2.5l-.94 2.06-2.06.94zm10 10l.94 2.06.94-2.06 2.06-.94-2.06-.94-.94-2.06-.94 2.06-2.06.94z\"/><path d=\"M17.41 7.96l-1.37-1.37c-.4-.4-.92-.59-1.43-.59-.52 0-1.04.2-1.43.59L10.3 9.45l-7.72 7.72c-.78.78-.78 2.05 0 2.83L4 21.41c.39.39.9.59 1.41.59.51 0 1.02-.2 1.41-.59l7.78-7.78 2.81-2.81c.8-.78.8-2.07 0-2.86zM5.41 20L4 18.59l7.72-7.72 1.47 1.35L5.41 20z\"/>\n",
       "  </svg>\n",
       "      </button>\n",
       "      \n",
       "  <style>\n",
       "    .colab-df-container {\n",
       "      display:flex;\n",
       "      flex-wrap:wrap;\n",
       "      gap: 12px;\n",
       "    }\n",
       "\n",
       "    .colab-df-convert {\n",
       "      background-color: #E8F0FE;\n",
       "      border: none;\n",
       "      border-radius: 50%;\n",
       "      cursor: pointer;\n",
       "      display: none;\n",
       "      fill: #1967D2;\n",
       "      height: 32px;\n",
       "      padding: 0 0 0 0;\n",
       "      width: 32px;\n",
       "    }\n",
       "\n",
       "    .colab-df-convert:hover {\n",
       "      background-color: #E2EBFA;\n",
       "      box-shadow: 0px 1px 2px rgba(60, 64, 67, 0.3), 0px 1px 3px 1px rgba(60, 64, 67, 0.15);\n",
       "      fill: #174EA6;\n",
       "    }\n",
       "\n",
       "    [theme=dark] .colab-df-convert {\n",
       "      background-color: #3B4455;\n",
       "      fill: #D2E3FC;\n",
       "    }\n",
       "\n",
       "    [theme=dark] .colab-df-convert:hover {\n",
       "      background-color: #434B5C;\n",
       "      box-shadow: 0px 1px 3px 1px rgba(0, 0, 0, 0.15);\n",
       "      filter: drop-shadow(0px 1px 2px rgba(0, 0, 0, 0.3));\n",
       "      fill: #FFFFFF;\n",
       "    }\n",
       "  </style>\n",
       "\n",
       "      <script>\n",
       "        const buttonEl =\n",
       "          document.querySelector('#df-c78c732b-e846-414f-9e62-009b6654b24b button.colab-df-convert');\n",
       "        buttonEl.style.display =\n",
       "          google.colab.kernel.accessAllowed ? 'block' : 'none';\n",
       "\n",
       "        async function convertToInteractive(key) {\n",
       "          const element = document.querySelector('#df-c78c732b-e846-414f-9e62-009b6654b24b');\n",
       "          const dataTable =\n",
       "            await google.colab.kernel.invokeFunction('convertToInteractive',\n",
       "                                                     [key], {});\n",
       "          if (!dataTable) return;\n",
       "\n",
       "          const docLinkHtml = 'Like what you see? Visit the ' +\n",
       "            '<a target=\"_blank\" href=https://colab.research.google.com/notebooks/data_table.ipynb>data table notebook</a>'\n",
       "            + ' to learn more about interactive tables.';\n",
       "          element.innerHTML = '';\n",
       "          dataTable['output_type'] = 'display_data';\n",
       "          await google.colab.output.renderOutput(dataTable, element);\n",
       "          const docLink = document.createElement('div');\n",
       "          docLink.innerHTML = docLinkHtml;\n",
       "          element.appendChild(docLink);\n",
       "        }\n",
       "      </script>\n",
       "    </div>\n",
       "  </div>\n",
       "  "
      ],
      "text/plain": [
       "                   Band Name   Band Genre          Band Country of Origin  \\\n",
       "0  The Crazy Heroes of Devon  Rock n Roll  United States of America (USA)   \n",
       "1   Joystick for the Jockies  Hip Hop/Rap  United States of America (USA)   \n",
       "2         Puddle of Joystick  Rock n Roll                          Canada   \n",
       "4              Devon Revival          RnB  United States of America (USA)   \n",
       "5                  Crazyplay    Pop Music  United States of America (USA)   \n",
       "\n",
       "   Band Debut  Concert ID  \n",
       "0      1980.0       350.0  \n",
       "1      2014.0       173.0  \n",
       "2      2010.0       502.0  \n",
       "4      1992.0       636.0  \n",
       "5      1995.0       790.0  "
      ]
     },
     "execution_count": 47,
     "metadata": {},
     "output_type": "execute_result"
    }
   ],
   "source": [
    "#A new version of this dataframe for testing data\n",
    "test_df1 = test_band_features.loc[(~test_band_features.isna().any(axis=1))].drop_duplicates()\n",
    "test_df1.head()"
   ]
  },
  {
   "cell_type": "code",
   "execution_count": null,
   "metadata": {
    "execution": {
     "iopub.execute_input": "2022-11-25T21:38:59.311182Z",
     "iopub.status.busy": "2022-11-25T21:38:59.310718Z",
     "iopub.status.idle": "2022-11-25T21:39:36.252044Z",
     "shell.execute_reply": "2022-11-25T21:39:36.250891Z"
    },
    "id": "af32622f",
    "papermill": {
     "duration": 36.995953,
     "end_time": "2022-11-25T21:39:36.254917",
     "exception": false,
     "start_time": "2022-11-25T21:38:59.258964",
     "status": "completed"
    },
    "tags": []
   },
   "outputs": [],
   "source": [
    "#For the training \n",
    "for ids in df1[\"Concert ID\"].unique():\n",
    "    Name = df1.loc[df1[\"Concert ID\"] == ids][\"Band Name\"].to_list()[0]\n",
    "    dod = df1.loc[df1[\"Concert ID\"] == ids][\"Band Debut\"].to_list()[0]\n",
    "    coo = df1.loc[df1[\"Concert ID\"] == ids][\"Band Country of Origin\"].to_list()[0]\n",
    "    genre = df1.loc[df1[\"Concert ID\"] == ids][\"Band Genre\"].to_list()[0]\n",
    "    features.loc[(features[\"Concert ID\"] == ids ) &(band_features.isna().any(axis=1)) , [\"Band Name\" , \"Band Debut\" , \"Band Country of Origin\" , \"Band Genre\"]] = [Name , dod , coo , genre]"
   ]
  },
  {
   "cell_type": "code",
   "execution_count": null,
   "metadata": {
    "execution": {
     "iopub.execute_input": "2022-11-25T21:39:36.354744Z",
     "iopub.status.busy": "2022-11-25T21:39:36.354329Z",
     "iopub.status.idle": "2022-11-25T21:39:47.084371Z",
     "shell.execute_reply": "2022-11-25T21:39:47.083409Z"
    },
    "id": "48bab781",
    "papermill": {
     "duration": 10.783334,
     "end_time": "2022-11-25T21:39:47.086970",
     "exception": false,
     "start_time": "2022-11-25T21:39:36.303636",
     "status": "completed"
    },
    "tags": []
   },
   "outputs": [],
   "source": [
    "#For the testing data now\n",
    "for ids in test_df1[\"Concert ID\"].unique():\n",
    "    Name = test_df1.loc[test_df1[\"Concert ID\"] == ids][\"Band Name\"].to_list()[0]\n",
    "    dod = test_df1.loc[test_df1[\"Concert ID\"] == ids][\"Band Debut\"].to_list()[0]\n",
    "    coo = test_df1.loc[test_df1[\"Concert ID\"] == ids][\"Band Country of Origin\"].to_list()[0]\n",
    "    genre = test_df1.loc[test_df1[\"Concert ID\"] == ids][\"Band Genre\"].to_list()[0]\n",
    "    test_features.loc[(test_features[\"Concert ID\"] == ids ) &(test_band_features.isna().any(axis=1)) , [\"Band Name\" , \"Band Debut\" , \"Band Country of Origin\" , \"Band Genre\"]] = [Name , dod , coo , genre]"
   ]
  },
  {
   "cell_type": "code",
   "execution_count": null,
   "metadata": {
    "colab": {
     "base_uri": "https://localhost:8080/"
    },
    "execution": {
     "iopub.execute_input": "2022-11-25T21:39:47.186095Z",
     "iopub.status.busy": "2022-11-25T21:39:47.185635Z",
     "iopub.status.idle": "2022-11-25T21:39:47.226186Z",
     "shell.execute_reply": "2022-11-25T21:39:47.224493Z"
    },
    "id": "108a0e79",
    "outputId": "406937b5-a18d-491d-a35a-e1c693681ee6",
    "papermill": {
     "duration": 0.093409,
     "end_time": "2022-11-25T21:39:47.229335",
     "exception": false,
     "start_time": "2022-11-25T21:39:47.135926",
     "status": "completed"
    },
    "tags": []
   },
   "outputs": [
    {
     "name": "stdout",
     "output_type": "stream",
     "text": [
      "for the training data\n",
      "Band Genre  0\n",
      "Band Country of Origin  0\n",
      "Band Debut  0\n",
      "Band Name  6\n",
      "\n",
      "\n",
      "For the testing data\n",
      "Band Genre  0\n",
      "Band Country of Origin  0\n",
      "Band Debut  0\n",
      "Band Name  0\n"
     ]
    }
   ],
   "source": [
    "#Verifying the number of nans\n",
    "print(\"for the training data\")\n",
    "print( \"Band Genre \",len(features.loc[features[\"Band Genre\"].isna()]))\n",
    "print( \"Band Country of Origin \",len(features.loc[features[\"Band Country of Origin\"].isna()]))\n",
    "print( \"Band Debut \",len(features.loc[features[\"Band Debut\"].isna()]))\n",
    "print( \"Band Name \",len(features.loc[features[\"Band Name\"].isna()]))\n",
    "print(\"\\n\")\n",
    "print(\"For the testing data\")\n",
    "print( \"Band Genre \",len(test_features.loc[test_features[\"Band Genre\"].isna()]))\n",
    "print( \"Band Country of Origin \",len(test_features.loc[test_features[\"Band Country of Origin\"].isna()]))\n",
    "print( \"Band Debut \",len(test_features.loc[test_features[\"Band Debut\"].isna()]))\n",
    "print( \"Band Name \",len(test_features.loc[test_features[\"Band Name\"].isna()]))"
   ]
  },
  {
   "cell_type": "code",
   "execution_count": null,
   "metadata": {
    "colab": {
     "base_uri": "https://localhost:8080/"
    },
    "execution": {
     "iopub.execute_input": "2022-11-25T21:39:47.328147Z",
     "iopub.status.busy": "2022-11-25T21:39:47.327704Z",
     "iopub.status.idle": "2022-11-25T21:39:47.344743Z",
     "shell.execute_reply": "2022-11-25T21:39:47.343537Z"
    },
    "id": "48edebba",
    "outputId": "2e279cad-3bd1-4c85-fe6c-121c6aacbbb5",
    "papermill": {
     "duration": 0.069798,
     "end_time": "2022-11-25T21:39:47.347283",
     "exception": false,
     "start_time": "2022-11-25T21:39:47.277485",
     "status": "completed"
    },
    "tags": []
   },
   "outputs": [
    {
     "data": {
      "text/plain": [
       "Int64Index([35230, 61944, 79278, 103897, 109545, 120413], dtype='int64')"
      ]
     },
     "execution_count": 51,
     "metadata": {},
     "output_type": "execute_result"
    }
   ],
   "source": [
    "temp_df = features.loc[features[\"Band Name\"].isna()]\n",
    "temp_df.index"
   ]
  },
  {
   "cell_type": "code",
   "execution_count": null,
   "metadata": {
    "execution": {
     "iopub.execute_input": "2022-11-25T21:39:47.451460Z",
     "iopub.status.busy": "2022-11-25T21:39:47.450561Z",
     "iopub.status.idle": "2022-11-25T21:39:47.679875Z",
     "shell.execute_reply": "2022-11-25T21:39:47.678260Z"
    },
    "id": "a2aaff2f",
    "papermill": {
     "duration": 0.287382,
     "end_time": "2022-11-25T21:39:47.683165",
     "exception": false,
     "start_time": "2022-11-25T21:39:47.395783",
     "status": "completed"
    },
    "tags": []
   },
   "outputs": [],
   "source": [
    "# we still have 6 missing Band Names\n",
    "#those missing values are due to the Concert ID being NAN\n",
    "#First let's find the 6 missing values in a dataframe\n",
    "temp_df = features.loc[features[\"Band Name\"].isna()]\n",
    "\n",
    "#Now we will try and find the band and concert ID at once by comparing the other band features like \n",
    "#Band Genere , Band Country of Origin and Band Debut as well as the Concert Attendence\n",
    "for idx  in temp_df.index:\n",
    "    #Let's find the concert id and the band names\n",
    "    bg , bcoo , bdod , ca = features.iloc[idx][[\"Band Genre\" , \"Band Country of Origin\" , \"Band Debut\" , \"Concert Attendance\"]]\n",
    "    [bn , concertid ]= features.loc[(features[\"Band Genre\"] == bg) &( features[\"Band Country of Origin\"] == bcoo) & (features[\"Band Debut\"] == bdod) & (features [\"Concert Attendance\"]== ca)].iloc[0][[\"Band Name\",\"Concert ID\"]]\n",
    "    #Let's now inject them in the features dataframe\n",
    "    features.loc[idx , ['Band Name' , \"Concert ID\"]] = [bn , concertid ]\n",
    "    "
   ]
  },
  {
   "cell_type": "code",
   "execution_count": null,
   "metadata": {
    "colab": {
     "base_uri": "https://localhost:8080/"
    },
    "execution": {
     "iopub.execute_input": "2022-11-25T21:39:47.924989Z",
     "iopub.status.busy": "2022-11-25T21:39:47.924524Z",
     "iopub.status.idle": "2022-11-25T21:39:47.936969Z",
     "shell.execute_reply": "2022-11-25T21:39:47.935507Z"
    },
    "id": "c1c7c025",
    "outputId": "1ddacd5c-c5dd-474a-941a-2dabc676c26e",
    "papermill": {
     "duration": 0.067582,
     "end_time": "2022-11-25T21:39:47.940244",
     "exception": false,
     "start_time": "2022-11-25T21:39:47.872662",
     "status": "completed"
    },
    "tags": []
   },
   "outputs": [
    {
     "data": {
      "text/plain": [
       "array([1976., 1968., 1955., 1992., 1998., 1969., 1980., 2006., 2000.,\n",
       "       1958., 1978., 2005., 1971., 1988., 1977., 1974., 1995., 1985.,\n",
       "       1979., 2014., 1991., 2004., 1964., 1990., 1996., 1993., 2010.,\n",
       "       1983., 2008., 1984., 1963., 2011., 2003., 1959.])"
      ]
     },
     "execution_count": 53,
     "metadata": {},
     "output_type": "execute_result"
    }
   ],
   "source": [
    "features['Band Debut'].unique()"
   ]
  },
  {
   "cell_type": "code",
   "execution_count": null,
   "metadata": {
    "colab": {
     "base_uri": "https://localhost:8080/"
    },
    "execution": {
     "iopub.execute_input": "2022-11-25T21:39:48.046088Z",
     "iopub.status.busy": "2022-11-25T21:39:48.044709Z",
     "iopub.status.idle": "2022-11-25T21:39:48.056094Z",
     "shell.execute_reply": "2022-11-25T21:39:48.054820Z"
    },
    "id": "f3363e54",
    "outputId": "9556fcd4-f0dd-4744-9f44-ca9d74d93988",
    "papermill": {
     "duration": 0.068245,
     "end_time": "2022-11-25T21:39:48.058586",
     "exception": false,
     "start_time": "2022-11-25T21:39:47.990341",
     "status": "completed"
    },
    "tags": []
   },
   "outputs": [
    {
     "data": {
      "text/plain": [
       "1001"
      ]
     },
     "execution_count": 54,
     "metadata": {},
     "output_type": "execute_result"
    }
   ],
   "source": [
    "len(features[\"Concert ID\"].unique())"
   ]
  },
  {
   "cell_type": "code",
   "execution_count": null,
   "metadata": {
    "colab": {
     "base_uri": "https://localhost:8080/",
     "height": 936
    },
    "execution": {
     "iopub.execute_input": "2022-11-25T21:39:48.161145Z",
     "iopub.status.busy": "2022-11-25T21:39:48.160671Z",
     "iopub.status.idle": "2022-11-25T21:39:48.194511Z",
     "shell.execute_reply": "2022-11-25T21:39:48.192665Z"
    },
    "id": "cbe22c98",
    "outputId": "02c19202-a248-4655-f3a1-96a392ff029d",
    "papermill": {
     "duration": 0.088478,
     "end_time": "2022-11-25T21:39:48.198099",
     "exception": false,
     "start_time": "2022-11-25T21:39:48.109621",
     "status": "completed"
    },
    "tags": []
   },
   "outputs": [
    {
     "data": {
      "text/html": [
       "\n",
       "  <div id=\"df-92c92706-8bec-4d4d-b863-93351c358c34\">\n",
       "    <div class=\"colab-df-container\">\n",
       "      <div>\n",
       "<style scoped>\n",
       "    .dataframe tbody tr th:only-of-type {\n",
       "        vertical-align: middle;\n",
       "    }\n",
       "\n",
       "    .dataframe tbody tr th {\n",
       "        vertical-align: top;\n",
       "    }\n",
       "\n",
       "    .dataframe thead th {\n",
       "        text-align: right;\n",
       "    }\n",
       "</style>\n",
       "<table border=\"1\" class=\"dataframe\">\n",
       "  <thead>\n",
       "    <tr style=\"text-align: right;\">\n",
       "      <th></th>\n",
       "      <th>Band Name</th>\n",
       "      <th>Band Genre</th>\n",
       "      <th>Band Country of Origin</th>\n",
       "      <th>Band Debut</th>\n",
       "      <th>Concert ID</th>\n",
       "      <th>Concert Attendance</th>\n",
       "      <th>Inside Venue</th>\n",
       "      <th>Rain</th>\n",
       "      <th>Seated</th>\n",
       "      <th>Personnality Trait 1</th>\n",
       "      <th>Personnality Trait 2</th>\n",
       "      <th>Personnality Trait 3</th>\n",
       "      <th>Personnality Trait 4</th>\n",
       "      <th>Concert Goer Age</th>\n",
       "      <th>Concert Goer ID</th>\n",
       "      <th>Height (cm)</th>\n",
       "      <th>Concert Goer Country of Origin</th>\n",
       "    </tr>\n",
       "  </thead>\n",
       "  <tbody>\n",
       "    <tr>\n",
       "      <th>0</th>\n",
       "      <td>Teenage Crazy Blue Knickers</td>\n",
       "      <td>Indie/Alt Rock</td>\n",
       "      <td>United States of America (USA)</td>\n",
       "      <td>1976.0</td>\n",
       "      <td>900.0</td>\n",
       "      <td>2980.0</td>\n",
       "      <td>False</td>\n",
       "      <td>False</td>\n",
       "      <td>NaN</td>\n",
       "      <td>0.330843</td>\n",
       "      <td>-0.958408</td>\n",
       "      <td>-0.943548</td>\n",
       "      <td>-1.636806</td>\n",
       "      <td>29.0</td>\n",
       "      <td>1985</td>\n",
       "      <td>140.0</td>\n",
       "      <td>Paraguay</td>\n",
       "    </tr>\n",
       "    <tr>\n",
       "      <th>1</th>\n",
       "      <td>Beyond Devon</td>\n",
       "      <td>Pop Music</td>\n",
       "      <td>United States of America (USA)</td>\n",
       "      <td>1968.0</td>\n",
       "      <td>731.0</td>\n",
       "      <td>54.0</td>\n",
       "      <td>True</td>\n",
       "      <td>False</td>\n",
       "      <td>True</td>\n",
       "      <td>-2.069449</td>\n",
       "      <td>0.017777</td>\n",
       "      <td>-1.910675</td>\n",
       "      <td>0.610265</td>\n",
       "      <td>43.0</td>\n",
       "      <td>1874</td>\n",
       "      <td>158.0</td>\n",
       "      <td>United Kingdom (UK)</td>\n",
       "    </tr>\n",
       "    <tr>\n",
       "      <th>2</th>\n",
       "      <td>Ron Talent</td>\n",
       "      <td>Rock n Roll</td>\n",
       "      <td>Canada</td>\n",
       "      <td>1955.0</td>\n",
       "      <td>NaN</td>\n",
       "      <td>162754.0</td>\n",
       "      <td>False</td>\n",
       "      <td>False</td>\n",
       "      <td>True</td>\n",
       "      <td>-0.484268</td>\n",
       "      <td>1.968772</td>\n",
       "      <td>-0.064167</td>\n",
       "      <td>-1.260871</td>\n",
       "      <td>68.0</td>\n",
       "      <td>442</td>\n",
       "      <td>159.0</td>\n",
       "      <td>United States of America (USA)</td>\n",
       "    </tr>\n",
       "    <tr>\n",
       "      <th>3</th>\n",
       "      <td>Devon Revival</td>\n",
       "      <td>RnB</td>\n",
       "      <td>United States of America (USA)</td>\n",
       "      <td>1992.0</td>\n",
       "      <td>704.0</td>\n",
       "      <td>8103.0</td>\n",
       "      <td>False</td>\n",
       "      <td>True</td>\n",
       "      <td>False</td>\n",
       "      <td>-0.858054</td>\n",
       "      <td>1.022827</td>\n",
       "      <td>-0.348389</td>\n",
       "      <td>-1.147251</td>\n",
       "      <td>17.0</td>\n",
       "      <td>1149</td>\n",
       "      <td>150.0</td>\n",
       "      <td>Canada</td>\n",
       "    </tr>\n",
       "    <tr>\n",
       "      <th>4</th>\n",
       "      <td>Beyond Devon</td>\n",
       "      <td>Pop Music</td>\n",
       "      <td>United States of America (USA)</td>\n",
       "      <td>1968.0</td>\n",
       "      <td>95.0</td>\n",
       "      <td>54.0</td>\n",
       "      <td>False</td>\n",
       "      <td>False</td>\n",
       "      <td>False</td>\n",
       "      <td>-0.793029</td>\n",
       "      <td>-1.166528</td>\n",
       "      <td>-0.043766</td>\n",
       "      <td>0.969661</td>\n",
       "      <td>59.0</td>\n",
       "      <td>930</td>\n",
       "      <td>166.0</td>\n",
       "      <td>United Kingdom (UK)</td>\n",
       "    </tr>\n",
       "    <tr>\n",
       "      <th>...</th>\n",
       "      <td>...</td>\n",
       "      <td>...</td>\n",
       "      <td>...</td>\n",
       "      <td>...</td>\n",
       "      <td>...</td>\n",
       "      <td>...</td>\n",
       "      <td>...</td>\n",
       "      <td>...</td>\n",
       "      <td>...</td>\n",
       "      <td>...</td>\n",
       "      <td>...</td>\n",
       "      <td>...</td>\n",
       "      <td>...</td>\n",
       "      <td>...</td>\n",
       "      <td>...</td>\n",
       "      <td>...</td>\n",
       "      <td>...</td>\n",
       "    </tr>\n",
       "    <tr>\n",
       "      <th>169995</th>\n",
       "      <td>Crazy Joystick Cult</td>\n",
       "      <td>RnB</td>\n",
       "      <td>Canada</td>\n",
       "      <td>1985.0</td>\n",
       "      <td>70.0</td>\n",
       "      <td>162754.0</td>\n",
       "      <td>True</td>\n",
       "      <td>False</td>\n",
       "      <td>False</td>\n",
       "      <td>-0.095021</td>\n",
       "      <td>0.175175</td>\n",
       "      <td>0.914245</td>\n",
       "      <td>0.357359</td>\n",
       "      <td>50.0</td>\n",
       "      <td>707</td>\n",
       "      <td>180.0</td>\n",
       "      <td>United States of America (USA)</td>\n",
       "    </tr>\n",
       "    <tr>\n",
       "      <th>169996</th>\n",
       "      <td>Crazy Joystick Cult</td>\n",
       "      <td>RnB</td>\n",
       "      <td>Canada</td>\n",
       "      <td>1985.0</td>\n",
       "      <td>963.0</td>\n",
       "      <td>54.0</td>\n",
       "      <td>False</td>\n",
       "      <td>False</td>\n",
       "      <td>False</td>\n",
       "      <td>-0.733719</td>\n",
       "      <td>-0.285776</td>\n",
       "      <td>-0.323312</td>\n",
       "      <td>0.641180</td>\n",
       "      <td>71.0</td>\n",
       "      <td>1373</td>\n",
       "      <td>143.0</td>\n",
       "      <td>Bulgaria</td>\n",
       "    </tr>\n",
       "    <tr>\n",
       "      <th>169997</th>\n",
       "      <td>Why Frogs, Why?</td>\n",
       "      <td>Heavy Metal</td>\n",
       "      <td>Canada</td>\n",
       "      <td>2005.0</td>\n",
       "      <td>764.0</td>\n",
       "      <td>54.0</td>\n",
       "      <td>False</td>\n",
       "      <td>False</td>\n",
       "      <td>False</td>\n",
       "      <td>0.744969</td>\n",
       "      <td>-0.965547</td>\n",
       "      <td>1.020598</td>\n",
       "      <td>1.027389</td>\n",
       "      <td>27.0</td>\n",
       "      <td>1286</td>\n",
       "      <td>176.0</td>\n",
       "      <td>Canada</td>\n",
       "    </tr>\n",
       "    <tr>\n",
       "      <th>169998</th>\n",
       "      <td>Twilight of the Joystick Gods</td>\n",
       "      <td>Hip Hop/Rap</td>\n",
       "      <td>United States of America (USA)</td>\n",
       "      <td>1995.0</td>\n",
       "      <td>694.0</td>\n",
       "      <td>22026.0</td>\n",
       "      <td>False</td>\n",
       "      <td>True</td>\n",
       "      <td>True</td>\n",
       "      <td>0.821976</td>\n",
       "      <td>0.351411</td>\n",
       "      <td>0.175762</td>\n",
       "      <td>1.455654</td>\n",
       "      <td>39.0</td>\n",
       "      <td>1845</td>\n",
       "      <td>176.0</td>\n",
       "      <td>Canada</td>\n",
       "    </tr>\n",
       "    <tr>\n",
       "      <th>169999</th>\n",
       "      <td>Joystick Attack</td>\n",
       "      <td>Heavy Metal</td>\n",
       "      <td>United Kingdom (UK)</td>\n",
       "      <td>2008.0</td>\n",
       "      <td>661.0</td>\n",
       "      <td>2980.0</td>\n",
       "      <td>True</td>\n",
       "      <td>False</td>\n",
       "      <td>False</td>\n",
       "      <td>-1.017410</td>\n",
       "      <td>0.883248</td>\n",
       "      <td>-0.184107</td>\n",
       "      <td>0.631731</td>\n",
       "      <td>46.0</td>\n",
       "      <td>1281</td>\n",
       "      <td>146.0</td>\n",
       "      <td>Canada</td>\n",
       "    </tr>\n",
       "  </tbody>\n",
       "</table>\n",
       "<p>170000 rows × 17 columns</p>\n",
       "</div>\n",
       "      <button class=\"colab-df-convert\" onclick=\"convertToInteractive('df-92c92706-8bec-4d4d-b863-93351c358c34')\"\n",
       "              title=\"Convert this dataframe to an interactive table.\"\n",
       "              style=\"display:none;\">\n",
       "        \n",
       "  <svg xmlns=\"http://www.w3.org/2000/svg\" height=\"24px\"viewBox=\"0 0 24 24\"\n",
       "       width=\"24px\">\n",
       "    <path d=\"M0 0h24v24H0V0z\" fill=\"none\"/>\n",
       "    <path d=\"M18.56 5.44l.94 2.06.94-2.06 2.06-.94-2.06-.94-.94-2.06-.94 2.06-2.06.94zm-11 1L8.5 8.5l.94-2.06 2.06-.94-2.06-.94L8.5 2.5l-.94 2.06-2.06.94zm10 10l.94 2.06.94-2.06 2.06-.94-2.06-.94-.94-2.06-.94 2.06-2.06.94z\"/><path d=\"M17.41 7.96l-1.37-1.37c-.4-.4-.92-.59-1.43-.59-.52 0-1.04.2-1.43.59L10.3 9.45l-7.72 7.72c-.78.78-.78 2.05 0 2.83L4 21.41c.39.39.9.59 1.41.59.51 0 1.02-.2 1.41-.59l7.78-7.78 2.81-2.81c.8-.78.8-2.07 0-2.86zM5.41 20L4 18.59l7.72-7.72 1.47 1.35L5.41 20z\"/>\n",
       "  </svg>\n",
       "      </button>\n",
       "      \n",
       "  <style>\n",
       "    .colab-df-container {\n",
       "      display:flex;\n",
       "      flex-wrap:wrap;\n",
       "      gap: 12px;\n",
       "    }\n",
       "\n",
       "    .colab-df-convert {\n",
       "      background-color: #E8F0FE;\n",
       "      border: none;\n",
       "      border-radius: 50%;\n",
       "      cursor: pointer;\n",
       "      display: none;\n",
       "      fill: #1967D2;\n",
       "      height: 32px;\n",
       "      padding: 0 0 0 0;\n",
       "      width: 32px;\n",
       "    }\n",
       "\n",
       "    .colab-df-convert:hover {\n",
       "      background-color: #E2EBFA;\n",
       "      box-shadow: 0px 1px 2px rgba(60, 64, 67, 0.3), 0px 1px 3px 1px rgba(60, 64, 67, 0.15);\n",
       "      fill: #174EA6;\n",
       "    }\n",
       "\n",
       "    [theme=dark] .colab-df-convert {\n",
       "      background-color: #3B4455;\n",
       "      fill: #D2E3FC;\n",
       "    }\n",
       "\n",
       "    [theme=dark] .colab-df-convert:hover {\n",
       "      background-color: #434B5C;\n",
       "      box-shadow: 0px 1px 3px 1px rgba(0, 0, 0, 0.15);\n",
       "      filter: drop-shadow(0px 1px 2px rgba(0, 0, 0, 0.3));\n",
       "      fill: #FFFFFF;\n",
       "    }\n",
       "  </style>\n",
       "\n",
       "      <script>\n",
       "        const buttonEl =\n",
       "          document.querySelector('#df-92c92706-8bec-4d4d-b863-93351c358c34 button.colab-df-convert');\n",
       "        buttonEl.style.display =\n",
       "          google.colab.kernel.accessAllowed ? 'block' : 'none';\n",
       "\n",
       "        async function convertToInteractive(key) {\n",
       "          const element = document.querySelector('#df-92c92706-8bec-4d4d-b863-93351c358c34');\n",
       "          const dataTable =\n",
       "            await google.colab.kernel.invokeFunction('convertToInteractive',\n",
       "                                                     [key], {});\n",
       "          if (!dataTable) return;\n",
       "\n",
       "          const docLinkHtml = 'Like what you see? Visit the ' +\n",
       "            '<a target=\"_blank\" href=https://colab.research.google.com/notebooks/data_table.ipynb>data table notebook</a>'\n",
       "            + ' to learn more about interactive tables.';\n",
       "          element.innerHTML = '';\n",
       "          dataTable['output_type'] = 'display_data';\n",
       "          await google.colab.output.renderOutput(dataTable, element);\n",
       "          const docLink = document.createElement('div');\n",
       "          docLink.innerHTML = docLinkHtml;\n",
       "          element.appendChild(docLink);\n",
       "        }\n",
       "      </script>\n",
       "    </div>\n",
       "  </div>\n",
       "  "
      ],
      "text/plain": [
       "                            Band Name      Band Genre  \\\n",
       "0         Teenage Crazy Blue Knickers  Indie/Alt Rock   \n",
       "1                        Beyond Devon       Pop Music   \n",
       "2                          Ron Talent     Rock n Roll   \n",
       "3                       Devon Revival             RnB   \n",
       "4                        Beyond Devon       Pop Music   \n",
       "...                               ...             ...   \n",
       "169995            Crazy Joystick Cult             RnB   \n",
       "169996            Crazy Joystick Cult             RnB   \n",
       "169997                Why Frogs, Why?     Heavy Metal   \n",
       "169998  Twilight of the Joystick Gods     Hip Hop/Rap   \n",
       "169999                Joystick Attack     Heavy Metal   \n",
       "\n",
       "                Band Country of Origin  Band Debut  Concert ID  \\\n",
       "0       United States of America (USA)      1976.0       900.0   \n",
       "1       United States of America (USA)      1968.0       731.0   \n",
       "2                               Canada      1955.0         NaN   \n",
       "3       United States of America (USA)      1992.0       704.0   \n",
       "4       United States of America (USA)      1968.0        95.0   \n",
       "...                                ...         ...         ...   \n",
       "169995                          Canada      1985.0        70.0   \n",
       "169996                          Canada      1985.0       963.0   \n",
       "169997                          Canada      2005.0       764.0   \n",
       "169998  United States of America (USA)      1995.0       694.0   \n",
       "169999             United Kingdom (UK)      2008.0       661.0   \n",
       "\n",
       "        Concert Attendance Inside Venue   Rain Seated  Personnality Trait 1  \\\n",
       "0                   2980.0        False  False    NaN              0.330843   \n",
       "1                     54.0         True  False   True             -2.069449   \n",
       "2                 162754.0        False  False   True             -0.484268   \n",
       "3                   8103.0        False   True  False             -0.858054   \n",
       "4                     54.0        False  False  False             -0.793029   \n",
       "...                    ...          ...    ...    ...                   ...   \n",
       "169995            162754.0         True  False  False             -0.095021   \n",
       "169996                54.0        False  False  False             -0.733719   \n",
       "169997                54.0        False  False  False              0.744969   \n",
       "169998             22026.0        False   True   True              0.821976   \n",
       "169999              2980.0         True  False  False             -1.017410   \n",
       "\n",
       "        Personnality Trait 2  Personnality Trait 3  Personnality Trait 4  \\\n",
       "0                  -0.958408             -0.943548             -1.636806   \n",
       "1                   0.017777             -1.910675              0.610265   \n",
       "2                   1.968772             -0.064167             -1.260871   \n",
       "3                   1.022827             -0.348389             -1.147251   \n",
       "4                  -1.166528             -0.043766              0.969661   \n",
       "...                      ...                   ...                   ...   \n",
       "169995              0.175175              0.914245              0.357359   \n",
       "169996             -0.285776             -0.323312              0.641180   \n",
       "169997             -0.965547              1.020598              1.027389   \n",
       "169998              0.351411              0.175762              1.455654   \n",
       "169999              0.883248             -0.184107              0.631731   \n",
       "\n",
       "        Concert Goer Age Concert Goer ID  Height (cm)  \\\n",
       "0                   29.0            1985        140.0   \n",
       "1                   43.0            1874        158.0   \n",
       "2                   68.0             442        159.0   \n",
       "3                   17.0            1149        150.0   \n",
       "4                   59.0             930        166.0   \n",
       "...                  ...             ...          ...   \n",
       "169995              50.0             707        180.0   \n",
       "169996              71.0            1373        143.0   \n",
       "169997              27.0            1286        176.0   \n",
       "169998              39.0            1845        176.0   \n",
       "169999              46.0            1281        146.0   \n",
       "\n",
       "        Concert Goer Country of Origin  \n",
       "0                             Paraguay  \n",
       "1                  United Kingdom (UK)  \n",
       "2       United States of America (USA)  \n",
       "3                               Canada  \n",
       "4                  United Kingdom (UK)  \n",
       "...                                ...  \n",
       "169995  United States of America (USA)  \n",
       "169996                        Bulgaria  \n",
       "169997                          Canada  \n",
       "169998                          Canada  \n",
       "169999                          Canada  \n",
       "\n",
       "[170000 rows x 17 columns]"
      ]
     },
     "execution_count": 55,
     "metadata": {},
     "output_type": "execute_result"
    }
   ],
   "source": [
    "features"
   ]
  },
  {
   "cell_type": "markdown",
   "metadata": {
    "id": "f6eda738",
    "papermill": {
     "duration": 0.054574,
     "end_time": "2022-11-25T21:39:48.307712",
     "exception": false,
     "start_time": "2022-11-25T21:39:48.253138",
     "status": "completed"
    },
    "tags": []
   },
   "source": [
    "### Concert ID"
   ]
  },
  {
   "cell_type": "markdown",
   "metadata": {
    "id": "fbb5022c",
    "papermill": {
     "duration": 0.050136,
     "end_time": "2022-11-25T21:39:48.409320",
     "exception": false,
     "start_time": "2022-11-25T21:39:48.359184",
     "status": "completed"
    },
    "tags": []
   },
   "source": [
    "Third, let's fill the missing data associated with the concert by mapping Concert ID and filling the other associated features with the mode when the value is Null."
   ]
  },
  {
   "cell_type": "code",
   "execution_count": null,
   "metadata": {
    "execution": {
     "iopub.execute_input": "2022-11-25T21:39:48.516740Z",
     "iopub.status.busy": "2022-11-25T21:39:48.515957Z",
     "iopub.status.idle": "2022-11-25T21:39:48.520446Z",
     "shell.execute_reply": "2022-11-25T21:39:48.519564Z"
    },
    "id": "927ab3af",
    "papermill": {
     "duration": 0.060132,
     "end_time": "2022-11-25T21:39:48.523293",
     "exception": false,
     "start_time": "2022-11-25T21:39:48.463161",
     "status": "completed"
    },
    "tags": []
   },
   "outputs": [],
   "source": [
    "import math"
   ]
  },
  {
   "cell_type": "code",
   "execution_count": null,
   "metadata": {
    "execution": {
     "iopub.execute_input": "2022-11-25T21:39:48.628848Z",
     "iopub.status.busy": "2022-11-25T21:39:48.628024Z",
     "iopub.status.idle": "2022-11-25T21:39:48.638071Z",
     "shell.execute_reply": "2022-11-25T21:39:48.635857Z"
    },
    "id": "c8e66a47",
    "papermill": {
     "duration": 0.066577,
     "end_time": "2022-11-25T21:39:48.641062",
     "exception": false,
     "start_time": "2022-11-25T21:39:48.574485",
     "status": "completed"
    },
    "tags": []
   },
   "outputs": [],
   "source": [
    "# replaces the Nan values and error values (for example, for the same concert, the attendance should be the same, if there is a wrong entry, we replace it with the mode)\n",
    "\n",
    "def concert_data_correction (features):\n",
    "    \"\"\" Cleans the data associated with the concert \n",
    "\n",
    "      Args:         \n",
    "          features (pd.DataFrame): The features to clean\n",
    "          \n",
    "      Returns:\n",
    "          features (pd.DataFrame) : The cleaned dataframe \n",
    "      \"\"\"\n",
    "  \n",
    "    concerts = features['Concert ID'].unique()\n",
    "\n",
    "    for concert in concerts:\n",
    "      if math.isnan(concert):\n",
    "        #print(concert, math.isnan(concert)) # deal with this too\n",
    "        pass\n",
    "      else:   \n",
    "\n",
    "        concert_df = features.loc[features[\"Concert ID\"] == concert]\n",
    "        # compute the mode of each column for that specific concert:\n",
    "        mode_df = concert_df.mode(axis=\"rows\")\n",
    "        mode_concertID = mode_df.loc[0,\"Concert Attendance\"]\n",
    "        mode_inside = mode_df.loc[0,\"Inside Venue\"]\n",
    "        mode_rain = mode_df.loc[0,\"Rain\"]\n",
    "\n",
    "        # Fill the concert attendance nan and noisy values:\n",
    "        features.loc[features[\"Concert ID\"] == concert, [\"Concert Attendance\"]] = mode_concertID\n",
    "\n",
    "        # Fill the concert inside venue nan and noisy values:\n",
    "        features.loc[features[\"Concert ID\"] == concert, [\"Inside Venue\"]] = mode_inside\n",
    "\n",
    "        # Fill the concert Rain nan and noisy values:\n",
    "        features.loc[features[\"Concert ID\"] == concert, [\"Rain\"]] = mode_rain\n",
    "    \n",
    "    return (features)"
   ]
  },
  {
   "cell_type": "code",
   "execution_count": null,
   "metadata": {
    "id": "kUk45VnYawCo"
   },
   "outputs": [],
   "source": [
    "#Here  we try to fill the missing concert IDs assuming that if we have the same \"Band Name\" and the same \"Concert Attendance\"\n",
    "#Then it's the same concert.\n",
    "def concert_ID_correction (features : pd.DataFrame):\n",
    "    \"\"\" corrects the data associated with the concert goer\n",
    "\n",
    "      Args:         \n",
    "          data (pd.DataFrame): The features to clean\n",
    "          concert_goer_columns (list of string): The columns to modify\n",
    "\n",
    "      Returns:\n",
    "          data (pd.DataFrame) : The cleaned dataframe \n",
    "      \"\"\"\n",
    "\n",
    "    for idx in features.loc[features[\"Concert ID\"].isna()].index:\n",
    "      Bn , cA = features.iloc[idx][[\"Band Name\" , \"Concert Attendance\"]]\n",
    "      idnd = features.loc[(features[\"Band Name\"] == Bn) & (features [\"Concert Attendance\"] == cA) & (~features[\"Concert ID\"].isna())][\"Concert ID\"].index\n",
    "      try:\n",
    "        features.loc[idx , \"Concert ID\"] = features.iloc[idnd[0]] [\"Concert ID\"]\n",
    "      except:\n",
    "        features.loc[idx , \"Concert ID\"] = features['Concert ID'].mean()\n",
    "    return features"
   ]
  },
  {
   "cell_type": "code",
   "execution_count": null,
   "metadata": {
    "execution": {
     "iopub.execute_input": "2022-11-25T21:39:48.745090Z",
     "iopub.status.busy": "2022-11-25T21:39:48.744321Z",
     "iopub.status.idle": "2022-11-25T21:40:22.963677Z",
     "shell.execute_reply": "2022-11-25T21:40:22.962332Z"
    },
    "id": "6eb9012a",
    "papermill": {
     "duration": 34.27434,
     "end_time": "2022-11-25T21:40:22.966704",
     "exception": false,
     "start_time": "2022-11-25T21:39:48.692364",
     "status": "completed"
    },
    "tags": []
   },
   "outputs": [],
   "source": [
    "features = concert_data_correction(features)\n",
    "test_features = concert_data_correction(test_features)"
   ]
  },
  {
   "cell_type": "code",
   "execution_count": null,
   "metadata": {
    "id": "GkUtOVwPaxK3"
   },
   "outputs": [],
   "source": [
    "features = concert_ID_correction (features)\n",
    "test_features = concert_ID_correction(test_features)"
   ]
  },
  {
   "cell_type": "code",
   "execution_count": null,
   "metadata": {
    "colab": {
     "base_uri": "https://localhost:8080/"
    },
    "id": "cUSrjUt6a1ZQ",
    "outputId": "51668469-8519-49e4-e300-7f21c42a9a88"
   },
   "outputs": [
    {
     "name": "stdout",
     "output_type": "stream",
     "text": [
      "test concert id nans : 0\n",
      "train concert id nans: 0\n"
     ]
    }
   ],
   "source": [
    "print(\"test concert id nans :\" , len(test_features.loc[test_features[\"Concert ID\"].isna()]))\n",
    "print(\"train concert id nans:\" , len(features.loc[features[\"Concert ID\"].isna()]))"
   ]
  },
  {
   "cell_type": "code",
   "execution_count": null,
   "metadata": {
    "colab": {
     "base_uri": "https://localhost:8080/"
    },
    "execution": {
     "iopub.execute_input": "2022-11-25T21:40:23.068383Z",
     "iopub.status.busy": "2022-11-25T21:40:23.067951Z",
     "iopub.status.idle": "2022-11-25T21:40:23.093316Z",
     "shell.execute_reply": "2022-11-25T21:40:23.092208Z"
    },
    "id": "1b90fb4f",
    "outputId": "1a170d00-4a69-48fb-bafb-8c85f296ad0f",
    "papermill": {
     "duration": 0.078856,
     "end_time": "2022-11-25T21:40:23.096116",
     "exception": false,
     "start_time": "2022-11-25T21:40:23.017260",
     "status": "completed"
    },
    "tags": []
   },
   "outputs": [
    {
     "name": "stdout",
     "output_type": "stream",
     "text": [
      "<class 'pandas.core.frame.DataFrame'>\n",
      "Int64Index: 30000 entries, 0 to 29999\n",
      "Data columns (total 17 columns):\n",
      " #   Column                          Non-Null Count  Dtype  \n",
      "---  ------                          --------------  -----  \n",
      " 0   Band Name                       30000 non-null  object \n",
      " 1   Band Genre                      30000 non-null  object \n",
      " 2   Band Country of Origin          30000 non-null  object \n",
      " 3   Band Debut                      30000 non-null  float64\n",
      " 4   Concert ID                      30000 non-null  float64\n",
      " 5   Concert Attendance              30000 non-null  float64\n",
      " 6   Inside Venue                    30000 non-null  object \n",
      " 7   Rain                            30000 non-null  object \n",
      " 8   Seated                          29858 non-null  object \n",
      " 9   Personnality Trait 1            30000 non-null  float64\n",
      " 10  Personnality Trait 2            30000 non-null  float64\n",
      " 11  Personnality Trait 3            30000 non-null  float64\n",
      " 12  Personnality Trait 4            30000 non-null  float64\n",
      " 13  Concert Goer Age                30000 non-null  float64\n",
      " 14  Concert Goer ID                 29863 non-null  object \n",
      " 15  Height (cm)                     30000 non-null  float64\n",
      " 16  Concert Goer Country of Origin  30000 non-null  object \n",
      "dtypes: float64(9), object(8)\n",
      "memory usage: 5.1+ MB\n"
     ]
    }
   ],
   "source": [
    "test_features.info()"
   ]
  },
  {
   "cell_type": "code",
   "execution_count": null,
   "metadata": {
    "colab": {
     "base_uri": "https://localhost:8080/"
    },
    "execution": {
     "iopub.execute_input": "2022-11-25T21:40:23.202167Z",
     "iopub.status.busy": "2022-11-25T21:40:23.201311Z",
     "iopub.status.idle": "2022-11-25T21:40:23.270397Z",
     "shell.execute_reply": "2022-11-25T21:40:23.268949Z"
    },
    "id": "6b8f74f7",
    "outputId": "97ec2889-9d50-4ec5-f635-55d8e0ee4a07",
    "papermill": {
     "duration": 0.127339,
     "end_time": "2022-11-25T21:40:23.274082",
     "exception": false,
     "start_time": "2022-11-25T21:40:23.146743",
     "status": "completed"
    },
    "tags": []
   },
   "outputs": [
    {
     "name": "stdout",
     "output_type": "stream",
     "text": [
      "<class 'pandas.core.frame.DataFrame'>\n",
      "Int64Index: 170000 entries, 0 to 169999\n",
      "Data columns (total 17 columns):\n",
      " #   Column                          Non-Null Count   Dtype  \n",
      "---  ------                          --------------   -----  \n",
      " 0   Band Name                       170000 non-null  object \n",
      " 1   Band Genre                      170000 non-null  object \n",
      " 2   Band Country of Origin          170000 non-null  object \n",
      " 3   Band Debut                      170000 non-null  float64\n",
      " 4   Concert ID                      170000 non-null  float64\n",
      " 5   Concert Attendance              169995 non-null  float64\n",
      " 6   Inside Venue                    169991 non-null  object \n",
      " 7   Rain                            169997 non-null  object \n",
      " 8   Seated                          169168 non-null  object \n",
      " 9   Personnality Trait 1            170000 non-null  float64\n",
      " 10  Personnality Trait 2            170000 non-null  float64\n",
      " 11  Personnality Trait 3            170000 non-null  float64\n",
      " 12  Personnality Trait 4            170000 non-null  float64\n",
      " 13  Concert Goer Age                170000 non-null  float64\n",
      " 14  Concert Goer ID                 169218 non-null  object \n",
      " 15  Height (cm)                     170000 non-null  float64\n",
      " 16  Concert Goer Country of Origin  170000 non-null  object \n",
      "dtypes: float64(9), object(8)\n",
      "memory usage: 27.4+ MB\n"
     ]
    }
   ],
   "source": [
    "features.info()"
   ]
  },
  {
   "cell_type": "code",
   "execution_count": null,
   "metadata": {
    "execution": {
     "iopub.execute_input": "2022-11-25T21:40:23.379434Z",
     "iopub.status.busy": "2022-11-25T21:40:23.378734Z",
     "iopub.status.idle": "2022-11-25T21:40:23.462422Z",
     "shell.execute_reply": "2022-11-25T21:40:23.460971Z"
    },
    "id": "b785a8ff",
    "papermill": {
     "duration": 0.139992,
     "end_time": "2022-11-25T21:40:23.465265",
     "exception": false,
     "start_time": "2022-11-25T21:40:23.325273",
     "status": "completed"
    },
    "tags": []
   },
   "outputs": [],
   "source": [
    "# there are still a few  NaN values, replace them with the mean\n",
    "\n",
    "features.loc[:, \"Concert Attendance\"] = features.loc[:, \"Concert Attendance\"].fillna(features[\"Concert Attendance\"].mean())\n",
    "features.loc[:, \"Inside Venue\"] = features.loc[:, \"Inside Venue\"].fillna(features[\"Inside Venue\"].mean())\n",
    "features.loc[:, \"Rain\"] = features.loc[:, \"Rain\"].fillna(features[\"Rain\"].mean())\n"
   ]
  },
  {
   "cell_type": "code",
   "execution_count": null,
   "metadata": {
    "colab": {
     "base_uri": "https://localhost:8080/"
    },
    "execution": {
     "iopub.execute_input": "2022-11-25T21:40:23.681832Z",
     "iopub.status.busy": "2022-11-25T21:40:23.681383Z",
     "iopub.status.idle": "2022-11-25T21:40:23.751032Z",
     "shell.execute_reply": "2022-11-25T21:40:23.749784Z"
    },
    "id": "a89229dc",
    "outputId": "81755f5a-b2a7-4fc8-8cbf-f3a063b481e9",
    "papermill": {
     "duration": 0.126627,
     "end_time": "2022-11-25T21:40:23.754627",
     "exception": false,
     "start_time": "2022-11-25T21:40:23.628000",
     "status": "completed"
    },
    "tags": []
   },
   "outputs": [
    {
     "name": "stdout",
     "output_type": "stream",
     "text": [
      "<class 'pandas.core.frame.DataFrame'>\n",
      "Int64Index: 170000 entries, 0 to 169999\n",
      "Data columns (total 17 columns):\n",
      " #   Column                          Non-Null Count   Dtype  \n",
      "---  ------                          --------------   -----  \n",
      " 0   Band Name                       170000 non-null  object \n",
      " 1   Band Genre                      170000 non-null  object \n",
      " 2   Band Country of Origin          170000 non-null  object \n",
      " 3   Band Debut                      170000 non-null  float64\n",
      " 4   Concert ID                      170000 non-null  float64\n",
      " 5   Concert Attendance              170000 non-null  float64\n",
      " 6   Inside Venue                    170000 non-null  object \n",
      " 7   Rain                            170000 non-null  object \n",
      " 8   Seated                          169168 non-null  object \n",
      " 9   Personnality Trait 1            170000 non-null  float64\n",
      " 10  Personnality Trait 2            170000 non-null  float64\n",
      " 11  Personnality Trait 3            170000 non-null  float64\n",
      " 12  Personnality Trait 4            170000 non-null  float64\n",
      " 13  Concert Goer Age                170000 non-null  float64\n",
      " 14  Concert Goer ID                 169218 non-null  object \n",
      " 15  Height (cm)                     170000 non-null  float64\n",
      " 16  Concert Goer Country of Origin  170000 non-null  object \n",
      "dtypes: float64(9), object(8)\n",
      "memory usage: 27.4+ MB\n"
     ]
    }
   ],
   "source": [
    "#check:\n",
    "features.info()"
   ]
  },
  {
   "cell_type": "code",
   "execution_count": null,
   "metadata": {
    "colab": {
     "base_uri": "https://localhost:8080/"
    },
    "id": "mVMbU_tfQb-3",
    "outputId": "bd9368c0-25c4-410c-908e-d702a81f0e5e"
   },
   "outputs": [
    {
     "name": "stdout",
     "output_type": "stream",
     "text": [
      "<class 'pandas.core.frame.DataFrame'>\n",
      "Int64Index: 30000 entries, 0 to 29999\n",
      "Data columns (total 17 columns):\n",
      " #   Column                          Non-Null Count  Dtype  \n",
      "---  ------                          --------------  -----  \n",
      " 0   Band Name                       30000 non-null  object \n",
      " 1   Band Genre                      30000 non-null  object \n",
      " 2   Band Country of Origin          30000 non-null  object \n",
      " 3   Band Debut                      30000 non-null  float64\n",
      " 4   Concert ID                      30000 non-null  float64\n",
      " 5   Concert Attendance              30000 non-null  float64\n",
      " 6   Inside Venue                    30000 non-null  object \n",
      " 7   Rain                            30000 non-null  object \n",
      " 8   Seated                          29858 non-null  object \n",
      " 9   Personnality Trait 1            30000 non-null  float64\n",
      " 10  Personnality Trait 2            30000 non-null  float64\n",
      " 11  Personnality Trait 3            30000 non-null  float64\n",
      " 12  Personnality Trait 4            30000 non-null  float64\n",
      " 13  Concert Goer Age                30000 non-null  float64\n",
      " 14  Concert Goer ID                 29863 non-null  object \n",
      " 15  Height (cm)                     30000 non-null  float64\n",
      " 16  Concert Goer Country of Origin  30000 non-null  object \n",
      "dtypes: float64(9), object(8)\n",
      "memory usage: 5.1+ MB\n"
     ]
    }
   ],
   "source": [
    "test_features.info()"
   ]
  },
  {
   "cell_type": "markdown",
   "metadata": {
    "id": "22b6d1d0",
    "papermill": {
     "duration": 0.048829,
     "end_time": "2022-11-25T21:40:23.854684",
     "exception": false,
     "start_time": "2022-11-25T21:40:23.805855",
     "status": "completed"
    },
    "tags": []
   },
   "source": [
    "### Seated "
   ]
  },
  {
   "cell_type": "markdown",
   "metadata": {
    "id": "4e12414b",
    "papermill": {
     "duration": 0.048906,
     "end_time": "2022-11-25T21:40:23.953443",
     "exception": false,
     "start_time": "2022-11-25T21:40:23.904537",
     "status": "completed"
    },
    "tags": []
   },
   "source": [
    "The parameter Seated is not related to the Concert ID or Inside Venue. We will fill it with a random value "
   ]
  },
  {
   "cell_type": "code",
   "execution_count": null,
   "metadata": {
    "colab": {
     "base_uri": "https://localhost:8080/",
     "height": 936
    },
    "id": "XjPWfWGKf-8C",
    "outputId": "3b1551ad-36a8-488e-cc0b-947775380f81"
   },
   "outputs": [
    {
     "data": {
      "text/html": [
       "\n",
       "  <div id=\"df-b81de0d2-beec-4231-b2ba-2165c647e4db\">\n",
       "    <div class=\"colab-df-container\">\n",
       "      <div>\n",
       "<style scoped>\n",
       "    .dataframe tbody tr th:only-of-type {\n",
       "        vertical-align: middle;\n",
       "    }\n",
       "\n",
       "    .dataframe tbody tr th {\n",
       "        vertical-align: top;\n",
       "    }\n",
       "\n",
       "    .dataframe thead th {\n",
       "        text-align: right;\n",
       "    }\n",
       "</style>\n",
       "<table border=\"1\" class=\"dataframe\">\n",
       "  <thead>\n",
       "    <tr style=\"text-align: right;\">\n",
       "      <th></th>\n",
       "      <th>Band Name</th>\n",
       "      <th>Band Genre</th>\n",
       "      <th>Band Country of Origin</th>\n",
       "      <th>Band Debut</th>\n",
       "      <th>Concert ID</th>\n",
       "      <th>Concert Attendance</th>\n",
       "      <th>Inside Venue</th>\n",
       "      <th>Rain</th>\n",
       "      <th>Seated</th>\n",
       "      <th>Personnality Trait 1</th>\n",
       "      <th>Personnality Trait 2</th>\n",
       "      <th>Personnality Trait 3</th>\n",
       "      <th>Personnality Trait 4</th>\n",
       "      <th>Concert Goer Age</th>\n",
       "      <th>Concert Goer ID</th>\n",
       "      <th>Height (cm)</th>\n",
       "      <th>Concert Goer Country of Origin</th>\n",
       "    </tr>\n",
       "  </thead>\n",
       "  <tbody>\n",
       "    <tr>\n",
       "      <th>0</th>\n",
       "      <td>Teenage Crazy Blue Knickers</td>\n",
       "      <td>Indie/Alt Rock</td>\n",
       "      <td>United States of America (USA)</td>\n",
       "      <td>1976.0</td>\n",
       "      <td>900.0</td>\n",
       "      <td>2980.0</td>\n",
       "      <td>False</td>\n",
       "      <td>False</td>\n",
       "      <td>NaN</td>\n",
       "      <td>0.330843</td>\n",
       "      <td>-0.958408</td>\n",
       "      <td>-0.943548</td>\n",
       "      <td>-1.636806</td>\n",
       "      <td>29.0</td>\n",
       "      <td>1985</td>\n",
       "      <td>140.0</td>\n",
       "      <td>Paraguay</td>\n",
       "    </tr>\n",
       "    <tr>\n",
       "      <th>1</th>\n",
       "      <td>Beyond Devon</td>\n",
       "      <td>Pop Music</td>\n",
       "      <td>United States of America (USA)</td>\n",
       "      <td>1968.0</td>\n",
       "      <td>731.0</td>\n",
       "      <td>54.0</td>\n",
       "      <td>True</td>\n",
       "      <td>False</td>\n",
       "      <td>True</td>\n",
       "      <td>-2.069449</td>\n",
       "      <td>0.017777</td>\n",
       "      <td>-1.910675</td>\n",
       "      <td>0.610265</td>\n",
       "      <td>43.0</td>\n",
       "      <td>1874</td>\n",
       "      <td>158.0</td>\n",
       "      <td>United Kingdom (UK)</td>\n",
       "    </tr>\n",
       "    <tr>\n",
       "      <th>2</th>\n",
       "      <td>Ron Talent</td>\n",
       "      <td>Rock n Roll</td>\n",
       "      <td>Canada</td>\n",
       "      <td>1955.0</td>\n",
       "      <td>794.0</td>\n",
       "      <td>162754.0</td>\n",
       "      <td>False</td>\n",
       "      <td>False</td>\n",
       "      <td>True</td>\n",
       "      <td>-0.484268</td>\n",
       "      <td>1.968772</td>\n",
       "      <td>-0.064167</td>\n",
       "      <td>-1.260871</td>\n",
       "      <td>68.0</td>\n",
       "      <td>442</td>\n",
       "      <td>159.0</td>\n",
       "      <td>United States of America (USA)</td>\n",
       "    </tr>\n",
       "    <tr>\n",
       "      <th>3</th>\n",
       "      <td>Devon Revival</td>\n",
       "      <td>RnB</td>\n",
       "      <td>United States of America (USA)</td>\n",
       "      <td>1992.0</td>\n",
       "      <td>704.0</td>\n",
       "      <td>8103.0</td>\n",
       "      <td>False</td>\n",
       "      <td>True</td>\n",
       "      <td>False</td>\n",
       "      <td>-0.858054</td>\n",
       "      <td>1.022827</td>\n",
       "      <td>-0.348389</td>\n",
       "      <td>-1.147251</td>\n",
       "      <td>17.0</td>\n",
       "      <td>1149</td>\n",
       "      <td>150.0</td>\n",
       "      <td>Canada</td>\n",
       "    </tr>\n",
       "    <tr>\n",
       "      <th>4</th>\n",
       "      <td>Beyond Devon</td>\n",
       "      <td>Pop Music</td>\n",
       "      <td>United States of America (USA)</td>\n",
       "      <td>1968.0</td>\n",
       "      <td>95.0</td>\n",
       "      <td>54.0</td>\n",
       "      <td>False</td>\n",
       "      <td>False</td>\n",
       "      <td>False</td>\n",
       "      <td>-0.793029</td>\n",
       "      <td>-1.166528</td>\n",
       "      <td>-0.043766</td>\n",
       "      <td>0.969661</td>\n",
       "      <td>59.0</td>\n",
       "      <td>930</td>\n",
       "      <td>166.0</td>\n",
       "      <td>United Kingdom (UK)</td>\n",
       "    </tr>\n",
       "    <tr>\n",
       "      <th>...</th>\n",
       "      <td>...</td>\n",
       "      <td>...</td>\n",
       "      <td>...</td>\n",
       "      <td>...</td>\n",
       "      <td>...</td>\n",
       "      <td>...</td>\n",
       "      <td>...</td>\n",
       "      <td>...</td>\n",
       "      <td>...</td>\n",
       "      <td>...</td>\n",
       "      <td>...</td>\n",
       "      <td>...</td>\n",
       "      <td>...</td>\n",
       "      <td>...</td>\n",
       "      <td>...</td>\n",
       "      <td>...</td>\n",
       "      <td>...</td>\n",
       "    </tr>\n",
       "    <tr>\n",
       "      <th>169995</th>\n",
       "      <td>Crazy Joystick Cult</td>\n",
       "      <td>RnB</td>\n",
       "      <td>Canada</td>\n",
       "      <td>1985.0</td>\n",
       "      <td>70.0</td>\n",
       "      <td>162754.0</td>\n",
       "      <td>True</td>\n",
       "      <td>False</td>\n",
       "      <td>False</td>\n",
       "      <td>-0.095021</td>\n",
       "      <td>0.175175</td>\n",
       "      <td>0.914245</td>\n",
       "      <td>0.357359</td>\n",
       "      <td>50.0</td>\n",
       "      <td>707</td>\n",
       "      <td>180.0</td>\n",
       "      <td>United States of America (USA)</td>\n",
       "    </tr>\n",
       "    <tr>\n",
       "      <th>169996</th>\n",
       "      <td>Crazy Joystick Cult</td>\n",
       "      <td>RnB</td>\n",
       "      <td>Canada</td>\n",
       "      <td>1985.0</td>\n",
       "      <td>963.0</td>\n",
       "      <td>54.0</td>\n",
       "      <td>False</td>\n",
       "      <td>False</td>\n",
       "      <td>False</td>\n",
       "      <td>-0.733719</td>\n",
       "      <td>-0.285776</td>\n",
       "      <td>-0.323312</td>\n",
       "      <td>0.641180</td>\n",
       "      <td>71.0</td>\n",
       "      <td>1373</td>\n",
       "      <td>143.0</td>\n",
       "      <td>Bulgaria</td>\n",
       "    </tr>\n",
       "    <tr>\n",
       "      <th>169997</th>\n",
       "      <td>Why Frogs, Why?</td>\n",
       "      <td>Heavy Metal</td>\n",
       "      <td>Canada</td>\n",
       "      <td>2005.0</td>\n",
       "      <td>764.0</td>\n",
       "      <td>54.0</td>\n",
       "      <td>False</td>\n",
       "      <td>False</td>\n",
       "      <td>False</td>\n",
       "      <td>0.744969</td>\n",
       "      <td>-0.965547</td>\n",
       "      <td>1.020598</td>\n",
       "      <td>1.027389</td>\n",
       "      <td>27.0</td>\n",
       "      <td>1286</td>\n",
       "      <td>176.0</td>\n",
       "      <td>Canada</td>\n",
       "    </tr>\n",
       "    <tr>\n",
       "      <th>169998</th>\n",
       "      <td>Twilight of the Joystick Gods</td>\n",
       "      <td>Hip Hop/Rap</td>\n",
       "      <td>United States of America (USA)</td>\n",
       "      <td>1995.0</td>\n",
       "      <td>694.0</td>\n",
       "      <td>22026.0</td>\n",
       "      <td>False</td>\n",
       "      <td>True</td>\n",
       "      <td>True</td>\n",
       "      <td>0.821976</td>\n",
       "      <td>0.351411</td>\n",
       "      <td>0.175762</td>\n",
       "      <td>1.455654</td>\n",
       "      <td>39.0</td>\n",
       "      <td>1845</td>\n",
       "      <td>176.0</td>\n",
       "      <td>Canada</td>\n",
       "    </tr>\n",
       "    <tr>\n",
       "      <th>169999</th>\n",
       "      <td>Joystick Attack</td>\n",
       "      <td>Heavy Metal</td>\n",
       "      <td>United Kingdom (UK)</td>\n",
       "      <td>2008.0</td>\n",
       "      <td>661.0</td>\n",
       "      <td>2980.0</td>\n",
       "      <td>True</td>\n",
       "      <td>False</td>\n",
       "      <td>False</td>\n",
       "      <td>-1.017410</td>\n",
       "      <td>0.883248</td>\n",
       "      <td>-0.184107</td>\n",
       "      <td>0.631731</td>\n",
       "      <td>46.0</td>\n",
       "      <td>1281</td>\n",
       "      <td>146.0</td>\n",
       "      <td>Canada</td>\n",
       "    </tr>\n",
       "  </tbody>\n",
       "</table>\n",
       "<p>170000 rows × 17 columns</p>\n",
       "</div>\n",
       "      <button class=\"colab-df-convert\" onclick=\"convertToInteractive('df-b81de0d2-beec-4231-b2ba-2165c647e4db')\"\n",
       "              title=\"Convert this dataframe to an interactive table.\"\n",
       "              style=\"display:none;\">\n",
       "        \n",
       "  <svg xmlns=\"http://www.w3.org/2000/svg\" height=\"24px\"viewBox=\"0 0 24 24\"\n",
       "       width=\"24px\">\n",
       "    <path d=\"M0 0h24v24H0V0z\" fill=\"none\"/>\n",
       "    <path d=\"M18.56 5.44l.94 2.06.94-2.06 2.06-.94-2.06-.94-.94-2.06-.94 2.06-2.06.94zm-11 1L8.5 8.5l.94-2.06 2.06-.94-2.06-.94L8.5 2.5l-.94 2.06-2.06.94zm10 10l.94 2.06.94-2.06 2.06-.94-2.06-.94-.94-2.06-.94 2.06-2.06.94z\"/><path d=\"M17.41 7.96l-1.37-1.37c-.4-.4-.92-.59-1.43-.59-.52 0-1.04.2-1.43.59L10.3 9.45l-7.72 7.72c-.78.78-.78 2.05 0 2.83L4 21.41c.39.39.9.59 1.41.59.51 0 1.02-.2 1.41-.59l7.78-7.78 2.81-2.81c.8-.78.8-2.07 0-2.86zM5.41 20L4 18.59l7.72-7.72 1.47 1.35L5.41 20z\"/>\n",
       "  </svg>\n",
       "      </button>\n",
       "      \n",
       "  <style>\n",
       "    .colab-df-container {\n",
       "      display:flex;\n",
       "      flex-wrap:wrap;\n",
       "      gap: 12px;\n",
       "    }\n",
       "\n",
       "    .colab-df-convert {\n",
       "      background-color: #E8F0FE;\n",
       "      border: none;\n",
       "      border-radius: 50%;\n",
       "      cursor: pointer;\n",
       "      display: none;\n",
       "      fill: #1967D2;\n",
       "      height: 32px;\n",
       "      padding: 0 0 0 0;\n",
       "      width: 32px;\n",
       "    }\n",
       "\n",
       "    .colab-df-convert:hover {\n",
       "      background-color: #E2EBFA;\n",
       "      box-shadow: 0px 1px 2px rgba(60, 64, 67, 0.3), 0px 1px 3px 1px rgba(60, 64, 67, 0.15);\n",
       "      fill: #174EA6;\n",
       "    }\n",
       "\n",
       "    [theme=dark] .colab-df-convert {\n",
       "      background-color: #3B4455;\n",
       "      fill: #D2E3FC;\n",
       "    }\n",
       "\n",
       "    [theme=dark] .colab-df-convert:hover {\n",
       "      background-color: #434B5C;\n",
       "      box-shadow: 0px 1px 3px 1px rgba(0, 0, 0, 0.15);\n",
       "      filter: drop-shadow(0px 1px 2px rgba(0, 0, 0, 0.3));\n",
       "      fill: #FFFFFF;\n",
       "    }\n",
       "  </style>\n",
       "\n",
       "      <script>\n",
       "        const buttonEl =\n",
       "          document.querySelector('#df-b81de0d2-beec-4231-b2ba-2165c647e4db button.colab-df-convert');\n",
       "        buttonEl.style.display =\n",
       "          google.colab.kernel.accessAllowed ? 'block' : 'none';\n",
       "\n",
       "        async function convertToInteractive(key) {\n",
       "          const element = document.querySelector('#df-b81de0d2-beec-4231-b2ba-2165c647e4db');\n",
       "          const dataTable =\n",
       "            await google.colab.kernel.invokeFunction('convertToInteractive',\n",
       "                                                     [key], {});\n",
       "          if (!dataTable) return;\n",
       "\n",
       "          const docLinkHtml = 'Like what you see? Visit the ' +\n",
       "            '<a target=\"_blank\" href=https://colab.research.google.com/notebooks/data_table.ipynb>data table notebook</a>'\n",
       "            + ' to learn more about interactive tables.';\n",
       "          element.innerHTML = '';\n",
       "          dataTable['output_type'] = 'display_data';\n",
       "          await google.colab.output.renderOutput(dataTable, element);\n",
       "          const docLink = document.createElement('div');\n",
       "          docLink.innerHTML = docLinkHtml;\n",
       "          element.appendChild(docLink);\n",
       "        }\n",
       "      </script>\n",
       "    </div>\n",
       "  </div>\n",
       "  "
      ],
      "text/plain": [
       "                            Band Name      Band Genre  \\\n",
       "0         Teenage Crazy Blue Knickers  Indie/Alt Rock   \n",
       "1                        Beyond Devon       Pop Music   \n",
       "2                          Ron Talent     Rock n Roll   \n",
       "3                       Devon Revival             RnB   \n",
       "4                        Beyond Devon       Pop Music   \n",
       "...                               ...             ...   \n",
       "169995            Crazy Joystick Cult             RnB   \n",
       "169996            Crazy Joystick Cult             RnB   \n",
       "169997                Why Frogs, Why?     Heavy Metal   \n",
       "169998  Twilight of the Joystick Gods     Hip Hop/Rap   \n",
       "169999                Joystick Attack     Heavy Metal   \n",
       "\n",
       "                Band Country of Origin  Band Debut  Concert ID  \\\n",
       "0       United States of America (USA)      1976.0       900.0   \n",
       "1       United States of America (USA)      1968.0       731.0   \n",
       "2                               Canada      1955.0       794.0   \n",
       "3       United States of America (USA)      1992.0       704.0   \n",
       "4       United States of America (USA)      1968.0        95.0   \n",
       "...                                ...         ...         ...   \n",
       "169995                          Canada      1985.0        70.0   \n",
       "169996                          Canada      1985.0       963.0   \n",
       "169997                          Canada      2005.0       764.0   \n",
       "169998  United States of America (USA)      1995.0       694.0   \n",
       "169999             United Kingdom (UK)      2008.0       661.0   \n",
       "\n",
       "        Concert Attendance Inside Venue   Rain Seated  Personnality Trait 1  \\\n",
       "0                   2980.0        False  False    NaN              0.330843   \n",
       "1                     54.0         True  False   True             -2.069449   \n",
       "2                 162754.0        False  False   True             -0.484268   \n",
       "3                   8103.0        False   True  False             -0.858054   \n",
       "4                     54.0        False  False  False             -0.793029   \n",
       "...                    ...          ...    ...    ...                   ...   \n",
       "169995            162754.0         True  False  False             -0.095021   \n",
       "169996                54.0        False  False  False             -0.733719   \n",
       "169997                54.0        False  False  False              0.744969   \n",
       "169998             22026.0        False   True   True              0.821976   \n",
       "169999              2980.0         True  False  False             -1.017410   \n",
       "\n",
       "        Personnality Trait 2  Personnality Trait 3  Personnality Trait 4  \\\n",
       "0                  -0.958408             -0.943548             -1.636806   \n",
       "1                   0.017777             -1.910675              0.610265   \n",
       "2                   1.968772             -0.064167             -1.260871   \n",
       "3                   1.022827             -0.348389             -1.147251   \n",
       "4                  -1.166528             -0.043766              0.969661   \n",
       "...                      ...                   ...                   ...   \n",
       "169995              0.175175              0.914245              0.357359   \n",
       "169996             -0.285776             -0.323312              0.641180   \n",
       "169997             -0.965547              1.020598              1.027389   \n",
       "169998              0.351411              0.175762              1.455654   \n",
       "169999              0.883248             -0.184107              0.631731   \n",
       "\n",
       "        Concert Goer Age Concert Goer ID  Height (cm)  \\\n",
       "0                   29.0            1985        140.0   \n",
       "1                   43.0            1874        158.0   \n",
       "2                   68.0             442        159.0   \n",
       "3                   17.0            1149        150.0   \n",
       "4                   59.0             930        166.0   \n",
       "...                  ...             ...          ...   \n",
       "169995              50.0             707        180.0   \n",
       "169996              71.0            1373        143.0   \n",
       "169997              27.0            1286        176.0   \n",
       "169998              39.0            1845        176.0   \n",
       "169999              46.0            1281        146.0   \n",
       "\n",
       "        Concert Goer Country of Origin  \n",
       "0                             Paraguay  \n",
       "1                  United Kingdom (UK)  \n",
       "2       United States of America (USA)  \n",
       "3                               Canada  \n",
       "4                  United Kingdom (UK)  \n",
       "...                                ...  \n",
       "169995  United States of America (USA)  \n",
       "169996                        Bulgaria  \n",
       "169997                          Canada  \n",
       "169998                          Canada  \n",
       "169999                          Canada  \n",
       "\n",
       "[170000 rows x 17 columns]"
      ]
     },
     "execution_count": 67,
     "metadata": {},
     "output_type": "execute_result"
    }
   ],
   "source": [
    "features"
   ]
  },
  {
   "cell_type": "code",
   "execution_count": null,
   "metadata": {
    "id": "lSPv5rzlhpg8"
   },
   "outputs": [],
   "source": [
    "features['Seated'] = features['Seated'].fillna(method = 'bfill')\n",
    "test_features['Seated'] = test_features['Seated'].fillna(method = 'bfill')"
   ]
  },
  {
   "cell_type": "code",
   "execution_count": null,
   "metadata": {
    "colab": {
     "base_uri": "https://localhost:8080/"
    },
    "execution": {
     "iopub.execute_input": "2022-11-25T21:40:24.218753Z",
     "iopub.status.busy": "2022-11-25T21:40:24.218346Z",
     "iopub.status.idle": "2022-11-25T21:40:24.280376Z",
     "shell.execute_reply": "2022-11-25T21:40:24.278984Z"
    },
    "id": "42d9a328",
    "outputId": "4c597f6c-5bed-4ba1-cc72-94eb1efb310c",
    "papermill": {
     "duration": 0.116634,
     "end_time": "2022-11-25T21:40:24.284266",
     "exception": false,
     "start_time": "2022-11-25T21:40:24.167632",
     "status": "completed"
    },
    "tags": []
   },
   "outputs": [
    {
     "name": "stdout",
     "output_type": "stream",
     "text": [
      "<class 'pandas.core.frame.DataFrame'>\n",
      "Int64Index: 170000 entries, 0 to 169999\n",
      "Data columns (total 17 columns):\n",
      " #   Column                          Non-Null Count   Dtype  \n",
      "---  ------                          --------------   -----  \n",
      " 0   Band Name                       170000 non-null  object \n",
      " 1   Band Genre                      170000 non-null  object \n",
      " 2   Band Country of Origin          170000 non-null  object \n",
      " 3   Band Debut                      170000 non-null  float64\n",
      " 4   Concert ID                      170000 non-null  float64\n",
      " 5   Concert Attendance              170000 non-null  float64\n",
      " 6   Inside Venue                    170000 non-null  object \n",
      " 7   Rain                            170000 non-null  object \n",
      " 8   Seated                          170000 non-null  bool   \n",
      " 9   Personnality Trait 1            170000 non-null  float64\n",
      " 10  Personnality Trait 2            170000 non-null  float64\n",
      " 11  Personnality Trait 3            170000 non-null  float64\n",
      " 12  Personnality Trait 4            170000 non-null  float64\n",
      " 13  Concert Goer Age                170000 non-null  float64\n",
      " 14  Concert Goer ID                 169218 non-null  object \n",
      " 15  Height (cm)                     170000 non-null  float64\n",
      " 16  Concert Goer Country of Origin  170000 non-null  object \n",
      "dtypes: bool(1), float64(9), object(7)\n",
      "memory usage: 26.2+ MB\n"
     ]
    }
   ],
   "source": [
    "#check:\n",
    "features.info()"
   ]
  },
  {
   "cell_type": "code",
   "execution_count": null,
   "metadata": {
    "colab": {
     "base_uri": "https://localhost:8080/"
    },
    "execution": {
     "iopub.execute_input": "2022-11-25T21:40:24.387657Z",
     "iopub.status.busy": "2022-11-25T21:40:24.387244Z",
     "iopub.status.idle": "2022-11-25T21:40:24.410982Z",
     "shell.execute_reply": "2022-11-25T21:40:24.409248Z"
    },
    "id": "7996d600",
    "outputId": "84e71279-0cb5-4770-9d50-1e6744632f60",
    "papermill": {
     "duration": 0.077332,
     "end_time": "2022-11-25T21:40:24.413691",
     "exception": false,
     "start_time": "2022-11-25T21:40:24.336359",
     "status": "completed"
    },
    "tags": []
   },
   "outputs": [
    {
     "name": "stdout",
     "output_type": "stream",
     "text": [
      "<class 'pandas.core.frame.DataFrame'>\n",
      "Int64Index: 30000 entries, 0 to 29999\n",
      "Data columns (total 17 columns):\n",
      " #   Column                          Non-Null Count  Dtype  \n",
      "---  ------                          --------------  -----  \n",
      " 0   Band Name                       30000 non-null  object \n",
      " 1   Band Genre                      30000 non-null  object \n",
      " 2   Band Country of Origin          30000 non-null  object \n",
      " 3   Band Debut                      30000 non-null  float64\n",
      " 4   Concert ID                      30000 non-null  float64\n",
      " 5   Concert Attendance              30000 non-null  float64\n",
      " 6   Inside Venue                    30000 non-null  object \n",
      " 7   Rain                            30000 non-null  object \n",
      " 8   Seated                          30000 non-null  bool   \n",
      " 9   Personnality Trait 1            30000 non-null  float64\n",
      " 10  Personnality Trait 2            30000 non-null  float64\n",
      " 11  Personnality Trait 3            30000 non-null  float64\n",
      " 12  Personnality Trait 4            30000 non-null  float64\n",
      " 13  Concert Goer Age                30000 non-null  float64\n",
      " 14  Concert Goer ID                 29863 non-null  object \n",
      " 15  Height (cm)                     30000 non-null  float64\n",
      " 16  Concert Goer Country of Origin  30000 non-null  object \n",
      "dtypes: bool(1), float64(9), object(7)\n",
      "memory usage: 4.9+ MB\n"
     ]
    }
   ],
   "source": [
    "test_features.info()"
   ]
  },
  {
   "cell_type": "markdown",
   "metadata": {
    "id": "0edda07b",
    "papermill": {
     "duration": 0.051087,
     "end_time": "2022-11-25T21:40:24.516123",
     "exception": false,
     "start_time": "2022-11-25T21:40:24.465036",
     "status": "completed"
    },
    "tags": []
   },
   "source": [
    "### Features and labels\n"
   ]
  },
  {
   "cell_type": "code",
   "execution_count": null,
   "metadata": {
    "execution": {
     "iopub.execute_input": "2022-11-25T21:40:24.618190Z",
     "iopub.status.busy": "2022-11-25T21:40:24.617430Z",
     "iopub.status.idle": "2022-11-25T21:40:24.639888Z",
     "shell.execute_reply": "2022-11-25T21:40:24.638739Z"
    },
    "id": "ed324d38",
    "papermill": {
     "duration": 0.076343,
     "end_time": "2022-11-25T21:40:24.642605",
     "exception": false,
     "start_time": "2022-11-25T21:40:24.566262",
     "status": "completed"
    },
    "tags": []
   },
   "outputs": [],
   "source": [
    "labels = data['Concert Enjoyment']\n"
   ]
  },
  {
   "cell_type": "markdown",
   "metadata": {
    "id": "d2b56aa7",
    "papermill": {
     "duration": 0.050069,
     "end_time": "2022-11-25T21:40:24.858360",
     "exception": false,
     "start_time": "2022-11-25T21:40:24.808291",
     "status": "completed"
    },
    "tags": []
   },
   "source": [
    "## 1.4- Preprocessing"
   ]
  },
  {
   "cell_type": "code",
   "execution_count": null,
   "metadata": {
    "execution": {
     "iopub.execute_input": "2022-11-25T21:40:24.958361Z",
     "iopub.status.busy": "2022-11-25T21:40:24.957642Z",
     "iopub.status.idle": "2022-11-25T21:40:25.635080Z",
     "shell.execute_reply": "2022-11-25T21:40:25.633803Z"
    },
    "id": "640f59b3",
    "papermill": {
     "duration": 0.73036,
     "end_time": "2022-11-25T21:40:25.637728",
     "exception": false,
     "start_time": "2022-11-25T21:40:24.907368",
     "status": "completed"
    },
    "tags": []
   },
   "outputs": [],
   "source": [
    "from sklearn import preprocessing"
   ]
  },
  {
   "cell_type": "markdown",
   "metadata": {
    "id": "431d5c72",
    "papermill": {
     "duration": 0.051304,
     "end_time": "2022-11-25T21:40:25.741078",
     "exception": false,
     "start_time": "2022-11-25T21:40:25.689774",
     "status": "completed"
    },
    "tags": []
   },
   "source": [
    "### Data encoding"
   ]
  },
  {
   "cell_type": "markdown",
   "metadata": {
    "id": "be3cfb13",
    "papermill": {
     "duration": 0.052763,
     "end_time": "2022-11-25T21:40:25.845407",
     "exception": false,
     "start_time": "2022-11-25T21:40:25.792644",
     "status": "completed"
    },
    "tags": []
   },
   "source": [
    "We can split the features in 3 types: Categorical features that need to be encoded (one-hot encoder) Numerical features that need to be scaled and normalized and bool features that need to be encoded as 0/1"
   ]
  },
  {
   "cell_type": "code",
   "execution_count": null,
   "metadata": {
    "id": "Z1TOzzHg0q_5"
   },
   "outputs": [],
   "source": [
    "features.loc[:, 'Concert ID'].fillna(features['Concert ID'].mean() , inplace = True)\n",
    "test_features.loc[:, 'Concert ID'].fillna(test_features['Concert ID'].mean() , inplace =True)"
   ]
  },
  {
   "cell_type": "code",
   "execution_count": null,
   "metadata": {
    "id": "-WQC2mw_gI52"
   },
   "outputs": [],
   "source": [
    "features[\"Concert Goer ID\"] = features[\"Concert Goer ID\"].astype(float)\n",
    "test_features[\"Concert Goer ID\"] = test_features[\"Concert Goer ID\"].astype(float)"
   ]
  },
  {
   "cell_type": "code",
   "execution_count": null,
   "metadata": {
    "id": "D9XDdb8pfvlt"
   },
   "outputs": [],
   "source": [
    "features.loc[:, 'Concert Goer ID'].fillna(features['Concert Goer ID'].mean() , inplace = True)\n",
    "test_features.loc[:, 'Concert Goer ID'].fillna(test_features['Concert Goer ID'].mean() , inplace =True)"
   ]
  },
  {
   "cell_type": "code",
   "execution_count": null,
   "metadata": {
    "colab": {
     "base_uri": "https://localhost:8080/"
    },
    "id": "L4nbkWlubiUw",
    "outputId": "387806d0-ed1b-4dd7-f52a-6f194490ac73"
   },
   "outputs": [
    {
     "data": {
      "text/plain": [
       "0         1985.0\n",
       "1         1874.0\n",
       "2          442.0\n",
       "3         1149.0\n",
       "4          930.0\n",
       "           ...  \n",
       "169995     707.0\n",
       "169996    1373.0\n",
       "169997    1286.0\n",
       "169998    1845.0\n",
       "169999    1281.0\n",
       "Name: Concert Goer ID, Length: 170000, dtype: float64"
      ]
     },
     "execution_count": 76,
     "metadata": {},
     "output_type": "execute_result"
    }
   ],
   "source": [
    "features[\"Concert Goer ID\"]"
   ]
  },
  {
   "cell_type": "markdown",
   "metadata": {
    "id": "xtjH0OID_xTv"
   },
   "source": [
    "Let's add a column whose value equals 1 when the concert goer and the band are from the same country and zero otherwise"
   ]
  },
  {
   "cell_type": "code",
   "execution_count": null,
   "metadata": {
    "id": "1b10a21a"
   },
   "outputs": [],
   "source": [
    "features[\"Same Country\"] = features[\"Band Country of Origin\"] == features[\"Concert Goer Country of Origin\"]\n",
    "test_features[\"Same Country\"] = test_features[\"Band Country of Origin\"] == test_features[\"Concert Goer Country of Origin\"]\n",
    "features = features.drop([\"Band Country of Origin\", \"Concert Goer Country of Origin\"], axis=1)\n",
    "test_features = test_features.drop([\"Band Country of Origin\", \"Concert Goer Country of Origin\"], axis=1)\n"
   ]
  },
  {
   "cell_type": "code",
   "execution_count": null,
   "metadata": {
    "execution": {
     "iopub.execute_input": "2022-11-25T21:40:25.950755Z",
     "iopub.status.busy": "2022-11-25T21:40:25.950353Z",
     "iopub.status.idle": "2022-11-25T21:40:25.955685Z",
     "shell.execute_reply": "2022-11-25T21:40:25.954697Z"
    },
    "id": "abd4e512",
    "papermill": {
     "duration": 0.06059,
     "end_time": "2022-11-25T21:40:25.958225",
     "exception": false,
     "start_time": "2022-11-25T21:40:25.897635",
     "status": "completed"
    },
    "tags": []
   },
   "outputs": [],
   "source": [
    "# categorical_features = ['Band Name', 'Band Genre', 'Band Country of Origin', 'Concert Goer Country of Origin']\n",
    "categorical_features = ['Band Name', 'Band Genre']\n",
    "boolean_features = ['Inside Venue', 'Rain', 'Seated', 'Same Country']\n",
    "#numerical_features = ['Band Debut', 'Concert Attendance', 'Personnality Trait 1', 'Personnality Trait 2', 'Personnality Trait 3', 'Personnality Trait 4', 'Concert Goer Age', 'Height (cm)']\n",
    "numerical_features = ['Concert ID','Band Debut', 'Concert Attendance', 'Personnality Trait 1', 'Personnality Trait 2', 'Personnality Trait 3', 'Personnality Trait 4', 'Concert Goer Age', 'Height (cm)' , 'Concert Goer ID']"
   ]
  },
  {
   "cell_type": "markdown",
   "metadata": {
    "id": "6fb7d062",
    "papermill": {
     "duration": 0.04891,
     "end_time": "2022-11-25T21:40:26.059967",
     "exception": false,
     "start_time": "2022-11-25T21:40:26.011057",
     "status": "completed"
    },
    "tags": []
   },
   "source": [
    "**Boolean Features: 0/1 encoder**"
   ]
  },
  {
   "cell_type": "code",
   "execution_count": null,
   "metadata": {
    "execution": {
     "iopub.execute_input": "2022-11-25T21:40:26.222495Z",
     "iopub.status.busy": "2022-11-25T21:40:26.222076Z",
     "iopub.status.idle": "2022-11-25T21:40:26.278362Z",
     "shell.execute_reply": "2022-11-25T21:40:26.277189Z"
    },
    "id": "0e63c01a",
    "papermill": {
     "duration": 0.111746,
     "end_time": "2022-11-25T21:40:26.281121",
     "exception": false,
     "start_time": "2022-11-25T21:40:26.169375",
     "status": "completed"
    },
    "tags": []
   },
   "outputs": [],
   "source": [
    "# there are only 3 boolean columns: Inside Venue, Rain, Seated\n",
    "features[boolean_features] = features[boolean_features].astype(int)\n",
    "test_features[boolean_features] = test_features[boolean_features].astype(int)"
   ]
  },
  {
   "cell_type": "code",
   "execution_count": null,
   "metadata": {
    "colab": {
     "base_uri": "https://localhost:8080/"
    },
    "execution": {
     "iopub.execute_input": "2022-11-25T21:40:26.504161Z",
     "iopub.status.busy": "2022-11-25T21:40:26.503666Z",
     "iopub.status.idle": "2022-11-25T21:40:26.533906Z",
     "shell.execute_reply": "2022-11-25T21:40:26.532619Z"
    },
    "id": "b2062e03",
    "outputId": "90c7e7d5-0df1-4537-d09d-f06a4fcc4524",
    "papermill": {
     "duration": 0.083743,
     "end_time": "2022-11-25T21:40:26.536545",
     "exception": false,
     "start_time": "2022-11-25T21:40:26.452802",
     "status": "completed"
    },
    "tags": []
   },
   "outputs": [
    {
     "data": {
      "text/html": [
       "\n",
       "  <div id=\"df-a3846d2e-e8e6-4612-a919-0b6eb2ce844e\">\n",
       "    <div class=\"colab-df-container\">\n",
       "      <div>\n",
       "<style scoped>\n",
       "    .dataframe tbody tr th:only-of-type {\n",
       "        vertical-align: middle;\n",
       "    }\n",
       "\n",
       "    .dataframe tbody tr th {\n",
       "        vertical-align: top;\n",
       "    }\n",
       "\n",
       "    .dataframe thead th {\n",
       "        text-align: right;\n",
       "    }\n",
       "</style>\n",
       "<table border=\"1\" class=\"dataframe\">\n",
       "  <thead>\n",
       "    <tr style=\"text-align: right;\">\n",
       "      <th></th>\n",
       "      <th>Band Name</th>\n",
       "      <th>Band Genre</th>\n",
       "      <th>Band Debut</th>\n",
       "      <th>Concert ID</th>\n",
       "      <th>Concert Attendance</th>\n",
       "      <th>Inside Venue</th>\n",
       "      <th>Rain</th>\n",
       "      <th>Seated</th>\n",
       "      <th>Personnality Trait 1</th>\n",
       "      <th>Personnality Trait 2</th>\n",
       "      <th>Personnality Trait 3</th>\n",
       "      <th>Personnality Trait 4</th>\n",
       "      <th>Concert Goer Age</th>\n",
       "      <th>Concert Goer ID</th>\n",
       "      <th>Height (cm)</th>\n",
       "      <th>Same Country</th>\n",
       "    </tr>\n",
       "  </thead>\n",
       "  <tbody>\n",
       "    <tr>\n",
       "      <th>0</th>\n",
       "      <td>Teenage Crazy Blue Knickers</td>\n",
       "      <td>Indie/Alt Rock</td>\n",
       "      <td>1976.0</td>\n",
       "      <td>900.0</td>\n",
       "      <td>2980.0</td>\n",
       "      <td>0</td>\n",
       "      <td>0</td>\n",
       "      <td>1</td>\n",
       "      <td>0.330843</td>\n",
       "      <td>-0.958408</td>\n",
       "      <td>-0.943548</td>\n",
       "      <td>-1.636806</td>\n",
       "      <td>29.0</td>\n",
       "      <td>1985.0</td>\n",
       "      <td>140.0</td>\n",
       "      <td>0</td>\n",
       "    </tr>\n",
       "    <tr>\n",
       "      <th>1</th>\n",
       "      <td>Beyond Devon</td>\n",
       "      <td>Pop Music</td>\n",
       "      <td>1968.0</td>\n",
       "      <td>731.0</td>\n",
       "      <td>54.0</td>\n",
       "      <td>1</td>\n",
       "      <td>0</td>\n",
       "      <td>1</td>\n",
       "      <td>-2.069449</td>\n",
       "      <td>0.017777</td>\n",
       "      <td>-1.910675</td>\n",
       "      <td>0.610265</td>\n",
       "      <td>43.0</td>\n",
       "      <td>1874.0</td>\n",
       "      <td>158.0</td>\n",
       "      <td>0</td>\n",
       "    </tr>\n",
       "    <tr>\n",
       "      <th>2</th>\n",
       "      <td>Ron Talent</td>\n",
       "      <td>Rock n Roll</td>\n",
       "      <td>1955.0</td>\n",
       "      <td>794.0</td>\n",
       "      <td>162754.0</td>\n",
       "      <td>0</td>\n",
       "      <td>0</td>\n",
       "      <td>1</td>\n",
       "      <td>-0.484268</td>\n",
       "      <td>1.968772</td>\n",
       "      <td>-0.064167</td>\n",
       "      <td>-1.260871</td>\n",
       "      <td>68.0</td>\n",
       "      <td>442.0</td>\n",
       "      <td>159.0</td>\n",
       "      <td>0</td>\n",
       "    </tr>\n",
       "    <tr>\n",
       "      <th>3</th>\n",
       "      <td>Devon Revival</td>\n",
       "      <td>RnB</td>\n",
       "      <td>1992.0</td>\n",
       "      <td>704.0</td>\n",
       "      <td>8103.0</td>\n",
       "      <td>0</td>\n",
       "      <td>1</td>\n",
       "      <td>0</td>\n",
       "      <td>-0.858054</td>\n",
       "      <td>1.022827</td>\n",
       "      <td>-0.348389</td>\n",
       "      <td>-1.147251</td>\n",
       "      <td>17.0</td>\n",
       "      <td>1149.0</td>\n",
       "      <td>150.0</td>\n",
       "      <td>0</td>\n",
       "    </tr>\n",
       "    <tr>\n",
       "      <th>4</th>\n",
       "      <td>Beyond Devon</td>\n",
       "      <td>Pop Music</td>\n",
       "      <td>1968.0</td>\n",
       "      <td>95.0</td>\n",
       "      <td>54.0</td>\n",
       "      <td>0</td>\n",
       "      <td>0</td>\n",
       "      <td>0</td>\n",
       "      <td>-0.793029</td>\n",
       "      <td>-1.166528</td>\n",
       "      <td>-0.043766</td>\n",
       "      <td>0.969661</td>\n",
       "      <td>59.0</td>\n",
       "      <td>930.0</td>\n",
       "      <td>166.0</td>\n",
       "      <td>0</td>\n",
       "    </tr>\n",
       "    <tr>\n",
       "      <th>...</th>\n",
       "      <td>...</td>\n",
       "      <td>...</td>\n",
       "      <td>...</td>\n",
       "      <td>...</td>\n",
       "      <td>...</td>\n",
       "      <td>...</td>\n",
       "      <td>...</td>\n",
       "      <td>...</td>\n",
       "      <td>...</td>\n",
       "      <td>...</td>\n",
       "      <td>...</td>\n",
       "      <td>...</td>\n",
       "      <td>...</td>\n",
       "      <td>...</td>\n",
       "      <td>...</td>\n",
       "      <td>...</td>\n",
       "    </tr>\n",
       "    <tr>\n",
       "      <th>169995</th>\n",
       "      <td>Crazy Joystick Cult</td>\n",
       "      <td>RnB</td>\n",
       "      <td>1985.0</td>\n",
       "      <td>70.0</td>\n",
       "      <td>162754.0</td>\n",
       "      <td>1</td>\n",
       "      <td>0</td>\n",
       "      <td>0</td>\n",
       "      <td>-0.095021</td>\n",
       "      <td>0.175175</td>\n",
       "      <td>0.914245</td>\n",
       "      <td>0.357359</td>\n",
       "      <td>50.0</td>\n",
       "      <td>707.0</td>\n",
       "      <td>180.0</td>\n",
       "      <td>0</td>\n",
       "    </tr>\n",
       "    <tr>\n",
       "      <th>169996</th>\n",
       "      <td>Crazy Joystick Cult</td>\n",
       "      <td>RnB</td>\n",
       "      <td>1985.0</td>\n",
       "      <td>963.0</td>\n",
       "      <td>54.0</td>\n",
       "      <td>0</td>\n",
       "      <td>0</td>\n",
       "      <td>0</td>\n",
       "      <td>-0.733719</td>\n",
       "      <td>-0.285776</td>\n",
       "      <td>-0.323312</td>\n",
       "      <td>0.641180</td>\n",
       "      <td>71.0</td>\n",
       "      <td>1373.0</td>\n",
       "      <td>143.0</td>\n",
       "      <td>0</td>\n",
       "    </tr>\n",
       "    <tr>\n",
       "      <th>169997</th>\n",
       "      <td>Why Frogs, Why?</td>\n",
       "      <td>Heavy Metal</td>\n",
       "      <td>2005.0</td>\n",
       "      <td>764.0</td>\n",
       "      <td>54.0</td>\n",
       "      <td>0</td>\n",
       "      <td>0</td>\n",
       "      <td>0</td>\n",
       "      <td>0.744969</td>\n",
       "      <td>-0.965547</td>\n",
       "      <td>1.020598</td>\n",
       "      <td>1.027389</td>\n",
       "      <td>27.0</td>\n",
       "      <td>1286.0</td>\n",
       "      <td>176.0</td>\n",
       "      <td>1</td>\n",
       "    </tr>\n",
       "    <tr>\n",
       "      <th>169998</th>\n",
       "      <td>Twilight of the Joystick Gods</td>\n",
       "      <td>Hip Hop/Rap</td>\n",
       "      <td>1995.0</td>\n",
       "      <td>694.0</td>\n",
       "      <td>22026.0</td>\n",
       "      <td>0</td>\n",
       "      <td>1</td>\n",
       "      <td>1</td>\n",
       "      <td>0.821976</td>\n",
       "      <td>0.351411</td>\n",
       "      <td>0.175762</td>\n",
       "      <td>1.455654</td>\n",
       "      <td>39.0</td>\n",
       "      <td>1845.0</td>\n",
       "      <td>176.0</td>\n",
       "      <td>0</td>\n",
       "    </tr>\n",
       "    <tr>\n",
       "      <th>169999</th>\n",
       "      <td>Joystick Attack</td>\n",
       "      <td>Heavy Metal</td>\n",
       "      <td>2008.0</td>\n",
       "      <td>661.0</td>\n",
       "      <td>2980.0</td>\n",
       "      <td>1</td>\n",
       "      <td>0</td>\n",
       "      <td>0</td>\n",
       "      <td>-1.017410</td>\n",
       "      <td>0.883248</td>\n",
       "      <td>-0.184107</td>\n",
       "      <td>0.631731</td>\n",
       "      <td>46.0</td>\n",
       "      <td>1281.0</td>\n",
       "      <td>146.0</td>\n",
       "      <td>0</td>\n",
       "    </tr>\n",
       "  </tbody>\n",
       "</table>\n",
       "<p>170000 rows × 16 columns</p>\n",
       "</div>\n",
       "      <button class=\"colab-df-convert\" onclick=\"convertToInteractive('df-a3846d2e-e8e6-4612-a919-0b6eb2ce844e')\"\n",
       "              title=\"Convert this dataframe to an interactive table.\"\n",
       "              style=\"display:none;\">\n",
       "        \n",
       "  <svg xmlns=\"http://www.w3.org/2000/svg\" height=\"24px\"viewBox=\"0 0 24 24\"\n",
       "       width=\"24px\">\n",
       "    <path d=\"M0 0h24v24H0V0z\" fill=\"none\"/>\n",
       "    <path d=\"M18.56 5.44l.94 2.06.94-2.06 2.06-.94-2.06-.94-.94-2.06-.94 2.06-2.06.94zm-11 1L8.5 8.5l.94-2.06 2.06-.94-2.06-.94L8.5 2.5l-.94 2.06-2.06.94zm10 10l.94 2.06.94-2.06 2.06-.94-2.06-.94-.94-2.06-.94 2.06-2.06.94z\"/><path d=\"M17.41 7.96l-1.37-1.37c-.4-.4-.92-.59-1.43-.59-.52 0-1.04.2-1.43.59L10.3 9.45l-7.72 7.72c-.78.78-.78 2.05 0 2.83L4 21.41c.39.39.9.59 1.41.59.51 0 1.02-.2 1.41-.59l7.78-7.78 2.81-2.81c.8-.78.8-2.07 0-2.86zM5.41 20L4 18.59l7.72-7.72 1.47 1.35L5.41 20z\"/>\n",
       "  </svg>\n",
       "      </button>\n",
       "      \n",
       "  <style>\n",
       "    .colab-df-container {\n",
       "      display:flex;\n",
       "      flex-wrap:wrap;\n",
       "      gap: 12px;\n",
       "    }\n",
       "\n",
       "    .colab-df-convert {\n",
       "      background-color: #E8F0FE;\n",
       "      border: none;\n",
       "      border-radius: 50%;\n",
       "      cursor: pointer;\n",
       "      display: none;\n",
       "      fill: #1967D2;\n",
       "      height: 32px;\n",
       "      padding: 0 0 0 0;\n",
       "      width: 32px;\n",
       "    }\n",
       "\n",
       "    .colab-df-convert:hover {\n",
       "      background-color: #E2EBFA;\n",
       "      box-shadow: 0px 1px 2px rgba(60, 64, 67, 0.3), 0px 1px 3px 1px rgba(60, 64, 67, 0.15);\n",
       "      fill: #174EA6;\n",
       "    }\n",
       "\n",
       "    [theme=dark] .colab-df-convert {\n",
       "      background-color: #3B4455;\n",
       "      fill: #D2E3FC;\n",
       "    }\n",
       "\n",
       "    [theme=dark] .colab-df-convert:hover {\n",
       "      background-color: #434B5C;\n",
       "      box-shadow: 0px 1px 3px 1px rgba(0, 0, 0, 0.15);\n",
       "      filter: drop-shadow(0px 1px 2px rgba(0, 0, 0, 0.3));\n",
       "      fill: #FFFFFF;\n",
       "    }\n",
       "  </style>\n",
       "\n",
       "      <script>\n",
       "        const buttonEl =\n",
       "          document.querySelector('#df-a3846d2e-e8e6-4612-a919-0b6eb2ce844e button.colab-df-convert');\n",
       "        buttonEl.style.display =\n",
       "          google.colab.kernel.accessAllowed ? 'block' : 'none';\n",
       "\n",
       "        async function convertToInteractive(key) {\n",
       "          const element = document.querySelector('#df-a3846d2e-e8e6-4612-a919-0b6eb2ce844e');\n",
       "          const dataTable =\n",
       "            await google.colab.kernel.invokeFunction('convertToInteractive',\n",
       "                                                     [key], {});\n",
       "          if (!dataTable) return;\n",
       "\n",
       "          const docLinkHtml = 'Like what you see? Visit the ' +\n",
       "            '<a target=\"_blank\" href=https://colab.research.google.com/notebooks/data_table.ipynb>data table notebook</a>'\n",
       "            + ' to learn more about interactive tables.';\n",
       "          element.innerHTML = '';\n",
       "          dataTable['output_type'] = 'display_data';\n",
       "          await google.colab.output.renderOutput(dataTable, element);\n",
       "          const docLink = document.createElement('div');\n",
       "          docLink.innerHTML = docLinkHtml;\n",
       "          element.appendChild(docLink);\n",
       "        }\n",
       "      </script>\n",
       "    </div>\n",
       "  </div>\n",
       "  "
      ],
      "text/plain": [
       "                            Band Name      Band Genre  Band Debut  Concert ID  \\\n",
       "0         Teenage Crazy Blue Knickers  Indie/Alt Rock      1976.0       900.0   \n",
       "1                        Beyond Devon       Pop Music      1968.0       731.0   \n",
       "2                          Ron Talent     Rock n Roll      1955.0       794.0   \n",
       "3                       Devon Revival             RnB      1992.0       704.0   \n",
       "4                        Beyond Devon       Pop Music      1968.0        95.0   \n",
       "...                               ...             ...         ...         ...   \n",
       "169995            Crazy Joystick Cult             RnB      1985.0        70.0   \n",
       "169996            Crazy Joystick Cult             RnB      1985.0       963.0   \n",
       "169997                Why Frogs, Why?     Heavy Metal      2005.0       764.0   \n",
       "169998  Twilight of the Joystick Gods     Hip Hop/Rap      1995.0       694.0   \n",
       "169999                Joystick Attack     Heavy Metal      2008.0       661.0   \n",
       "\n",
       "        Concert Attendance  Inside Venue  Rain  Seated  Personnality Trait 1  \\\n",
       "0                   2980.0             0     0       1              0.330843   \n",
       "1                     54.0             1     0       1             -2.069449   \n",
       "2                 162754.0             0     0       1             -0.484268   \n",
       "3                   8103.0             0     1       0             -0.858054   \n",
       "4                     54.0             0     0       0             -0.793029   \n",
       "...                    ...           ...   ...     ...                   ...   \n",
       "169995            162754.0             1     0       0             -0.095021   \n",
       "169996                54.0             0     0       0             -0.733719   \n",
       "169997                54.0             0     0       0              0.744969   \n",
       "169998             22026.0             0     1       1              0.821976   \n",
       "169999              2980.0             1     0       0             -1.017410   \n",
       "\n",
       "        Personnality Trait 2  Personnality Trait 3  Personnality Trait 4  \\\n",
       "0                  -0.958408             -0.943548             -1.636806   \n",
       "1                   0.017777             -1.910675              0.610265   \n",
       "2                   1.968772             -0.064167             -1.260871   \n",
       "3                   1.022827             -0.348389             -1.147251   \n",
       "4                  -1.166528             -0.043766              0.969661   \n",
       "...                      ...                   ...                   ...   \n",
       "169995              0.175175              0.914245              0.357359   \n",
       "169996             -0.285776             -0.323312              0.641180   \n",
       "169997             -0.965547              1.020598              1.027389   \n",
       "169998              0.351411              0.175762              1.455654   \n",
       "169999              0.883248             -0.184107              0.631731   \n",
       "\n",
       "        Concert Goer Age  Concert Goer ID  Height (cm)  Same Country  \n",
       "0                   29.0           1985.0        140.0             0  \n",
       "1                   43.0           1874.0        158.0             0  \n",
       "2                   68.0            442.0        159.0             0  \n",
       "3                   17.0           1149.0        150.0             0  \n",
       "4                   59.0            930.0        166.0             0  \n",
       "...                  ...              ...          ...           ...  \n",
       "169995              50.0            707.0        180.0             0  \n",
       "169996              71.0           1373.0        143.0             0  \n",
       "169997              27.0           1286.0        176.0             1  \n",
       "169998              39.0           1845.0        176.0             0  \n",
       "169999              46.0           1281.0        146.0             0  \n",
       "\n",
       "[170000 rows x 16 columns]"
      ]
     },
     "execution_count": 80,
     "metadata": {},
     "output_type": "execute_result"
    }
   ],
   "source": [
    "features"
   ]
  },
  {
   "cell_type": "code",
   "execution_count": null,
   "metadata": {
    "colab": {
     "base_uri": "https://localhost:8080/"
    },
    "id": "pxMwYPhjRRvI",
    "outputId": "47977025-d350-4f40-da4d-939c47c102c7"
   },
   "outputs": [
    {
     "data": {
      "text/html": [
       "\n",
       "  <div id=\"df-2bf72171-fa7a-426f-a82f-cddcef79d4fc\">\n",
       "    <div class=\"colab-df-container\">\n",
       "      <div>\n",
       "<style scoped>\n",
       "    .dataframe tbody tr th:only-of-type {\n",
       "        vertical-align: middle;\n",
       "    }\n",
       "\n",
       "    .dataframe tbody tr th {\n",
       "        vertical-align: top;\n",
       "    }\n",
       "\n",
       "    .dataframe thead th {\n",
       "        text-align: right;\n",
       "    }\n",
       "</style>\n",
       "<table border=\"1\" class=\"dataframe\">\n",
       "  <thead>\n",
       "    <tr style=\"text-align: right;\">\n",
       "      <th></th>\n",
       "      <th>Band Name</th>\n",
       "      <th>Band Genre</th>\n",
       "      <th>Band Debut</th>\n",
       "      <th>Concert ID</th>\n",
       "      <th>Concert Attendance</th>\n",
       "      <th>Inside Venue</th>\n",
       "      <th>Rain</th>\n",
       "      <th>Seated</th>\n",
       "      <th>Personnality Trait 1</th>\n",
       "      <th>Personnality Trait 2</th>\n",
       "      <th>Personnality Trait 3</th>\n",
       "      <th>Personnality Trait 4</th>\n",
       "      <th>Concert Goer Age</th>\n",
       "      <th>Concert Goer ID</th>\n",
       "      <th>Height (cm)</th>\n",
       "      <th>Same Country</th>\n",
       "    </tr>\n",
       "  </thead>\n",
       "  <tbody>\n",
       "    <tr>\n",
       "      <th>0</th>\n",
       "      <td>The Crazy Heroes of Devon</td>\n",
       "      <td>Rock n Roll</td>\n",
       "      <td>1980.0</td>\n",
       "      <td>350.0</td>\n",
       "      <td>2980.0</td>\n",
       "      <td>1</td>\n",
       "      <td>0</td>\n",
       "      <td>1</td>\n",
       "      <td>1.065107</td>\n",
       "      <td>0.057660</td>\n",
       "      <td>0.249639</td>\n",
       "      <td>-0.933976</td>\n",
       "      <td>74.0</td>\n",
       "      <td>1587.0</td>\n",
       "      <td>165.0</td>\n",
       "      <td>1</td>\n",
       "    </tr>\n",
       "    <tr>\n",
       "      <th>1</th>\n",
       "      <td>Joystick for the Jockies</td>\n",
       "      <td>Hip Hop/Rap</td>\n",
       "      <td>2014.0</td>\n",
       "      <td>173.0</td>\n",
       "      <td>8103.0</td>\n",
       "      <td>1</td>\n",
       "      <td>1</td>\n",
       "      <td>0</td>\n",
       "      <td>-0.886947</td>\n",
       "      <td>0.801365</td>\n",
       "      <td>0.525624</td>\n",
       "      <td>0.176655</td>\n",
       "      <td>29.0</td>\n",
       "      <td>293.0</td>\n",
       "      <td>151.0</td>\n",
       "      <td>0</td>\n",
       "    </tr>\n",
       "    <tr>\n",
       "      <th>2</th>\n",
       "      <td>Puddle of Joystick</td>\n",
       "      <td>Rock n Roll</td>\n",
       "      <td>2010.0</td>\n",
       "      <td>502.0</td>\n",
       "      <td>2980.0</td>\n",
       "      <td>1</td>\n",
       "      <td>1</td>\n",
       "      <td>0</td>\n",
       "      <td>0.744700</td>\n",
       "      <td>-0.797531</td>\n",
       "      <td>-0.034166</td>\n",
       "      <td>-0.226052</td>\n",
       "      <td>27.0</td>\n",
       "      <td>1068.0</td>\n",
       "      <td>146.0</td>\n",
       "      <td>1</td>\n",
       "    </tr>\n",
       "    <tr>\n",
       "      <th>3</th>\n",
       "      <td>Flight of the Knickers</td>\n",
       "      <td>Hip Hop/Rap</td>\n",
       "      <td>2014.0</td>\n",
       "      <td>532.0</td>\n",
       "      <td>22026.0</td>\n",
       "      <td>1</td>\n",
       "      <td>0</td>\n",
       "      <td>0</td>\n",
       "      <td>-0.134180</td>\n",
       "      <td>-0.361512</td>\n",
       "      <td>0.969404</td>\n",
       "      <td>-2.341205</td>\n",
       "      <td>38.0</td>\n",
       "      <td>1315.0</td>\n",
       "      <td>183.0</td>\n",
       "      <td>0</td>\n",
       "    </tr>\n",
       "    <tr>\n",
       "      <th>4</th>\n",
       "      <td>Devon Revival</td>\n",
       "      <td>RnB</td>\n",
       "      <td>1992.0</td>\n",
       "      <td>636.0</td>\n",
       "      <td>2980.0</td>\n",
       "      <td>0</td>\n",
       "      <td>0</td>\n",
       "      <td>0</td>\n",
       "      <td>1.407366</td>\n",
       "      <td>-0.084155</td>\n",
       "      <td>-0.673233</td>\n",
       "      <td>1.733714</td>\n",
       "      <td>21.0</td>\n",
       "      <td>1777.0</td>\n",
       "      <td>177.0</td>\n",
       "      <td>0</td>\n",
       "    </tr>\n",
       "    <tr>\n",
       "      <th>...</th>\n",
       "      <td>...</td>\n",
       "      <td>...</td>\n",
       "      <td>...</td>\n",
       "      <td>...</td>\n",
       "      <td>...</td>\n",
       "      <td>...</td>\n",
       "      <td>...</td>\n",
       "      <td>...</td>\n",
       "      <td>...</td>\n",
       "      <td>...</td>\n",
       "      <td>...</td>\n",
       "      <td>...</td>\n",
       "      <td>...</td>\n",
       "      <td>...</td>\n",
       "      <td>...</td>\n",
       "      <td>...</td>\n",
       "    </tr>\n",
       "    <tr>\n",
       "      <th>29995</th>\n",
       "      <td>Joystick of the Big Knickers</td>\n",
       "      <td>Hip Hop/Rap</td>\n",
       "      <td>1979.0</td>\n",
       "      <td>411.0</td>\n",
       "      <td>2980.0</td>\n",
       "      <td>1</td>\n",
       "      <td>0</td>\n",
       "      <td>0</td>\n",
       "      <td>-0.421714</td>\n",
       "      <td>-1.549670</td>\n",
       "      <td>-0.351770</td>\n",
       "      <td>0.132489</td>\n",
       "      <td>42.0</td>\n",
       "      <td>1710.0</td>\n",
       "      <td>178.0</td>\n",
       "      <td>1</td>\n",
       "    </tr>\n",
       "    <tr>\n",
       "      <th>29996</th>\n",
       "      <td>Big Division</td>\n",
       "      <td>Hip Hop/Rap</td>\n",
       "      <td>1978.0</td>\n",
       "      <td>135.0</td>\n",
       "      <td>8103.0</td>\n",
       "      <td>1</td>\n",
       "      <td>0</td>\n",
       "      <td>0</td>\n",
       "      <td>0.615087</td>\n",
       "      <td>-0.047092</td>\n",
       "      <td>0.339228</td>\n",
       "      <td>0.820159</td>\n",
       "      <td>37.0</td>\n",
       "      <td>1758.0</td>\n",
       "      <td>186.0</td>\n",
       "      <td>0</td>\n",
       "    </tr>\n",
       "    <tr>\n",
       "      <th>29997</th>\n",
       "      <td>Crazyplay</td>\n",
       "      <td>Pop Music</td>\n",
       "      <td>1995.0</td>\n",
       "      <td>987.0</td>\n",
       "      <td>8103.0</td>\n",
       "      <td>0</td>\n",
       "      <td>0</td>\n",
       "      <td>1</td>\n",
       "      <td>-1.396551</td>\n",
       "      <td>-0.508627</td>\n",
       "      <td>-1.692584</td>\n",
       "      <td>1.640931</td>\n",
       "      <td>45.0</td>\n",
       "      <td>1481.0</td>\n",
       "      <td>158.0</td>\n",
       "      <td>0</td>\n",
       "    </tr>\n",
       "    <tr>\n",
       "      <th>29998</th>\n",
       "      <td>Lord of the Crazy Frogs</td>\n",
       "      <td>RnB</td>\n",
       "      <td>1968.0</td>\n",
       "      <td>830.0</td>\n",
       "      <td>8103.0</td>\n",
       "      <td>0</td>\n",
       "      <td>1</td>\n",
       "      <td>0</td>\n",
       "      <td>0.168073</td>\n",
       "      <td>-0.785460</td>\n",
       "      <td>0.898273</td>\n",
       "      <td>1.608389</td>\n",
       "      <td>36.0</td>\n",
       "      <td>1461.0</td>\n",
       "      <td>170.0</td>\n",
       "      <td>0</td>\n",
       "    </tr>\n",
       "    <tr>\n",
       "      <th>29999</th>\n",
       "      <td>Crazy Dream and a Pinch of Joystick</td>\n",
       "      <td>Heavy Metal</td>\n",
       "      <td>1995.0</td>\n",
       "      <td>120.0</td>\n",
       "      <td>54.0</td>\n",
       "      <td>0</td>\n",
       "      <td>1</td>\n",
       "      <td>0</td>\n",
       "      <td>-0.248370</td>\n",
       "      <td>-0.809340</td>\n",
       "      <td>0.085226</td>\n",
       "      <td>-0.133507</td>\n",
       "      <td>47.0</td>\n",
       "      <td>1617.0</td>\n",
       "      <td>189.0</td>\n",
       "      <td>0</td>\n",
       "    </tr>\n",
       "  </tbody>\n",
       "</table>\n",
       "<p>30000 rows × 16 columns</p>\n",
       "</div>\n",
       "      <button class=\"colab-df-convert\" onclick=\"convertToInteractive('df-2bf72171-fa7a-426f-a82f-cddcef79d4fc')\"\n",
       "              title=\"Convert this dataframe to an interactive table.\"\n",
       "              style=\"display:none;\">\n",
       "        \n",
       "  <svg xmlns=\"http://www.w3.org/2000/svg\" height=\"24px\"viewBox=\"0 0 24 24\"\n",
       "       width=\"24px\">\n",
       "    <path d=\"M0 0h24v24H0V0z\" fill=\"none\"/>\n",
       "    <path d=\"M18.56 5.44l.94 2.06.94-2.06 2.06-.94-2.06-.94-.94-2.06-.94 2.06-2.06.94zm-11 1L8.5 8.5l.94-2.06 2.06-.94-2.06-.94L8.5 2.5l-.94 2.06-2.06.94zm10 10l.94 2.06.94-2.06 2.06-.94-2.06-.94-.94-2.06-.94 2.06-2.06.94z\"/><path d=\"M17.41 7.96l-1.37-1.37c-.4-.4-.92-.59-1.43-.59-.52 0-1.04.2-1.43.59L10.3 9.45l-7.72 7.72c-.78.78-.78 2.05 0 2.83L4 21.41c.39.39.9.59 1.41.59.51 0 1.02-.2 1.41-.59l7.78-7.78 2.81-2.81c.8-.78.8-2.07 0-2.86zM5.41 20L4 18.59l7.72-7.72 1.47 1.35L5.41 20z\"/>\n",
       "  </svg>\n",
       "      </button>\n",
       "      \n",
       "  <style>\n",
       "    .colab-df-container {\n",
       "      display:flex;\n",
       "      flex-wrap:wrap;\n",
       "      gap: 12px;\n",
       "    }\n",
       "\n",
       "    .colab-df-convert {\n",
       "      background-color: #E8F0FE;\n",
       "      border: none;\n",
       "      border-radius: 50%;\n",
       "      cursor: pointer;\n",
       "      display: none;\n",
       "      fill: #1967D2;\n",
       "      height: 32px;\n",
       "      padding: 0 0 0 0;\n",
       "      width: 32px;\n",
       "    }\n",
       "\n",
       "    .colab-df-convert:hover {\n",
       "      background-color: #E2EBFA;\n",
       "      box-shadow: 0px 1px 2px rgba(60, 64, 67, 0.3), 0px 1px 3px 1px rgba(60, 64, 67, 0.15);\n",
       "      fill: #174EA6;\n",
       "    }\n",
       "\n",
       "    [theme=dark] .colab-df-convert {\n",
       "      background-color: #3B4455;\n",
       "      fill: #D2E3FC;\n",
       "    }\n",
       "\n",
       "    [theme=dark] .colab-df-convert:hover {\n",
       "      background-color: #434B5C;\n",
       "      box-shadow: 0px 1px 3px 1px rgba(0, 0, 0, 0.15);\n",
       "      filter: drop-shadow(0px 1px 2px rgba(0, 0, 0, 0.3));\n",
       "      fill: #FFFFFF;\n",
       "    }\n",
       "  </style>\n",
       "\n",
       "      <script>\n",
       "        const buttonEl =\n",
       "          document.querySelector('#df-2bf72171-fa7a-426f-a82f-cddcef79d4fc button.colab-df-convert');\n",
       "        buttonEl.style.display =\n",
       "          google.colab.kernel.accessAllowed ? 'block' : 'none';\n",
       "\n",
       "        async function convertToInteractive(key) {\n",
       "          const element = document.querySelector('#df-2bf72171-fa7a-426f-a82f-cddcef79d4fc');\n",
       "          const dataTable =\n",
       "            await google.colab.kernel.invokeFunction('convertToInteractive',\n",
       "                                                     [key], {});\n",
       "          if (!dataTable) return;\n",
       "\n",
       "          const docLinkHtml = 'Like what you see? Visit the ' +\n",
       "            '<a target=\"_blank\" href=https://colab.research.google.com/notebooks/data_table.ipynb>data table notebook</a>'\n",
       "            + ' to learn more about interactive tables.';\n",
       "          element.innerHTML = '';\n",
       "          dataTable['output_type'] = 'display_data';\n",
       "          await google.colab.output.renderOutput(dataTable, element);\n",
       "          const docLink = document.createElement('div');\n",
       "          docLink.innerHTML = docLinkHtml;\n",
       "          element.appendChild(docLink);\n",
       "        }\n",
       "      </script>\n",
       "    </div>\n",
       "  </div>\n",
       "  "
      ],
      "text/plain": [
       "                                 Band Name   Band Genre  Band Debut  \\\n",
       "0                The Crazy Heroes of Devon  Rock n Roll      1980.0   \n",
       "1                 Joystick for the Jockies  Hip Hop/Rap      2014.0   \n",
       "2                       Puddle of Joystick  Rock n Roll      2010.0   \n",
       "3                   Flight of the Knickers  Hip Hop/Rap      2014.0   \n",
       "4                            Devon Revival          RnB      1992.0   \n",
       "...                                    ...          ...         ...   \n",
       "29995         Joystick of the Big Knickers  Hip Hop/Rap      1979.0   \n",
       "29996                         Big Division  Hip Hop/Rap      1978.0   \n",
       "29997                            Crazyplay    Pop Music      1995.0   \n",
       "29998              Lord of the Crazy Frogs          RnB      1968.0   \n",
       "29999  Crazy Dream and a Pinch of Joystick  Heavy Metal      1995.0   \n",
       "\n",
       "       Concert ID  Concert Attendance  Inside Venue  Rain  Seated  \\\n",
       "0           350.0              2980.0             1     0       1   \n",
       "1           173.0              8103.0             1     1       0   \n",
       "2           502.0              2980.0             1     1       0   \n",
       "3           532.0             22026.0             1     0       0   \n",
       "4           636.0              2980.0             0     0       0   \n",
       "...           ...                 ...           ...   ...     ...   \n",
       "29995       411.0              2980.0             1     0       0   \n",
       "29996       135.0              8103.0             1     0       0   \n",
       "29997       987.0              8103.0             0     0       1   \n",
       "29998       830.0              8103.0             0     1       0   \n",
       "29999       120.0                54.0             0     1       0   \n",
       "\n",
       "       Personnality Trait 1  Personnality Trait 2  Personnality Trait 3  \\\n",
       "0                  1.065107              0.057660              0.249639   \n",
       "1                 -0.886947              0.801365              0.525624   \n",
       "2                  0.744700             -0.797531             -0.034166   \n",
       "3                 -0.134180             -0.361512              0.969404   \n",
       "4                  1.407366             -0.084155             -0.673233   \n",
       "...                     ...                   ...                   ...   \n",
       "29995             -0.421714             -1.549670             -0.351770   \n",
       "29996              0.615087             -0.047092              0.339228   \n",
       "29997             -1.396551             -0.508627             -1.692584   \n",
       "29998              0.168073             -0.785460              0.898273   \n",
       "29999             -0.248370             -0.809340              0.085226   \n",
       "\n",
       "       Personnality Trait 4  Concert Goer Age  Concert Goer ID  Height (cm)  \\\n",
       "0                 -0.933976              74.0           1587.0        165.0   \n",
       "1                  0.176655              29.0            293.0        151.0   \n",
       "2                 -0.226052              27.0           1068.0        146.0   \n",
       "3                 -2.341205              38.0           1315.0        183.0   \n",
       "4                  1.733714              21.0           1777.0        177.0   \n",
       "...                     ...               ...              ...          ...   \n",
       "29995              0.132489              42.0           1710.0        178.0   \n",
       "29996              0.820159              37.0           1758.0        186.0   \n",
       "29997              1.640931              45.0           1481.0        158.0   \n",
       "29998              1.608389              36.0           1461.0        170.0   \n",
       "29999             -0.133507              47.0           1617.0        189.0   \n",
       "\n",
       "       Same Country  \n",
       "0                 1  \n",
       "1                 0  \n",
       "2                 1  \n",
       "3                 0  \n",
       "4                 0  \n",
       "...             ...  \n",
       "29995             1  \n",
       "29996             0  \n",
       "29997             0  \n",
       "29998             0  \n",
       "29999             0  \n",
       "\n",
       "[30000 rows x 16 columns]"
      ]
     },
     "execution_count": 81,
     "metadata": {},
     "output_type": "execute_result"
    }
   ],
   "source": [
    "test_features"
   ]
  },
  {
   "cell_type": "markdown",
   "metadata": {
    "id": "94136c13",
    "papermill": {
     "duration": 0.050806,
     "end_time": "2022-11-25T21:40:26.638694",
     "exception": false,
     "start_time": "2022-11-25T21:40:26.587888",
     "status": "completed"
    },
    "tags": []
   },
   "source": [
    "**Categorical Features: One-hot encoder**"
   ]
  },
  {
   "cell_type": "code",
   "execution_count": null,
   "metadata": {
    "execution": {
     "iopub.execute_input": "2022-11-25T21:40:26.741285Z",
     "iopub.status.busy": "2022-11-25T21:40:26.740527Z",
     "iopub.status.idle": "2022-11-25T21:40:26.746286Z",
     "shell.execute_reply": "2022-11-25T21:40:26.744965Z"
    },
    "id": "22ba17c0",
    "papermill": {
     "duration": 0.060438,
     "end_time": "2022-11-25T21:40:26.749345",
     "exception": false,
     "start_time": "2022-11-25T21:40:26.688907",
     "status": "completed"
    },
    "tags": []
   },
   "outputs": [],
   "source": [
    "from sklearn.preprocessing import OneHotEncoder"
   ]
  },
  {
   "cell_type": "code",
   "execution_count": null,
   "metadata": {
    "colab": {
     "base_uri": "https://localhost:8080/"
    },
    "id": "_HcS1Btr86Lb",
    "outputId": "d72c53a5-cb71-4d94-f4ca-d1e6fbd07ca7"
   },
   "outputs": [
    {
     "name": "stdout",
     "output_type": "stream",
     "text": [
      "Train Data: \n",
      "Number of Band Names                    : 53\n",
      "Number of Band Genre                    : 7\n",
      "Test Data: \n",
      "Number of Band Names                    : 53\n",
      "Number of Band Genre                    : 7\n"
     ]
    }
   ],
   "source": [
    "categorical_features\n",
    "print(\"Train Data: \")\n",
    "print(\"Number of Band Names                    :\", len(features[\"Band Name\"].unique()))\n",
    "print(\"Number of Band Genre                    :\", len(features[\"Band Genre\"].unique()))\n",
    "\n",
    "print(\"Test Data: \")\n",
    "print(\"Number of Band Names                    :\", len(test_features[\"Band Name\"].unique()))\n",
    "print(\"Number of Band Genre                    :\", len(test_features[\"Band Genre\"].unique()))\n"
   ]
  },
  {
   "cell_type": "markdown",
   "metadata": {
    "id": "xjP8Fj_T-zBy"
   },
   "source": [
    "**Band names:**"
   ]
  },
  {
   "cell_type": "code",
   "execution_count": null,
   "metadata": {
    "execution": {
     "iopub.execute_input": "2022-11-25T21:40:26.855477Z",
     "iopub.status.busy": "2022-11-25T21:40:26.855003Z",
     "iopub.status.idle": "2022-11-25T21:40:27.522267Z",
     "shell.execute_reply": "2022-11-25T21:40:27.520763Z"
    },
    "id": "0ac2c591",
    "papermill": {
     "duration": 0.724828,
     "end_time": "2022-11-25T21:40:27.525410",
     "exception": false,
     "start_time": "2022-11-25T21:40:26.800582",
     "status": "completed"
    },
    "tags": []
   },
   "outputs": [],
   "source": [
    "# Encode categorical features\n",
    "\n",
    "ohe = OneHotEncoder(categories='auto')\n",
    "ohe.fit(features[categorical_features])\n",
    "feature_arr = ohe.transform(features[categorical_features]).toarray()\n",
    "feature_labels = ohe.get_feature_names_out()\n",
    "encoded_categorical_features = pd.DataFrame(feature_arr)\n",
    "encoded_categorical_features.set_axis(feature_labels,axis=1, inplace=True)\n"
   ]
  },
  {
   "cell_type": "code",
   "execution_count": null,
   "metadata": {
    "id": "q-six2wzRFXu"
   },
   "outputs": [],
   "source": [
    "# Encode test features with the same encoder\n",
    "test_feature_arr = ohe.transform(test_features[categorical_features]).toarray()\n",
    "encoded_categorical_test_features = pd.DataFrame(test_feature_arr)\n",
    "encoded_categorical_test_features.set_axis(feature_labels,axis=1, inplace=True)\n"
   ]
  },
  {
   "cell_type": "code",
   "execution_count": null,
   "metadata": {
    "colab": {
     "base_uri": "https://localhost:8080/"
    },
    "execution": {
     "iopub.execute_input": "2022-11-25T19:46:27.056761Z",
     "iopub.status.busy": "2022-11-25T19:46:27.056335Z",
     "iopub.status.idle": "2022-11-25T19:46:27.104923Z",
     "shell.execute_reply": "2022-11-25T19:46:27.103676Z",
     "shell.execute_reply.started": "2022-11-25T19:46:27.056724Z"
    },
    "id": "e702daae",
    "outputId": "cf8ade88-3490-492f-adab-8606f740bd70",
    "papermill": {
     "duration": null,
     "end_time": null,
     "exception": null,
     "start_time": null,
     "status": "pending"
    },
    "tags": []
   },
   "outputs": [
    {
     "data": {
      "text/html": [
       "\n",
       "  <div id=\"df-6328167e-18aa-40cc-8e98-794cdb93df6b\">\n",
       "    <div class=\"colab-df-container\">\n",
       "      <div>\n",
       "<style scoped>\n",
       "    .dataframe tbody tr th:only-of-type {\n",
       "        vertical-align: middle;\n",
       "    }\n",
       "\n",
       "    .dataframe tbody tr th {\n",
       "        vertical-align: top;\n",
       "    }\n",
       "\n",
       "    .dataframe thead th {\n",
       "        text-align: right;\n",
       "    }\n",
       "</style>\n",
       "<table border=\"1\" class=\"dataframe\">\n",
       "  <thead>\n",
       "    <tr style=\"text-align: right;\">\n",
       "      <th></th>\n",
       "      <th>Band Name_A Dozen Running Iced Frogs</th>\n",
       "      <th>Band Name_Allo Knickers</th>\n",
       "      <th>Band Name_Beyond Devon</th>\n",
       "      <th>Band Name_Big Autumn</th>\n",
       "      <th>Band Name_Big Division</th>\n",
       "      <th>Band Name_Big Frogs Dream</th>\n",
       "      <th>Band Name_Big Joystick</th>\n",
       "      <th>Band Name_Crazy Crazy</th>\n",
       "      <th>Band Name_Crazy Dream and a Pinch of Joystick</th>\n",
       "      <th>Band Name_Crazy Frogs of Devon</th>\n",
       "      <th>...</th>\n",
       "      <th>Band Name_Twilight of the Joystick Gods</th>\n",
       "      <th>Band Name_Undercover Joystick and the Crazy Knickers</th>\n",
       "      <th>Band Name_Why Frogs, Why?</th>\n",
       "      <th>Band Genre_Country</th>\n",
       "      <th>Band Genre_Heavy Metal</th>\n",
       "      <th>Band Genre_Hip Hop/Rap</th>\n",
       "      <th>Band Genre_Indie/Alt Rock</th>\n",
       "      <th>Band Genre_Pop Music</th>\n",
       "      <th>Band Genre_RnB</th>\n",
       "      <th>Band Genre_Rock n Roll</th>\n",
       "    </tr>\n",
       "  </thead>\n",
       "  <tbody>\n",
       "    <tr>\n",
       "      <th>0</th>\n",
       "      <td>0.0</td>\n",
       "      <td>0.0</td>\n",
       "      <td>0.0</td>\n",
       "      <td>0.0</td>\n",
       "      <td>0.0</td>\n",
       "      <td>0.0</td>\n",
       "      <td>0.0</td>\n",
       "      <td>0.0</td>\n",
       "      <td>0.0</td>\n",
       "      <td>0.0</td>\n",
       "      <td>...</td>\n",
       "      <td>0.0</td>\n",
       "      <td>0.0</td>\n",
       "      <td>0.0</td>\n",
       "      <td>0.0</td>\n",
       "      <td>0.0</td>\n",
       "      <td>0.0</td>\n",
       "      <td>1.0</td>\n",
       "      <td>0.0</td>\n",
       "      <td>0.0</td>\n",
       "      <td>0.0</td>\n",
       "    </tr>\n",
       "    <tr>\n",
       "      <th>1</th>\n",
       "      <td>0.0</td>\n",
       "      <td>0.0</td>\n",
       "      <td>1.0</td>\n",
       "      <td>0.0</td>\n",
       "      <td>0.0</td>\n",
       "      <td>0.0</td>\n",
       "      <td>0.0</td>\n",
       "      <td>0.0</td>\n",
       "      <td>0.0</td>\n",
       "      <td>0.0</td>\n",
       "      <td>...</td>\n",
       "      <td>0.0</td>\n",
       "      <td>0.0</td>\n",
       "      <td>0.0</td>\n",
       "      <td>0.0</td>\n",
       "      <td>0.0</td>\n",
       "      <td>0.0</td>\n",
       "      <td>0.0</td>\n",
       "      <td>1.0</td>\n",
       "      <td>0.0</td>\n",
       "      <td>0.0</td>\n",
       "    </tr>\n",
       "    <tr>\n",
       "      <th>2</th>\n",
       "      <td>0.0</td>\n",
       "      <td>0.0</td>\n",
       "      <td>0.0</td>\n",
       "      <td>0.0</td>\n",
       "      <td>0.0</td>\n",
       "      <td>0.0</td>\n",
       "      <td>0.0</td>\n",
       "      <td>0.0</td>\n",
       "      <td>0.0</td>\n",
       "      <td>0.0</td>\n",
       "      <td>...</td>\n",
       "      <td>0.0</td>\n",
       "      <td>0.0</td>\n",
       "      <td>0.0</td>\n",
       "      <td>0.0</td>\n",
       "      <td>0.0</td>\n",
       "      <td>0.0</td>\n",
       "      <td>0.0</td>\n",
       "      <td>0.0</td>\n",
       "      <td>0.0</td>\n",
       "      <td>1.0</td>\n",
       "    </tr>\n",
       "    <tr>\n",
       "      <th>3</th>\n",
       "      <td>0.0</td>\n",
       "      <td>0.0</td>\n",
       "      <td>0.0</td>\n",
       "      <td>0.0</td>\n",
       "      <td>0.0</td>\n",
       "      <td>0.0</td>\n",
       "      <td>0.0</td>\n",
       "      <td>0.0</td>\n",
       "      <td>0.0</td>\n",
       "      <td>0.0</td>\n",
       "      <td>...</td>\n",
       "      <td>0.0</td>\n",
       "      <td>0.0</td>\n",
       "      <td>0.0</td>\n",
       "      <td>0.0</td>\n",
       "      <td>0.0</td>\n",
       "      <td>0.0</td>\n",
       "      <td>0.0</td>\n",
       "      <td>0.0</td>\n",
       "      <td>1.0</td>\n",
       "      <td>0.0</td>\n",
       "    </tr>\n",
       "    <tr>\n",
       "      <th>4</th>\n",
       "      <td>0.0</td>\n",
       "      <td>0.0</td>\n",
       "      <td>1.0</td>\n",
       "      <td>0.0</td>\n",
       "      <td>0.0</td>\n",
       "      <td>0.0</td>\n",
       "      <td>0.0</td>\n",
       "      <td>0.0</td>\n",
       "      <td>0.0</td>\n",
       "      <td>0.0</td>\n",
       "      <td>...</td>\n",
       "      <td>0.0</td>\n",
       "      <td>0.0</td>\n",
       "      <td>0.0</td>\n",
       "      <td>0.0</td>\n",
       "      <td>0.0</td>\n",
       "      <td>0.0</td>\n",
       "      <td>0.0</td>\n",
       "      <td>1.0</td>\n",
       "      <td>0.0</td>\n",
       "      <td>0.0</td>\n",
       "    </tr>\n",
       "    <tr>\n",
       "      <th>...</th>\n",
       "      <td>...</td>\n",
       "      <td>...</td>\n",
       "      <td>...</td>\n",
       "      <td>...</td>\n",
       "      <td>...</td>\n",
       "      <td>...</td>\n",
       "      <td>...</td>\n",
       "      <td>...</td>\n",
       "      <td>...</td>\n",
       "      <td>...</td>\n",
       "      <td>...</td>\n",
       "      <td>...</td>\n",
       "      <td>...</td>\n",
       "      <td>...</td>\n",
       "      <td>...</td>\n",
       "      <td>...</td>\n",
       "      <td>...</td>\n",
       "      <td>...</td>\n",
       "      <td>...</td>\n",
       "      <td>...</td>\n",
       "      <td>...</td>\n",
       "    </tr>\n",
       "    <tr>\n",
       "      <th>169995</th>\n",
       "      <td>0.0</td>\n",
       "      <td>0.0</td>\n",
       "      <td>0.0</td>\n",
       "      <td>0.0</td>\n",
       "      <td>0.0</td>\n",
       "      <td>0.0</td>\n",
       "      <td>0.0</td>\n",
       "      <td>0.0</td>\n",
       "      <td>0.0</td>\n",
       "      <td>0.0</td>\n",
       "      <td>...</td>\n",
       "      <td>0.0</td>\n",
       "      <td>0.0</td>\n",
       "      <td>0.0</td>\n",
       "      <td>0.0</td>\n",
       "      <td>0.0</td>\n",
       "      <td>0.0</td>\n",
       "      <td>0.0</td>\n",
       "      <td>0.0</td>\n",
       "      <td>1.0</td>\n",
       "      <td>0.0</td>\n",
       "    </tr>\n",
       "    <tr>\n",
       "      <th>169996</th>\n",
       "      <td>0.0</td>\n",
       "      <td>0.0</td>\n",
       "      <td>0.0</td>\n",
       "      <td>0.0</td>\n",
       "      <td>0.0</td>\n",
       "      <td>0.0</td>\n",
       "      <td>0.0</td>\n",
       "      <td>0.0</td>\n",
       "      <td>0.0</td>\n",
       "      <td>0.0</td>\n",
       "      <td>...</td>\n",
       "      <td>0.0</td>\n",
       "      <td>0.0</td>\n",
       "      <td>0.0</td>\n",
       "      <td>0.0</td>\n",
       "      <td>0.0</td>\n",
       "      <td>0.0</td>\n",
       "      <td>0.0</td>\n",
       "      <td>0.0</td>\n",
       "      <td>1.0</td>\n",
       "      <td>0.0</td>\n",
       "    </tr>\n",
       "    <tr>\n",
       "      <th>169997</th>\n",
       "      <td>0.0</td>\n",
       "      <td>0.0</td>\n",
       "      <td>0.0</td>\n",
       "      <td>0.0</td>\n",
       "      <td>0.0</td>\n",
       "      <td>0.0</td>\n",
       "      <td>0.0</td>\n",
       "      <td>0.0</td>\n",
       "      <td>0.0</td>\n",
       "      <td>0.0</td>\n",
       "      <td>...</td>\n",
       "      <td>0.0</td>\n",
       "      <td>0.0</td>\n",
       "      <td>1.0</td>\n",
       "      <td>0.0</td>\n",
       "      <td>1.0</td>\n",
       "      <td>0.0</td>\n",
       "      <td>0.0</td>\n",
       "      <td>0.0</td>\n",
       "      <td>0.0</td>\n",
       "      <td>0.0</td>\n",
       "    </tr>\n",
       "    <tr>\n",
       "      <th>169998</th>\n",
       "      <td>0.0</td>\n",
       "      <td>0.0</td>\n",
       "      <td>0.0</td>\n",
       "      <td>0.0</td>\n",
       "      <td>0.0</td>\n",
       "      <td>0.0</td>\n",
       "      <td>0.0</td>\n",
       "      <td>0.0</td>\n",
       "      <td>0.0</td>\n",
       "      <td>0.0</td>\n",
       "      <td>...</td>\n",
       "      <td>1.0</td>\n",
       "      <td>0.0</td>\n",
       "      <td>0.0</td>\n",
       "      <td>0.0</td>\n",
       "      <td>0.0</td>\n",
       "      <td>1.0</td>\n",
       "      <td>0.0</td>\n",
       "      <td>0.0</td>\n",
       "      <td>0.0</td>\n",
       "      <td>0.0</td>\n",
       "    </tr>\n",
       "    <tr>\n",
       "      <th>169999</th>\n",
       "      <td>0.0</td>\n",
       "      <td>0.0</td>\n",
       "      <td>0.0</td>\n",
       "      <td>0.0</td>\n",
       "      <td>0.0</td>\n",
       "      <td>0.0</td>\n",
       "      <td>0.0</td>\n",
       "      <td>0.0</td>\n",
       "      <td>0.0</td>\n",
       "      <td>0.0</td>\n",
       "      <td>...</td>\n",
       "      <td>0.0</td>\n",
       "      <td>0.0</td>\n",
       "      <td>0.0</td>\n",
       "      <td>0.0</td>\n",
       "      <td>1.0</td>\n",
       "      <td>0.0</td>\n",
       "      <td>0.0</td>\n",
       "      <td>0.0</td>\n",
       "      <td>0.0</td>\n",
       "      <td>0.0</td>\n",
       "    </tr>\n",
       "  </tbody>\n",
       "</table>\n",
       "<p>170000 rows × 60 columns</p>\n",
       "</div>\n",
       "      <button class=\"colab-df-convert\" onclick=\"convertToInteractive('df-6328167e-18aa-40cc-8e98-794cdb93df6b')\"\n",
       "              title=\"Convert this dataframe to an interactive table.\"\n",
       "              style=\"display:none;\">\n",
       "        \n",
       "  <svg xmlns=\"http://www.w3.org/2000/svg\" height=\"24px\"viewBox=\"0 0 24 24\"\n",
       "       width=\"24px\">\n",
       "    <path d=\"M0 0h24v24H0V0z\" fill=\"none\"/>\n",
       "    <path d=\"M18.56 5.44l.94 2.06.94-2.06 2.06-.94-2.06-.94-.94-2.06-.94 2.06-2.06.94zm-11 1L8.5 8.5l.94-2.06 2.06-.94-2.06-.94L8.5 2.5l-.94 2.06-2.06.94zm10 10l.94 2.06.94-2.06 2.06-.94-2.06-.94-.94-2.06-.94 2.06-2.06.94z\"/><path d=\"M17.41 7.96l-1.37-1.37c-.4-.4-.92-.59-1.43-.59-.52 0-1.04.2-1.43.59L10.3 9.45l-7.72 7.72c-.78.78-.78 2.05 0 2.83L4 21.41c.39.39.9.59 1.41.59.51 0 1.02-.2 1.41-.59l7.78-7.78 2.81-2.81c.8-.78.8-2.07 0-2.86zM5.41 20L4 18.59l7.72-7.72 1.47 1.35L5.41 20z\"/>\n",
       "  </svg>\n",
       "      </button>\n",
       "      \n",
       "  <style>\n",
       "    .colab-df-container {\n",
       "      display:flex;\n",
       "      flex-wrap:wrap;\n",
       "      gap: 12px;\n",
       "    }\n",
       "\n",
       "    .colab-df-convert {\n",
       "      background-color: #E8F0FE;\n",
       "      border: none;\n",
       "      border-radius: 50%;\n",
       "      cursor: pointer;\n",
       "      display: none;\n",
       "      fill: #1967D2;\n",
       "      height: 32px;\n",
       "      padding: 0 0 0 0;\n",
       "      width: 32px;\n",
       "    }\n",
       "\n",
       "    .colab-df-convert:hover {\n",
       "      background-color: #E2EBFA;\n",
       "      box-shadow: 0px 1px 2px rgba(60, 64, 67, 0.3), 0px 1px 3px 1px rgba(60, 64, 67, 0.15);\n",
       "      fill: #174EA6;\n",
       "    }\n",
       "\n",
       "    [theme=dark] .colab-df-convert {\n",
       "      background-color: #3B4455;\n",
       "      fill: #D2E3FC;\n",
       "    }\n",
       "\n",
       "    [theme=dark] .colab-df-convert:hover {\n",
       "      background-color: #434B5C;\n",
       "      box-shadow: 0px 1px 3px 1px rgba(0, 0, 0, 0.15);\n",
       "      filter: drop-shadow(0px 1px 2px rgba(0, 0, 0, 0.3));\n",
       "      fill: #FFFFFF;\n",
       "    }\n",
       "  </style>\n",
       "\n",
       "      <script>\n",
       "        const buttonEl =\n",
       "          document.querySelector('#df-6328167e-18aa-40cc-8e98-794cdb93df6b button.colab-df-convert');\n",
       "        buttonEl.style.display =\n",
       "          google.colab.kernel.accessAllowed ? 'block' : 'none';\n",
       "\n",
       "        async function convertToInteractive(key) {\n",
       "          const element = document.querySelector('#df-6328167e-18aa-40cc-8e98-794cdb93df6b');\n",
       "          const dataTable =\n",
       "            await google.colab.kernel.invokeFunction('convertToInteractive',\n",
       "                                                     [key], {});\n",
       "          if (!dataTable) return;\n",
       "\n",
       "          const docLinkHtml = 'Like what you see? Visit the ' +\n",
       "            '<a target=\"_blank\" href=https://colab.research.google.com/notebooks/data_table.ipynb>data table notebook</a>'\n",
       "            + ' to learn more about interactive tables.';\n",
       "          element.innerHTML = '';\n",
       "          dataTable['output_type'] = 'display_data';\n",
       "          await google.colab.output.renderOutput(dataTable, element);\n",
       "          const docLink = document.createElement('div');\n",
       "          docLink.innerHTML = docLinkHtml;\n",
       "          element.appendChild(docLink);\n",
       "        }\n",
       "      </script>\n",
       "    </div>\n",
       "  </div>\n",
       "  "
      ],
      "text/plain": [
       "        Band Name_A Dozen Running Iced Frogs  Band Name_Allo Knickers  \\\n",
       "0                                        0.0                      0.0   \n",
       "1                                        0.0                      0.0   \n",
       "2                                        0.0                      0.0   \n",
       "3                                        0.0                      0.0   \n",
       "4                                        0.0                      0.0   \n",
       "...                                      ...                      ...   \n",
       "169995                                   0.0                      0.0   \n",
       "169996                                   0.0                      0.0   \n",
       "169997                                   0.0                      0.0   \n",
       "169998                                   0.0                      0.0   \n",
       "169999                                   0.0                      0.0   \n",
       "\n",
       "        Band Name_Beyond Devon  Band Name_Big Autumn  Band Name_Big Division  \\\n",
       "0                          0.0                   0.0                     0.0   \n",
       "1                          1.0                   0.0                     0.0   \n",
       "2                          0.0                   0.0                     0.0   \n",
       "3                          0.0                   0.0                     0.0   \n",
       "4                          1.0                   0.0                     0.0   \n",
       "...                        ...                   ...                     ...   \n",
       "169995                     0.0                   0.0                     0.0   \n",
       "169996                     0.0                   0.0                     0.0   \n",
       "169997                     0.0                   0.0                     0.0   \n",
       "169998                     0.0                   0.0                     0.0   \n",
       "169999                     0.0                   0.0                     0.0   \n",
       "\n",
       "        Band Name_Big Frogs Dream  Band Name_Big Joystick  \\\n",
       "0                             0.0                     0.0   \n",
       "1                             0.0                     0.0   \n",
       "2                             0.0                     0.0   \n",
       "3                             0.0                     0.0   \n",
       "4                             0.0                     0.0   \n",
       "...                           ...                     ...   \n",
       "169995                        0.0                     0.0   \n",
       "169996                        0.0                     0.0   \n",
       "169997                        0.0                     0.0   \n",
       "169998                        0.0                     0.0   \n",
       "169999                        0.0                     0.0   \n",
       "\n",
       "        Band Name_Crazy Crazy  Band Name_Crazy Dream and a Pinch of Joystick  \\\n",
       "0                         0.0                                            0.0   \n",
       "1                         0.0                                            0.0   \n",
       "2                         0.0                                            0.0   \n",
       "3                         0.0                                            0.0   \n",
       "4                         0.0                                            0.0   \n",
       "...                       ...                                            ...   \n",
       "169995                    0.0                                            0.0   \n",
       "169996                    0.0                                            0.0   \n",
       "169997                    0.0                                            0.0   \n",
       "169998                    0.0                                            0.0   \n",
       "169999                    0.0                                            0.0   \n",
       "\n",
       "        Band Name_Crazy Frogs of Devon  ...  \\\n",
       "0                                  0.0  ...   \n",
       "1                                  0.0  ...   \n",
       "2                                  0.0  ...   \n",
       "3                                  0.0  ...   \n",
       "4                                  0.0  ...   \n",
       "...                                ...  ...   \n",
       "169995                             0.0  ...   \n",
       "169996                             0.0  ...   \n",
       "169997                             0.0  ...   \n",
       "169998                             0.0  ...   \n",
       "169999                             0.0  ...   \n",
       "\n",
       "        Band Name_Twilight of the Joystick Gods  \\\n",
       "0                                           0.0   \n",
       "1                                           0.0   \n",
       "2                                           0.0   \n",
       "3                                           0.0   \n",
       "4                                           0.0   \n",
       "...                                         ...   \n",
       "169995                                      0.0   \n",
       "169996                                      0.0   \n",
       "169997                                      0.0   \n",
       "169998                                      1.0   \n",
       "169999                                      0.0   \n",
       "\n",
       "        Band Name_Undercover Joystick and the Crazy Knickers  \\\n",
       "0                                                     0.0      \n",
       "1                                                     0.0      \n",
       "2                                                     0.0      \n",
       "3                                                     0.0      \n",
       "4                                                     0.0      \n",
       "...                                                   ...      \n",
       "169995                                                0.0      \n",
       "169996                                                0.0      \n",
       "169997                                                0.0      \n",
       "169998                                                0.0      \n",
       "169999                                                0.0      \n",
       "\n",
       "        Band Name_Why Frogs, Why?  Band Genre_Country  Band Genre_Heavy Metal  \\\n",
       "0                             0.0                 0.0                     0.0   \n",
       "1                             0.0                 0.0                     0.0   \n",
       "2                             0.0                 0.0                     0.0   \n",
       "3                             0.0                 0.0                     0.0   \n",
       "4                             0.0                 0.0                     0.0   \n",
       "...                           ...                 ...                     ...   \n",
       "169995                        0.0                 0.0                     0.0   \n",
       "169996                        0.0                 0.0                     0.0   \n",
       "169997                        1.0                 0.0                     1.0   \n",
       "169998                        0.0                 0.0                     0.0   \n",
       "169999                        0.0                 0.0                     1.0   \n",
       "\n",
       "        Band Genre_Hip Hop/Rap  Band Genre_Indie/Alt Rock  \\\n",
       "0                          0.0                        1.0   \n",
       "1                          0.0                        0.0   \n",
       "2                          0.0                        0.0   \n",
       "3                          0.0                        0.0   \n",
       "4                          0.0                        0.0   \n",
       "...                        ...                        ...   \n",
       "169995                     0.0                        0.0   \n",
       "169996                     0.0                        0.0   \n",
       "169997                     0.0                        0.0   \n",
       "169998                     1.0                        0.0   \n",
       "169999                     0.0                        0.0   \n",
       "\n",
       "        Band Genre_Pop Music  Band Genre_RnB  Band Genre_Rock n Roll  \n",
       "0                        0.0             0.0                     0.0  \n",
       "1                        1.0             0.0                     0.0  \n",
       "2                        0.0             0.0                     1.0  \n",
       "3                        0.0             1.0                     0.0  \n",
       "4                        1.0             0.0                     0.0  \n",
       "...                      ...             ...                     ...  \n",
       "169995                   0.0             1.0                     0.0  \n",
       "169996                   0.0             1.0                     0.0  \n",
       "169997                   0.0             0.0                     0.0  \n",
       "169998                   0.0             0.0                     0.0  \n",
       "169999                   0.0             0.0                     0.0  \n",
       "\n",
       "[170000 rows x 60 columns]"
      ]
     },
     "execution_count": 86,
     "metadata": {},
     "output_type": "execute_result"
    }
   ],
   "source": [
    "encoded_categorical_features"
   ]
  },
  {
   "cell_type": "code",
   "execution_count": null,
   "metadata": {
    "colab": {
     "base_uri": "https://localhost:8080/"
    },
    "id": "KOKxgBr1RZsL",
    "outputId": "c61a265f-ffa7-458c-cc3f-3ad8c59695e3"
   },
   "outputs": [
    {
     "data": {
      "text/html": [
       "\n",
       "  <div id=\"df-1450298a-062c-4624-b297-4930290a0c61\">\n",
       "    <div class=\"colab-df-container\">\n",
       "      <div>\n",
       "<style scoped>\n",
       "    .dataframe tbody tr th:only-of-type {\n",
       "        vertical-align: middle;\n",
       "    }\n",
       "\n",
       "    .dataframe tbody tr th {\n",
       "        vertical-align: top;\n",
       "    }\n",
       "\n",
       "    .dataframe thead th {\n",
       "        text-align: right;\n",
       "    }\n",
       "</style>\n",
       "<table border=\"1\" class=\"dataframe\">\n",
       "  <thead>\n",
       "    <tr style=\"text-align: right;\">\n",
       "      <th></th>\n",
       "      <th>Band Name_A Dozen Running Iced Frogs</th>\n",
       "      <th>Band Name_Allo Knickers</th>\n",
       "      <th>Band Name_Beyond Devon</th>\n",
       "      <th>Band Name_Big Autumn</th>\n",
       "      <th>Band Name_Big Division</th>\n",
       "      <th>Band Name_Big Frogs Dream</th>\n",
       "      <th>Band Name_Big Joystick</th>\n",
       "      <th>Band Name_Crazy Crazy</th>\n",
       "      <th>Band Name_Crazy Dream and a Pinch of Joystick</th>\n",
       "      <th>Band Name_Crazy Frogs of Devon</th>\n",
       "      <th>...</th>\n",
       "      <th>Band Name_Twilight of the Joystick Gods</th>\n",
       "      <th>Band Name_Undercover Joystick and the Crazy Knickers</th>\n",
       "      <th>Band Name_Why Frogs, Why?</th>\n",
       "      <th>Band Genre_Country</th>\n",
       "      <th>Band Genre_Heavy Metal</th>\n",
       "      <th>Band Genre_Hip Hop/Rap</th>\n",
       "      <th>Band Genre_Indie/Alt Rock</th>\n",
       "      <th>Band Genre_Pop Music</th>\n",
       "      <th>Band Genre_RnB</th>\n",
       "      <th>Band Genre_Rock n Roll</th>\n",
       "    </tr>\n",
       "  </thead>\n",
       "  <tbody>\n",
       "    <tr>\n",
       "      <th>0</th>\n",
       "      <td>0.0</td>\n",
       "      <td>0.0</td>\n",
       "      <td>0.0</td>\n",
       "      <td>0.0</td>\n",
       "      <td>0.0</td>\n",
       "      <td>0.0</td>\n",
       "      <td>0.0</td>\n",
       "      <td>0.0</td>\n",
       "      <td>0.0</td>\n",
       "      <td>0.0</td>\n",
       "      <td>...</td>\n",
       "      <td>0.0</td>\n",
       "      <td>0.0</td>\n",
       "      <td>0.0</td>\n",
       "      <td>0.0</td>\n",
       "      <td>0.0</td>\n",
       "      <td>0.0</td>\n",
       "      <td>0.0</td>\n",
       "      <td>0.0</td>\n",
       "      <td>0.0</td>\n",
       "      <td>1.0</td>\n",
       "    </tr>\n",
       "    <tr>\n",
       "      <th>1</th>\n",
       "      <td>0.0</td>\n",
       "      <td>0.0</td>\n",
       "      <td>0.0</td>\n",
       "      <td>0.0</td>\n",
       "      <td>0.0</td>\n",
       "      <td>0.0</td>\n",
       "      <td>0.0</td>\n",
       "      <td>0.0</td>\n",
       "      <td>0.0</td>\n",
       "      <td>0.0</td>\n",
       "      <td>...</td>\n",
       "      <td>0.0</td>\n",
       "      <td>0.0</td>\n",
       "      <td>0.0</td>\n",
       "      <td>0.0</td>\n",
       "      <td>0.0</td>\n",
       "      <td>1.0</td>\n",
       "      <td>0.0</td>\n",
       "      <td>0.0</td>\n",
       "      <td>0.0</td>\n",
       "      <td>0.0</td>\n",
       "    </tr>\n",
       "    <tr>\n",
       "      <th>2</th>\n",
       "      <td>0.0</td>\n",
       "      <td>0.0</td>\n",
       "      <td>0.0</td>\n",
       "      <td>0.0</td>\n",
       "      <td>0.0</td>\n",
       "      <td>0.0</td>\n",
       "      <td>0.0</td>\n",
       "      <td>0.0</td>\n",
       "      <td>0.0</td>\n",
       "      <td>0.0</td>\n",
       "      <td>...</td>\n",
       "      <td>0.0</td>\n",
       "      <td>0.0</td>\n",
       "      <td>0.0</td>\n",
       "      <td>0.0</td>\n",
       "      <td>0.0</td>\n",
       "      <td>0.0</td>\n",
       "      <td>0.0</td>\n",
       "      <td>0.0</td>\n",
       "      <td>0.0</td>\n",
       "      <td>1.0</td>\n",
       "    </tr>\n",
       "    <tr>\n",
       "      <th>3</th>\n",
       "      <td>0.0</td>\n",
       "      <td>0.0</td>\n",
       "      <td>0.0</td>\n",
       "      <td>0.0</td>\n",
       "      <td>0.0</td>\n",
       "      <td>0.0</td>\n",
       "      <td>0.0</td>\n",
       "      <td>0.0</td>\n",
       "      <td>0.0</td>\n",
       "      <td>0.0</td>\n",
       "      <td>...</td>\n",
       "      <td>0.0</td>\n",
       "      <td>0.0</td>\n",
       "      <td>0.0</td>\n",
       "      <td>0.0</td>\n",
       "      <td>0.0</td>\n",
       "      <td>1.0</td>\n",
       "      <td>0.0</td>\n",
       "      <td>0.0</td>\n",
       "      <td>0.0</td>\n",
       "      <td>0.0</td>\n",
       "    </tr>\n",
       "    <tr>\n",
       "      <th>4</th>\n",
       "      <td>0.0</td>\n",
       "      <td>0.0</td>\n",
       "      <td>0.0</td>\n",
       "      <td>0.0</td>\n",
       "      <td>0.0</td>\n",
       "      <td>0.0</td>\n",
       "      <td>0.0</td>\n",
       "      <td>0.0</td>\n",
       "      <td>0.0</td>\n",
       "      <td>0.0</td>\n",
       "      <td>...</td>\n",
       "      <td>0.0</td>\n",
       "      <td>0.0</td>\n",
       "      <td>0.0</td>\n",
       "      <td>0.0</td>\n",
       "      <td>0.0</td>\n",
       "      <td>0.0</td>\n",
       "      <td>0.0</td>\n",
       "      <td>0.0</td>\n",
       "      <td>1.0</td>\n",
       "      <td>0.0</td>\n",
       "    </tr>\n",
       "    <tr>\n",
       "      <th>...</th>\n",
       "      <td>...</td>\n",
       "      <td>...</td>\n",
       "      <td>...</td>\n",
       "      <td>...</td>\n",
       "      <td>...</td>\n",
       "      <td>...</td>\n",
       "      <td>...</td>\n",
       "      <td>...</td>\n",
       "      <td>...</td>\n",
       "      <td>...</td>\n",
       "      <td>...</td>\n",
       "      <td>...</td>\n",
       "      <td>...</td>\n",
       "      <td>...</td>\n",
       "      <td>...</td>\n",
       "      <td>...</td>\n",
       "      <td>...</td>\n",
       "      <td>...</td>\n",
       "      <td>...</td>\n",
       "      <td>...</td>\n",
       "      <td>...</td>\n",
       "    </tr>\n",
       "    <tr>\n",
       "      <th>29995</th>\n",
       "      <td>0.0</td>\n",
       "      <td>0.0</td>\n",
       "      <td>0.0</td>\n",
       "      <td>0.0</td>\n",
       "      <td>0.0</td>\n",
       "      <td>0.0</td>\n",
       "      <td>0.0</td>\n",
       "      <td>0.0</td>\n",
       "      <td>0.0</td>\n",
       "      <td>0.0</td>\n",
       "      <td>...</td>\n",
       "      <td>0.0</td>\n",
       "      <td>0.0</td>\n",
       "      <td>0.0</td>\n",
       "      <td>0.0</td>\n",
       "      <td>0.0</td>\n",
       "      <td>1.0</td>\n",
       "      <td>0.0</td>\n",
       "      <td>0.0</td>\n",
       "      <td>0.0</td>\n",
       "      <td>0.0</td>\n",
       "    </tr>\n",
       "    <tr>\n",
       "      <th>29996</th>\n",
       "      <td>0.0</td>\n",
       "      <td>0.0</td>\n",
       "      <td>0.0</td>\n",
       "      <td>0.0</td>\n",
       "      <td>1.0</td>\n",
       "      <td>0.0</td>\n",
       "      <td>0.0</td>\n",
       "      <td>0.0</td>\n",
       "      <td>0.0</td>\n",
       "      <td>0.0</td>\n",
       "      <td>...</td>\n",
       "      <td>0.0</td>\n",
       "      <td>0.0</td>\n",
       "      <td>0.0</td>\n",
       "      <td>0.0</td>\n",
       "      <td>0.0</td>\n",
       "      <td>1.0</td>\n",
       "      <td>0.0</td>\n",
       "      <td>0.0</td>\n",
       "      <td>0.0</td>\n",
       "      <td>0.0</td>\n",
       "    </tr>\n",
       "    <tr>\n",
       "      <th>29997</th>\n",
       "      <td>0.0</td>\n",
       "      <td>0.0</td>\n",
       "      <td>0.0</td>\n",
       "      <td>0.0</td>\n",
       "      <td>0.0</td>\n",
       "      <td>0.0</td>\n",
       "      <td>0.0</td>\n",
       "      <td>0.0</td>\n",
       "      <td>0.0</td>\n",
       "      <td>0.0</td>\n",
       "      <td>...</td>\n",
       "      <td>0.0</td>\n",
       "      <td>0.0</td>\n",
       "      <td>0.0</td>\n",
       "      <td>0.0</td>\n",
       "      <td>0.0</td>\n",
       "      <td>0.0</td>\n",
       "      <td>0.0</td>\n",
       "      <td>1.0</td>\n",
       "      <td>0.0</td>\n",
       "      <td>0.0</td>\n",
       "    </tr>\n",
       "    <tr>\n",
       "      <th>29998</th>\n",
       "      <td>0.0</td>\n",
       "      <td>0.0</td>\n",
       "      <td>0.0</td>\n",
       "      <td>0.0</td>\n",
       "      <td>0.0</td>\n",
       "      <td>0.0</td>\n",
       "      <td>0.0</td>\n",
       "      <td>0.0</td>\n",
       "      <td>0.0</td>\n",
       "      <td>0.0</td>\n",
       "      <td>...</td>\n",
       "      <td>0.0</td>\n",
       "      <td>0.0</td>\n",
       "      <td>0.0</td>\n",
       "      <td>0.0</td>\n",
       "      <td>0.0</td>\n",
       "      <td>0.0</td>\n",
       "      <td>0.0</td>\n",
       "      <td>0.0</td>\n",
       "      <td>1.0</td>\n",
       "      <td>0.0</td>\n",
       "    </tr>\n",
       "    <tr>\n",
       "      <th>29999</th>\n",
       "      <td>0.0</td>\n",
       "      <td>0.0</td>\n",
       "      <td>0.0</td>\n",
       "      <td>0.0</td>\n",
       "      <td>0.0</td>\n",
       "      <td>0.0</td>\n",
       "      <td>0.0</td>\n",
       "      <td>0.0</td>\n",
       "      <td>1.0</td>\n",
       "      <td>0.0</td>\n",
       "      <td>...</td>\n",
       "      <td>0.0</td>\n",
       "      <td>0.0</td>\n",
       "      <td>0.0</td>\n",
       "      <td>0.0</td>\n",
       "      <td>1.0</td>\n",
       "      <td>0.0</td>\n",
       "      <td>0.0</td>\n",
       "      <td>0.0</td>\n",
       "      <td>0.0</td>\n",
       "      <td>0.0</td>\n",
       "    </tr>\n",
       "  </tbody>\n",
       "</table>\n",
       "<p>30000 rows × 60 columns</p>\n",
       "</div>\n",
       "      <button class=\"colab-df-convert\" onclick=\"convertToInteractive('df-1450298a-062c-4624-b297-4930290a0c61')\"\n",
       "              title=\"Convert this dataframe to an interactive table.\"\n",
       "              style=\"display:none;\">\n",
       "        \n",
       "  <svg xmlns=\"http://www.w3.org/2000/svg\" height=\"24px\"viewBox=\"0 0 24 24\"\n",
       "       width=\"24px\">\n",
       "    <path d=\"M0 0h24v24H0V0z\" fill=\"none\"/>\n",
       "    <path d=\"M18.56 5.44l.94 2.06.94-2.06 2.06-.94-2.06-.94-.94-2.06-.94 2.06-2.06.94zm-11 1L8.5 8.5l.94-2.06 2.06-.94-2.06-.94L8.5 2.5l-.94 2.06-2.06.94zm10 10l.94 2.06.94-2.06 2.06-.94-2.06-.94-.94-2.06-.94 2.06-2.06.94z\"/><path d=\"M17.41 7.96l-1.37-1.37c-.4-.4-.92-.59-1.43-.59-.52 0-1.04.2-1.43.59L10.3 9.45l-7.72 7.72c-.78.78-.78 2.05 0 2.83L4 21.41c.39.39.9.59 1.41.59.51 0 1.02-.2 1.41-.59l7.78-7.78 2.81-2.81c.8-.78.8-2.07 0-2.86zM5.41 20L4 18.59l7.72-7.72 1.47 1.35L5.41 20z\"/>\n",
       "  </svg>\n",
       "      </button>\n",
       "      \n",
       "  <style>\n",
       "    .colab-df-container {\n",
       "      display:flex;\n",
       "      flex-wrap:wrap;\n",
       "      gap: 12px;\n",
       "    }\n",
       "\n",
       "    .colab-df-convert {\n",
       "      background-color: #E8F0FE;\n",
       "      border: none;\n",
       "      border-radius: 50%;\n",
       "      cursor: pointer;\n",
       "      display: none;\n",
       "      fill: #1967D2;\n",
       "      height: 32px;\n",
       "      padding: 0 0 0 0;\n",
       "      width: 32px;\n",
       "    }\n",
       "\n",
       "    .colab-df-convert:hover {\n",
       "      background-color: #E2EBFA;\n",
       "      box-shadow: 0px 1px 2px rgba(60, 64, 67, 0.3), 0px 1px 3px 1px rgba(60, 64, 67, 0.15);\n",
       "      fill: #174EA6;\n",
       "    }\n",
       "\n",
       "    [theme=dark] .colab-df-convert {\n",
       "      background-color: #3B4455;\n",
       "      fill: #D2E3FC;\n",
       "    }\n",
       "\n",
       "    [theme=dark] .colab-df-convert:hover {\n",
       "      background-color: #434B5C;\n",
       "      box-shadow: 0px 1px 3px 1px rgba(0, 0, 0, 0.15);\n",
       "      filter: drop-shadow(0px 1px 2px rgba(0, 0, 0, 0.3));\n",
       "      fill: #FFFFFF;\n",
       "    }\n",
       "  </style>\n",
       "\n",
       "      <script>\n",
       "        const buttonEl =\n",
       "          document.querySelector('#df-1450298a-062c-4624-b297-4930290a0c61 button.colab-df-convert');\n",
       "        buttonEl.style.display =\n",
       "          google.colab.kernel.accessAllowed ? 'block' : 'none';\n",
       "\n",
       "        async function convertToInteractive(key) {\n",
       "          const element = document.querySelector('#df-1450298a-062c-4624-b297-4930290a0c61');\n",
       "          const dataTable =\n",
       "            await google.colab.kernel.invokeFunction('convertToInteractive',\n",
       "                                                     [key], {});\n",
       "          if (!dataTable) return;\n",
       "\n",
       "          const docLinkHtml = 'Like what you see? Visit the ' +\n",
       "            '<a target=\"_blank\" href=https://colab.research.google.com/notebooks/data_table.ipynb>data table notebook</a>'\n",
       "            + ' to learn more about interactive tables.';\n",
       "          element.innerHTML = '';\n",
       "          dataTable['output_type'] = 'display_data';\n",
       "          await google.colab.output.renderOutput(dataTable, element);\n",
       "          const docLink = document.createElement('div');\n",
       "          docLink.innerHTML = docLinkHtml;\n",
       "          element.appendChild(docLink);\n",
       "        }\n",
       "      </script>\n",
       "    </div>\n",
       "  </div>\n",
       "  "
      ],
      "text/plain": [
       "       Band Name_A Dozen Running Iced Frogs  Band Name_Allo Knickers  \\\n",
       "0                                       0.0                      0.0   \n",
       "1                                       0.0                      0.0   \n",
       "2                                       0.0                      0.0   \n",
       "3                                       0.0                      0.0   \n",
       "4                                       0.0                      0.0   \n",
       "...                                     ...                      ...   \n",
       "29995                                   0.0                      0.0   \n",
       "29996                                   0.0                      0.0   \n",
       "29997                                   0.0                      0.0   \n",
       "29998                                   0.0                      0.0   \n",
       "29999                                   0.0                      0.0   \n",
       "\n",
       "       Band Name_Beyond Devon  Band Name_Big Autumn  Band Name_Big Division  \\\n",
       "0                         0.0                   0.0                     0.0   \n",
       "1                         0.0                   0.0                     0.0   \n",
       "2                         0.0                   0.0                     0.0   \n",
       "3                         0.0                   0.0                     0.0   \n",
       "4                         0.0                   0.0                     0.0   \n",
       "...                       ...                   ...                     ...   \n",
       "29995                     0.0                   0.0                     0.0   \n",
       "29996                     0.0                   0.0                     1.0   \n",
       "29997                     0.0                   0.0                     0.0   \n",
       "29998                     0.0                   0.0                     0.0   \n",
       "29999                     0.0                   0.0                     0.0   \n",
       "\n",
       "       Band Name_Big Frogs Dream  Band Name_Big Joystick  \\\n",
       "0                            0.0                     0.0   \n",
       "1                            0.0                     0.0   \n",
       "2                            0.0                     0.0   \n",
       "3                            0.0                     0.0   \n",
       "4                            0.0                     0.0   \n",
       "...                          ...                     ...   \n",
       "29995                        0.0                     0.0   \n",
       "29996                        0.0                     0.0   \n",
       "29997                        0.0                     0.0   \n",
       "29998                        0.0                     0.0   \n",
       "29999                        0.0                     0.0   \n",
       "\n",
       "       Band Name_Crazy Crazy  Band Name_Crazy Dream and a Pinch of Joystick  \\\n",
       "0                        0.0                                            0.0   \n",
       "1                        0.0                                            0.0   \n",
       "2                        0.0                                            0.0   \n",
       "3                        0.0                                            0.0   \n",
       "4                        0.0                                            0.0   \n",
       "...                      ...                                            ...   \n",
       "29995                    0.0                                            0.0   \n",
       "29996                    0.0                                            0.0   \n",
       "29997                    0.0                                            0.0   \n",
       "29998                    0.0                                            0.0   \n",
       "29999                    0.0                                            1.0   \n",
       "\n",
       "       Band Name_Crazy Frogs of Devon  ...  \\\n",
       "0                                 0.0  ...   \n",
       "1                                 0.0  ...   \n",
       "2                                 0.0  ...   \n",
       "3                                 0.0  ...   \n",
       "4                                 0.0  ...   \n",
       "...                               ...  ...   \n",
       "29995                             0.0  ...   \n",
       "29996                             0.0  ...   \n",
       "29997                             0.0  ...   \n",
       "29998                             0.0  ...   \n",
       "29999                             0.0  ...   \n",
       "\n",
       "       Band Name_Twilight of the Joystick Gods  \\\n",
       "0                                          0.0   \n",
       "1                                          0.0   \n",
       "2                                          0.0   \n",
       "3                                          0.0   \n",
       "4                                          0.0   \n",
       "...                                        ...   \n",
       "29995                                      0.0   \n",
       "29996                                      0.0   \n",
       "29997                                      0.0   \n",
       "29998                                      0.0   \n",
       "29999                                      0.0   \n",
       "\n",
       "       Band Name_Undercover Joystick and the Crazy Knickers  \\\n",
       "0                                                    0.0      \n",
       "1                                                    0.0      \n",
       "2                                                    0.0      \n",
       "3                                                    0.0      \n",
       "4                                                    0.0      \n",
       "...                                                  ...      \n",
       "29995                                                0.0      \n",
       "29996                                                0.0      \n",
       "29997                                                0.0      \n",
       "29998                                                0.0      \n",
       "29999                                                0.0      \n",
       "\n",
       "       Band Name_Why Frogs, Why?  Band Genre_Country  Band Genre_Heavy Metal  \\\n",
       "0                            0.0                 0.0                     0.0   \n",
       "1                            0.0                 0.0                     0.0   \n",
       "2                            0.0                 0.0                     0.0   \n",
       "3                            0.0                 0.0                     0.0   \n",
       "4                            0.0                 0.0                     0.0   \n",
       "...                          ...                 ...                     ...   \n",
       "29995                        0.0                 0.0                     0.0   \n",
       "29996                        0.0                 0.0                     0.0   \n",
       "29997                        0.0                 0.0                     0.0   \n",
       "29998                        0.0                 0.0                     0.0   \n",
       "29999                        0.0                 0.0                     1.0   \n",
       "\n",
       "       Band Genre_Hip Hop/Rap  Band Genre_Indie/Alt Rock  \\\n",
       "0                         0.0                        0.0   \n",
       "1                         1.0                        0.0   \n",
       "2                         0.0                        0.0   \n",
       "3                         1.0                        0.0   \n",
       "4                         0.0                        0.0   \n",
       "...                       ...                        ...   \n",
       "29995                     1.0                        0.0   \n",
       "29996                     1.0                        0.0   \n",
       "29997                     0.0                        0.0   \n",
       "29998                     0.0                        0.0   \n",
       "29999                     0.0                        0.0   \n",
       "\n",
       "       Band Genre_Pop Music  Band Genre_RnB  Band Genre_Rock n Roll  \n",
       "0                       0.0             0.0                     1.0  \n",
       "1                       0.0             0.0                     0.0  \n",
       "2                       0.0             0.0                     1.0  \n",
       "3                       0.0             0.0                     0.0  \n",
       "4                       0.0             1.0                     0.0  \n",
       "...                     ...             ...                     ...  \n",
       "29995                   0.0             0.0                     0.0  \n",
       "29996                   0.0             0.0                     0.0  \n",
       "29997                   1.0             0.0                     0.0  \n",
       "29998                   0.0             1.0                     0.0  \n",
       "29999                   0.0             0.0                     0.0  \n",
       "\n",
       "[30000 rows x 60 columns]"
      ]
     },
     "execution_count": 87,
     "metadata": {},
     "output_type": "execute_result"
    }
   ],
   "source": [
    "encoded_categorical_test_features"
   ]
  },
  {
   "cell_type": "code",
   "execution_count": null,
   "metadata": {
    "execution": {
     "iopub.execute_input": "2022-11-24T03:50:28.372674Z",
     "iopub.status.busy": "2022-11-24T03:50:28.372292Z",
     "iopub.status.idle": "2022-11-24T03:50:28.383039Z",
     "shell.execute_reply": "2022-11-24T03:50:28.381732Z"
    },
    "id": "df40cb07",
    "papermill": {
     "duration": null,
     "end_time": null,
     "exception": null,
     "start_time": null,
     "status": "pending"
    },
    "tags": []
   },
   "outputs": [],
   "source": [
    "# drop the categorical features columns and replace them with the encoded ones:\n",
    "features = features.drop(categorical_features, axis=1)\n",
    "features = pd.concat([features, encoded_categorical_features], axis = 1)\n",
    "\n",
    "test_features = test_features.drop(categorical_features, axis=1)\n",
    "test_features = pd.concat([test_features, encoded_categorical_test_features], axis = 1)"
   ]
  },
  {
   "cell_type": "code",
   "execution_count": null,
   "metadata": {
    "colab": {
     "base_uri": "https://localhost:8080/"
    },
    "execution": {
     "iopub.execute_input": "2022-11-24T03:50:28.817567Z",
     "iopub.status.busy": "2022-11-24T03:50:28.817108Z",
     "iopub.status.idle": "2022-11-24T03:50:28.918396Z",
     "shell.execute_reply": "2022-11-24T03:50:28.917230Z"
    },
    "id": "0528080b",
    "outputId": "93565922-8302-41e5-e530-87a84ed8db99",
    "papermill": {
     "duration": null,
     "end_time": null,
     "exception": null,
     "start_time": null,
     "status": "pending"
    },
    "tags": []
   },
   "outputs": [
    {
     "data": {
      "text/html": [
       "\n",
       "  <div id=\"df-bb6380f9-03a2-45c2-a342-5ddfe3a45281\">\n",
       "    <div class=\"colab-df-container\">\n",
       "      <div>\n",
       "<style scoped>\n",
       "    .dataframe tbody tr th:only-of-type {\n",
       "        vertical-align: middle;\n",
       "    }\n",
       "\n",
       "    .dataframe tbody tr th {\n",
       "        vertical-align: top;\n",
       "    }\n",
       "\n",
       "    .dataframe thead th {\n",
       "        text-align: right;\n",
       "    }\n",
       "</style>\n",
       "<table border=\"1\" class=\"dataframe\">\n",
       "  <thead>\n",
       "    <tr style=\"text-align: right;\">\n",
       "      <th></th>\n",
       "      <th>Band Debut</th>\n",
       "      <th>Concert ID</th>\n",
       "      <th>Concert Attendance</th>\n",
       "      <th>Inside Venue</th>\n",
       "      <th>Rain</th>\n",
       "      <th>Seated</th>\n",
       "      <th>Personnality Trait 1</th>\n",
       "      <th>Personnality Trait 2</th>\n",
       "      <th>Personnality Trait 3</th>\n",
       "      <th>Personnality Trait 4</th>\n",
       "      <th>...</th>\n",
       "      <th>Band Name_Twilight of the Joystick Gods</th>\n",
       "      <th>Band Name_Undercover Joystick and the Crazy Knickers</th>\n",
       "      <th>Band Name_Why Frogs, Why?</th>\n",
       "      <th>Band Genre_Country</th>\n",
       "      <th>Band Genre_Heavy Metal</th>\n",
       "      <th>Band Genre_Hip Hop/Rap</th>\n",
       "      <th>Band Genre_Indie/Alt Rock</th>\n",
       "      <th>Band Genre_Pop Music</th>\n",
       "      <th>Band Genre_RnB</th>\n",
       "      <th>Band Genre_Rock n Roll</th>\n",
       "    </tr>\n",
       "  </thead>\n",
       "  <tbody>\n",
       "    <tr>\n",
       "      <th>0</th>\n",
       "      <td>1976.0</td>\n",
       "      <td>900.0</td>\n",
       "      <td>2980.0</td>\n",
       "      <td>0</td>\n",
       "      <td>0</td>\n",
       "      <td>1</td>\n",
       "      <td>0.330843</td>\n",
       "      <td>-0.958408</td>\n",
       "      <td>-0.943548</td>\n",
       "      <td>-1.636806</td>\n",
       "      <td>...</td>\n",
       "      <td>0.0</td>\n",
       "      <td>0.0</td>\n",
       "      <td>0.0</td>\n",
       "      <td>0.0</td>\n",
       "      <td>0.0</td>\n",
       "      <td>0.0</td>\n",
       "      <td>1.0</td>\n",
       "      <td>0.0</td>\n",
       "      <td>0.0</td>\n",
       "      <td>0.0</td>\n",
       "    </tr>\n",
       "    <tr>\n",
       "      <th>1</th>\n",
       "      <td>1968.0</td>\n",
       "      <td>731.0</td>\n",
       "      <td>54.0</td>\n",
       "      <td>1</td>\n",
       "      <td>0</td>\n",
       "      <td>1</td>\n",
       "      <td>-2.069449</td>\n",
       "      <td>0.017777</td>\n",
       "      <td>-1.910675</td>\n",
       "      <td>0.610265</td>\n",
       "      <td>...</td>\n",
       "      <td>0.0</td>\n",
       "      <td>0.0</td>\n",
       "      <td>0.0</td>\n",
       "      <td>0.0</td>\n",
       "      <td>0.0</td>\n",
       "      <td>0.0</td>\n",
       "      <td>0.0</td>\n",
       "      <td>1.0</td>\n",
       "      <td>0.0</td>\n",
       "      <td>0.0</td>\n",
       "    </tr>\n",
       "    <tr>\n",
       "      <th>2</th>\n",
       "      <td>1955.0</td>\n",
       "      <td>794.0</td>\n",
       "      <td>162754.0</td>\n",
       "      <td>0</td>\n",
       "      <td>0</td>\n",
       "      <td>1</td>\n",
       "      <td>-0.484268</td>\n",
       "      <td>1.968772</td>\n",
       "      <td>-0.064167</td>\n",
       "      <td>-1.260871</td>\n",
       "      <td>...</td>\n",
       "      <td>0.0</td>\n",
       "      <td>0.0</td>\n",
       "      <td>0.0</td>\n",
       "      <td>0.0</td>\n",
       "      <td>0.0</td>\n",
       "      <td>0.0</td>\n",
       "      <td>0.0</td>\n",
       "      <td>0.0</td>\n",
       "      <td>0.0</td>\n",
       "      <td>1.0</td>\n",
       "    </tr>\n",
       "    <tr>\n",
       "      <th>3</th>\n",
       "      <td>1992.0</td>\n",
       "      <td>704.0</td>\n",
       "      <td>8103.0</td>\n",
       "      <td>0</td>\n",
       "      <td>1</td>\n",
       "      <td>0</td>\n",
       "      <td>-0.858054</td>\n",
       "      <td>1.022827</td>\n",
       "      <td>-0.348389</td>\n",
       "      <td>-1.147251</td>\n",
       "      <td>...</td>\n",
       "      <td>0.0</td>\n",
       "      <td>0.0</td>\n",
       "      <td>0.0</td>\n",
       "      <td>0.0</td>\n",
       "      <td>0.0</td>\n",
       "      <td>0.0</td>\n",
       "      <td>0.0</td>\n",
       "      <td>0.0</td>\n",
       "      <td>1.0</td>\n",
       "      <td>0.0</td>\n",
       "    </tr>\n",
       "    <tr>\n",
       "      <th>4</th>\n",
       "      <td>1968.0</td>\n",
       "      <td>95.0</td>\n",
       "      <td>54.0</td>\n",
       "      <td>0</td>\n",
       "      <td>0</td>\n",
       "      <td>0</td>\n",
       "      <td>-0.793029</td>\n",
       "      <td>-1.166528</td>\n",
       "      <td>-0.043766</td>\n",
       "      <td>0.969661</td>\n",
       "      <td>...</td>\n",
       "      <td>0.0</td>\n",
       "      <td>0.0</td>\n",
       "      <td>0.0</td>\n",
       "      <td>0.0</td>\n",
       "      <td>0.0</td>\n",
       "      <td>0.0</td>\n",
       "      <td>0.0</td>\n",
       "      <td>1.0</td>\n",
       "      <td>0.0</td>\n",
       "      <td>0.0</td>\n",
       "    </tr>\n",
       "    <tr>\n",
       "      <th>...</th>\n",
       "      <td>...</td>\n",
       "      <td>...</td>\n",
       "      <td>...</td>\n",
       "      <td>...</td>\n",
       "      <td>...</td>\n",
       "      <td>...</td>\n",
       "      <td>...</td>\n",
       "      <td>...</td>\n",
       "      <td>...</td>\n",
       "      <td>...</td>\n",
       "      <td>...</td>\n",
       "      <td>...</td>\n",
       "      <td>...</td>\n",
       "      <td>...</td>\n",
       "      <td>...</td>\n",
       "      <td>...</td>\n",
       "      <td>...</td>\n",
       "      <td>...</td>\n",
       "      <td>...</td>\n",
       "      <td>...</td>\n",
       "      <td>...</td>\n",
       "    </tr>\n",
       "    <tr>\n",
       "      <th>169995</th>\n",
       "      <td>1985.0</td>\n",
       "      <td>70.0</td>\n",
       "      <td>162754.0</td>\n",
       "      <td>1</td>\n",
       "      <td>0</td>\n",
       "      <td>0</td>\n",
       "      <td>-0.095021</td>\n",
       "      <td>0.175175</td>\n",
       "      <td>0.914245</td>\n",
       "      <td>0.357359</td>\n",
       "      <td>...</td>\n",
       "      <td>0.0</td>\n",
       "      <td>0.0</td>\n",
       "      <td>0.0</td>\n",
       "      <td>0.0</td>\n",
       "      <td>0.0</td>\n",
       "      <td>0.0</td>\n",
       "      <td>0.0</td>\n",
       "      <td>0.0</td>\n",
       "      <td>1.0</td>\n",
       "      <td>0.0</td>\n",
       "    </tr>\n",
       "    <tr>\n",
       "      <th>169996</th>\n",
       "      <td>1985.0</td>\n",
       "      <td>963.0</td>\n",
       "      <td>54.0</td>\n",
       "      <td>0</td>\n",
       "      <td>0</td>\n",
       "      <td>0</td>\n",
       "      <td>-0.733719</td>\n",
       "      <td>-0.285776</td>\n",
       "      <td>-0.323312</td>\n",
       "      <td>0.641180</td>\n",
       "      <td>...</td>\n",
       "      <td>0.0</td>\n",
       "      <td>0.0</td>\n",
       "      <td>0.0</td>\n",
       "      <td>0.0</td>\n",
       "      <td>0.0</td>\n",
       "      <td>0.0</td>\n",
       "      <td>0.0</td>\n",
       "      <td>0.0</td>\n",
       "      <td>1.0</td>\n",
       "      <td>0.0</td>\n",
       "    </tr>\n",
       "    <tr>\n",
       "      <th>169997</th>\n",
       "      <td>2005.0</td>\n",
       "      <td>764.0</td>\n",
       "      <td>54.0</td>\n",
       "      <td>0</td>\n",
       "      <td>0</td>\n",
       "      <td>0</td>\n",
       "      <td>0.744969</td>\n",
       "      <td>-0.965547</td>\n",
       "      <td>1.020598</td>\n",
       "      <td>1.027389</td>\n",
       "      <td>...</td>\n",
       "      <td>0.0</td>\n",
       "      <td>0.0</td>\n",
       "      <td>1.0</td>\n",
       "      <td>0.0</td>\n",
       "      <td>1.0</td>\n",
       "      <td>0.0</td>\n",
       "      <td>0.0</td>\n",
       "      <td>0.0</td>\n",
       "      <td>0.0</td>\n",
       "      <td>0.0</td>\n",
       "    </tr>\n",
       "    <tr>\n",
       "      <th>169998</th>\n",
       "      <td>1995.0</td>\n",
       "      <td>694.0</td>\n",
       "      <td>22026.0</td>\n",
       "      <td>0</td>\n",
       "      <td>1</td>\n",
       "      <td>1</td>\n",
       "      <td>0.821976</td>\n",
       "      <td>0.351411</td>\n",
       "      <td>0.175762</td>\n",
       "      <td>1.455654</td>\n",
       "      <td>...</td>\n",
       "      <td>1.0</td>\n",
       "      <td>0.0</td>\n",
       "      <td>0.0</td>\n",
       "      <td>0.0</td>\n",
       "      <td>0.0</td>\n",
       "      <td>1.0</td>\n",
       "      <td>0.0</td>\n",
       "      <td>0.0</td>\n",
       "      <td>0.0</td>\n",
       "      <td>0.0</td>\n",
       "    </tr>\n",
       "    <tr>\n",
       "      <th>169999</th>\n",
       "      <td>2008.0</td>\n",
       "      <td>661.0</td>\n",
       "      <td>2980.0</td>\n",
       "      <td>1</td>\n",
       "      <td>0</td>\n",
       "      <td>0</td>\n",
       "      <td>-1.017410</td>\n",
       "      <td>0.883248</td>\n",
       "      <td>-0.184107</td>\n",
       "      <td>0.631731</td>\n",
       "      <td>...</td>\n",
       "      <td>0.0</td>\n",
       "      <td>0.0</td>\n",
       "      <td>0.0</td>\n",
       "      <td>0.0</td>\n",
       "      <td>1.0</td>\n",
       "      <td>0.0</td>\n",
       "      <td>0.0</td>\n",
       "      <td>0.0</td>\n",
       "      <td>0.0</td>\n",
       "      <td>0.0</td>\n",
       "    </tr>\n",
       "  </tbody>\n",
       "</table>\n",
       "<p>170000 rows × 74 columns</p>\n",
       "</div>\n",
       "      <button class=\"colab-df-convert\" onclick=\"convertToInteractive('df-bb6380f9-03a2-45c2-a342-5ddfe3a45281')\"\n",
       "              title=\"Convert this dataframe to an interactive table.\"\n",
       "              style=\"display:none;\">\n",
       "        \n",
       "  <svg xmlns=\"http://www.w3.org/2000/svg\" height=\"24px\"viewBox=\"0 0 24 24\"\n",
       "       width=\"24px\">\n",
       "    <path d=\"M0 0h24v24H0V0z\" fill=\"none\"/>\n",
       "    <path d=\"M18.56 5.44l.94 2.06.94-2.06 2.06-.94-2.06-.94-.94-2.06-.94 2.06-2.06.94zm-11 1L8.5 8.5l.94-2.06 2.06-.94-2.06-.94L8.5 2.5l-.94 2.06-2.06.94zm10 10l.94 2.06.94-2.06 2.06-.94-2.06-.94-.94-2.06-.94 2.06-2.06.94z\"/><path d=\"M17.41 7.96l-1.37-1.37c-.4-.4-.92-.59-1.43-.59-.52 0-1.04.2-1.43.59L10.3 9.45l-7.72 7.72c-.78.78-.78 2.05 0 2.83L4 21.41c.39.39.9.59 1.41.59.51 0 1.02-.2 1.41-.59l7.78-7.78 2.81-2.81c.8-.78.8-2.07 0-2.86zM5.41 20L4 18.59l7.72-7.72 1.47 1.35L5.41 20z\"/>\n",
       "  </svg>\n",
       "      </button>\n",
       "      \n",
       "  <style>\n",
       "    .colab-df-container {\n",
       "      display:flex;\n",
       "      flex-wrap:wrap;\n",
       "      gap: 12px;\n",
       "    }\n",
       "\n",
       "    .colab-df-convert {\n",
       "      background-color: #E8F0FE;\n",
       "      border: none;\n",
       "      border-radius: 50%;\n",
       "      cursor: pointer;\n",
       "      display: none;\n",
       "      fill: #1967D2;\n",
       "      height: 32px;\n",
       "      padding: 0 0 0 0;\n",
       "      width: 32px;\n",
       "    }\n",
       "\n",
       "    .colab-df-convert:hover {\n",
       "      background-color: #E2EBFA;\n",
       "      box-shadow: 0px 1px 2px rgba(60, 64, 67, 0.3), 0px 1px 3px 1px rgba(60, 64, 67, 0.15);\n",
       "      fill: #174EA6;\n",
       "    }\n",
       "\n",
       "    [theme=dark] .colab-df-convert {\n",
       "      background-color: #3B4455;\n",
       "      fill: #D2E3FC;\n",
       "    }\n",
       "\n",
       "    [theme=dark] .colab-df-convert:hover {\n",
       "      background-color: #434B5C;\n",
       "      box-shadow: 0px 1px 3px 1px rgba(0, 0, 0, 0.15);\n",
       "      filter: drop-shadow(0px 1px 2px rgba(0, 0, 0, 0.3));\n",
       "      fill: #FFFFFF;\n",
       "    }\n",
       "  </style>\n",
       "\n",
       "      <script>\n",
       "        const buttonEl =\n",
       "          document.querySelector('#df-bb6380f9-03a2-45c2-a342-5ddfe3a45281 button.colab-df-convert');\n",
       "        buttonEl.style.display =\n",
       "          google.colab.kernel.accessAllowed ? 'block' : 'none';\n",
       "\n",
       "        async function convertToInteractive(key) {\n",
       "          const element = document.querySelector('#df-bb6380f9-03a2-45c2-a342-5ddfe3a45281');\n",
       "          const dataTable =\n",
       "            await google.colab.kernel.invokeFunction('convertToInteractive',\n",
       "                                                     [key], {});\n",
       "          if (!dataTable) return;\n",
       "\n",
       "          const docLinkHtml = 'Like what you see? Visit the ' +\n",
       "            '<a target=\"_blank\" href=https://colab.research.google.com/notebooks/data_table.ipynb>data table notebook</a>'\n",
       "            + ' to learn more about interactive tables.';\n",
       "          element.innerHTML = '';\n",
       "          dataTable['output_type'] = 'display_data';\n",
       "          await google.colab.output.renderOutput(dataTable, element);\n",
       "          const docLink = document.createElement('div');\n",
       "          docLink.innerHTML = docLinkHtml;\n",
       "          element.appendChild(docLink);\n",
       "        }\n",
       "      </script>\n",
       "    </div>\n",
       "  </div>\n",
       "  "
      ],
      "text/plain": [
       "        Band Debut  Concert ID  Concert Attendance  Inside Venue  Rain  \\\n",
       "0           1976.0       900.0              2980.0             0     0   \n",
       "1           1968.0       731.0                54.0             1     0   \n",
       "2           1955.0       794.0            162754.0             0     0   \n",
       "3           1992.0       704.0              8103.0             0     1   \n",
       "4           1968.0        95.0                54.0             0     0   \n",
       "...            ...         ...                 ...           ...   ...   \n",
       "169995      1985.0        70.0            162754.0             1     0   \n",
       "169996      1985.0       963.0                54.0             0     0   \n",
       "169997      2005.0       764.0                54.0             0     0   \n",
       "169998      1995.0       694.0             22026.0             0     1   \n",
       "169999      2008.0       661.0              2980.0             1     0   \n",
       "\n",
       "        Seated  Personnality Trait 1  Personnality Trait 2  \\\n",
       "0            1              0.330843             -0.958408   \n",
       "1            1             -2.069449              0.017777   \n",
       "2            1             -0.484268              1.968772   \n",
       "3            0             -0.858054              1.022827   \n",
       "4            0             -0.793029             -1.166528   \n",
       "...        ...                   ...                   ...   \n",
       "169995       0             -0.095021              0.175175   \n",
       "169996       0             -0.733719             -0.285776   \n",
       "169997       0              0.744969             -0.965547   \n",
       "169998       1              0.821976              0.351411   \n",
       "169999       0             -1.017410              0.883248   \n",
       "\n",
       "        Personnality Trait 3  Personnality Trait 4  ...  \\\n",
       "0                  -0.943548             -1.636806  ...   \n",
       "1                  -1.910675              0.610265  ...   \n",
       "2                  -0.064167             -1.260871  ...   \n",
       "3                  -0.348389             -1.147251  ...   \n",
       "4                  -0.043766              0.969661  ...   \n",
       "...                      ...                   ...  ...   \n",
       "169995              0.914245              0.357359  ...   \n",
       "169996             -0.323312              0.641180  ...   \n",
       "169997              1.020598              1.027389  ...   \n",
       "169998              0.175762              1.455654  ...   \n",
       "169999             -0.184107              0.631731  ...   \n",
       "\n",
       "        Band Name_Twilight of the Joystick Gods  \\\n",
       "0                                           0.0   \n",
       "1                                           0.0   \n",
       "2                                           0.0   \n",
       "3                                           0.0   \n",
       "4                                           0.0   \n",
       "...                                         ...   \n",
       "169995                                      0.0   \n",
       "169996                                      0.0   \n",
       "169997                                      0.0   \n",
       "169998                                      1.0   \n",
       "169999                                      0.0   \n",
       "\n",
       "        Band Name_Undercover Joystick and the Crazy Knickers  \\\n",
       "0                                                     0.0      \n",
       "1                                                     0.0      \n",
       "2                                                     0.0      \n",
       "3                                                     0.0      \n",
       "4                                                     0.0      \n",
       "...                                                   ...      \n",
       "169995                                                0.0      \n",
       "169996                                                0.0      \n",
       "169997                                                0.0      \n",
       "169998                                                0.0      \n",
       "169999                                                0.0      \n",
       "\n",
       "        Band Name_Why Frogs, Why?  Band Genre_Country  Band Genre_Heavy Metal  \\\n",
       "0                             0.0                 0.0                     0.0   \n",
       "1                             0.0                 0.0                     0.0   \n",
       "2                             0.0                 0.0                     0.0   \n",
       "3                             0.0                 0.0                     0.0   \n",
       "4                             0.0                 0.0                     0.0   \n",
       "...                           ...                 ...                     ...   \n",
       "169995                        0.0                 0.0                     0.0   \n",
       "169996                        0.0                 0.0                     0.0   \n",
       "169997                        1.0                 0.0                     1.0   \n",
       "169998                        0.0                 0.0                     0.0   \n",
       "169999                        0.0                 0.0                     1.0   \n",
       "\n",
       "        Band Genre_Hip Hop/Rap  Band Genre_Indie/Alt Rock  \\\n",
       "0                          0.0                        1.0   \n",
       "1                          0.0                        0.0   \n",
       "2                          0.0                        0.0   \n",
       "3                          0.0                        0.0   \n",
       "4                          0.0                        0.0   \n",
       "...                        ...                        ...   \n",
       "169995                     0.0                        0.0   \n",
       "169996                     0.0                        0.0   \n",
       "169997                     0.0                        0.0   \n",
       "169998                     1.0                        0.0   \n",
       "169999                     0.0                        0.0   \n",
       "\n",
       "        Band Genre_Pop Music  Band Genre_RnB  Band Genre_Rock n Roll  \n",
       "0                        0.0             0.0                     0.0  \n",
       "1                        1.0             0.0                     0.0  \n",
       "2                        0.0             0.0                     1.0  \n",
       "3                        0.0             1.0                     0.0  \n",
       "4                        1.0             0.0                     0.0  \n",
       "...                      ...             ...                     ...  \n",
       "169995                   0.0             1.0                     0.0  \n",
       "169996                   0.0             1.0                     0.0  \n",
       "169997                   0.0             0.0                     0.0  \n",
       "169998                   0.0             0.0                     0.0  \n",
       "169999                   0.0             0.0                     0.0  \n",
       "\n",
       "[170000 rows x 74 columns]"
      ]
     },
     "execution_count": 89,
     "metadata": {},
     "output_type": "execute_result"
    }
   ],
   "source": [
    "features"
   ]
  },
  {
   "cell_type": "code",
   "execution_count": null,
   "metadata": {
    "colab": {
     "base_uri": "https://localhost:8080/"
    },
    "id": "s-95kJfRSCR0",
    "outputId": "7c4b22bf-3ff0-4f8e-dfe7-d9a1637e7991"
   },
   "outputs": [
    {
     "data": {
      "text/html": [
       "\n",
       "  <div id=\"df-a18c5fb9-bbb9-4782-b43a-72d280ed7314\">\n",
       "    <div class=\"colab-df-container\">\n",
       "      <div>\n",
       "<style scoped>\n",
       "    .dataframe tbody tr th:only-of-type {\n",
       "        vertical-align: middle;\n",
       "    }\n",
       "\n",
       "    .dataframe tbody tr th {\n",
       "        vertical-align: top;\n",
       "    }\n",
       "\n",
       "    .dataframe thead th {\n",
       "        text-align: right;\n",
       "    }\n",
       "</style>\n",
       "<table border=\"1\" class=\"dataframe\">\n",
       "  <thead>\n",
       "    <tr style=\"text-align: right;\">\n",
       "      <th></th>\n",
       "      <th>Band Debut</th>\n",
       "      <th>Concert ID</th>\n",
       "      <th>Concert Attendance</th>\n",
       "      <th>Inside Venue</th>\n",
       "      <th>Rain</th>\n",
       "      <th>Seated</th>\n",
       "      <th>Personnality Trait 1</th>\n",
       "      <th>Personnality Trait 2</th>\n",
       "      <th>Personnality Trait 3</th>\n",
       "      <th>Personnality Trait 4</th>\n",
       "      <th>...</th>\n",
       "      <th>Band Name_Twilight of the Joystick Gods</th>\n",
       "      <th>Band Name_Undercover Joystick and the Crazy Knickers</th>\n",
       "      <th>Band Name_Why Frogs, Why?</th>\n",
       "      <th>Band Genre_Country</th>\n",
       "      <th>Band Genre_Heavy Metal</th>\n",
       "      <th>Band Genre_Hip Hop/Rap</th>\n",
       "      <th>Band Genre_Indie/Alt Rock</th>\n",
       "      <th>Band Genre_Pop Music</th>\n",
       "      <th>Band Genre_RnB</th>\n",
       "      <th>Band Genre_Rock n Roll</th>\n",
       "    </tr>\n",
       "  </thead>\n",
       "  <tbody>\n",
       "    <tr>\n",
       "      <th>0</th>\n",
       "      <td>1980.0</td>\n",
       "      <td>350.0</td>\n",
       "      <td>2980.0</td>\n",
       "      <td>1</td>\n",
       "      <td>0</td>\n",
       "      <td>1</td>\n",
       "      <td>1.065107</td>\n",
       "      <td>0.057660</td>\n",
       "      <td>0.249639</td>\n",
       "      <td>-0.933976</td>\n",
       "      <td>...</td>\n",
       "      <td>0.0</td>\n",
       "      <td>0.0</td>\n",
       "      <td>0.0</td>\n",
       "      <td>0.0</td>\n",
       "      <td>0.0</td>\n",
       "      <td>0.0</td>\n",
       "      <td>0.0</td>\n",
       "      <td>0.0</td>\n",
       "      <td>0.0</td>\n",
       "      <td>1.0</td>\n",
       "    </tr>\n",
       "    <tr>\n",
       "      <th>1</th>\n",
       "      <td>2014.0</td>\n",
       "      <td>173.0</td>\n",
       "      <td>8103.0</td>\n",
       "      <td>1</td>\n",
       "      <td>1</td>\n",
       "      <td>0</td>\n",
       "      <td>-0.886947</td>\n",
       "      <td>0.801365</td>\n",
       "      <td>0.525624</td>\n",
       "      <td>0.176655</td>\n",
       "      <td>...</td>\n",
       "      <td>0.0</td>\n",
       "      <td>0.0</td>\n",
       "      <td>0.0</td>\n",
       "      <td>0.0</td>\n",
       "      <td>0.0</td>\n",
       "      <td>1.0</td>\n",
       "      <td>0.0</td>\n",
       "      <td>0.0</td>\n",
       "      <td>0.0</td>\n",
       "      <td>0.0</td>\n",
       "    </tr>\n",
       "    <tr>\n",
       "      <th>2</th>\n",
       "      <td>2010.0</td>\n",
       "      <td>502.0</td>\n",
       "      <td>2980.0</td>\n",
       "      <td>1</td>\n",
       "      <td>1</td>\n",
       "      <td>0</td>\n",
       "      <td>0.744700</td>\n",
       "      <td>-0.797531</td>\n",
       "      <td>-0.034166</td>\n",
       "      <td>-0.226052</td>\n",
       "      <td>...</td>\n",
       "      <td>0.0</td>\n",
       "      <td>0.0</td>\n",
       "      <td>0.0</td>\n",
       "      <td>0.0</td>\n",
       "      <td>0.0</td>\n",
       "      <td>0.0</td>\n",
       "      <td>0.0</td>\n",
       "      <td>0.0</td>\n",
       "      <td>0.0</td>\n",
       "      <td>1.0</td>\n",
       "    </tr>\n",
       "    <tr>\n",
       "      <th>3</th>\n",
       "      <td>2014.0</td>\n",
       "      <td>532.0</td>\n",
       "      <td>22026.0</td>\n",
       "      <td>1</td>\n",
       "      <td>0</td>\n",
       "      <td>0</td>\n",
       "      <td>-0.134180</td>\n",
       "      <td>-0.361512</td>\n",
       "      <td>0.969404</td>\n",
       "      <td>-2.341205</td>\n",
       "      <td>...</td>\n",
       "      <td>0.0</td>\n",
       "      <td>0.0</td>\n",
       "      <td>0.0</td>\n",
       "      <td>0.0</td>\n",
       "      <td>0.0</td>\n",
       "      <td>1.0</td>\n",
       "      <td>0.0</td>\n",
       "      <td>0.0</td>\n",
       "      <td>0.0</td>\n",
       "      <td>0.0</td>\n",
       "    </tr>\n",
       "    <tr>\n",
       "      <th>4</th>\n",
       "      <td>1992.0</td>\n",
       "      <td>636.0</td>\n",
       "      <td>2980.0</td>\n",
       "      <td>0</td>\n",
       "      <td>0</td>\n",
       "      <td>0</td>\n",
       "      <td>1.407366</td>\n",
       "      <td>-0.084155</td>\n",
       "      <td>-0.673233</td>\n",
       "      <td>1.733714</td>\n",
       "      <td>...</td>\n",
       "      <td>0.0</td>\n",
       "      <td>0.0</td>\n",
       "      <td>0.0</td>\n",
       "      <td>0.0</td>\n",
       "      <td>0.0</td>\n",
       "      <td>0.0</td>\n",
       "      <td>0.0</td>\n",
       "      <td>0.0</td>\n",
       "      <td>1.0</td>\n",
       "      <td>0.0</td>\n",
       "    </tr>\n",
       "    <tr>\n",
       "      <th>...</th>\n",
       "      <td>...</td>\n",
       "      <td>...</td>\n",
       "      <td>...</td>\n",
       "      <td>...</td>\n",
       "      <td>...</td>\n",
       "      <td>...</td>\n",
       "      <td>...</td>\n",
       "      <td>...</td>\n",
       "      <td>...</td>\n",
       "      <td>...</td>\n",
       "      <td>...</td>\n",
       "      <td>...</td>\n",
       "      <td>...</td>\n",
       "      <td>...</td>\n",
       "      <td>...</td>\n",
       "      <td>...</td>\n",
       "      <td>...</td>\n",
       "      <td>...</td>\n",
       "      <td>...</td>\n",
       "      <td>...</td>\n",
       "      <td>...</td>\n",
       "    </tr>\n",
       "    <tr>\n",
       "      <th>29995</th>\n",
       "      <td>1979.0</td>\n",
       "      <td>411.0</td>\n",
       "      <td>2980.0</td>\n",
       "      <td>1</td>\n",
       "      <td>0</td>\n",
       "      <td>0</td>\n",
       "      <td>-0.421714</td>\n",
       "      <td>-1.549670</td>\n",
       "      <td>-0.351770</td>\n",
       "      <td>0.132489</td>\n",
       "      <td>...</td>\n",
       "      <td>0.0</td>\n",
       "      <td>0.0</td>\n",
       "      <td>0.0</td>\n",
       "      <td>0.0</td>\n",
       "      <td>0.0</td>\n",
       "      <td>1.0</td>\n",
       "      <td>0.0</td>\n",
       "      <td>0.0</td>\n",
       "      <td>0.0</td>\n",
       "      <td>0.0</td>\n",
       "    </tr>\n",
       "    <tr>\n",
       "      <th>29996</th>\n",
       "      <td>1978.0</td>\n",
       "      <td>135.0</td>\n",
       "      <td>8103.0</td>\n",
       "      <td>1</td>\n",
       "      <td>0</td>\n",
       "      <td>0</td>\n",
       "      <td>0.615087</td>\n",
       "      <td>-0.047092</td>\n",
       "      <td>0.339228</td>\n",
       "      <td>0.820159</td>\n",
       "      <td>...</td>\n",
       "      <td>0.0</td>\n",
       "      <td>0.0</td>\n",
       "      <td>0.0</td>\n",
       "      <td>0.0</td>\n",
       "      <td>0.0</td>\n",
       "      <td>1.0</td>\n",
       "      <td>0.0</td>\n",
       "      <td>0.0</td>\n",
       "      <td>0.0</td>\n",
       "      <td>0.0</td>\n",
       "    </tr>\n",
       "    <tr>\n",
       "      <th>29997</th>\n",
       "      <td>1995.0</td>\n",
       "      <td>987.0</td>\n",
       "      <td>8103.0</td>\n",
       "      <td>0</td>\n",
       "      <td>0</td>\n",
       "      <td>1</td>\n",
       "      <td>-1.396551</td>\n",
       "      <td>-0.508627</td>\n",
       "      <td>-1.692584</td>\n",
       "      <td>1.640931</td>\n",
       "      <td>...</td>\n",
       "      <td>0.0</td>\n",
       "      <td>0.0</td>\n",
       "      <td>0.0</td>\n",
       "      <td>0.0</td>\n",
       "      <td>0.0</td>\n",
       "      <td>0.0</td>\n",
       "      <td>0.0</td>\n",
       "      <td>1.0</td>\n",
       "      <td>0.0</td>\n",
       "      <td>0.0</td>\n",
       "    </tr>\n",
       "    <tr>\n",
       "      <th>29998</th>\n",
       "      <td>1968.0</td>\n",
       "      <td>830.0</td>\n",
       "      <td>8103.0</td>\n",
       "      <td>0</td>\n",
       "      <td>1</td>\n",
       "      <td>0</td>\n",
       "      <td>0.168073</td>\n",
       "      <td>-0.785460</td>\n",
       "      <td>0.898273</td>\n",
       "      <td>1.608389</td>\n",
       "      <td>...</td>\n",
       "      <td>0.0</td>\n",
       "      <td>0.0</td>\n",
       "      <td>0.0</td>\n",
       "      <td>0.0</td>\n",
       "      <td>0.0</td>\n",
       "      <td>0.0</td>\n",
       "      <td>0.0</td>\n",
       "      <td>0.0</td>\n",
       "      <td>1.0</td>\n",
       "      <td>0.0</td>\n",
       "    </tr>\n",
       "    <tr>\n",
       "      <th>29999</th>\n",
       "      <td>1995.0</td>\n",
       "      <td>120.0</td>\n",
       "      <td>54.0</td>\n",
       "      <td>0</td>\n",
       "      <td>1</td>\n",
       "      <td>0</td>\n",
       "      <td>-0.248370</td>\n",
       "      <td>-0.809340</td>\n",
       "      <td>0.085226</td>\n",
       "      <td>-0.133507</td>\n",
       "      <td>...</td>\n",
       "      <td>0.0</td>\n",
       "      <td>0.0</td>\n",
       "      <td>0.0</td>\n",
       "      <td>0.0</td>\n",
       "      <td>1.0</td>\n",
       "      <td>0.0</td>\n",
       "      <td>0.0</td>\n",
       "      <td>0.0</td>\n",
       "      <td>0.0</td>\n",
       "      <td>0.0</td>\n",
       "    </tr>\n",
       "  </tbody>\n",
       "</table>\n",
       "<p>30000 rows × 74 columns</p>\n",
       "</div>\n",
       "      <button class=\"colab-df-convert\" onclick=\"convertToInteractive('df-a18c5fb9-bbb9-4782-b43a-72d280ed7314')\"\n",
       "              title=\"Convert this dataframe to an interactive table.\"\n",
       "              style=\"display:none;\">\n",
       "        \n",
       "  <svg xmlns=\"http://www.w3.org/2000/svg\" height=\"24px\"viewBox=\"0 0 24 24\"\n",
       "       width=\"24px\">\n",
       "    <path d=\"M0 0h24v24H0V0z\" fill=\"none\"/>\n",
       "    <path d=\"M18.56 5.44l.94 2.06.94-2.06 2.06-.94-2.06-.94-.94-2.06-.94 2.06-2.06.94zm-11 1L8.5 8.5l.94-2.06 2.06-.94-2.06-.94L8.5 2.5l-.94 2.06-2.06.94zm10 10l.94 2.06.94-2.06 2.06-.94-2.06-.94-.94-2.06-.94 2.06-2.06.94z\"/><path d=\"M17.41 7.96l-1.37-1.37c-.4-.4-.92-.59-1.43-.59-.52 0-1.04.2-1.43.59L10.3 9.45l-7.72 7.72c-.78.78-.78 2.05 0 2.83L4 21.41c.39.39.9.59 1.41.59.51 0 1.02-.2 1.41-.59l7.78-7.78 2.81-2.81c.8-.78.8-2.07 0-2.86zM5.41 20L4 18.59l7.72-7.72 1.47 1.35L5.41 20z\"/>\n",
       "  </svg>\n",
       "      </button>\n",
       "      \n",
       "  <style>\n",
       "    .colab-df-container {\n",
       "      display:flex;\n",
       "      flex-wrap:wrap;\n",
       "      gap: 12px;\n",
       "    }\n",
       "\n",
       "    .colab-df-convert {\n",
       "      background-color: #E8F0FE;\n",
       "      border: none;\n",
       "      border-radius: 50%;\n",
       "      cursor: pointer;\n",
       "      display: none;\n",
       "      fill: #1967D2;\n",
       "      height: 32px;\n",
       "      padding: 0 0 0 0;\n",
       "      width: 32px;\n",
       "    }\n",
       "\n",
       "    .colab-df-convert:hover {\n",
       "      background-color: #E2EBFA;\n",
       "      box-shadow: 0px 1px 2px rgba(60, 64, 67, 0.3), 0px 1px 3px 1px rgba(60, 64, 67, 0.15);\n",
       "      fill: #174EA6;\n",
       "    }\n",
       "\n",
       "    [theme=dark] .colab-df-convert {\n",
       "      background-color: #3B4455;\n",
       "      fill: #D2E3FC;\n",
       "    }\n",
       "\n",
       "    [theme=dark] .colab-df-convert:hover {\n",
       "      background-color: #434B5C;\n",
       "      box-shadow: 0px 1px 3px 1px rgba(0, 0, 0, 0.15);\n",
       "      filter: drop-shadow(0px 1px 2px rgba(0, 0, 0, 0.3));\n",
       "      fill: #FFFFFF;\n",
       "    }\n",
       "  </style>\n",
       "\n",
       "      <script>\n",
       "        const buttonEl =\n",
       "          document.querySelector('#df-a18c5fb9-bbb9-4782-b43a-72d280ed7314 button.colab-df-convert');\n",
       "        buttonEl.style.display =\n",
       "          google.colab.kernel.accessAllowed ? 'block' : 'none';\n",
       "\n",
       "        async function convertToInteractive(key) {\n",
       "          const element = document.querySelector('#df-a18c5fb9-bbb9-4782-b43a-72d280ed7314');\n",
       "          const dataTable =\n",
       "            await google.colab.kernel.invokeFunction('convertToInteractive',\n",
       "                                                     [key], {});\n",
       "          if (!dataTable) return;\n",
       "\n",
       "          const docLinkHtml = 'Like what you see? Visit the ' +\n",
       "            '<a target=\"_blank\" href=https://colab.research.google.com/notebooks/data_table.ipynb>data table notebook</a>'\n",
       "            + ' to learn more about interactive tables.';\n",
       "          element.innerHTML = '';\n",
       "          dataTable['output_type'] = 'display_data';\n",
       "          await google.colab.output.renderOutput(dataTable, element);\n",
       "          const docLink = document.createElement('div');\n",
       "          docLink.innerHTML = docLinkHtml;\n",
       "          element.appendChild(docLink);\n",
       "        }\n",
       "      </script>\n",
       "    </div>\n",
       "  </div>\n",
       "  "
      ],
      "text/plain": [
       "       Band Debut  Concert ID  Concert Attendance  Inside Venue  Rain  Seated  \\\n",
       "0          1980.0       350.0              2980.0             1     0       1   \n",
       "1          2014.0       173.0              8103.0             1     1       0   \n",
       "2          2010.0       502.0              2980.0             1     1       0   \n",
       "3          2014.0       532.0             22026.0             1     0       0   \n",
       "4          1992.0       636.0              2980.0             0     0       0   \n",
       "...           ...         ...                 ...           ...   ...     ...   \n",
       "29995      1979.0       411.0              2980.0             1     0       0   \n",
       "29996      1978.0       135.0              8103.0             1     0       0   \n",
       "29997      1995.0       987.0              8103.0             0     0       1   \n",
       "29998      1968.0       830.0              8103.0             0     1       0   \n",
       "29999      1995.0       120.0                54.0             0     1       0   \n",
       "\n",
       "       Personnality Trait 1  Personnality Trait 2  Personnality Trait 3  \\\n",
       "0                  1.065107              0.057660              0.249639   \n",
       "1                 -0.886947              0.801365              0.525624   \n",
       "2                  0.744700             -0.797531             -0.034166   \n",
       "3                 -0.134180             -0.361512              0.969404   \n",
       "4                  1.407366             -0.084155             -0.673233   \n",
       "...                     ...                   ...                   ...   \n",
       "29995             -0.421714             -1.549670             -0.351770   \n",
       "29996              0.615087             -0.047092              0.339228   \n",
       "29997             -1.396551             -0.508627             -1.692584   \n",
       "29998              0.168073             -0.785460              0.898273   \n",
       "29999             -0.248370             -0.809340              0.085226   \n",
       "\n",
       "       Personnality Trait 4  ...  Band Name_Twilight of the Joystick Gods  \\\n",
       "0                 -0.933976  ...                                      0.0   \n",
       "1                  0.176655  ...                                      0.0   \n",
       "2                 -0.226052  ...                                      0.0   \n",
       "3                 -2.341205  ...                                      0.0   \n",
       "4                  1.733714  ...                                      0.0   \n",
       "...                     ...  ...                                      ...   \n",
       "29995              0.132489  ...                                      0.0   \n",
       "29996              0.820159  ...                                      0.0   \n",
       "29997              1.640931  ...                                      0.0   \n",
       "29998              1.608389  ...                                      0.0   \n",
       "29999             -0.133507  ...                                      0.0   \n",
       "\n",
       "       Band Name_Undercover Joystick and the Crazy Knickers  \\\n",
       "0                                                    0.0      \n",
       "1                                                    0.0      \n",
       "2                                                    0.0      \n",
       "3                                                    0.0      \n",
       "4                                                    0.0      \n",
       "...                                                  ...      \n",
       "29995                                                0.0      \n",
       "29996                                                0.0      \n",
       "29997                                                0.0      \n",
       "29998                                                0.0      \n",
       "29999                                                0.0      \n",
       "\n",
       "       Band Name_Why Frogs, Why?  Band Genre_Country  Band Genre_Heavy Metal  \\\n",
       "0                            0.0                 0.0                     0.0   \n",
       "1                            0.0                 0.0                     0.0   \n",
       "2                            0.0                 0.0                     0.0   \n",
       "3                            0.0                 0.0                     0.0   \n",
       "4                            0.0                 0.0                     0.0   \n",
       "...                          ...                 ...                     ...   \n",
       "29995                        0.0                 0.0                     0.0   \n",
       "29996                        0.0                 0.0                     0.0   \n",
       "29997                        0.0                 0.0                     0.0   \n",
       "29998                        0.0                 0.0                     0.0   \n",
       "29999                        0.0                 0.0                     1.0   \n",
       "\n",
       "       Band Genre_Hip Hop/Rap  Band Genre_Indie/Alt Rock  \\\n",
       "0                         0.0                        0.0   \n",
       "1                         1.0                        0.0   \n",
       "2                         0.0                        0.0   \n",
       "3                         1.0                        0.0   \n",
       "4                         0.0                        0.0   \n",
       "...                       ...                        ...   \n",
       "29995                     1.0                        0.0   \n",
       "29996                     1.0                        0.0   \n",
       "29997                     0.0                        0.0   \n",
       "29998                     0.0                        0.0   \n",
       "29999                     0.0                        0.0   \n",
       "\n",
       "       Band Genre_Pop Music  Band Genre_RnB  Band Genre_Rock n Roll  \n",
       "0                       0.0             0.0                     1.0  \n",
       "1                       0.0             0.0                     0.0  \n",
       "2                       0.0             0.0                     1.0  \n",
       "3                       0.0             0.0                     0.0  \n",
       "4                       0.0             1.0                     0.0  \n",
       "...                     ...             ...                     ...  \n",
       "29995                   0.0             0.0                     0.0  \n",
       "29996                   0.0             0.0                     0.0  \n",
       "29997                   1.0             0.0                     0.0  \n",
       "29998                   0.0             1.0                     0.0  \n",
       "29999                   0.0             0.0                     0.0  \n",
       "\n",
       "[30000 rows x 74 columns]"
      ]
     },
     "execution_count": 90,
     "metadata": {},
     "output_type": "execute_result"
    }
   ],
   "source": [
    "test_features"
   ]
  },
  {
   "cell_type": "markdown",
   "metadata": {
    "id": "eacc887c",
    "papermill": {
     "duration": null,
     "end_time": null,
     "exception": null,
     "start_time": null,
     "status": "pending"
    },
    "tags": []
   },
   "source": [
    "**Numerical Features:**\n",
    "1. Remove outliers\n",
    "2.  Normalize data "
   ]
  },
  {
   "cell_type": "code",
   "execution_count": null,
   "metadata": {
    "execution": {
     "iopub.execute_input": "2022-11-24T03:50:29.209748Z",
     "iopub.status.busy": "2022-11-24T03:50:29.209367Z",
     "iopub.status.idle": "2022-11-24T03:50:29.743787Z",
     "shell.execute_reply": "2022-11-24T03:50:29.742671Z"
    },
    "id": "057956f6",
    "papermill": {
     "duration": null,
     "end_time": null,
     "exception": null,
     "start_time": null,
     "status": "pending"
    },
    "tags": []
   },
   "outputs": [],
   "source": [
    "# 1. remove the outliers from the numerical data (only training data)\n",
    "from scipy.stats import zscore\n",
    "\n",
    "z_scores = zscore(features[numerical_features])\n",
    "# we are going to use 3 standard deviations as the threshold (represents 99.7% of the data)\n",
    "outliers_rows = np.where(np.abs(z_scores) > 3)[0]\n",
    "# we can now remove the outliers\n",
    "features = features.drop(outliers_rows)\n",
    "labels = labels.drop(outliers_rows)"
   ]
  },
  {
   "cell_type": "code",
   "execution_count": null,
   "metadata": {
    "id": "DKfTwCQ1rWpK"
   },
   "outputs": [],
   "source": [
    "#Here we will try z_score normalization \n",
    "features[numerical_features] = zscore(features[numerical_features])\n",
    "test_features[numerical_features] = zscore(test_features[numerical_features])"
   ]
  },
  {
   "cell_type": "markdown",
   "metadata": {
    "id": "12397794",
    "papermill": {
     "duration": null,
     "end_time": null,
     "exception": null,
     "start_time": null,
     "status": "pending"
    },
    "tags": []
   },
   "source": [
    "**Label Encoding**"
   ]
  },
  {
   "cell_type": "code",
   "execution_count": null,
   "metadata": {
    "colab": {
     "base_uri": "https://localhost:8080/"
    },
    "execution": {
     "iopub.execute_input": "2022-11-24T03:50:30.158779Z",
     "iopub.status.busy": "2022-11-24T03:50:30.158376Z",
     "iopub.status.idle": "2022-11-24T03:50:30.167541Z",
     "shell.execute_reply": "2022-11-24T03:50:30.166449Z"
    },
    "id": "3a5145db",
    "outputId": "b98bf548-742e-4e9d-8d18-b7ea49dcc179",
    "papermill": {
     "duration": null,
     "end_time": null,
     "exception": null,
     "start_time": null,
     "status": "pending"
    },
    "tags": []
   },
   "outputs": [
    {
     "data": {
      "text/plain": [
       "0              Did Not Enjoy\n",
       "1                    Enjoyed\n",
       "2              Did Not Enjoy\n",
       "3         Worst Concert Ever\n",
       "4              Did Not Enjoy\n",
       "                 ...        \n",
       "169995         Did Not Enjoy\n",
       "169996    Worst Concert Ever\n",
       "169997         Did Not Enjoy\n",
       "169998         Did Not Enjoy\n",
       "169999     Best Concert Ever\n",
       "Name: Concert Enjoyment, Length: 168484, dtype: object"
      ]
     },
     "execution_count": 93,
     "metadata": {},
     "output_type": "execute_result"
    }
   ],
   "source": [
    "labels"
   ]
  },
  {
   "cell_type": "code",
   "execution_count": null,
   "metadata": {
    "colab": {
     "base_uri": "https://localhost:8080/"
    },
    "execution": {
     "iopub.execute_input": "2022-11-24T03:50:30.265182Z",
     "iopub.status.busy": "2022-11-24T03:50:30.264776Z",
     "iopub.status.idle": "2022-11-24T03:50:30.284746Z",
     "shell.execute_reply": "2022-11-24T03:50:30.283587Z"
    },
    "id": "56386527",
    "outputId": "e501261f-7048-4f88-9c71-42801aae28b2",
    "papermill": {
     "duration": null,
     "end_time": null,
     "exception": null,
     "start_time": null,
     "status": "pending"
    },
    "tags": []
   },
   "outputs": [
    {
     "data": {
      "text/plain": [
       "array(['Did Not Enjoy', 'Enjoyed', 'Worst Concert Ever',\n",
       "       'Best Concert Ever'], dtype=object)"
      ]
     },
     "execution_count": 94,
     "metadata": {},
     "output_type": "execute_result"
    }
   ],
   "source": [
    "data[\"Concert Enjoyment\"].unique()"
   ]
  },
  {
   "cell_type": "code",
   "execution_count": null,
   "metadata": {
    "execution": {
     "iopub.execute_input": "2022-11-24T03:50:30.381775Z",
     "iopub.status.busy": "2022-11-24T03:50:30.380939Z",
     "iopub.status.idle": "2022-11-24T03:50:30.439118Z",
     "shell.execute_reply": "2022-11-24T03:50:30.437723Z"
    },
    "id": "2fa93fcc",
    "papermill": {
     "duration": null,
     "end_time": null,
     "exception": null,
     "start_time": null,
     "status": "pending"
    },
    "tags": []
   },
   "outputs": [],
   "source": [
    "# encode the labels manually (0, 1, 2, 3) Done \n",
    "conditions = [labels == \"Worst Concert Ever\" , labels == \"Did Not Enjoy\" , labels == \"Enjoyed\" , labels == \"Best Concert Ever\"]\n",
    "\n",
    "choices = [0 , 1 , 2 , 3]\n",
    "\n",
    "labels  = np.select(conditions, choices).astype(int)"
   ]
  },
  {
   "cell_type": "code",
   "execution_count": null,
   "metadata": {
    "colab": {
     "base_uri": "https://localhost:8080/"
    },
    "execution": {
     "iopub.execute_input": "2022-11-24T03:50:30.640517Z",
     "iopub.status.busy": "2022-11-24T03:50:30.640086Z",
     "iopub.status.idle": "2022-11-24T03:50:30.646267Z",
     "shell.execute_reply": "2022-11-24T03:50:30.645466Z"
    },
    "id": "f886ce35",
    "outputId": "31f823d5-9aa9-41f1-8cf8-ebb085882f07",
    "papermill": {
     "duration": null,
     "end_time": null,
     "exception": null,
     "start_time": null,
     "status": "pending"
    },
    "tags": []
   },
   "outputs": [
    {
     "data": {
      "text/plain": [
       "dtype('int64')"
      ]
     },
     "execution_count": 96,
     "metadata": {},
     "output_type": "execute_result"
    }
   ],
   "source": [
    "labels.dtype"
   ]
  },
  {
   "cell_type": "markdown",
   "metadata": {
    "id": "2a5e2c06",
    "papermill": {
     "duration": null,
     "end_time": null,
     "exception": null,
     "start_time": null,
     "status": "pending"
    },
    "tags": []
   },
   "source": [
    "### Feature selection "
   ]
  },
  {
   "cell_type": "code",
   "execution_count": null,
   "metadata": {
    "execution": {
     "iopub.execute_input": "2022-11-24T03:50:30.938031Z",
     "iopub.status.busy": "2022-11-24T03:50:30.937624Z",
     "iopub.status.idle": "2022-11-24T03:50:30.942002Z",
     "shell.execute_reply": "2022-11-24T03:50:30.940939Z"
    },
    "id": "3ef90344",
    "papermill": {
     "duration": null,
     "end_time": null,
     "exception": null,
     "start_time": null,
     "status": "pending"
    },
    "tags": []
   },
   "outputs": [],
   "source": [
    "# feature selection\n",
    "#import matplotlib.pyplot as plt\n",
    "#import seaborn as sns\n",
    "\n",
    "# we can now plot the correlation matrix of each feature with the other features\n",
    "#corr_matrix = features.corr()\n",
    "\n",
    "#plt.figure(figsize=(20, 20))\n",
    "#sns.heatmap(corr_matrix, annot=True, fmt='.2f')\n",
    "#plt.show()\n",
    "\n",
    "# This cell was commented since the result did not serve much and it takes a lot of computational time"
   ]
  },
  {
   "cell_type": "code",
   "execution_count": null,
   "metadata": {
    "colab": {
     "base_uri": "https://localhost:8080/"
    },
    "execution": {
     "iopub.execute_input": "2022-11-24T03:50:31.039363Z",
     "iopub.status.busy": "2022-11-24T03:50:31.038923Z",
     "iopub.status.idle": "2022-11-24T03:50:35.599068Z",
     "shell.execute_reply": "2022-11-24T03:50:35.597736Z"
    },
    "id": "f15cffba",
    "outputId": "c8a0e86e-cece-4098-b141-7c9173c7921d",
    "papermill": {
     "duration": null,
     "end_time": null,
     "exception": null,
     "start_time": null,
     "status": "pending"
    },
    "tags": []
   },
   "outputs": [
    {
     "data": {
      "image/png": "[encoded data removed]",
      "text/plain": [
       "<Figure size 1440x1440 with 1 Axes>"
      ]
     },
     "metadata": {
      "needs_background": "light"
     },
     "output_type": "display_data"
    }
   ],
   "source": [
    "# there's not much correlation between features\n",
    "# we can reduce the number of features with sklearn\n",
    "from sklearn.feature_selection import SelectKBest\n",
    "import matplotlib.pyplot as plt\n",
    "import seaborn as sns\n",
    "skb = SelectKBest()\n",
    "# we can now fit the SelectKBest to the data\n",
    "skb.fit(features, labels)\n",
    "# we can now plot the sorted features by their importance\n",
    "# we can use the barplot function to plot the sorted features by their importance\n",
    "# we can use the subplots function to plot the data\n",
    "\n",
    "plt.figure(figsize=(20, 20))\n",
    "sns.barplot(x=skb.scores_, y=features.columns)\n",
    "plt.show()"
   ]
  },
  {
   "cell_type": "code",
   "execution_count": null,
   "metadata": {
    "execution": {
     "iopub.execute_input": "2022-11-24T03:50:35.706148Z",
     "iopub.status.busy": "2022-11-24T03:50:35.705232Z",
     "iopub.status.idle": "2022-11-24T03:50:36.559336Z",
     "shell.execute_reply": "2022-11-24T03:50:36.557983Z"
    },
    "id": "1e24eee2",
    "papermill": {
     "duration": null,
     "end_time": null,
     "exception": null,
     "start_time": null,
     "status": "pending"
    },
    "tags": []
   },
   "outputs": [],
   "source": [
    "# we used the default f_classic which is used for classification problems. The way that function works, is that it calculates the ANOVA F-value for the features and returns the k best features based on that value. The higher the value the more important the feature is.\n",
    "# we can see in the above plot that there are 6 features that have really low importance compared to the others so we can try keeping 10\n",
    "#from sklearn.feature_selection import SelectKBest\n",
    "\n",
    "\n",
    "selected_features = SelectKBest(k=74).fit_transform(features, labels) "
   ]
  },
  {
   "cell_type": "markdown",
   "metadata": {
    "id": "R_WUauOUBp-R"
   },
   "source": [
    "Multiple tests were done using different k values but the performances of the models did not improve, therefore we overwrote the selected_features variable in the next section restoring the original features."
   ]
  },
  {
   "cell_type": "markdown",
   "metadata": {
    "id": "e680faec",
    "papermill": {
     "duration": null,
     "end_time": null,
     "exception": null,
     "start_time": null,
     "status": "pending"
    },
    "tags": []
   },
   "source": [
    "## 1.5- Split dataset"
   ]
  },
  {
   "cell_type": "code",
   "execution_count": null,
   "metadata": {
    "colab": {
     "base_uri": "https://localhost:8080/"
    },
    "execution": {
     "iopub.execute_input": "2022-11-24T03:50:36.767574Z",
     "iopub.status.busy": "2022-11-24T03:50:36.766775Z",
     "iopub.status.idle": "2022-11-24T03:50:36.868757Z",
     "shell.execute_reply": "2022-11-24T03:50:36.867600Z"
    },
    "id": "6953085e",
    "outputId": "2be4d2a9-bc65-45a7-df5f-86756c766d64",
    "papermill": {
     "duration": null,
     "end_time": null,
     "exception": null,
     "start_time": null,
     "status": "pending"
    },
    "tags": []
   },
   "outputs": [
    {
     "name": "stdout",
     "output_type": "stream",
     "text": [
      "(168484, 74)\n"
     ]
    }
   ],
   "source": [
    "selected_features = features.values\n",
    "print(selected_features.shape)"
   ]
  },
  {
   "cell_type": "code",
   "execution_count": null,
   "metadata": {
    "colab": {
     "base_uri": "https://localhost:8080/"
    },
    "execution": {
     "iopub.execute_input": "2022-11-24T03:50:37.080618Z",
     "iopub.status.busy": "2022-11-24T03:50:37.079613Z",
     "iopub.status.idle": "2022-11-24T03:50:37.291428Z",
     "shell.execute_reply": "2022-11-24T03:50:37.289959Z"
    },
    "id": "ea163256",
    "outputId": "8f398a6d-5d89-43de-b270-4180043bc95f",
    "papermill": {
     "duration": null,
     "end_time": null,
     "exception": null,
     "start_time": null,
     "status": "pending"
    },
    "tags": []
   },
   "outputs": [
    {
     "name": "stdout",
     "output_type": "stream",
     "text": [
      "features type: <class 'numpy.ndarray'> of shape: (168484, 74) | NaN values: False | finite values: True | data type: float64\n",
      "labels type: <class 'numpy.ndarray'> of shape: (168484,)  NaN values: False | finite values: True |data type: int64\n"
     ]
    }
   ],
   "source": [
    "#check shapes:\n",
    "print('features type:', type(selected_features), 'of shape:', selected_features.shape, '| NaN values:', np.isnan(selected_features.any()), \"| finite values:\", np.isfinite(selected_features.all()), \"| data type:\", selected_features.dtype)\n",
    "print('labels type:', type(labels), 'of shape:', labels.shape, ' NaN values:', np.isnan(labels.any()), \"| finite values:\", np.isfinite(labels.all()), \"|data type:\", labels.dtype)"
   ]
  },
  {
   "cell_type": "code",
   "execution_count": null,
   "metadata": {
    "execution": {
     "iopub.status.busy": "2022-11-23T02:58:33.809832Z",
     "iopub.status.idle": "2022-11-23T02:58:33.810249Z",
     "shell.execute_reply": "2022-11-23T02:58:33.810063Z",
     "shell.execute_reply.started": "2022-11-23T02:58:33.810042Z"
    },
    "id": "9984b2df",
    "papermill": {
     "duration": null,
     "end_time": null,
     "exception": null,
     "start_time": null,
     "status": "pending"
    },
    "tags": []
   },
   "outputs": [],
   "source": [
    "# train test split \n",
    "from sklearn.model_selection import train_test_split\n",
    "X_train, X_val, y_train, y_val = train_test_split(selected_features, labels, test_size=0.2, random_state=42)\n",
    "#We will use the test dataset as a validation dataset, since we already have a test set for the final evaluation "
   ]
  },
  {
   "cell_type": "code",
   "execution_count": null,
   "metadata": {
    "colab": {
     "base_uri": "https://localhost:8080/"
    },
    "id": "6704f9b4",
    "outputId": "e4faba36-4b94-41f3-93fc-59409281f724",
    "papermill": {
     "duration": null,
     "end_time": null,
     "exception": null,
     "start_time": null,
     "status": "pending"
    },
    "tags": []
   },
   "outputs": [
    {
     "name": "stdout",
     "output_type": "stream",
     "text": [
      "Train features shape: (134787, 74) Train labels shape: (134787,)\n",
      "Val features shape: (33697, 74) Val labels shape: (33697,)\n"
     ]
    }
   ],
   "source": [
    "print('Train features shape:', X_train.shape, 'Train labels shape:', y_train.shape)\n",
    "print('Val features shape:', X_val.shape, 'Val labels shape:', y_val.shape)"
   ]
  },
  {
   "cell_type": "code",
   "execution_count": null,
   "metadata": {
    "colab": {
     "base_uri": "https://localhost:8080/"
    },
    "id": "187e1c19",
    "outputId": "7fdc98ce-c8ac-4eca-c05d-d2dacdc8dc34",
    "papermill": {
     "duration": null,
     "end_time": null,
     "exception": null,
     "start_time": null,
     "status": "pending"
    },
    "tags": []
   },
   "outputs": [
    {
     "name": "stdout",
     "output_type": "stream",
     "text": [
      "X_train type: <class 'numpy.ndarray'> of shape: (134787, 74) | NaN values: False | finite values: True | data type: float64\n",
      "X_val type  : <class 'numpy.ndarray'> of shape: (33697, 74) | NaN values: False | finite values: True | data type: float64\n",
      "y_train type: <class 'numpy.ndarray'> of shape: (134787,)  NaN values: False | finite values: True |data type: int64\n",
      "y_val type  : <class 'numpy.ndarray'> of shape: (33697,)  NaN values: False | finite values: True |data type: int64\n"
     ]
    }
   ],
   "source": [
    "print('X_train type:', type(X_train), 'of shape:', X_train.shape, '| NaN values:', np.isnan(X_train.any()), \"| finite values:\", np.isfinite(X_train.all()), \"| data type:\", X_train.dtype)\n",
    "print('X_val type  :', type(X_val), 'of shape:', X_val.shape, '| NaN values:', np.isnan(X_val.any()), \"| finite values:\", np.isfinite(X_val.all()), \"| data type:\", X_val.dtype)\n",
    "print('y_train type:', type(y_train), 'of shape:', y_train.shape, ' NaN values:', np.isnan(y_train.any()), \"| finite values:\", np.isfinite(y_train.all()), \"|data type:\", y_train.dtype)\n",
    "print('y_val type  :', type(y_val), 'of shape:', y_val.shape, ' NaN values:', np.isnan(y_val.any()), \"| finite values:\", np.isfinite(y_val.all()), \"|data type:\", y_val.dtype)"
   ]
  },
  {
   "cell_type": "markdown",
   "metadata": {
    "id": "1666beb5",
    "papermill": {
     "duration": null,
     "end_time": null,
     "exception": null,
     "start_time": null,
     "status": "pending"
    },
    "tags": []
   },
   "source": [
    "# 2- Training models"
   ]
  },
  {
   "cell_type": "markdown",
   "metadata": {
    "id": "9ba007d3",
    "papermill": {
     "duration": null,
     "end_time": null,
     "exception": null,
     "start_time": null,
     "status": "pending"
    },
    "tags": []
   },
   "source": [
    "Helper functions:"
   ]
  },
  {
   "cell_type": "code",
   "execution_count": null,
   "metadata": {
    "execution": {
     "iopub.status.busy": "2022-11-23T02:58:33.811690Z",
     "iopub.status.idle": "2022-11-23T02:58:33.812537Z",
     "shell.execute_reply": "2022-11-23T02:58:33.812350Z",
     "shell.execute_reply.started": "2022-11-23T02:58:33.812326Z"
    },
    "id": "a4acbf5c",
    "papermill": {
     "duration": null,
     "end_time": null,
     "exception": null,
     "start_time": null,
     "status": "pending"
    },
    "tags": []
   },
   "outputs": [],
   "source": [
    "from sklearn.metrics import f1_score\n",
    "from sklearn.metrics import accuracy_score\n",
    "from sklearn.metrics import confusion_matrix\n",
    "\n",
    "def fit_and_predict(model, x_fit: np.ndarray, y_fit: np.ndarray, x_pred: np.ndarray, y_true: np.ndarray) -> float:\n",
    "    \"\"\" Fits a sklearn model using x_fit and y_fit and predicts the labels for x_pred. Returns the F1 score between the model predictions and y_pred\n",
    "\n",
    "    Args:\n",
    "        model: sklearn model\n",
    "        x_fit (np.ndarray): the samples to fit\n",
    "        y_fit (np.ndarray): the labels to fit\n",
    "        x_pred (np.ndarray): the samples to predict\n",
    "        y_true (np.ndarray): the ground truth labels\n",
    "\n",
    "    Returns:\n",
    "        f1_score (float): F1 score between the model predictions for x_pred and the ground truth (y_pred)\n",
    "    \"\"\"\n",
    "    # This funtion was taken from assignment 3\n",
    "    model.fit(x_fit, y_fit )\n",
    "    y_pred_model = model.predict(x_pred)\n",
    "    f1 = f1_score(y_true, y_pred_model, average='micro') \n",
    "    acc = accuracy_score(y_true, y_pred_model)\n",
    "    cm = confusion_matrix(y_true, y_pred_model)\n",
    "    print('Training f1 score is:', f1)\n",
    "    print('Training Accuracy:',acc*100,\"%\")  \n",
    "    print('Training Confusion Matrix is')\n",
    "    print(cm)\n",
    "\n",
    "\n",
    "    return f1, acc, cm\n",
    "\n",
    "\n",
    "from sklearn.model_selection import RandomizedSearchCV\n",
    "def hyper_parameter_tuning(model, distribution:dict, selected_features:np.array, labels:np.array):\n",
    "    \"\"\" Searches for the best hyperparameter combinations\n",
    "\n",
    "      Args:\n",
    "          model: sklearn model\n",
    "          distribution (dict): the hyperparameter values to try\n",
    "          selected_features (np.ndarray): the samples to predict\n",
    "          labels (np.ndarray): the ground truth labels\n",
    "\n",
    "      Returns:\n",
    "          rs.best_params_ : The best value for every hyper-parameter in the dictionnary\n",
    "          rs.best_score_  : the corresponding score\n",
    "      \"\"\"\n",
    "\n",
    "    rs = RandomizedSearchCV(model, distributions, cv=3)\n",
    "    rs.fit(selected_features, labels)\n",
    "    print('Best parameters: ', rs.best_params_)\n",
    "    print('Best score: ', rs.best_score_)\n",
    "    return rs.best_params_, rs.best_score_"
   ]
  },
  {
   "cell_type": "markdown",
   "metadata": {
    "id": "NCBiE-GzE4Y7"
   },
   "source": [
    "*Note: since the hyper-parameter tuning uses the RandomizedSerachCV dunction, it is possible that re-reunning the notebook produces different results than what was in the report *"
   ]
  },
  {
   "cell_type": "markdown",
   "metadata": {
    "id": "luy6xQo00HGO"
   },
   "source": [
    "## Linear Discriminant Analysis"
   ]
  },
  {
   "cell_type": "markdown",
   "metadata": {
    "id": "7rK9VAWI1Q1i"
   },
   "source": [
    "**Baseline**"
   ]
  },
  {
   "cell_type": "code",
   "execution_count": null,
   "metadata": {
    "colab": {
     "base_uri": "https://localhost:8080/"
    },
    "id": "Y_UJr2d50JRF",
    "outputId": "94905a96-f266-4dba-f3d1-3371c298fed4"
   },
   "outputs": [
    {
     "name": "stdout",
     "output_type": "stream",
     "text": [
      "Training f1 score is: 0.5965931432556553\n",
      "Training Accuracy: 59.659314325565525 %\n",
      "Training Confusion Matrix is\n",
      "[[ 5915  7264   304     2]\n",
      " [ 5735 34277 13492   359]\n",
      " [  369 12727 36025  4794]\n",
      " [    3   431  8894  4196]]\n",
      "___________________________________________________\n",
      "Validation f1 score is: 0.5963438881799566\n",
      "Validation Accuracy: 59.634388817995664 %\n",
      "Validation Confusion Matrix is\n",
      "[[1521 1796   77    0]\n",
      " [1444 8612 3353   97]\n",
      " [ 101 3196 8923 1253]\n",
      " [   0   93 2192 1039]]\n"
     ]
    }
   ],
   "source": [
    "from sklearn.discriminant_analysis import LinearDiscriminantAnalysis\n",
    "\n",
    "model = LinearDiscriminantAnalysis()\n",
    "\n",
    "# train the model\n",
    "f1_train, acc_train, cm_train = fit_and_predict(model, X_train, y_train, X_train, y_train)\n",
    "\n",
    "# compute the eval metrics on the test\n",
    "val_pred = model.predict(X_val)\n",
    "\n",
    "f1_val = f1_score(y_val, val_pred, average='micro')\n",
    "acc = accuracy_score(y_val, val_pred)\n",
    "cm = confusion_matrix(y_val, val_pred)\n",
    "\n",
    "print(\"___________________________________________________\")\n",
    "\n",
    "print('Validation f1 score is:', f1_val)\n",
    "print('Validation Accuracy:',acc*100,\"%\")  \n",
    "print('Validation Confusion Matrix is')\n",
    "print(cm)"
   ]
  },
  {
   "cell_type": "markdown",
   "metadata": {
    "id": "uOnLvET31T8p"
   },
   "source": [
    "**Hyper-parameter tuning**"
   ]
  },
  {
   "cell_type": "code",
   "execution_count": null,
   "metadata": {
    "colab": {
     "base_uri": "https://localhost:8080/"
    },
    "id": "qotbcIha1YkN",
    "outputId": "d43be9cf-7184-46ca-aada-f4468bc9c474"
   },
   "outputs": [
    {
     "name": "stderr",
     "output_type": "stream",
     "text": [
      "/usr/local/lib/python3.8/dist-packages/sklearn/model_selection/_validation.py:372: FitFailedWarning: \n",
      "3 fits failed out of a total of 30.\n",
      "The score on these train-test partitions for these parameters will be set to nan.\n",
      "If these failures are not expected, you can try to debug them by setting error_score='raise'.\n",
      "\n",
      "Below are more details about the failures:\n",
      "--------------------------------------------------------------------------------\n",
      "3 fits failed with the following error:\n",
      "Traceback (most recent call last):\n",
      "  File \"/usr/local/lib/python3.8/dist-packages/sklearn/model_selection/_validation.py\", line 680, in _fit_and_score\n",
      "    estimator.fit(X_train, y_train, **fit_params)\n",
      "  File \"/usr/local/lib/python3.8/dist-packages/sklearn/discriminant_analysis.py\", line 583, in fit\n",
      "    raise NotImplementedError(\"shrinkage not supported\")\n",
      "NotImplementedError: shrinkage not supported\n",
      "\n",
      "  warnings.warn(some_fits_failed_message, FitFailedWarning)\n",
      "/usr/local/lib/python3.8/dist-packages/sklearn/model_selection/_search.py:969: UserWarning: One or more of the test scores are non-finite: [0.6062356  0.44959164 0.48471665 0.53184279 0.54124427 0.47922651\n",
      "        nan 0.60602194 0.58350349 0.59351037]\n",
      "  warnings.warn(\n"
     ]
    },
    {
     "name": "stdout",
     "output_type": "stream",
     "text": [
      "Best parameters:  {'solver': 'lsqr', 'shrinkage': 0.05}\n",
      "Best score:  0.6062356010664213\n"
     ]
    }
   ],
   "source": [
    "model = LinearDiscriminantAnalysis()\n",
    "\n",
    "distributions = dict()\n",
    "distributions['solver'] = ['svd', 'lsqr', 'eigen']\n",
    "distributions['shrinkage'] = np.arange(0, 1, 0.01)\n",
    "\n",
    "cbc_best_params, cbc_best_score = hyper_parameter_tuning(LinearDiscriminantAnalysis(), distribution = distributions, selected_features=selected_features, labels=labels)\n"
   ]
  },
  {
   "cell_type": "markdown",
   "metadata": {
    "id": "6I9q2drPvZOh"
   },
   "source": [
    "Results:\n",
    "\n",
    "Best parameters:  'solver': 'lsqr', 'shrinkage': 0.05\n",
    "\n",
    "Best score:  0.6062356010664213"
   ]
  },
  {
   "cell_type": "markdown",
   "metadata": {
    "id": "rGIoz7mrfEfF"
   },
   "source": [
    "**Retraining with hyper-tuned parameters**"
   ]
  },
  {
   "cell_type": "code",
   "execution_count": null,
   "metadata": {
    "colab": {
     "base_uri": "https://localhost:8080/"
    },
    "id": "4H9Zt4OvfIoM",
    "outputId": "bcd654f3-1a12-4a25-e45c-eb2380046362"
   },
   "outputs": [
    {
     "name": "stdout",
     "output_type": "stream",
     "text": [
      "Training f1 score is: 0.6050583513246827\n",
      "Training Accuracy: 60.50583513246826 %\n",
      "Training Confusion Matrix is\n",
      "[[ 4498  8678   308     1]\n",
      " [ 3569 36205 13907   182]\n",
      " [  191 12730 37812  3182]\n",
      " [    1   439 10045  3039]]\n",
      "___________________________________________________\n",
      "Validation f1 score is: 0.6047719381547318\n",
      "Validation Accuracy: 60.477193815473186 %\n",
      "Validation Confusion Matrix is\n",
      "[[1137 2183   74    0]\n",
      " [ 881 9123 3459   43]\n",
      " [  56 3185 9368  864]\n",
      " [   0   94 2479  751]]\n"
     ]
    }
   ],
   "source": [
    "model = LinearDiscriminantAnalysis(solver = \"lsqr\", shrinkage = 0.05)\n",
    "\n",
    "# train the model\n",
    "f1_train, acc_train, cm_train = fit_and_predict(model, X_train, y_train, X_train, y_train)\n",
    "\n",
    "# compute the eval metrics on the test\n",
    "val_pred = model.predict(X_val)\n",
    "f1_val = f1_score(y_val, val_pred, average='micro')\n",
    "acc = accuracy_score(y_val, val_pred)\n",
    "cm = confusion_matrix(y_val, val_pred)\n",
    "\n",
    "print(\"___________________________________________________\")\n",
    "\n",
    "print('Validation f1 score is:', f1_val)\n",
    "print('Validation Accuracy:',acc*100,\"%\")  \n",
    "print('Validation Confusion Matrix is')\n",
    "print(cm)"
   ]
  },
  {
   "cell_type": "markdown",
   "metadata": {
    "id": "132a712c",
    "papermill": {
     "duration": null,
     "end_time": null,
     "exception": null,
     "start_time": null,
     "status": "pending"
    },
    "tags": []
   },
   "source": [
    "## SVM"
   ]
  },
  {
   "cell_type": "markdown",
   "metadata": {
    "id": "6pw1zVSFynNY"
   },
   "source": [
    "**Baseline**"
   ]
  },
  {
   "cell_type": "code",
   "execution_count": null,
   "metadata": {
    "colab": {
     "base_uri": "https://localhost:8080/"
    },
    "execution": {
     "iopub.status.busy": "2022-11-23T02:58:33.814167Z",
     "iopub.status.idle": "2022-11-23T02:58:33.814537Z",
     "shell.execute_reply": "2022-11-23T02:58:33.814371Z",
     "shell.execute_reply.started": "2022-11-23T02:58:33.814353Z"
    },
    "id": "bf290e14",
    "outputId": "56347984-7800-4ca8-faed-be76c87d77f4",
    "papermill": {
     "duration": null,
     "end_time": null,
     "exception": null,
     "start_time": null,
     "status": "pending"
    },
    "tags": []
   },
   "outputs": [
    {
     "name": "stderr",
     "output_type": "stream",
     "text": [
      "/usr/local/lib/python3.8/dist-packages/sklearn/svm/_base.py:1206: ConvergenceWarning: Liblinear failed to converge, increase the number of iterations.\n",
      "  warnings.warn(\n"
     ]
    },
    {
     "name": "stdout",
     "output_type": "stream",
     "text": [
      "Training f1 score is: 0.60261746310846\n",
      "Training Accuracy: 60.261746310846 %\n",
      "Training Confusion Matrix is\n",
      "[[ 1200 11891   393     1]\n",
      " [  446 39466 13951     0]\n",
      " [   14 13401 40470    30]\n",
      " [    0   464 12971    89]]\n",
      "___________________________________________________\n",
      "Validation f1 score is: 0.6030210404487046\n",
      "Validation Accuracy: 60.30210404487046 %\n",
      "Validation Confusion Matrix is\n",
      "[[  306  2999    89     0]\n",
      " [  123  9869  3514     0]\n",
      " [    5  3337 10123     8]\n",
      " [    0   104  3198    22]]\n"
     ]
    }
   ],
   "source": [
    "from sklearn.svm import LinearSVC\n",
    "\n",
    "\n",
    "model = LinearSVC()\n",
    "\n",
    "# train the model\n",
    "f1_train, acc_train, cm_train = fit_and_predict(model, X_train, y_train, X_train, y_train)\n",
    "\n",
    "# compute the eval metrics on the test\n",
    "val_pred = model.predict(X_val)\n",
    "\n",
    "f1_val = f1_score(y_val, val_pred, average='micro')\n",
    "acc = accuracy_score(y_val, val_pred)\n",
    "cm = confusion_matrix(y_val, val_pred)\n",
    "\n",
    "print(\"___________________________________________________\")\n",
    "\n",
    "print('Validation f1 score is:', f1_val)\n",
    "print('Validation Accuracy:',acc*100,\"%\")  \n",
    "print('Validation Confusion Matrix is')\n",
    "print(cm)\n"
   ]
  },
  {
   "cell_type": "markdown",
   "metadata": {
    "id": "D49o_zT3ypGW"
   },
   "source": [
    "**Hyper-parameter tuning**"
   ]
  },
  {
   "cell_type": "code",
   "execution_count": null,
   "metadata": {
    "id": "hw2xUVMDyseh"
   },
   "outputs": [],
   "source": [
    "from sklearn.svm import LinearSVC\n",
    "\n",
    "distributions = {'C': [0.1, 1, 10, 100], \n",
    "              'multi_class':['ovr', 'crammer_singer'],\n",
    "              'max_iter' : [100, 1000, 10000]} \n",
    "\n",
    "\n",
    "cbc_best_params, cbc_best_score = hyper_parameter_tuning(LinearSVC(), distribution = distributions, selected_features=selected_features, labels=labels)\n"
   ]
  },
  {
   "cell_type": "markdown",
   "metadata": {
    "id": "T1NOLNCG5xdT"
   },
   "source": [
    "Results: \n",
    "Best parameters:  multi_class= 'ovr', max_iter = 10000, C = 1\n",
    "Best score:  0.5963889665252339"
   ]
  },
  {
   "cell_type": "markdown",
   "metadata": {
    "id": "b862P7HiglTr"
   },
   "source": [
    "**Retraining with tuned hyper-parameters**"
   ]
  },
  {
   "cell_type": "code",
   "execution_count": null,
   "metadata": {
    "colab": {
     "base_uri": "https://localhost:8080/"
    },
    "id": "wUxQrx5hgytp",
    "outputId": "41334cc4-7a3b-446c-8612-4d210b656f7a"
   },
   "outputs": [
    {
     "name": "stdout",
     "output_type": "stream",
     "text": [
      "Training f1 score is: 0.5980695467663796\n",
      "Training Accuracy: 59.80695467663796 %\n",
      "Training Confusion Matrix is\n",
      "[[ 1134 11911   440     0]\n",
      " [  435 39165 14262     1]\n",
      " [   15 13617 40262    21]\n",
      " [    0   542 12931    51]]\n",
      "___________________________________________________\n",
      "Validation f1 score is: 0.5965516218060954\n",
      "Validation Accuracy: 59.655162180609544 %\n",
      "Validation Confusion Matrix is\n",
      "[[  288  3018    88     0]\n",
      " [  128  9725  3653     0]\n",
      " [    5  3377 10082     9]\n",
      " [    0   125  3192     7]]\n"
     ]
    }
   ],
   "source": [
    "model = LinearSVC(multi_class= 'ovr', max_iter = 10000, C = 1)\n",
    "\n",
    "# train the model\n",
    "f1_train, acc_train, cm_train = fit_and_predict(model, X_train, y_train, X_train, y_train)\n",
    "\n",
    "# compute the eval metrics on the test\n",
    "val_pred = model.predict(X_val)\n",
    "f1_val = f1_score(y_val, val_pred, average='micro')\n",
    "acc = accuracy_score(y_val, val_pred)\n",
    "cm = confusion_matrix(y_val, val_pred)\n",
    "\n",
    "print(\"___________________________________________________\")\n",
    "\n",
    "print('Validation f1 score is:', f1_val)\n",
    "print('Validation Accuracy:',acc*100,\"%\")  \n",
    "print('Validation Confusion Matrix is')\n",
    "print(cm)"
   ]
  },
  {
   "cell_type": "markdown",
   "metadata": {
    "id": "dd5b0f93",
    "papermill": {
     "duration": null,
     "end_time": null,
     "exception": null,
     "start_time": null,
     "status": "pending"
    },
    "tags": []
   },
   "source": [
    "## Logistic Regression"
   ]
  },
  {
   "cell_type": "markdown",
   "metadata": {
    "id": "wTKTjG-dytz3"
   },
   "source": [
    "**Baseline**"
   ]
  },
  {
   "cell_type": "code",
   "execution_count": null,
   "metadata": {
    "colab": {
     "base_uri": "https://localhost:8080/"
    },
    "execution": {
     "iopub.status.busy": "2022-11-23T02:58:33.816328Z",
     "iopub.status.idle": "2022-11-23T02:58:33.816740Z",
     "shell.execute_reply": "2022-11-23T02:58:33.816559Z",
     "shell.execute_reply.started": "2022-11-23T02:58:33.816539Z"
    },
    "id": "8d8d1c41",
    "outputId": "0a5add1f-b6a1-47b0-c7ee-3a2487249eb4",
    "papermill": {
     "duration": null,
     "end_time": null,
     "exception": null,
     "start_time": null,
     "status": "pending"
    },
    "tags": []
   },
   "outputs": [
    {
     "name": "stderr",
     "output_type": "stream",
     "text": [
      "/usr/local/lib/python3.8/dist-packages/sklearn/linear_model/_logistic.py:814: ConvergenceWarning: lbfgs failed to converge (status=1):\n",
      "STOP: TOTAL NO. of ITERATIONS REACHED LIMIT.\n",
      "\n",
      "Increase the number of iterations (max_iter) or scale the data as shown in:\n",
      "    https://scikit-learn.org/stable/modules/preprocessing.html\n",
      "Please also refer to the documentation for alternative solver options:\n",
      "    https://scikit-learn.org/stable/modules/linear_model.html#logistic-regression\n",
      "  n_iter_i = _check_optimize_result(\n"
     ]
    },
    {
     "name": "stdout",
     "output_type": "stream",
     "text": [
      "Training f1 score is: 0.6187021003509241\n",
      "Training Accuracy: 61.87021003509241 %\n",
      "Training Confusion Matrix is\n",
      "[[ 4006  9215   264     0]\n",
      " [ 2255 37789 13768    51]\n",
      " [   85 12834 39552  1444]\n",
      " [    1   416 11061  2046]]\n",
      "___________________________________________________\n",
      "Validation f1 score is: 0.6179185090660889\n",
      "Validation Accuracy: 61.79185090660889 %\n",
      "Validation Confusion Matrix is\n",
      "[[ 979 2345   70    0]\n",
      " [ 564 9480 3451   11]\n",
      " [  26 3219 9822  406]\n",
      " [   0   94 2689  541]]\n"
     ]
    }
   ],
   "source": [
    "from sklearn.linear_model import LogisticRegression\n",
    "\n",
    "model = LogisticRegression()\n",
    "\n",
    "# train the model\n",
    "f1_train, acc_train, cm_train = fit_and_predict(model, X_train, y_train, X_train, y_train)\n",
    "\n",
    "# compute the eval metrics on the test\n",
    "val_pred = model.predict(X_val)\n",
    "f1_val = f1_score(y_val, val_pred, average='micro')\n",
    "acc = accuracy_score(y_val, val_pred)\n",
    "cm = confusion_matrix(y_val, val_pred)\n",
    "\n",
    "print(\"___________________________________________________\")\n",
    "\n",
    "print('Validation f1 score is:', f1_val)\n",
    "print('Validation Accuracy:',acc*100,\"%\")  \n",
    "print('Validation Confusion Matrix is')\n",
    "print(cm)"
   ]
  },
  {
   "cell_type": "markdown",
   "metadata": {
    "id": "Zzs8pg3CywR0"
   },
   "source": [
    "**Hyper-parameter tuning**"
   ]
  },
  {
   "cell_type": "code",
   "execution_count": null,
   "metadata": {
    "id": "uhrh9miRyxMq"
   },
   "outputs": [],
   "source": [
    "from sklearn.linear_model import LogisticRegression\n",
    "\n",
    "distributions = {'C': [0.1, 1, 10, 100, 1000], \n",
    "              'multi_class':['auto', 'ovr', 'multinomial'],\n",
    "              'max_iter' : [100, 1000, 10000],\n",
    "              'solver' : ['newton-cg', 'sag', 'saga', 'lbfgs']} \n",
    "\n",
    "\n",
    "cbc_best_params, cbc_best_score = hyper_parameter_tuning(LogisticRegression(), distribution = distributions, selected_features=selected_features, labels=labels)\n"
   ]
  },
  {
   "cell_type": "markdown",
   "metadata": {
    "id": "rqq2Fk4kKelY"
   },
   "source": [
    "Resuts:\n",
    "Best parameters:  \n",
    "\n",
    "'solver': 'sag', 'multi_class': 'auto', 'max_iter': 1000, 'C': 0.1\n",
    "Best score:  0.6081883086011556"
   ]
  },
  {
   "cell_type": "markdown",
   "metadata": {
    "id": "foZJIKMZKsrJ"
   },
   "source": [
    "**Retraining with tuned parameters**"
   ]
  },
  {
   "cell_type": "code",
   "execution_count": null,
   "metadata": {
    "colab": {
     "base_uri": "https://localhost:8080/"
    },
    "id": "QXbhPFEOKu7B",
    "outputId": "c80ffa9a-2462-4cdd-ea9d-e743a603111d"
   },
   "outputs": [
    {
     "name": "stdout",
     "output_type": "stream",
     "text": [
      "Training f1 score is: 0.6098362601734588\n",
      "Training Accuracy: 60.983626017345884 %\n",
      "Training Confusion Matrix is\n",
      "[[ 3373  9777   335     0]\n",
      " [ 1826 37660 14359    18]\n",
      " [   79 13129 39961   746]\n",
      " [    1   530 11789  1204]]\n",
      "___________________________________________________\n",
      "Validation f1 score is: 0.608689200819064\n",
      "Validation Accuracy: 60.868920081906396 %\n",
      "Validation Confusion Matrix is\n",
      "[[ 817 2497   80    0]\n",
      " [ 457 9414 3632    3]\n",
      " [  16 3286 9962  209]\n",
      " [   0  129 2877  318]]\n"
     ]
    }
   ],
   "source": [
    "model = LogisticRegression(solver ='sag', multi_class = 'auto', max_iter = 1000, C = 0.1)\n",
    "\n",
    "# train the model\n",
    "f1_train, acc_train, cm_train = fit_and_predict(model, X_train, y_train, X_train, y_train)\n",
    "\n",
    "# compute the eval metrics on the test\n",
    "val_pred = model.predict(X_val)\n",
    "f1_val = f1_score(y_val, val_pred, average='micro')\n",
    "acc = accuracy_score(y_val, val_pred)\n",
    "cm = confusion_matrix(y_val, val_pred)\n",
    "\n",
    "print(\"___________________________________________________\")\n",
    "\n",
    "print('Validation f1 score is:', f1_val)\n",
    "print('Validation Accuracy:',acc*100,\"%\")  \n",
    "print('Validation Confusion Matrix is')\n",
    "print(cm)"
   ]
  },
  {
   "cell_type": "markdown",
   "metadata": {
    "id": "70d21f46",
    "papermill": {
     "duration": null,
     "end_time": null,
     "exception": null,
     "start_time": null,
     "status": "pending"
    },
    "tags": []
   },
   "source": [
    "## Random Forest"
   ]
  },
  {
   "cell_type": "markdown",
   "metadata": {
    "id": "Fg6q_ZPmyyZM"
   },
   "source": [
    "**Baseline**"
   ]
  },
  {
   "cell_type": "code",
   "execution_count": null,
   "metadata": {
    "colab": {
     "base_uri": "https://localhost:8080/"
    },
    "execution": {
     "iopub.status.busy": "2022-11-23T02:58:33.818818Z",
     "iopub.status.idle": "2022-11-23T02:58:33.819212Z",
     "shell.execute_reply": "2022-11-23T02:58:33.819046Z",
     "shell.execute_reply.started": "2022-11-23T02:58:33.819027Z"
    },
    "id": "0a8d96a1",
    "outputId": "29896629-a63a-41aa-c17b-8c9c69ab0109",
    "papermill": {
     "duration": null,
     "end_time": null,
     "exception": null,
     "start_time": null,
     "status": "pending"
    },
    "tags": []
   },
   "outputs": [
    {
     "name": "stdout",
     "output_type": "stream",
     "text": [
      "Training f1 score is: 0.9942872828982023\n",
      "Training Accuracy: 99.42872828982023 %\n",
      "Training Confusion Matrix is\n",
      "[[13362   120     3     0]\n",
      " [   67 53598   195     3]\n",
      " [    3   172 53678    62]\n",
      " [    0     1   144 13379]]\n",
      "___________________________________________________\n",
      "Validation f1 score is: 0.6498798112591625\n",
      "Validation Accuracy: 64.98798112591625 %\n",
      "Validation Confusion Matrix is\n",
      "[[1356 2017   21    0]\n",
      " [ 673 9705 3111   17]\n",
      " [  16 2960 9845  652]\n",
      " [   0   42 2289  993]]\n"
     ]
    }
   ],
   "source": [
    "from sklearn.ensemble import RandomForestClassifier\n",
    "\n",
    "model = RandomForestClassifier()\n",
    "\n",
    "# train the model\n",
    "f1_train, acc_train, cm_train = fit_and_predict(model, X_train, y_train, X_train, y_train)\n",
    "\n",
    "# compute the eval metrics on the test\n",
    "val_pred = model.predict(X_val)\n",
    "f1_val = f1_score(y_val, val_pred, average='micro')\n",
    "acc = accuracy_score(y_val, val_pred)\n",
    "cm = confusion_matrix(y_val, val_pred)\n",
    "\n",
    "print(\"___________________________________________________\")\n",
    "\n",
    "print('Validation f1 score is:', f1_val)\n",
    "print('Validation Accuracy:',acc*100,\"%\")  \n",
    "print('Validation Confusion Matrix is')\n",
    "print(cm)"
   ]
  },
  {
   "cell_type": "markdown",
   "metadata": {
    "id": "4hYSArDDy0V5"
   },
   "source": [
    "**Hyper-parameter tuning**"
   ]
  },
  {
   "cell_type": "code",
   "execution_count": null,
   "metadata": {
    "colab": {
     "base_uri": "https://localhost:8080/"
    },
    "id": "4SdG54Y4y1Ho",
    "outputId": "6453ae94-e8e9-4d59-d8e2-1d814c62cb8d"
   },
   "outputs": [
    {
     "name": "stdout",
     "output_type": "stream",
     "text": [
      "Best parameters:  {'n_estimators': 500, 'min_samples_split': 5, 'min_samples_leaf': 4, 'max_features': 'sqrt', 'max_depth': 100, 'bootstrap': False}\n",
      "Best score:  0.6576351595854124\n"
     ]
    }
   ],
   "source": [
    "from sklearn.ensemble import RandomForestClassifier\n",
    "\n",
    "n_estimators = [int(x) for x in np.linspace(start = 100, stop = 1000, num = 10)]\n",
    "max_features = ['log2', 'sqrt']\n",
    "max_depth = [int(x) for x in np.linspace(10, 110, num = 11)]\n",
    "max_depth.append(None)\n",
    "min_samples_split = [2, 5, 10]\n",
    "min_samples_leaf = [1, 2, 4]\n",
    "bootstrap = [True, False] \n",
    "\n",
    "distributions = {'n_estimators': n_estimators,\n",
    "                 'max_features': max_features,\n",
    "                 'max_depth': max_depth,\n",
    "                 'min_samples_split': min_samples_split,\n",
    "                 'min_samples_leaf': min_samples_leaf,\n",
    "                 'bootstrap': bootstrap}\n",
    "\n",
    "cbc_best_params, cbc_best_score = hyper_parameter_tuning(RandomForestClassifier(), distribution=distributions, selected_features=selected_features, labels=labels)"
   ]
  },
  {
   "cell_type": "markdown",
   "metadata": {
    "id": "uDd1di1-uXj5"
   },
   "source": [
    "## Decision Tree"
   ]
  },
  {
   "cell_type": "markdown",
   "metadata": {
    "id": "lL_URFbQy8PV"
   },
   "source": [
    "**Baseline**"
   ]
  },
  {
   "cell_type": "code",
   "execution_count": null,
   "metadata": {
    "colab": {
     "base_uri": "https://localhost:8080/"
    },
    "id": "Wz11QBJLuab1",
    "outputId": "155b1bbb-f77b-4265-f55b-0369163652fd"
   },
   "outputs": [
    {
     "name": "stdout",
     "output_type": "stream",
     "text": [
      "Training f1 score is: 0.9942872828982023\n",
      "Training Accuracy: 99.42872828982023 %\n",
      "Training Confusion Matrix is\n",
      "[[13485     0     0     0]\n",
      " [  187 53672     4     0]\n",
      " [    6   363 53543     3]\n",
      " [    0     4   203 13317]]\n",
      "___________________________________________________\n",
      "Validation f1 score is: 0.5499302608540819\n",
      "Validation Accuracy: 54.99302608540819 %\n",
      "Validation Confusion Matrix is\n",
      "[[1561 1667  164    2]\n",
      " [1777 7870 3631  228]\n",
      " [ 188 3610 7741 1934]\n",
      " [   3  244 1718 1359]]\n"
     ]
    }
   ],
   "source": [
    "from sklearn.tree import DecisionTreeClassifier\n",
    "\n",
    "model = DecisionTreeClassifier()\n",
    "\n",
    "# train the model\n",
    "f1_train, acc_train, cm_train = fit_and_predict(model, X_train, y_train, X_train, y_train)\n",
    "\n",
    "# compute the eval metrics on the test\n",
    "val_pred = model.predict(X_val)\n",
    "f1_val = f1_score(y_val, val_pred, average='micro')\n",
    "acc = accuracy_score(y_val, val_pred)\n",
    "cm = confusion_matrix(y_val, val_pred)\n",
    "\n",
    "print(\"___________________________________________________\")\n",
    "\n",
    "print('Validation f1 score is:', f1_val)\n",
    "print('Validation Accuracy:',acc*100,\"%\")  \n",
    "print('Validation Confusion Matrix is')\n",
    "print(cm)"
   ]
  },
  {
   "cell_type": "markdown",
   "metadata": {
    "id": "85ivfQM8y-cc"
   },
   "source": [
    "**Hyper-parameter tuning**"
   ]
  },
  {
   "cell_type": "code",
   "execution_count": null,
   "metadata": {
    "colab": {
     "base_uri": "https://localhost:8080/"
    },
    "id": "d98Er_6dy_0N",
    "outputId": "78548beb-34b0-466a-b902-c450edf53f87"
   },
   "outputs": [
    {
     "name": "stdout",
     "output_type": "stream",
     "text": [
      "Best parameters:  {'min_samples_split': 100, 'min_samples_leaf': 10, 'max_features': 10, 'max_depth': 25}\n",
      "Best score:  0.607618524940849\n"
     ]
    }
   ],
   "source": [
    "from sklearn.tree import DecisionTreeClassifier\n",
    "\n",
    "\n",
    "max_depth = [5, 10, 15, 25, 30]\n",
    "min_samples_split = [2, 5, 10, 15, 100]\n",
    "min_samples_leaf = [1, 2, 5, 10]\n",
    "max_features = [1, 2, 5, 10]\n",
    "\n",
    "\n",
    "distributions = dict(max_depth = max_depth, \n",
    "              min_samples_split = min_samples_split, \n",
    "              min_samples_leaf = min_samples_leaf, \n",
    "              max_features=max_features)\n",
    "\n",
    "cbc_best_params, cbc_best_score = hyper_parameter_tuning(DecisionTreeClassifier(), distribution=distributions, selected_features=selected_features, labels=labels)"
   ]
  },
  {
   "cell_type": "markdown",
   "metadata": {
    "id": "TcKulvmlucWd"
   },
   "source": [
    "**After finetuning.**"
   ]
  },
  {
   "cell_type": "code",
   "execution_count": null,
   "metadata": {
    "colab": {
     "base_uri": "https://localhost:8080/"
    },
    "id": "KHT67Tahub7K",
    "outputId": "ad3f9e30-149f-4795-b7ca-748919498738"
   },
   "outputs": [
    {
     "name": "stdout",
     "output_type": "stream",
     "text": [
      "Training f1 score is: 0.6167360353743313\n",
      "Training Accuracy: 61.67360353743313 %\n",
      "Training Confusion Matrix is\n",
      "[[ 3923  9065   497     0]\n",
      " [ 2237 37630 13935    61]\n",
      " [  157 12809 39609  1340]\n",
      " [    4   722 10832  1966]]\n",
      "___________________________________________________\n",
      "Validation f1 score is: 0.6111523281004244\n",
      "Validation Accuracy: 61.11523281004244 %\n",
      "Validation Confusion Matrix is\n",
      "[[ 949 2323  122    0]\n",
      " [ 556 9346 3586   18]\n",
      " [  50 3239 9819  365]\n",
      " [   0  165 2679  480]]\n"
     ]
    }
   ],
   "source": [
    "from sklearn.tree import DecisionTreeClassifier\n",
    "\n",
    "model = DecisionTreeClassifier(max_depth = 25, min_samples_split = 100, min_samples_leaf = 100, max_features =10)\n",
    "\n",
    "# train the model\n",
    "f1_train, acc_train, cm_train = fit_and_predict(model, X_train, y_train, X_train, y_train)\n",
    "\n",
    "# compute the eval metrics on the test\n",
    "val_pred = model.predict(X_val)\n",
    "f1_val = f1_score(y_val, val_pred, average='micro')\n",
    "acc = accuracy_score(y_val, val_pred)\n",
    "cm = confusion_matrix(y_val, val_pred)\n",
    "\n",
    "print(\"___________________________________________________\")\n",
    "\n",
    "print('Validation f1 score is:', f1_val)\n",
    "print('Validation Accuracy:',acc*100,\"%\")  \n",
    "print('Validation Confusion Matrix is')\n",
    "print(cm)"
   ]
  },
  {
   "cell_type": "markdown",
   "metadata": {
    "id": "fbb78d7d",
    "papermill": {
     "duration": null,
     "end_time": null,
     "exception": null,
     "start_time": null,
     "status": "pending"
    },
    "tags": []
   },
   "source": [
    "## XGBClassifier"
   ]
  },
  {
   "cell_type": "markdown",
   "metadata": {
    "id": "mxkWOHq-zBaD"
   },
   "source": [
    "**Baseline:**"
   ]
  },
  {
   "cell_type": "code",
   "execution_count": null,
   "metadata": {
    "colab": {
     "base_uri": "https://localhost:8080/"
    },
    "id": "cE91BzNQxi1L",
    "outputId": "611af518-8988-49e5-a668-0e53e04c4de9"
   },
   "outputs": [
    {
     "name": "stdout",
     "output_type": "stream",
     "text": [
      "Training f1 score is: 0.62357645767025\n",
      "Training Accuracy: 62.357645767025005 %\n",
      "Training Confusion Matrix is\n",
      "[[ 2722 10549   214     0]\n",
      " [  988 39480 13391     4]\n",
      " [   15 12315 41455   130]\n",
      " [    0   303 12828   393]]\n",
      "___________________________________________________\n",
      "Validation f1 score is: 0.6213015995489213\n",
      "Validation Accuracy: 62.13015995489213 %\n",
      "Validation Confusion Matrix is\n",
      "[[  673  2671    50     0]\n",
      " [  229  9833  3444     0]\n",
      " [    2  3103 10328    40]\n",
      " [    0    57  3165   102]]\n"
     ]
    }
   ],
   "source": [
    "from xgboost import XGBClassifier\n",
    "\n",
    "model = XGBClassifier()\n",
    "\n",
    "# train the model\n",
    "f1_train, acc_train, cm_train = fit_and_predict(model, X_train, y_train, X_train, y_train)\n",
    "\n",
    "# compute the eval metrics on the test\n",
    "val_pred = model.predict(X_val)\n",
    "f1_val = f1_score(y_val, val_pred, average='micro')\n",
    "acc = accuracy_score(y_val, val_pred)\n",
    "cm = confusion_matrix(y_val, val_pred)\n",
    "\n",
    "print(\"___________________________________________________\")\n",
    "\n",
    "print('Validation f1 score is:', f1_val)\n",
    "print('Validation Accuracy:',acc*100,\"%\")  \n",
    "print('Validation Confusion Matrix is')\n",
    "print(cm)"
   ]
  },
  {
   "cell_type": "markdown",
   "metadata": {
    "id": "3cz8hxmpzGJV"
   },
   "source": [
    "**Hyper-parameter tuning**"
   ]
  },
  {
   "cell_type": "code",
   "execution_count": null,
   "metadata": {
    "colab": {
     "base_uri": "https://localhost:8080/"
    },
    "id": "cGeaiSLPzD7y",
    "outputId": "d40cd1db-9b9a-4848-b1cb-0384058f8c92"
   },
   "outputs": [
    {
     "name": "stdout",
     "output_type": "stream",
     "text": [
      "Best parameters:  {'subsample': 0.8999999999999999, 'n_estimators': 75, 'max_depth': 3, 'learning_rate': 0.1, 'iterations': 900, 'gamma': 1, 'colsample_bytree': 0.2}\n",
      "Best score:  0.5977481998593945\n"
     ]
    }
   ],
   "source": [
    "# TODO\n",
    "distributions = dict(\n",
    "    iterations=np.arange(100, 2000, 100),\n",
    "    learning_rate=[0.1 , 0.01 , 0.001],\n",
    "    max_depth=[3 , 5 , 7],\n",
    "    colsample_bytree = np.arange(0.2 , 1 , 0.4),\n",
    "    subsample = np.arange(0.7 , 1 , 0.1),\n",
    "    gamma = [ 0 , 1 , 5], \n",
    "    n_estimators = np.arange( 50 , 150 , 25)\n",
    ")\n",
    "\n",
    "cbc_best_params, cbc_best_score = hyper_parameter_tuning(XGBClassifier(), distribution = distributions, selected_features=selected_features, labels=labels)\n"
   ]
  },
  {
   "cell_type": "markdown",
   "metadata": {
    "id": "CPQZvXRVHp30"
   },
   "source": [
    "**After finetuning.**"
   ]
  },
  {
   "cell_type": "code",
   "execution_count": null,
   "metadata": {
    "colab": {
     "base_uri": "https://localhost:8080/"
    },
    "id": "_bCAu-3yHnwR",
    "outputId": "381080a4-7cf7-4c77-f5b3-8162c407578d"
   },
   "outputs": [
    {
     "name": "stdout",
     "output_type": "stream",
     "text": [
      "Training f1 score is: 0.6516132861477739\n",
      "Training Accuracy: 65.16132861477739 %\n",
      "Training Confusion Matrix is\n",
      "[[ 4563  8813   109     0]\n",
      " [ 1692 40137 12024    10]\n",
      " [   27 12046 41043   799]\n",
      " [    0   257 11181  2086]]\n",
      "___________________________________________________\n",
      "Validation f1 score is: 0.646318663382497\n",
      "Validation Accuracy: 64.6318663382497 %\n",
      "Validation Confusion Matrix is\n",
      "[[ 1120  2244    30     0]\n",
      " [  418  9988  3097     3]\n",
      " [    7  3046 10173   247]\n",
      " [    0    47  2779   498]]\n"
     ]
    }
   ],
   "source": [
    "from xgboost import XGBClassifier\n",
    "\n",
    "model = XGBClassifier(iterations=1400,\n",
    "    learning_rate=0.1,\n",
    "    max_depth=7,\n",
    "    colsample_bytree =0.6,\n",
    "    subsample =0.7,\n",
    "    gamma = 5, \n",
    "    n_estimators = 100)\n",
    "\n",
    "# train the model\n",
    "f1_train, acc_train, cm_train = fit_and_predict(model, X_train, y_train, X_train, y_train)\n",
    "\n",
    "# compute the eval metrics on the test\n",
    "val_pred = model.predict(X_val)\n",
    "f1_val = f1_score(y_val, val_pred, average='micro')\n",
    "acc = accuracy_score(y_val, val_pred)\n",
    "cm = confusion_matrix(y_val, val_pred)\n",
    "\n",
    "print(\"___________________________________________________\")\n",
    "\n",
    "print('Validation f1 score is:', f1_val)\n",
    "print('Validation Accuracy:',acc*100,\"%\")  \n",
    "print('Validation Confusion Matrix is')\n",
    "print(cm)"
   ]
  },
  {
   "cell_type": "code",
   "execution_count": null,
   "metadata": {
    "id": "e5rmPOcboUuA"
   },
   "outputs": [],
   "source": [
    "xgb = XGBClassifier(iterations=1400,\n",
    "    learning_rate=0.1,\n",
    "    max_depth=7,\n",
    "    colsample_bytree =0.6,\n",
    "    subsample =0.7,\n",
    "    gamma = 5, \n",
    "    n_estimators = 100)\n",
    "xgb.fit(selected_features, labels)\n",
    "y_pred_cbc = xgb.predict(test_features)[:, 0]\n",
    "print('F1 Score: ', f1_score(labels, xgb.predict(selected_features), average='micro'))"
   ]
  },
  {
   "cell_type": "code",
   "execution_count": null,
   "metadata": {
    "colab": {
     "base_uri": "https://localhost:8080/"
    },
    "id": "b37d2hYHsBBq",
    "outputId": "7b70f020-15e0-40a6-a714-685baf0ec0b2"
   },
   "outputs": [
    {
     "name": "stdout",
     "output_type": "stream",
     "text": [
      "F1 Score:  0.6536110253792645\n"
     ]
    }
   ],
   "source": [
    "print('F1 Score: ', f1_score(labels, xgb.predict(selected_features), average='micro'))"
   ]
  },
  {
   "cell_type": "markdown",
   "metadata": {
    "id": "UhcRctjtxdfW"
   },
   "source": [
    "## CatBoost"
   ]
  },
  {
   "cell_type": "markdown",
   "metadata": {
    "id": "4QIUoWTlzICg"
   },
   "source": [
    "**Baseline**"
   ]
  },
  {
   "cell_type": "code",
   "execution_count": null,
   "metadata": {
    "colab": {
     "base_uri": "https://localhost:8080/"
    },
    "id": "0B3aGIHGutWe",
    "outputId": "15610ef7-d641-4ad0-ae8e-4217c4f38486"
   },
   "outputs": [
    {
     "name": "stdout",
     "output_type": "stream",
     "text": [
      "Training f1 score is: 0.7015216601007516\n",
      "Training Accuracy: 70.15216601007516 %\n",
      "Training Confusion Matrix is\n",
      "[[ 6176  7247    62     0]\n",
      " [ 1906 41430 10509    18]\n",
      " [   28 10160 42163  1564]\n",
      " [    1   130  8606  4787]]\n",
      "___________________________________________________\n",
      "Validation f1 score is: 0.6728492150636555\n",
      "Validation Accuracy: 67.28492150636555 %\n",
      "Validation Confusion Matrix is\n",
      "[[ 1417  1963    14     0]\n",
      " [  559 10032  2906     9]\n",
      " [    9  2756 10191   517]\n",
      " [    0    26  2265  1033]]\n"
     ]
    }
   ],
   "source": [
    "from catboost import CatBoostClassifier\n",
    "\n",
    "model = CatBoostClassifier(verbose=False)\n",
    "\n",
    "# train the model\n",
    "f1_train, acc_train, cm_train = fit_and_predict(model, X_train, y_train, X_train, y_train)\n",
    "\n",
    "# compute the eval metrics on the test\n",
    "val_pred = model.predict(X_val)\n",
    "f1_val = f1_score(y_val, val_pred, average='micro')\n",
    "acc = accuracy_score(y_val, val_pred)\n",
    "cm = confusion_matrix(y_val, val_pred)\n",
    "\n",
    "print(\"___________________________________________________\")\n",
    "\n",
    "print('Validation f1 score is:', f1_val)\n",
    "print('Validation Accuracy:',acc*100,\"%\")  \n",
    "print('Validation Confusion Matrix is')\n",
    "print(cm)"
   ]
  },
  {
   "cell_type": "markdown",
   "metadata": {
    "id": "VOmeM02YzKSS"
   },
   "source": [
    "**Hyper-parameter tuning**"
   ]
  },
  {
   "cell_type": "code",
   "execution_count": null,
   "metadata": {
    "colab": {
     "base_uri": "https://localhost:8080/"
    },
    "id": "6IuGUTebzK-X",
    "outputId": "39faedf5-2877-46ef-a2bd-ef1b5bb29424"
   },
   "outputs": [
    {
     "name": "stdout",
     "output_type": "stream",
     "text": [
      "Best parameters:  {'learning_rate': 0.05, 'l2_leaf_reg': 9, 'iterations': 1400, 'depth': 9, 'border_count': 251}\n",
      "Best score:  0.6687816048584722\n"
     ]
    }
   ],
   "source": [
    "from catboost import CatBoostClassifier\n",
    "\n",
    "distributions = dict(\n",
    "    iterations=np.arange(100, 2000, 100),\n",
    "    learning_rate=np.arange(0.05, 0.15, 0.01),\n",
    "    depth=np.arange(8, 15, 1),\n",
    "    l2_leaf_reg=np.arange(1, 10, 1),\n",
    "    border_count=np.arange(1, 255, 1),\n",
    ")\n",
    "\n",
    "cbc_best_params, cbc_best_score = hyper_parameter_tuning(CatBoostClassifier(verbose=False), distribution = distributions, selected_features=selected_features, labels=labels)\n"
   ]
  },
  {
   "cell_type": "markdown",
   "metadata": {
    "id": "wXCCSx32T4vb"
   },
   "source": [
    "result: \n",
    "learning_rate: 0.1, \n",
    "l2_leaf_reg: 1\n",
    "iterations: 1500, \n",
    "depth: 8, \n",
    "border_count: 137"
   ]
  },
  {
   "cell_type": "markdown",
   "metadata": {
    "id": "c9F9UNlUe3iN"
   },
   "source": [
    "**Retraining with tuned hyper-parameters**"
   ]
  },
  {
   "cell_type": "code",
   "execution_count": null,
   "metadata": {
    "id": "RFk_YCYu7ZQk"
   },
   "outputs": [],
   "source": [
    "model = CatBoostClassifier(learning_rate = 0.1, l2_leaf_reg = 1, iterations = 1500, depth = 8, border_count = 137, verbose=False)\n",
    "\n",
    "# train the model\n",
    "f1_train, acc_train, cm_train = fit_and_predict(model, X_train, y_train, X_train, y_train)\n",
    "\n",
    "# compute the eval metrics on the test\n",
    "val_pred = model.predict(X_val)\n",
    "f1_val = f1_score(y_val, val_pred, average='micro')\n",
    "acc = accuracy_score(y_val, val_pred)\n",
    "cm = confusion_matrix(y_val, val_pred)\n",
    "\n",
    "print(\"___________________________________________________\")\n",
    "\n",
    "print('Validation f1 score is:', f1_val)\n",
    "print('Validation Accuracy:',acc*100,\"%\")  \n",
    "print('Validation Confusion Matrix is')\n",
    "print(cm)"
   ]
  },
  {
   "cell_type": "markdown",
   "metadata": {
    "id": "gOBbLyYfVg-f"
   },
   "source": [
    "**Train on the entire dataset (train and val) with the hypertuned parameters         THIS IS THE SELECTED MODEL**"
   ]
  },
  {
   "cell_type": "code",
   "execution_count": null,
   "metadata": {
    "id": "6a37ee7a",
    "papermill": {
     "duration": null,
     "end_time": null,
     "exception": null,
     "start_time": null,
     "status": "pending"
    },
    "scrolled": false,
    "tags": []
   },
   "outputs": [],
   "source": [
    "from catboost import CatBoostClassifier\n",
    "cbc = CatBoostClassifier(learning_rate = 0.1, l2_leaf_reg = 1, iterations = 1500, depth = 8, border_count = 137, verbose=False)\n",
    "cbc.fit(selected_features, labels)\n",
    "y_pred_cbc = cbc.predict(test_features)[:, 0]\n",
    "print('F1 Score: ', f1_score(labels, cbc.predict(selected_features), average='micro'))"
   ]
  },
  {
   "cell_type": "markdown",
   "metadata": {
    "id": "9e8a9e78",
    "papermill": {
     "duration": null,
     "end_time": null,
     "exception": null,
     "start_time": null,
     "status": "pending"
    },
    "tags": []
   },
   "source": [
    "learning_rate': 0.05, 'l2_leaf_reg': 3, 'iterations': 300, 'depth': 8, 'border_count': 48}\n",
    "Best score:  0.647663575364838"
   ]
  },
  {
   "cell_type": "markdown",
   "metadata": {
    "id": "7eb4125d",
    "papermill": {
     "duration": null,
     "end_time": null,
     "exception": null,
     "start_time": null,
     "status": "pending"
    },
    "tags": []
   },
   "source": [
    "## MLP"
   ]
  },
  {
   "cell_type": "code",
   "execution_count": null,
   "metadata": {
    "id": "hfltye8twjQ6"
   },
   "outputs": [],
   "source": [
    "from sklearn.neural_network import MLPClassifier"
   ]
  },
  {
   "cell_type": "code",
   "execution_count": null,
   "metadata": {
    "colab": {
     "base_uri": "https://localhost:8080/"
    },
    "id": "m5k98IjYeIpR",
    "outputId": "4a2ec968-3023-46e1-9be7-6c0d3a9eb727"
   },
   "outputs": [
    {
     "name": "stderr",
     "output_type": "stream",
     "text": [
      "/usr/local/lib/python3.8/dist-packages/sklearn/neural_network/_multilayer_perceptron.py:692: ConvergenceWarning: Stochastic Optimizer: Maximum iterations (200) reached and the optimization hasn't converged yet.\n",
      "  warnings.warn(\n"
     ]
    },
    {
     "name": "stdout",
     "output_type": "stream",
     "text": [
      "Training f1 score is: 0.683886428216371\n",
      "Training Accuracy: 68.3886428216371 %\n",
      "Training Confusion Matrix is\n",
      "[[ 6643  6772    70     0]\n",
      " [ 2843 40109 10832    79]\n",
      " [   47 10902 39619  3347]\n",
      " [    1   121  7594  5808]]\n",
      "___________________________________________________\n",
      "Validation f1 score is: 0.6627889723120752\n",
      "Validation Accuracy: 66.27889723120752 %\n",
      "Validation Confusion Matrix is\n",
      "[[1563 1813   18    0]\n",
      " [ 748 9851 2879   28]\n",
      " [   6 2887 9581  999]\n",
      " [   0   38 1947 1339]]\n"
     ]
    }
   ],
   "source": [
    "model = MLPClassifier()\n",
    "\n",
    "# train the model\n",
    "f1_train, acc_train, cm_train = fit_and_predict(model, X_train, y_train, X_train, y_train)\n",
    "\n",
    "# compute the eval metrics on the test\n",
    "val_pred = model.predict(X_val)\n",
    "f1_val = f1_score(y_val, val_pred, average='micro')\n",
    "acc = accuracy_score(y_val, val_pred)\n",
    "cm = confusion_matrix(y_val, val_pred)\n",
    "\n",
    "print(\"___________________________________________________\")\n",
    "\n",
    "print('Validation f1 score is:', f1_val)\n",
    "print('Validation Accuracy:',acc*100,\"%\")  \n",
    "print('Validation Confusion Matrix is')\n",
    "print(cm)"
   ]
  },
  {
   "cell_type": "code",
   "execution_count": null,
   "metadata": {
    "colab": {
     "base_uri": "https://localhost:8080/"
    },
    "id": "f3d102c8",
    "outputId": "98ec1d1f-7ef8-4f66-c44a-5e7a9b695c55"
   },
   "outputs": [
    {
     "name": "stderr",
     "output_type": "stream",
     "text": [
      "/usr/local/lib/python3.8/dist-packages/sklearn/neural_network/_multilayer_perceptron.py:549: ConvergenceWarning: lbfgs failed to converge (status=1):\n",
      "STOP: TOTAL NO. of ITERATIONS REACHED LIMIT.\n",
      "\n",
      "Increase the number of iterations (max_iter) or scale the data as shown in:\n",
      "    https://scikit-learn.org/stable/modules/preprocessing.html\n",
      "  self.n_iter_ = _check_optimize_result(\"lbfgs\", opt_res, self.max_iter)\n",
      "/usr/local/lib/python3.8/dist-packages/sklearn/neural_network/_multilayer_perceptron.py:549: ConvergenceWarning: lbfgs failed to converge (status=1):\n",
      "STOP: TOTAL NO. of ITERATIONS REACHED LIMIT.\n",
      "\n",
      "Increase the number of iterations (max_iter) or scale the data as shown in:\n",
      "    https://scikit-learn.org/stable/modules/preprocessing.html\n",
      "  self.n_iter_ = _check_optimize_result(\"lbfgs\", opt_res, self.max_iter)\n",
      "/usr/local/lib/python3.8/dist-packages/sklearn/neural_network/_multilayer_perceptron.py:549: ConvergenceWarning: lbfgs failed to converge (status=1):\n",
      "STOP: TOTAL NO. of ITERATIONS REACHED LIMIT.\n",
      "\n",
      "Increase the number of iterations (max_iter) or scale the data as shown in:\n",
      "    https://scikit-learn.org/stable/modules/preprocessing.html\n",
      "  self.n_iter_ = _check_optimize_result(\"lbfgs\", opt_res, self.max_iter)\n",
      "/usr/local/lib/python3.8/dist-packages/sklearn/neural_network/_multilayer_perceptron.py:549: ConvergenceWarning: lbfgs failed to converge (status=1):\n",
      "STOP: TOTAL NO. of ITERATIONS REACHED LIMIT.\n",
      "\n",
      "Increase the number of iterations (max_iter) or scale the data as shown in:\n",
      "    https://scikit-learn.org/stable/modules/preprocessing.html\n",
      "  self.n_iter_ = _check_optimize_result(\"lbfgs\", opt_res, self.max_iter)\n",
      "/usr/local/lib/python3.8/dist-packages/sklearn/neural_network/_multilayer_perceptron.py:549: ConvergenceWarning: lbfgs failed to converge (status=1):\n",
      "STOP: TOTAL NO. of ITERATIONS REACHED LIMIT.\n",
      "\n",
      "Increase the number of iterations (max_iter) or scale the data as shown in:\n",
      "    https://scikit-learn.org/stable/modules/preprocessing.html\n",
      "  self.n_iter_ = _check_optimize_result(\"lbfgs\", opt_res, self.max_iter)\n",
      "/usr/local/lib/python3.8/dist-packages/sklearn/neural_network/_multilayer_perceptron.py:549: ConvergenceWarning: lbfgs failed to converge (status=1):\n",
      "STOP: TOTAL NO. of ITERATIONS REACHED LIMIT.\n",
      "\n",
      "Increase the number of iterations (max_iter) or scale the data as shown in:\n",
      "    https://scikit-learn.org/stable/modules/preprocessing.html\n",
      "  self.n_iter_ = _check_optimize_result(\"lbfgs\", opt_res, self.max_iter)\n",
      "/usr/local/lib/python3.8/dist-packages/sklearn/neural_network/_multilayer_perceptron.py:549: ConvergenceWarning: lbfgs failed to converge (status=1):\n",
      "STOP: TOTAL NO. of ITERATIONS REACHED LIMIT.\n",
      "\n",
      "Increase the number of iterations (max_iter) or scale the data as shown in:\n",
      "    https://scikit-learn.org/stable/modules/preprocessing.html\n",
      "  self.n_iter_ = _check_optimize_result(\"lbfgs\", opt_res, self.max_iter)\n",
      "/usr/local/lib/python3.8/dist-packages/sklearn/neural_network/_multilayer_perceptron.py:549: ConvergenceWarning: lbfgs failed to converge (status=1):\n",
      "STOP: TOTAL NO. of ITERATIONS REACHED LIMIT.\n",
      "\n",
      "Increase the number of iterations (max_iter) or scale the data as shown in:\n",
      "    https://scikit-learn.org/stable/modules/preprocessing.html\n",
      "  self.n_iter_ = _check_optimize_result(\"lbfgs\", opt_res, self.max_iter)\n",
      "/usr/local/lib/python3.8/dist-packages/sklearn/neural_network/_multilayer_perceptron.py:549: ConvergenceWarning: lbfgs failed to converge (status=1):\n",
      "STOP: TOTAL NO. of ITERATIONS REACHED LIMIT.\n",
      "\n",
      "Increase the number of iterations (max_iter) or scale the data as shown in:\n",
      "    https://scikit-learn.org/stable/modules/preprocessing.html\n",
      "  self.n_iter_ = _check_optimize_result(\"lbfgs\", opt_res, self.max_iter)\n",
      "/usr/local/lib/python3.8/dist-packages/sklearn/neural_network/_multilayer_perceptron.py:549: ConvergenceWarning: lbfgs failed to converge (status=1):\n",
      "STOP: TOTAL NO. of ITERATIONS REACHED LIMIT.\n",
      "\n",
      "Increase the number of iterations (max_iter) or scale the data as shown in:\n",
      "    https://scikit-learn.org/stable/modules/preprocessing.html\n",
      "  self.n_iter_ = _check_optimize_result(\"lbfgs\", opt_res, self.max_iter)\n",
      "/usr/local/lib/python3.8/dist-packages/sklearn/neural_network/_multilayer_perceptron.py:549: ConvergenceWarning: lbfgs failed to converge (status=1):\n",
      "STOP: TOTAL NO. of ITERATIONS REACHED LIMIT.\n",
      "\n",
      "Increase the number of iterations (max_iter) or scale the data as shown in:\n",
      "    https://scikit-learn.org/stable/modules/preprocessing.html\n",
      "  self.n_iter_ = _check_optimize_result(\"lbfgs\", opt_res, self.max_iter)\n",
      "/usr/local/lib/python3.8/dist-packages/sklearn/neural_network/_multilayer_perceptron.py:549: ConvergenceWarning: lbfgs failed to converge (status=1):\n",
      "STOP: TOTAL NO. of ITERATIONS REACHED LIMIT.\n",
      "\n",
      "Increase the number of iterations (max_iter) or scale the data as shown in:\n",
      "    https://scikit-learn.org/stable/modules/preprocessing.html\n",
      "  self.n_iter_ = _check_optimize_result(\"lbfgs\", opt_res, self.max_iter)\n"
     ]
    },
    {
     "name": "stdout",
     "output_type": "stream",
     "text": [
      "Best parameters:  {'solver': 'lbfgs', 'learning_rate_init': 0.0174, 'learning_rate': 'constant', 'hidden_layer_sizes': (128,), 'alpha': 0.05530000000000001, 'activation': 'tanh'}\n",
      "Best score:  0.6557655434227252\n",
      "{'solver': 'lbfgs', 'learning_rate_init': 0.0174, 'learning_rate': 'constant', 'hidden_layer_sizes': (128,), 'alpha': 0.05530000000000001, 'activation': 'tanh'}\n",
      "0.6557655434227252\n"
     ]
    },
    {
     "name": "stderr",
     "output_type": "stream",
     "text": [
      "/usr/local/lib/python3.8/dist-packages/sklearn/neural_network/_multilayer_perceptron.py:549: ConvergenceWarning: lbfgs failed to converge (status=1):\n",
      "STOP: TOTAL NO. of ITERATIONS REACHED LIMIT.\n",
      "\n",
      "Increase the number of iterations (max_iter) or scale the data as shown in:\n",
      "    https://scikit-learn.org/stable/modules/preprocessing.html\n",
      "  self.n_iter_ = _check_optimize_result(\"lbfgs\", opt_res, self.max_iter)\n"
     ]
    }
   ],
   "source": [
    "distributions = dict(\n",
    "    hidden_layer_sizes=[(2 ** i,) for i in range(1, 10)],\n",
    "    activation=[\"identity\", \"logistic\", \"tanh\", \"relu\"],\n",
    "    solver=[\"lbfgs\", \"sgd\", \"adam\"],\n",
    "    alpha=np.arange(0.0001, 0.1, 0.0001),\n",
    "    learning_rate=[\"constant\", \"invscaling\", \"adaptive\"],\n",
    "    learning_rate_init=np.arange(0.0001, 0.1, 0.0001),\n",
    ")\n",
    "\n",
    "\n",
    "mlp_best_params, mlp_best_score = hyper_parameter_tuning(MLPClassifier(), distribution = distributions, selected_features=selected_features, labels=labels)\n",
    "\n",
    "print(mlp_best_params)\n",
    "print(mlp_best_score)\n"
   ]
  },
  {
   "cell_type": "code",
   "execution_count": null,
   "metadata": {
    "execution": {
     "iopub.status.busy": "2022-11-23T02:58:33.823245Z",
     "iopub.status.idle": "2022-11-23T02:58:33.823620Z",
     "shell.execute_reply": "2022-11-23T02:58:33.823453Z",
     "shell.execute_reply.started": "2022-11-23T02:58:33.823435Z"
    },
    "id": "db76545b",
    "outputId": "db8b603a-899b-41ff-f38e-c572c258757d",
    "papermill": {
     "duration": null,
     "end_time": null,
     "exception": null,
     "start_time": null,
     "status": "pending"
    },
    "tags": []
   },
   "outputs": [
    {
     "name": "stdout",
     "output_type": "stream",
     "text": [
      "Training f1 score is: 0.6532380719208826\n",
      "Training Accuracy: 65.32380719208825 %\n",
      "Training Confusion Matrix is\n",
      "[[ 5647  7727   111     0]\n",
      " [ 2840 38761 12213    49]\n",
      " [   46 11603 39895  2371]\n",
      " [    0   194  9585  3745]]\n",
      "___________________________________________________\n",
      "Validation f1 score is: 0.6539157788527169\n",
      "Validation Accuracy: 65.39157788527169 %\n",
      "Validation Confusion Matrix is\n",
      "[[1423 1942   29    0]\n",
      " [ 699 9681 3116   10]\n",
      " [  14 2870 9978  611]\n",
      " [   0   42 2329  953]]\n"
     ]
    },
    {
     "name": "stderr",
     "output_type": "stream",
     "text": [
      "/home/bndo/anaconda3/lib/python3.8/site-packages/sklearn/neural_network/_multilayer_perceptron.py:549: ConvergenceWarning: lbfgs failed to converge (status=1):\n",
      "STOP: TOTAL NO. of ITERATIONS REACHED LIMIT.\n",
      "\n",
      "Increase the number of iterations (max_iter) or scale the data as shown in:\n",
      "    https://scikit-learn.org/stable/modules/preprocessing.html\n",
      "  self.n_iter_ = _check_optimize_result(\"lbfgs\", opt_res, self.max_iter)\n"
     ]
    }
   ],
   "source": [
    "model = MLPClassifier(hidden_layer_sizes=(16, 4), alpha=0.42500000000000004, learning_rate_init=0.15, learning_rate='invscaling', activation='logistic', solver='lbfgs')\n",
    "\n",
    "# train the model\n",
    "f1_train, acc_train, cm_train = fit_and_predict(model, X_train, y_train, X_train, y_train)\n",
    "\n",
    "# compute the eval metrics on the test\n",
    "val_pred = model.predict(X_val)\n",
    "\n",
    "f1_val = f1_score(y_val, val_pred, average='micro')\n",
    "acc = accuracy_score(y_val, val_pred)\n",
    "cm = confusion_matrix(y_val, val_pred)\n",
    "\n",
    "print(\"___________________________________________________\")\n",
    "\n",
    "print('Validation f1 score is:', f1_val)\n",
    "print('Validation Accuracy:',acc*100,\"%\")  \n",
    "print('Validation Confusion Matrix is')\n",
    "print(cm)"
   ]
  },
  {
   "cell_type": "code",
   "execution_count": null,
   "metadata": {
    "id": "45740248",
    "outputId": "db87b9a2-b74a-4144-e97b-76f5ce3b7a34"
   },
   "outputs": [
    {
     "name": "stderr",
     "output_type": "stream",
     "text": [
      "/home/bndo/anaconda3/lib/python3.8/site-packages/sklearn/neural_network/_multilayer_perceptron.py:549: ConvergenceWarning: lbfgs failed to converge (status=1):\n",
      "STOP: TOTAL NO. of ITERATIONS REACHED LIMIT.\n",
      "\n",
      "Increase the number of iterations (max_iter) or scale the data as shown in:\n",
      "    https://scikit-learn.org/stable/modules/preprocessing.html\n",
      "  self.n_iter_ = _check_optimize_result(\"lbfgs\", opt_res, self.max_iter)\n",
      "/home/bndo/anaconda3/lib/python3.8/site-packages/sklearn/base.py:443: UserWarning: X has feature names, but MLPClassifier was fitted without feature names\n",
      "  warnings.warn(\n"
     ]
    },
    {
     "name": "stdout",
     "output_type": "stream",
     "text": [
      "F1 Score:  0.654376676717077\n"
     ]
    }
   ],
   "source": [
    "model = MLPClassifier(hidden_layer_sizes=(16, 4), alpha=0.42500000000000004, learning_rate_init=0.15, learning_rate='invscaling', activation='logistic', solver='lbfgs')\n",
    "model.fit(selected_features, labels)\n",
    "y_pred_mlp = model.predict(test_features)\n",
    "print('F1 Score: ', f1_score(labels, model.predict(selected_features), average='micro'))"
   ]
  },
  {
   "cell_type": "markdown",
   "metadata": {
    "id": "957ef8a0",
    "papermill": {
     "duration": null,
     "end_time": null,
     "exception": null,
     "start_time": null,
     "status": "pending"
    },
    "tags": []
   },
   "source": [
    "# 3- Test The selected model"
   ]
  },
  {
   "cell_type": "markdown",
   "metadata": {
    "id": "5df2b49c",
    "papermill": {
     "duration": null,
     "end_time": null,
     "exception": null,
     "start_time": null,
     "status": "pending"
    },
    "tags": []
   },
   "source": [
    "## Predict"
   ]
  },
  {
   "cell_type": "code",
   "execution_count": null,
   "metadata": {
    "id": "a04c90d5",
    "papermill": {
     "duration": null,
     "end_time": null,
     "exception": null,
     "start_time": null,
     "status": "pending"
    },
    "tags": []
   },
   "outputs": [],
   "source": [
    "\n",
    "y_pred = y_pred_cbc"
   ]
  },
  {
   "cell_type": "code",
   "execution_count": null,
   "metadata": {
    "colab": {
     "base_uri": "https://localhost:8080/"
    },
    "id": "Bzn-HNqwcy4-",
    "outputId": "4eababa1-d3b2-4a78-bfba-038de499027c"
   },
   "outputs": [
    {
     "data": {
      "text/plain": [
       "['Best Concert Ever',\n",
       " 'Enjoyed',\n",
       " 'Enjoyed',\n",
       " 'Enjoyed',\n",
       " 'Did Not Enjoy',\n",
       " 'Enjoyed',\n",
       " 'Enjoyed',\n",
       " 'Enjoyed',\n",
       " 'Did Not Enjoy',\n",
       " 'Enjoyed']"
      ]
     },
     "execution_count": 120,
     "metadata": {},
     "output_type": "execute_result"
    }
   ],
   "source": [
    "transdict = {0: 'Worst Concert Ever',\n",
    "             1: 'Did Not Enjoy',\n",
    "             2: 'Enjoyed',\n",
    "             3: 'Best Concert Ever'}\n",
    "\n",
    "y_pred_labels = [transdict[lbl] for lbl in y_pred]\n",
    "y_pred_labels[:10]"
   ]
  },
  {
   "cell_type": "code",
   "execution_count": null,
   "metadata": {
    "id": "DfBW1VLOb3OU"
   },
   "outputs": [],
   "source": [
    "sample_submission[\"Predicted\"] = y_pred_labels"
   ]
  },
  {
   "cell_type": "code",
   "execution_count": null,
   "metadata": {
    "colab": {
     "base_uri": "https://localhost:8080/",
     "height": 424
    },
    "id": "bEt-lYfJS1-t",
    "outputId": "1f592b4c-08a8-4525-a12b-18fde9288090"
   },
   "outputs": [
    {
     "data": {
      "text/html": [
       "\n",
       "  <div id=\"df-6c2078fc-fd81-4126-b0d1-cb1b5ba19f90\">\n",
       "    <div class=\"colab-df-container\">\n",
       "      <div>\n",
       "<style scoped>\n",
       "    .dataframe tbody tr th:only-of-type {\n",
       "        vertical-align: middle;\n",
       "    }\n",
       "\n",
       "    .dataframe tbody tr th {\n",
       "        vertical-align: top;\n",
       "    }\n",
       "\n",
       "    .dataframe thead th {\n",
       "        text-align: right;\n",
       "    }\n",
       "</style>\n",
       "<table border=\"1\" class=\"dataframe\">\n",
       "  <thead>\n",
       "    <tr style=\"text-align: right;\">\n",
       "      <th></th>\n",
       "      <th>Id</th>\n",
       "      <th>Predicted</th>\n",
       "    </tr>\n",
       "  </thead>\n",
       "  <tbody>\n",
       "    <tr>\n",
       "      <th>0</th>\n",
       "      <td>ConcertExperience_70055</td>\n",
       "      <td>Best Concert Ever</td>\n",
       "    </tr>\n",
       "    <tr>\n",
       "      <th>1</th>\n",
       "      <td>ConcertExperience_34799</td>\n",
       "      <td>Enjoyed</td>\n",
       "    </tr>\n",
       "    <tr>\n",
       "      <th>2</th>\n",
       "      <td>ConcertExperience_100410</td>\n",
       "      <td>Enjoyed</td>\n",
       "    </tr>\n",
       "    <tr>\n",
       "      <th>3</th>\n",
       "      <td>ConcertExperience_106446</td>\n",
       "      <td>Enjoyed</td>\n",
       "    </tr>\n",
       "    <tr>\n",
       "      <th>4</th>\n",
       "      <td>ConcertExperience_127249</td>\n",
       "      <td>Did Not Enjoy</td>\n",
       "    </tr>\n",
       "    <tr>\n",
       "      <th>...</th>\n",
       "      <td>...</td>\n",
       "      <td>...</td>\n",
       "    </tr>\n",
       "    <tr>\n",
       "      <th>29995</th>\n",
       "      <td>ConcertExperience_82288</td>\n",
       "      <td>Did Not Enjoy</td>\n",
       "    </tr>\n",
       "    <tr>\n",
       "      <th>29996</th>\n",
       "      <td>ConcertExperience_27139</td>\n",
       "      <td>Did Not Enjoy</td>\n",
       "    </tr>\n",
       "    <tr>\n",
       "      <th>29997</th>\n",
       "      <td>ConcertExperience_197434</td>\n",
       "      <td>Enjoyed</td>\n",
       "    </tr>\n",
       "    <tr>\n",
       "      <th>29998</th>\n",
       "      <td>ConcertExperience_166029</td>\n",
       "      <td>Worst Concert Ever</td>\n",
       "    </tr>\n",
       "    <tr>\n",
       "      <th>29999</th>\n",
       "      <td>ConcertExperience_24025</td>\n",
       "      <td>Did Not Enjoy</td>\n",
       "    </tr>\n",
       "  </tbody>\n",
       "</table>\n",
       "<p>30000 rows × 2 columns</p>\n",
       "</div>\n",
       "      <button class=\"colab-df-convert\" onclick=\"convertToInteractive('df-6c2078fc-fd81-4126-b0d1-cb1b5ba19f90')\"\n",
       "              title=\"Convert this dataframe to an interactive table.\"\n",
       "              style=\"display:none;\">\n",
       "        \n",
       "  <svg xmlns=\"http://www.w3.org/2000/svg\" height=\"24px\"viewBox=\"0 0 24 24\"\n",
       "       width=\"24px\">\n",
       "    <path d=\"M0 0h24v24H0V0z\" fill=\"none\"/>\n",
       "    <path d=\"M18.56 5.44l.94 2.06.94-2.06 2.06-.94-2.06-.94-.94-2.06-.94 2.06-2.06.94zm-11 1L8.5 8.5l.94-2.06 2.06-.94-2.06-.94L8.5 2.5l-.94 2.06-2.06.94zm10 10l.94 2.06.94-2.06 2.06-.94-2.06-.94-.94-2.06-.94 2.06-2.06.94z\"/><path d=\"M17.41 7.96l-1.37-1.37c-.4-.4-.92-.59-1.43-.59-.52 0-1.04.2-1.43.59L10.3 9.45l-7.72 7.72c-.78.78-.78 2.05 0 2.83L4 21.41c.39.39.9.59 1.41.59.51 0 1.02-.2 1.41-.59l7.78-7.78 2.81-2.81c.8-.78.8-2.07 0-2.86zM5.41 20L4 18.59l7.72-7.72 1.47 1.35L5.41 20z\"/>\n",
       "  </svg>\n",
       "      </button>\n",
       "      \n",
       "  <style>\n",
       "    .colab-df-container {\n",
       "      display:flex;\n",
       "      flex-wrap:wrap;\n",
       "      gap: 12px;\n",
       "    }\n",
       "\n",
       "    .colab-df-convert {\n",
       "      background-color: #E8F0FE;\n",
       "      border: none;\n",
       "      border-radius: 50%;\n",
       "      cursor: pointer;\n",
       "      display: none;\n",
       "      fill: #1967D2;\n",
       "      height: 32px;\n",
       "      padding: 0 0 0 0;\n",
       "      width: 32px;\n",
       "    }\n",
       "\n",
       "    .colab-df-convert:hover {\n",
       "      background-color: #E2EBFA;\n",
       "      box-shadow: 0px 1px 2px rgba(60, 64, 67, 0.3), 0px 1px 3px 1px rgba(60, 64, 67, 0.15);\n",
       "      fill: #174EA6;\n",
       "    }\n",
       "\n",
       "    [theme=dark] .colab-df-convert {\n",
       "      background-color: #3B4455;\n",
       "      fill: #D2E3FC;\n",
       "    }\n",
       "\n",
       "    [theme=dark] .colab-df-convert:hover {\n",
       "      background-color: #434B5C;\n",
       "      box-shadow: 0px 1px 3px 1px rgba(0, 0, 0, 0.15);\n",
       "      filter: drop-shadow(0px 1px 2px rgba(0, 0, 0, 0.3));\n",
       "      fill: #FFFFFF;\n",
       "    }\n",
       "  </style>\n",
       "\n",
       "      <script>\n",
       "        const buttonEl =\n",
       "          document.querySelector('#df-6c2078fc-fd81-4126-b0d1-cb1b5ba19f90 button.colab-df-convert');\n",
       "        buttonEl.style.display =\n",
       "          google.colab.kernel.accessAllowed ? 'block' : 'none';\n",
       "\n",
       "        async function convertToInteractive(key) {\n",
       "          const element = document.querySelector('#df-6c2078fc-fd81-4126-b0d1-cb1b5ba19f90');\n",
       "          const dataTable =\n",
       "            await google.colab.kernel.invokeFunction('convertToInteractive',\n",
       "                                                     [key], {});\n",
       "          if (!dataTable) return;\n",
       "\n",
       "          const docLinkHtml = 'Like what you see? Visit the ' +\n",
       "            '<a target=\"_blank\" href=https://colab.research.google.com/notebooks/data_table.ipynb>data table notebook</a>'\n",
       "            + ' to learn more about interactive tables.';\n",
       "          element.innerHTML = '';\n",
       "          dataTable['output_type'] = 'display_data';\n",
       "          await google.colab.output.renderOutput(dataTable, element);\n",
       "          const docLink = document.createElement('div');\n",
       "          docLink.innerHTML = docLinkHtml;\n",
       "          element.appendChild(docLink);\n",
       "        }\n",
       "      </script>\n",
       "    </div>\n",
       "  </div>\n",
       "  "
      ],
      "text/plain": [
       "                             Id           Predicted\n",
       "0       ConcertExperience_70055   Best Concert Ever\n",
       "1       ConcertExperience_34799             Enjoyed\n",
       "2      ConcertExperience_100410             Enjoyed\n",
       "3      ConcertExperience_106446             Enjoyed\n",
       "4      ConcertExperience_127249       Did Not Enjoy\n",
       "...                         ...                 ...\n",
       "29995   ConcertExperience_82288       Did Not Enjoy\n",
       "29996   ConcertExperience_27139       Did Not Enjoy\n",
       "29997  ConcertExperience_197434             Enjoyed\n",
       "29998  ConcertExperience_166029  Worst Concert Ever\n",
       "29999   ConcertExperience_24025       Did Not Enjoy\n",
       "\n",
       "[30000 rows x 2 columns]"
      ]
     },
     "execution_count": 122,
     "metadata": {},
     "output_type": "execute_result"
    }
   ],
   "source": [
    "sample_submission"
   ]
  },
  {
   "cell_type": "markdown",
   "metadata": {
    "id": "5sycIqDgi9CN"
   },
   "source": [
    "Export prediction"
   ]
  },
  {
   "cell_type": "code",
   "execution_count": null,
   "metadata": {
    "id": "OEH5D9njfkiA"
   },
   "outputs": [],
   "source": [
    "sample_submission.to_csv('submission.csv', index=False)"
   ]
  }
 ],
 "metadata": {
  "colab": {
   "collapsed_sections": [
    "f6808d41",
    "d2b56aa7",
    "e680faec"
   ],
   "provenance": [],
   "toc_visible": true
  },
  "gpuClass": "standard",
  "kernelspec": {
   "display_name": "Python 3",
   "language": "python",
   "name": "python3"
  },
  "language_info": {
   "codemirror_mode": {
    "name": "ipython",
    "version": 3
   },
   "file_extension": ".py",
   "mimetype": "text/x-python",
   "name": "python",
   "nbconvert_exporter": "python",
   "pygments_lexer": "ipython3",
   "version": "3.8.5"
  },
  "papermill": {
   "default_parameters": {},
   "duration": 138.603362,
   "end_time": "2022-11-25T21:40:28.974275",
   "environment_variables": {},
   "exception": true,
   "input_path": "__notebook__.ipynb",
   "output_path": "__notebook__.ipynb",
   "parameters": {},
   "start_time": "2022-11-25T21:38:10.370913",
   "version": "2.3.4"
  }
 },
 "nbformat": 4,
 "nbformat_minor": 5
}
